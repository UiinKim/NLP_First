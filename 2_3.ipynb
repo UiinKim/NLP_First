{
  "nbformat": 4,
  "nbformat_minor": 0,
  "metadata": {
    "colab": {
      "provenance": [],
      "authorship_tag": "ABX9TyOfh25jeFIVh+I9SShuWYWE",
      "include_colab_link": true
    },
    "kernelspec": {
      "name": "python3",
      "display_name": "Python 3"
    },
    "language_info": {
      "name": "python"
    }
  },
  "cells": [
    {
      "cell_type": "markdown",
      "metadata": {
        "id": "view-in-github",
        "colab_type": "text"
      },
      "source": [
        "<a href=\"https://colab.research.google.com/github/UiinKim/NLP_First/blob/main/2_3.ipynb\" target=\"_parent\"><img src=\"https://colab.research.google.com/assets/colab-badge.svg\" alt=\"Open In Colab\"/></a>"
      ]
    },
    {
      "cell_type": "markdown",
      "source": [
        "통계기반기법(배치) <-> 추론기반기법(미니배치)\n",
        "gpu를 사용해서 병렬로 들어감 -> 학습속도 향상\n",
        "\n"
      ],
      "metadata": {
        "id": "SBrnHPAZSdv8"
      }
    },
    {
      "cell_type": "markdown",
      "source": [
        "모델이 context 정보를 입력받아 각 단어의 출현 확률을 출력"
      ],
      "metadata": {
        "id": "UDTD50FhY1V3"
      }
    },
    {
      "cell_type": "code",
      "execution_count": 1,
      "metadata": {
        "colab": {
          "base_uri": "https://localhost:8080/"
        },
        "id": "wnA96Pd-urvX",
        "outputId": "48f54ef2-8f16-4e22-af84-cb1e6e4c61bf"
      },
      "outputs": [
        {
          "output_type": "stream",
          "name": "stdout",
          "text": [
            "[[-0.22436509  0.35787729 -0.87647891]]\n"
          ]
        }
      ],
      "source": [
        "#원핫벡터 사용\n",
        "#각 단어 벡터들은 fully connected layer로 연결\n",
        "import numpy as np\n",
        "\n",
        "c=np.array([[1, 0, 0, 0, 0, 0, 0]]) #input\n",
        "W=np.random.randn(7, 3) #weight\n",
        "h=np.matmul(c, W) #hidden node\n",
        "print(h)"
      ]
    },
    {
      "cell_type": "code",
      "source": [
        "c=np.array([[1, 0, 0, 0, 0, 0, 0]])\n",
        "W=np.random.randn(7, 3)\n",
        "layer=MatMul(W)"
      ],
      "metadata": {
        "id": "hrGPVVXObqEY"
      },
      "execution_count": null,
      "outputs": []
    }
  ]
}