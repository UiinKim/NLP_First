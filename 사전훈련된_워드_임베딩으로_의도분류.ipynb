{
  "nbformat": 4,
  "nbformat_minor": 0,
  "metadata": {
    "colab": {
      "provenance": [],
      "authorship_tag": "ABX9TyPbn3kCfjlYDwl/L2PJTTui",
      "include_colab_link": true
    },
    "kernelspec": {
      "name": "python3",
      "display_name": "Python 3"
    },
    "language_info": {
      "name": "python"
    }
  },
  "cells": [
    {
      "cell_type": "markdown",
      "metadata": {
        "id": "view-in-github",
        "colab_type": "text"
      },
      "source": [
        "<a href=\"https://colab.research.google.com/github/UiinKim/UiinKim/blob/main/%EC%82%AC%EC%A0%84%ED%9B%88%EB%A0%A8%EB%90%9C_%EC%9B%8C%EB%93%9C_%EC%9E%84%EB%B2%A0%EB%94%A9%EC%9C%BC%EB%A1%9C_%EC%9D%98%EB%8F%84%EB%B6%84%EB%A5%98.ipynb\" target=\"_parent\"><img src=\"https://colab.research.google.com/assets/colab-badge.svg\" alt=\"Open In Colab\"/></a>"
      ]
    },
    {
      "cell_type": "code",
      "execution_count": 2,
      "metadata": {
        "id": "zV4d4Sjtypin"
      },
      "outputs": [],
      "source": [
        "#Intent Classification ->의도분류\n",
        "import os\n",
        "import pandas as pd\n",
        "import numpy as np\n",
        "import matplotlib.pyplot as plt\n",
        "import urllib.request\n",
        "from sklearn import preprocessing\n",
        "from tensorflow.keras.preprocessing.text import Tokenizer\n",
        "from tensorflow.keras.preprocessing.sequence import pad_sequences\n",
        "from tensorflow.keras.utils import to_categorical\n",
        "from sklearn.metrics import classification_report"
      ]
    },
    {
      "cell_type": "code",
      "source": [
        "urllib.request.urlretrieve(\"https://raw.githubusercontent.com/ukairia777/tensorflow-nlp-tutorial/main/11.%201D%20CNN%20Text%20Classification/dataset/intent_train_data.csv\", filename=\"intent_train_data.csv\")\n",
        "urllib.request.urlretrieve(\"https://raw.githubusercontent.com/ukairia777/tensorflow-nlp-tutorial/main/11.%201D%20CNN%20Text%20Classification/dataset/intent_test_data.csv\", filename=\"intent_test_data.csv\")\n",
        "train_data=pd.read_csv('intent_train_data.csv')\n",
        "test_data=pd.read_csv('intent_test_data.csv')"
      ],
      "metadata": {
        "id": "qLpSX1xE0Oqs"
      },
      "execution_count": 3,
      "outputs": []
    },
    {
      "cell_type": "code",
      "source": [
        "train_data.info()"
      ],
      "metadata": {
        "colab": {
          "base_uri": "https://localhost:8080/"
        },
        "id": "-RGiy2g90heE",
        "outputId": "d6a1b791-7246-4dff-fc1c-a05a63a47423"
      },
      "execution_count": 4,
      "outputs": [
        {
          "output_type": "stream",
          "name": "stdout",
          "text": [
            "<class 'pandas.core.frame.DataFrame'>\n",
            "RangeIndex: 11784 entries, 0 to 11783\n",
            "Data columns (total 2 columns):\n",
            " #   Column  Non-Null Count  Dtype \n",
            "---  ------  --------------  ----- \n",
            " 0   intent  11784 non-null  object\n",
            " 1   label   11784 non-null  object\n",
            "dtypes: object(2)\n",
            "memory usage: 184.2+ KB\n"
          ]
        }
      ]
    },
    {
      "cell_type": "code",
      "source": [
        "train_data['label'].value_counts().plot(kind='bar')"
      ],
      "metadata": {
        "colab": {
          "base_uri": "https://localhost:8080/",
          "height": 591
        },
        "id": "5xghZxitA7Qr",
        "outputId": "e0825dce-23a9-4541-e027-1a02295138f3"
      },
      "execution_count": 5,
      "outputs": [
        {
          "output_type": "execute_result",
          "data": {
            "text/plain": [
              "<Axes: >"
            ]
          },
          "metadata": {},
          "execution_count": 5
        },
        {
          "output_type": "display_data",
          "data": {
            "text/plain": [
              "<Figure size 640x480 with 1 Axes>"
            ],
            "image/png": "[encoded data removed]"
          },
          "metadata": {}
        }
      ]
    },
    {
      "cell_type": "code",
      "source": [
        "X_train=train_data['intent'].tolist()\n",
        "X_test=test_data['intent'].tolist()\n",
        "y_train=train_data['label'].tolist()\n",
        "y_test=test_data['label'].tolist()"
      ],
      "metadata": {
        "id": "GbqF2rGHCN_F"
      },
      "execution_count": 6,
      "outputs": []
    },
    {
      "cell_type": "code",
      "source": [
        "#레이블 인코딩. 레이블에 고유한 정수 부여(정수 인코딩)\n",
        "idx_encode=preprocessing.LabelEncoder()\n",
        "idx_encode.fit(y_train)\n",
        "y_train=idx_encode.transform(y_train)\n",
        "y_test=idx_encode.transform(y_test)"
      ],
      "metadata": {
        "id": "VN5vJB4BBHCZ"
      },
      "execution_count": 7,
      "outputs": []
    },
    {
      "cell_type": "code",
      "source": [
        "label_idx=dict(zip(list(idx_encode.classes_), idx_encode.transform(list(idx_encode.classes_))))\n",
        "print(\"레이블과 정수의 관계\", label_idx)"
      ],
      "metadata": {
        "colab": {
          "base_uri": "https://localhost:8080/"
        },
        "id": "NL_hx8W1CoNq",
        "outputId": "dd43b9c3-aac1-45df-dbaf-e5bee7281631"
      },
      "execution_count": 8,
      "outputs": [
        {
          "output_type": "stream",
          "name": "stdout",
          "text": [
            "레이블과 정수의 관계 {'AddToPlaylist': 0, 'BookRestaurant': 1, 'GetWeather': 2, 'RateBook': 3, 'SearchCreativeWork': 4, 'SearchScreeningEvent': 5}\n"
          ]
        }
      ]
    },
    {
      "cell_type": "code",
      "source": [
        "tokenizer=Tokenizer()\n",
        "tokenizer.fit_on_texts(X_train)\n",
        "sequences=tokenizer.texts_to_sequences(X_train)\n",
        "sequences[:5]"
      ],
      "metadata": {
        "colab": {
          "base_uri": "https://localhost:8080/"
        },
        "id": "QAVtmChIDJZi",
        "outputId": "a088dc7b-81e9-4287-8f63-8a9be037b54e"
      },
      "execution_count": 9,
      "outputs": [
        {
          "output_type": "execute_result",
          "data": {
            "text/plain": [
              "[[11, 191, 61, 4, 1, 4013, 1141, 1572, 15],\n",
              " [11, 2624, 1573, 3, 14, 15, 939, 82, 256, 188, 548],\n",
              " [11, 187, 42, 2625, 4014, 4, 1968],\n",
              " [11, 2626, 22, 2627, 4, 14, 192, 27],\n",
              " [11, 92, 4, 14, 651, 520, 195]]"
            ]
          },
          "metadata": {},
          "execution_count": 9
        }
      ]
    },
    {
      "cell_type": "code",
      "source": [
        "word_to_index=tokenizer.word_index\n",
        "vocab_size=len(word_to_index)+1\n",
        "vocab_size"
      ],
      "metadata": {
        "colab": {
          "base_uri": "https://localhost:8080/"
        },
        "id": "nWiUyOTbEFtK",
        "outputId": "0f66bfea-ba0e-484f-a028-cd28778af233"
      },
      "execution_count": 10,
      "outputs": [
        {
          "output_type": "execute_result",
          "data": {
            "text/plain": [
              "9870"
            ]
          },
          "metadata": {},
          "execution_count": 10
        }
      ]
    },
    {
      "cell_type": "code",
      "source": [
        "print(\"문장의 최대 길이 : \", max(len(word)for word in sequences))\n",
        "print(\"문장의 평균 길이 : \", sum(map(len, sequences))/len(sequences))\n",
        "plt.hist([len(s)for s in sequences], bins=50)\n",
        "plt.xlabel(\"length of samples\")\n",
        "plt.ylabel(\"number of samples\")\n",
        "plt.show()"
      ],
      "metadata": {
        "colab": {
          "base_uri": "https://localhost:8080/",
          "height": 486
        },
        "id": "NIupNZNPEO0C",
        "outputId": "eeaa1650-1560-4b7f-f647-004dae368513"
      },
      "execution_count": 11,
      "outputs": [
        {
          "output_type": "stream",
          "name": "stdout",
          "text": [
            "문장의 최대 길이 :  35\n",
            "문장의 평균 길이 :  9.364392396469789\n"
          ]
        },
        {
          "output_type": "display_data",
          "data": {
            "text/plain": [
              "<Figure size 640x480 with 1 Axes>"
            ],
            "image/png": "[encoded data removed]"
          },
          "metadata": {}
        }
      ]
    },
    {
      "cell_type": "code",
      "source": [
        "max_len=35\n",
        "intent_train=pad_sequences(sequences, maxlen=max_len)\n",
        "label_train=to_categorical(np.asarray(y_train))\n",
        "print(\"intent훈련데이터의 크기 : \", intent_train.shape)\n",
        "print(\"label훈련데이터의 크기 : \", label_train.shape)"
      ],
      "metadata": {
        "colab": {
          "base_uri": "https://localhost:8080/"
        },
        "id": "7MFOfq1VGmuS",
        "outputId": "eed00e66-f085-4820-8aa5-58b817c3ac83"
      },
      "execution_count": 12,
      "outputs": [
        {
          "output_type": "stream",
          "name": "stdout",
          "text": [
            "intent훈련데이터의 크기 :  (11784, 35)\n",
            "label훈련데이터의 크기 :  (11784, 6)\n"
          ]
        }
      ]
    },
    {
      "cell_type": "code",
      "source": [
        "indices=np.arange(intent_train.shape[0]) #행들에 대한 정렬\n",
        "print(indices)\n",
        "np.random.shuffle(indices)\n",
        "print(indices)"
      ],
      "metadata": {
        "colab": {
          "base_uri": "https://localhost:8080/"
        },
        "id": "PTDhRSI1Hfkh",
        "outputId": "637ca982-6595-432c-af32-d2cd900c1fba"
      },
      "execution_count": 13,
      "outputs": [
        {
          "output_type": "stream",
          "name": "stdout",
          "text": [
            "[    0     1     2 ... 11781 11782 11783]\n",
            "[6533    0 3412 ... 3223 6789 3943]\n"
          ]
        }
      ]
    },
    {
      "cell_type": "code",
      "source": [
        "intent_train=intent_train[indices] #훈련데이터를 섞어준다.\n",
        "label_train=label_train[indices]"
      ],
      "metadata": {
        "id": "R0Vfbd8vHos6"
      },
      "execution_count": 14,
      "outputs": []
    },
    {
      "cell_type": "code",
      "source": [
        "n_of_val=int(0.1*intent_train.shape[0]) #검증데이터 개수 -> intent_train의 10%를 사용한다.(행 단위로)\n",
        "print(\"검증데이터의 개수 : \", n_of_val)"
      ],
      "metadata": {
        "colab": {
          "base_uri": "https://localhost:8080/"
        },
        "id": "ixDTfPy7IhVq",
        "outputId": "c703900a-5887-4b69-ee96-56266049554c"
      },
      "execution_count": 15,
      "outputs": [
        {
          "output_type": "stream",
          "name": "stdout",
          "text": [
            "검증데이터의 개수 :  1178\n"
          ]
        }
      ]
    },
    {
      "cell_type": "code",
      "source": [
        "X_train=intent_train[:n_of_val]\n",
        "y_train=label_train[:n_of_val]\n",
        "X_val=intent_train[n_of_val:]\n",
        "y_val=label_train[n_of_val:]"
      ],
      "metadata": {
        "id": "ZVEKbqENJABY"
      },
      "execution_count": 16,
      "outputs": []
    },
    {
      "cell_type": "code",
      "source": [
        "X_test=np.asarray(X_test)\n",
        "y_test=np.asarray(y_test)"
      ],
      "metadata": {
        "id": "Do9ZIG3mKPM3"
      },
      "execution_count": 17,
      "outputs": []
    },
    {
      "cell_type": "code",
      "source": [
        "print(\"훈련 데이터의 크기 : \", X_train.shape)\n",
        "print(\"검증 데이터의 크기 : \", X_val.shape)\n",
        "print(\"테스트 데이터의 크기 : \", len(X_test))\n",
        "print(\"훈련 레이블의 크기 : \", y_train.shape)\n",
        "print(\"검증 레이블의 크기 : \", y_val.shape)\n",
        "print(\"테스트 레이블의 크기 : \", len(y_test))\n"
      ],
      "metadata": {
        "colab": {
          "base_uri": "https://localhost:8080/"
        },
        "id": "jd2JpZpjJf-Z",
        "outputId": "69ce0eef-9de4-48b8-b795-75bc127640d3"
      },
      "execution_count": 18,
      "outputs": [
        {
          "output_type": "stream",
          "name": "stdout",
          "text": [
            "훈련 데이터의 크기 :  (1178, 35)\n",
            "검증 데이터의 크기 :  (10606, 35)\n",
            "테스트 데이터의 크기 :  600\n",
            "훈련 레이블의 크기 :  (1178, 6)\n",
            "검증 레이블의 크기 :  (10606, 6)\n",
            "테스트 레이블의 크기 :  600\n"
          ]
        }
      ]
    },
    {
      "cell_type": "code",
      "source": [
        "!wget http://nlp.stanford.edu/data/glove.6B.zip\n",
        "!unzip glove*.zip"
      ],
      "metadata": {
        "colab": {
          "base_uri": "https://localhost:8080/"
        },
        "id": "TXNe9fmVKLma",
        "outputId": "9d831b9c-3103-4aaa-d6a7-d373df852013"
      },
      "execution_count": 19,
      "outputs": [
        {
          "output_type": "stream",
          "name": "stdout",
          "text": [
            "--2023-07-28 06:32:00--  http://nlp.stanford.edu/data/glove.6B.zip\n",
            "Resolving nlp.stanford.edu (nlp.stanford.edu)... 171.64.67.140\n",
            "Connecting to nlp.stanford.edu (nlp.stanford.edu)|171.64.67.140|:80... connected.\n",
            "HTTP request sent, awaiting response... 302 Found\n",
            "Location: https://nlp.stanford.edu/data/glove.6B.zip [following]\n",
            "--2023-07-28 06:32:01--  https://nlp.stanford.edu/data/glove.6B.zip\n",
            "Connecting to nlp.stanford.edu (nlp.stanford.edu)|171.64.67.140|:443... connected.\n",
            "HTTP request sent, awaiting response... 301 Moved Permanently\n",
            "Location: https://downloads.cs.stanford.edu/nlp/data/glove.6B.zip [following]\n",
            "--2023-07-28 06:32:01--  https://downloads.cs.stanford.edu/nlp/data/glove.6B.zip\n",
            "Resolving downloads.cs.stanford.edu (downloads.cs.stanford.edu)... 171.64.64.22\n",
            "Connecting to downloads.cs.stanford.edu (downloads.cs.stanford.edu)|171.64.64.22|:443... connected.\n",
            "HTTP request sent, awaiting response... 200 OK\n",
            "Length: 862182613 (822M) [application/zip]\n",
            "Saving to: ‘glove.6B.zip.1’\n",
            "\n",
            "glove.6B.zip.1      100%[===================>] 822.24M  5.03MB/s    in 2m 39s  \n",
            "\n",
            "2023-07-28 06:34:41 (5.17 MB/s) - ‘glove.6B.zip.1’ saved [862182613/862182613]\n",
            "\n",
            "Archive:  glove.6B.zip\n",
            "replace glove.6B.50d.txt? [y]es, [n]o, [A]ll, [N]one, [r]ename: y\n",
            "  inflating: glove.6B.50d.txt        \n",
            "replace glove.6B.100d.txt? [y]es, [n]o, [A]ll, [N]one, [r]ename: y\n",
            "  inflating: glove.6B.100d.txt       \n",
            "replace glove.6B.200d.txt? [y]es, [n]o, [A]ll, [N]one, [r]ename: y\n",
            "  inflating: glove.6B.200d.txt       \n",
            "replace glove.6B.300d.txt? [y]es, [n]o, [A]ll, [N]one, [r]ename: y\n",
            "  inflating: glove.6B.300d.txt       \n"
          ]
        }
      ]
    },
    {
      "cell_type": "code",
      "source": [
        "embedding_dict=dict()\n",
        "f=open(os.path.join('glove.6B.100d.txt'), encoding='utf-8')\n",
        "for line in f:\n",
        "  word_vector=line.split() #라인별로 나눠서 단어의 벡터들을 나눈다.\n",
        "  word=word_vector[0]#단어의 0번째 인덱스에는 영어단어가 들어있다.\n",
        "  word_vector_arr=np.asarray(word_vector[1:], dtype='float32')#인덱스 1부터는 벡터들이 담겨있따.\n",
        "  embedding_dict[word]=word_vector_arr#단어 사전을 만든다.\n",
        "f.close()\n",
        "\n",
        "print(\"%s개의 Embedding vector가 있습니다.\"%len(embedding_dict))"
      ],
      "metadata": {
        "colab": {
          "base_uri": "https://localhost:8080/"
        },
        "id": "O-jKQrYQKz1J",
        "outputId": "770e2d30-eac5-4609-952d-bf8f0deeca93"
      },
      "execution_count": 20,
      "outputs": [
        {
          "output_type": "stream",
          "name": "stdout",
          "text": [
            "400000개의 Embedding vector가 있습니다.\n"
          ]
        }
      ]
    },
    {
      "cell_type": "code",
      "source": [
        "len(embedding_dict['respectable'])"
      ],
      "metadata": {
        "colab": {
          "base_uri": "https://localhost:8080/"
        },
        "id": "qitDorqOL9rS",
        "outputId": "f499bfd0-6f78-4f70-a637-f5b11ff08c56"
      },
      "execution_count": 21,
      "outputs": [
        {
          "output_type": "execute_result",
          "data": {
            "text/plain": [
              "100"
            ]
          },
          "metadata": {},
          "execution_count": 21
        }
      ]
    },
    {
      "cell_type": "code",
      "source": [
        "embedding_dim=100\n",
        "embedding_matrix=np.zeros((vocab_size, embedding_dim))\n",
        "print(\"임베딩 테이블의 크기 : \", embedding_matrix.shape)"
      ],
      "metadata": {
        "colab": {
          "base_uri": "https://localhost:8080/"
        },
        "id": "W62YBw1uOHWr",
        "outputId": "f7c6487b-4639-4ad8-e1bd-d854dfc68fd4"
      },
      "execution_count": 23,
      "outputs": [
        {
          "output_type": "stream",
          "name": "stdout",
          "text": [
            "임베딩 테이블의 크기 :  (9870, 100)\n"
          ]
        }
      ]
    },
    {
      "cell_type": "code",
      "source": [
        "for word, index in word_to_index.items():\n",
        "  embedding_vector=embedding_dict.get(word)\n",
        "  if embedding_vector is not None:\n",
        "    embedding_matrix[index]=embedding_vector"
      ],
      "metadata": {
        "id": "AbNuS-8LPG2h"
      },
      "execution_count": 24,
      "outputs": []
    },
    {
      "cell_type": "code",
      "source": [
        "from tensorflow.keras.models import Model\n",
        "from tensorflow.keras.layers import Embedding, Dropout, Conv1D, GlobalMaxPool1D, Dense, Input, Flatten, Concatenate\n",
        "\n",
        "kernel_size=[2,3,5]\n",
        "num_filters=512\n",
        "dropout_ratio=0.5\n",
        "\n",
        "model_input=Input(shape=(max_len))\n",
        "output=Embedding(vocab_size, embedding_dim, weights=[embedding_matrix], input_length=max_len, trainable=False)(model_input)\n",
        "\n",
        "conv_blocks=[]\n",
        "\n",
        "for size in kernel_size:\n",
        "  conv=Conv1D(filters=num_filters, kernel_size=size, padding='valid', activation='relu', strides=1)(output)\n",
        "  conv=GlobalMaxPool1D()(conv)\n",
        "  conv_blocks.append(conv)\n",
        "\n",
        "output=Concatenate()(conv_blocks) if len(conv_blocks)>1 else conv_blocks[0]\n",
        "output=Dropout(dropout_ratio)(output)\n",
        "model_output=Dense(len(label_idx), activation='softmax')(output)\n",
        "model=Model(model_input, model_output)\n",
        "\n",
        "model.compile(optimizer='adam', loss='categorical_crossentropy', metrics=['acc'])\n",
        "model.summary()"
      ],
      "metadata": {
        "colab": {
          "base_uri": "https://localhost:8080/"
        },
        "id": "EZlhGUPnP8tp",
        "outputId": "c0fbf79d-390a-4ae2-a372-f4c7c9212ed5"
      },
      "execution_count": 26,
      "outputs": [
        {
          "output_type": "stream",
          "name": "stdout",
          "text": [
            "Model: \"model\"\n",
            "__________________________________________________________________________________________________\n",
            " Layer (type)                   Output Shape         Param #     Connected to                     \n",
            "==================================================================================================\n",
            " input_2 (InputLayer)           [(None, 35)]         0           []                               \n",
            "                                                                                                  \n",
            " embedding_1 (Embedding)        (None, 35, 100)      987000      ['input_2[0][0]']                \n",
            "                                                                                                  \n",
            " conv1d (Conv1D)                (None, 34, 512)      102912      ['embedding_1[0][0]']            \n",
            "                                                                                                  \n",
            " conv1d_1 (Conv1D)              (None, 33, 512)      154112      ['embedding_1[0][0]']            \n",
            "                                                                                                  \n",
            " conv1d_2 (Conv1D)              (None, 31, 512)      256512      ['embedding_1[0][0]']            \n",
            "                                                                                                  \n",
            " global_max_pooling1d (GlobalMa  (None, 512)         0           ['conv1d[0][0]']                 \n",
            " xPooling1D)                                                                                      \n",
            "                                                                                                  \n",
            " global_max_pooling1d_1 (Global  (None, 512)         0           ['conv1d_1[0][0]']               \n",
            " MaxPooling1D)                                                                                    \n",
            "                                                                                                  \n",
            " global_max_pooling1d_2 (Global  (None, 512)         0           ['conv1d_2[0][0]']               \n",
            " MaxPooling1D)                                                                                    \n",
            "                                                                                                  \n",
            " concatenate (Concatenate)      (None, 1536)         0           ['global_max_pooling1d[0][0]',   \n",
            "                                                                  'global_max_pooling1d_1[0][0]', \n",
            "                                                                  'global_max_pooling1d_2[0][0]'] \n",
            "                                                                                                  \n",
            " dropout (Dropout)              (None, 1536)         0           ['concatenate[0][0]']            \n",
            "                                                                                                  \n",
            " dense (Dense)                  (None, 6)            9222        ['dropout[0][0]']                \n",
            "                                                                                                  \n",
            "==================================================================================================\n",
            "Total params: 1,509,758\n",
            "Trainable params: 522,758\n",
            "Non-trainable params: 987,000\n",
            "__________________________________________________________________________________________________\n"
          ]
        }
      ]
    },
    {
      "cell_type": "code",
      "source": [
        "history=model.fit(X_train, y_train, epochs=10, batch_size=64, validation_data=(X_val, y_val))"
      ],
      "metadata": {
        "colab": {
          "base_uri": "https://localhost:8080/"
        },
        "id": "U0PMJUxASJiK",
        "outputId": "f791722d-112b-4170-f3c9-3206930c5c51"
      },
      "execution_count": 27,
      "outputs": [
        {
          "output_type": "stream",
          "name": "stdout",
          "text": [
            "Epoch 1/10\n",
            "19/19 [==============================] - 14s 649ms/step - loss: 0.8729 - acc: 0.7012 - val_loss: 0.2816 - val_acc: 0.9190\n",
            "Epoch 2/10\n",
            "19/19 [==============================] - 15s 823ms/step - loss: 0.1674 - acc: 0.9567 - val_loss: 0.1363 - val_acc: 0.9670\n",
            "Epoch 3/10\n",
            "19/19 [==============================] - 17s 950ms/step - loss: 0.0953 - acc: 0.9779 - val_loss: 0.1161 - val_acc: 0.9718\n",
            "Epoch 4/10\n",
            "19/19 [==============================] - 24s 1s/step - loss: 0.0585 - acc: 0.9864 - val_loss: 0.0999 - val_acc: 0.9735\n",
            "Epoch 5/10\n",
            "19/19 [==============================] - 24s 1s/step - loss: 0.0401 - acc: 0.9949 - val_loss: 0.1011 - val_acc: 0.9716\n",
            "Epoch 6/10\n",
            "19/19 [==============================] - 16s 874ms/step - loss: 0.0258 - acc: 0.9992 - val_loss: 0.0893 - val_acc: 0.9751\n",
            "Epoch 7/10\n",
            "19/19 [==============================] - 24s 1s/step - loss: 0.0209 - acc: 0.9992 - val_loss: 0.0847 - val_acc: 0.9768\n",
            "Epoch 8/10\n",
            "19/19 [==============================] - 24s 1s/step - loss: 0.0168 - acc: 0.9992 - val_loss: 0.0832 - val_acc: 0.9774\n",
            "Epoch 9/10\n",
            "19/19 [==============================] - 15s 834ms/step - loss: 0.0144 - acc: 0.9992 - val_loss: 0.0804 - val_acc: 0.9773\n",
            "Epoch 10/10\n",
            "19/19 [==============================] - 13s 732ms/step - loss: 0.0098 - acc: 1.0000 - val_loss: 0.0791 - val_acc: 0.9783\n"
          ]
        }
      ]
    },
    {
      "cell_type": "code",
      "source": [
        "epochs=range(1,len(history.history['acc'])+1)\n",
        "plt.plot(epochs, history.history['acc'])\n",
        "plt.plot(epochs, history.history['val_acc'])\n",
        "plt.title('model accuracy')\n",
        "plt.ylabel('accuracy')\n",
        "plt.xlabel('epochs')\n",
        "plt.legend(['train', 'test'], loc='lower right')\n",
        "plt.show()\n",
        "\n",
        "epochs=range(1,len(history.history['loss'])+1)\n",
        "plt.plot(epochs, history.history['loss'])\n",
        "plt.plot(epochs, history.history['val_loss'])\n",
        "plt.title('model loss')\n",
        "plt.ylabel('loss')\n",
        "plt.xlabel('epochs')\n",
        "plt.legend(['train', 'test'], loc='upper right')\n",
        "plt.show()"
      ],
      "metadata": {
        "colab": {
          "base_uri": "https://localhost:8080/",
          "height": 927
        },
        "id": "W-PkI9ghS0zS",
        "outputId": "f039d61f-632c-4423-f72c-4fb65a0dbc75"
      },
      "execution_count": 28,
      "outputs": [
        {
          "output_type": "display_data",
          "data": {
            "text/plain": [
              "<Figure size 640x480 with 1 Axes>"
            ],
            "image/png": "[encoded data removed]"
          },
          "metadata": {}
        },
        {
          "output_type": "display_data",
          "data": {
            "text/plain": [
              "<Figure size 640x480 with 1 Axes>"
            ],
            "image/png": "[encoded data removed]"
          },
          "metadata": {}
        }
      ]
    },
    {
      "cell_type": "code",
      "source": [
        "X_test=tokenizer.texts_to_sequences(X_test)\n",
        "X_test=pad_sequences(X_test, maxlen=max_len)"
      ],
      "metadata": {
        "id": "GaMlbE3QTgdK"
      },
      "execution_count": 29,
      "outputs": []
    },
    {
      "cell_type": "code",
      "source": [
        "y_predict=model.predict(X_test)\n",
        "y_predict=y_predict.argmax(axis=-1) #가장 큰 값을 추출"
      ],
      "metadata": {
        "colab": {
          "base_uri": "https://localhost:8080/"
        },
        "id": "zfUkaTwZT5jB",
        "outputId": "9537c6a3-f7df-4dd2-c651-d5a9d3754990"
      },
      "execution_count": 31,
      "outputs": [
        {
          "output_type": "stream",
          "name": "stdout",
          "text": [
            "19/19 [==============================] - 1s 42ms/step\n"
          ]
        }
      ]
    },
    {
      "cell_type": "code",
      "source": [
        "print('정확도 : ', sum(y_predict==y_test)/len(y_test)*100)"
      ],
      "metadata": {
        "colab": {
          "base_uri": "https://localhost:8080/"
        },
        "id": "bAbyzyZgUCYJ",
        "outputId": "76a4d4e2-23c0-4474-b24f-51f5b118e90f"
      },
      "execution_count": 33,
      "outputs": [
        {
          "output_type": "stream",
          "name": "stdout",
          "text": [
            "정확도 :  97.5\n"
          ]
        }
      ]
    },
    {
      "cell_type": "code",
      "source": [],
      "metadata": {
        "id": "-bjKSkmIUJfJ"
      },
      "execution_count": null,
      "outputs": []
    }
  ]
}