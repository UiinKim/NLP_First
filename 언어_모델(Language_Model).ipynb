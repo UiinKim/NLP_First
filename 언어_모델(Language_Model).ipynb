{
  "nbformat": 4,
  "nbformat_minor": 0,
  "metadata": {
    "colab": {
      "provenance": [],
      "authorship_tag": "ABX9TyNtXH1LiiZtCaJq+u7fH4La",
      "include_colab_link": true
    },
    "kernelspec": {
      "name": "python3",
      "display_name": "Python 3"
    },
    "language_info": {
      "name": "python"
    }
  },
  "cells": [
    {
      "cell_type": "markdown",
      "metadata": {
        "id": "view-in-github",
        "colab_type": "text"
      },
      "source": [
        "<a href=\"https://colab.research.google.com/github/UiinKim/UiinKim/blob/main/%EC%96%B8%EC%96%B4_%EB%AA%A8%EB%8D%B8(Language_Model).ipynb\" target=\"_parent\"><img src=\"https://colab.research.google.com/assets/colab-badge.svg\" alt=\"Open In Colab\"/></a>"
      ]
    },
    {
      "cell_type": "markdown",
      "source": [
        "*   시퀀스 데이터 : 순서가 있는 데이터\n",
        "*   언어 모델 : 단어 시퀀스 데이터에 확률을 할당한다\n",
        "*   단어 시퀀스 W의 확률은 P(W)=P(w1, w2, w3, ... , wn)\n",
        "*   다음 단어의 등장 확률 P(wn | w1, w2,..., wn-1) -> 조건부확률\n",
        "*   통계적 언어 모델(SLM : Statiscal Lnaguage Model)\n",
        "*   기본적으로 count기반으로 확률을 계산한다. Ex) An adorable little boy가 나왔을 때 다음 단어로 is가 나올 확률은 기계가 학습한 corpus data에 An adorable little boy가 100번 등장했는데 그 다음에 is가 등장한 경우가 30번이라고 하면 확률을 30%이다.\n",
        "\n",
        "\n",
        "*   SLM에서 인공 신경망 언어 모델로 넘어가는 가장 큰 이유는 희소 문제로 분모 즉 An adorable little boy가 0번 등장을 했을 경우인데 현실에서는 단어 시퀀스가 존재하고 문법에도 적합하므로 정답일 가능성이 높다.\n",
        "\n",
        "\n",
        "\n",
        "\n",
        "\n",
        "\n",
        "\n"
      ],
      "metadata": {
        "id": "7qowr4nB-lkl"
      }
    },
    {
      "cell_type": "markdown",
      "source": [
        "\n",
        "\n",
        "*   N-gram은 단어 N개를 corpus에 포함시키는 것이다.\n",
        "\n",
        "\n",
        "\n",
        "*   Ex) unigrams : an, adorable, little, boy, is, spreading, smiles\n",
        "*   bigrams : an adorable, adorable little, little boy, boy is, is spreading, spreading smiles\n",
        "\n",
        "\n",
        "*   trigrams : an adorable little, adorable little boy, little boy is, boy is spreading, is spreading smiles\n",
        "\n",
        "*   4-grams : an adorable little boy, adorable little boy is, little boy is spreading, boy is spreading smiles\n",
        "*   n-1번째의 N개로 구성된 단어만을 고려하고 n번째의 단어를 예측한다.\n",
        "\n",
        "\n",
        "*   여전히 희소문제가 발생한다.\n",
        "*   n을 높이고 낮추는 것에 따라 trade-off(하나를 얻고 하나를 잃는다)가 발생한다.\n",
        "\n",
        "\n",
        "*   도메인(적용 분야)에 따라 성능이 매우 달라진다. Ex)음악, 의학, 과학 등\n",
        "\n",
        "\n",
        "\n",
        "\n",
        "\n",
        "\n",
        "\n"
      ],
      "metadata": {
        "id": "c3Jp_JQkT3yw"
      }
    },
    {
      "cell_type": "markdown",
      "source": [
        "\n",
        "\n",
        "*   한국어는 어순이 중요하지 않아 다음 단어의 예측이 어렵다.\n",
        "*   한국어는 교착어(조사와 같은)라서 을, 를, 가 등에 따라 의미가 굉장히 달라지기 때문에 토큰화를 통화 접사나 조사 등을 분리해야 한다.\n",
        "\n",
        "*   한국어는 띄어쓰기가 잘 지켜지지 않기 때문에 훈련 데이터에 사용될 때 제대로 된 문장을 사용해야 한다.\n",
        "\n"
      ],
      "metadata": {
        "id": "_6SkDrnJjam9"
      }
    },
    {
      "cell_type": "markdown",
      "source": [
        "\n",
        "\n",
        "*   Perplextity(PPL)(=헷갈리는 정도) : 여러 가지 모델을 비교할 때에 모든 모델을 비교해보는 것이 아닌 모델 내에서 자신의 성능을 수치화하여 나타내는 것(PPL)을 가지고 비교한다. -> 비용, 시간 절감. 수치가 낮을 수록 성능이 높다.\n",
        "*   문장 W, 문장 W의 길이 N을 가정하였을 때의 PPL(W)=P(w1, w2, ..., wn)의 1/N 제곱의 역수(=-1/N 제곱)\n",
        "\n",
        "\n",
        "*   PPL은 선택할 수 있는 가능한 경우의 수(선택지)를 의미하는 분기계수이다.\n",
        "\n",
        "*   PPL은 테스트 데이터에 대해서 다음 단어를 예측하는 모든 시점마다 N개의 단어를 예측하는데 그 개수가 낮을 수록 성능이 높다. 하지만 이는 테스트 데이터에 의존하므로 도메인에 맞는 동일한 테스트 데이터를 사용해야 신뢰도가 높다.\n",
        "*   10개의 단어로 예측을 한다고 생각하면 (PPL(W)=P(w1, w2, ..., wn)의 (-1/N제곱) = ((1/10의 N제곱)의 (-1/N)제곱) = (1/10의 -1제곱) = 10)\n",
        "\n",
        "\n",
        "\n"
      ],
      "metadata": {
        "id": "hKF-Bc_7kBPS"
      }
    },
    {
      "cell_type": "markdown",
      "source": [
        "조건부확률 : 고등학생 중 한명을 뽑았을 때, 남학생일 경우 = (고등학생이면서 남학생(=교집합(=곱하기)) /전체)/(고등학생/전체)"
      ],
      "metadata": {
        "id": "QfCpi-IUpC9w"
      }
    },
    {
      "cell_type": "code",
      "execution_count": null,
      "metadata": {
        "id": "fSf2FK0z9FA_"
      },
      "outputs": [],
      "source": [
        ""
      ]
    }
  ]
}