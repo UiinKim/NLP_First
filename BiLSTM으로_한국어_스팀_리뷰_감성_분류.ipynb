{
  "cells": [
    {
      "cell_type": "markdown",
      "metadata": {
        "id": "view-in-github",
        "colab_type": "text"
      },
      "source": [
        "<a href=\"https://colab.research.google.com/github/UiinKim/UiinKim/blob/main/BiLSTM%EC%9C%BC%EB%A1%9C_%ED%95%9C%EA%B5%AD%EC%96%B4_%EC%8A%A4%ED%8C%80_%EB%A6%AC%EB%B7%B0_%EA%B0%90%EC%84%B1_%EB%B6%84%EB%A5%98.ipynb\" target=\"_parent\"><img src=\"https://colab.research.google.com/assets/colab-badge.svg\" alt=\"Open In Colab\"/></a>"
      ]
    },
    {
      "cell_type": "code",
      "source": [
        "!pip install konlpy"
      ],
      "metadata": {
        "colab": {
          "base_uri": "https://localhost:8080/"
        },
        "id": "dE1m95EFqYlX",
        "outputId": "b79cfc48-8df0-403c-c701-e7acc7c4db7d"
      },
      "execution_count": 2,
      "outputs": [
        {
          "output_type": "stream",
          "name": "stdout",
          "text": [
            "Collecting konlpy\n",
            "  Downloading konlpy-0.6.0-py2.py3-none-any.whl (19.4 MB)\n",
            "\u001b[2K     \u001b[90m━━━━━━━━━━━━━━━━━━━━━━━━━━━━━━━━━━━━━━━━\u001b[0m \u001b[32m19.4/19.4 MB\u001b[0m \u001b[31m29.1 MB/s\u001b[0m eta \u001b[36m0:00:00\u001b[0m\n",
            "\u001b[?25hCollecting JPype1>=0.7.0 (from konlpy)\n",
            "  Downloading JPype1-1.4.1-cp310-cp310-manylinux_2_12_x86_64.manylinux2010_x86_64.whl (465 kB)\n",
            "\u001b[2K     \u001b[90m━━━━━━━━━━━━━━━━━━━━━━━━━━━━━━━━━━━━━━\u001b[0m \u001b[32m465.3/465.3 kB\u001b[0m \u001b[31m31.8 MB/s\u001b[0m eta \u001b[36m0:00:00\u001b[0m\n",
            "\u001b[?25hRequirement already satisfied: lxml>=4.1.0 in /usr/local/lib/python3.10/dist-packages (from konlpy) (4.9.3)\n",
            "Requirement already satisfied: numpy>=1.6 in /usr/local/lib/python3.10/dist-packages (from konlpy) (1.22.4)\n",
            "Requirement already satisfied: packaging in /usr/local/lib/python3.10/dist-packages (from JPype1>=0.7.0->konlpy) (23.1)\n",
            "Installing collected packages: JPype1, konlpy\n",
            "Successfully installed JPype1-1.4.1 konlpy-0.6.0\n"
          ]
        }
      ]
    },
    {
      "cell_type": "code",
      "execution_count": 3,
      "metadata": {
        "id": "UuHka7GNADcn"
      },
      "outputs": [],
      "source": [
        "import pandas as pd\n",
        "import numpy as np\n",
        "import matplotlib.pyplot as plt\n",
        "import urllib.request\n",
        "from collections import Counter\n",
        "from konlpy.tag import Okt\n",
        "from sklearn.model_selection import train_test_split\n",
        "from tensorflow.keras.preprocessing.text import Tokenizer\n",
        "from tensorflow.keras.preprocessing.sequence import pad_sequences"
      ]
    },
    {
      "cell_type": "code",
      "execution_count": 4,
      "metadata": {
        "colab": {
          "base_uri": "https://localhost:8080/"
        },
        "id": "_nksk8l3AfFH",
        "outputId": "0de17038-3821-42e1-c605-849f92511ffb"
      },
      "outputs": [
        {
          "output_type": "execute_result",
          "data": {
            "text/plain": [
              "('steam.txt', <http.client.HTTPMessage at 0x7d71c1aaf1c0>)"
            ]
          },
          "metadata": {},
          "execution_count": 4
        }
      ],
      "source": [
        "urllib.request.urlretrieve(\"https://raw.githubusercontent.com/bab2min/corpus/master/sentiment/steam.txt\", filename=\"steam.txt\")"
      ]
    },
    {
      "cell_type": "code",
      "execution_count": 5,
      "metadata": {
        "id": "07Vw3LrgAjAW"
      },
      "outputs": [],
      "source": [
        "total_data=pd.read_table('steam.txt', names=['label', 'reviews'])"
      ]
    },
    {
      "cell_type": "code",
      "execution_count": 6,
      "metadata": {
        "colab": {
          "base_uri": "https://localhost:8080/",
          "height": 206
        },
        "id": "-xD3jOb1BVGY",
        "outputId": "76d24577-47da-495c-c834-88bd4c882b72"
      },
      "outputs": [
        {
          "output_type": "execute_result",
          "data": {
            "text/plain": [
              "   label                               reviews\n",
              "0      0                             노래가 너무 적음\n",
              "1      0       돌겠네 진짜. 황숙아, 어크 공장 그만 돌려라. 죽는다.\n",
              "2      1      막노동 체험판 막노동 하는사람인데 장비를 내가 사야돼 뭐지\n",
              "3      1  차악!차악!!차악!!! 정말 이래서 왕국을 되찾을 수 있는거야??\n",
              "4      1   시간 때우기에 좋음.. 도전과제는 50시간이면 다 깰 수 있어요"
            ],
            "text/html": [
              "\n",
              "\n",
              "  <div id=\"df-0532e40b-c08a-4037-89d1-edda2c5d8616\">\n",
              "    <div class=\"colab-df-container\">\n",
              "      <div>\n",
              "<style scoped>\n",
              "    .dataframe tbody tr th:only-of-type {\n",
              "        vertical-align: middle;\n",
              "    }\n",
              "\n",
              "    .dataframe tbody tr th {\n",
              "        vertical-align: top;\n",
              "    }\n",
              "\n",
              "    .dataframe thead th {\n",
              "        text-align: right;\n",
              "    }\n",
              "</style>\n",
              "<table border=\"1\" class=\"dataframe\">\n",
              "  <thead>\n",
              "    <tr style=\"text-align: right;\">\n",
              "      <th></th>\n",
              "      <th>label</th>\n",
              "      <th>reviews</th>\n",
              "    </tr>\n",
              "  </thead>\n",
              "  <tbody>\n",
              "    <tr>\n",
              "      <th>0</th>\n",
              "      <td>0</td>\n",
              "      <td>노래가 너무 적음</td>\n",
              "    </tr>\n",
              "    <tr>\n",
              "      <th>1</th>\n",
              "      <td>0</td>\n",
              "      <td>돌겠네 진짜. 황숙아, 어크 공장 그만 돌려라. 죽는다.</td>\n",
              "    </tr>\n",
              "    <tr>\n",
              "      <th>2</th>\n",
              "      <td>1</td>\n",
              "      <td>막노동 체험판 막노동 하는사람인데 장비를 내가 사야돼 뭐지</td>\n",
              "    </tr>\n",
              "    <tr>\n",
              "      <th>3</th>\n",
              "      <td>1</td>\n",
              "      <td>차악!차악!!차악!!! 정말 이래서 왕국을 되찾을 수 있는거야??</td>\n",
              "    </tr>\n",
              "    <tr>\n",
              "      <th>4</th>\n",
              "      <td>1</td>\n",
              "      <td>시간 때우기에 좋음.. 도전과제는 50시간이면 다 깰 수 있어요</td>\n",
              "    </tr>\n",
              "  </tbody>\n",
              "</table>\n",
              "</div>\n",
              "      <button class=\"colab-df-convert\" onclick=\"convertToInteractive('df-0532e40b-c08a-4037-89d1-edda2c5d8616')\"\n",
              "              title=\"Convert this dataframe to an interactive table.\"\n",
              "              style=\"display:none;\">\n",
              "\n",
              "  <svg xmlns=\"http://www.w3.org/2000/svg\" height=\"24px\"viewBox=\"0 0 24 24\"\n",
              "       width=\"24px\">\n",
              "    <path d=\"M0 0h24v24H0V0z\" fill=\"none\"/>\n",
              "    <path d=\"M18.56 5.44l.94 2.06.94-2.06 2.06-.94-2.06-.94-.94-2.06-.94 2.06-2.06.94zm-11 1L8.5 8.5l.94-2.06 2.06-.94-2.06-.94L8.5 2.5l-.94 2.06-2.06.94zm10 10l.94 2.06.94-2.06 2.06-.94-2.06-.94-.94-2.06-.94 2.06-2.06.94z\"/><path d=\"M17.41 7.96l-1.37-1.37c-.4-.4-.92-.59-1.43-.59-.52 0-1.04.2-1.43.59L10.3 9.45l-7.72 7.72c-.78.78-.78 2.05 0 2.83L4 21.41c.39.39.9.59 1.41.59.51 0 1.02-.2 1.41-.59l7.78-7.78 2.81-2.81c.8-.78.8-2.07 0-2.86zM5.41 20L4 18.59l7.72-7.72 1.47 1.35L5.41 20z\"/>\n",
              "  </svg>\n",
              "      </button>\n",
              "\n",
              "\n",
              "\n",
              "    <div id=\"df-0d97dec4-2047-4bc1-bd1c-62ce09837220\">\n",
              "      <button class=\"colab-df-quickchart\" onclick=\"quickchart('df-0d97dec4-2047-4bc1-bd1c-62ce09837220')\"\n",
              "              title=\"Suggest charts.\"\n",
              "              style=\"display:none;\">\n",
              "\n",
              "<svg xmlns=\"http://www.w3.org/2000/svg\" height=\"24px\"viewBox=\"0 0 24 24\"\n",
              "     width=\"24px\">\n",
              "    <g>\n",
              "        <path d=\"M19 3H5c-1.1 0-2 .9-2 2v14c0 1.1.9 2 2 2h14c1.1 0 2-.9 2-2V5c0-1.1-.9-2-2-2zM9 17H7v-7h2v7zm4 0h-2V7h2v10zm4 0h-2v-4h2v4z\"/>\n",
              "    </g>\n",
              "</svg>\n",
              "      </button>\n",
              "    </div>\n",
              "\n",
              "<style>\n",
              "  .colab-df-quickchart {\n",
              "    background-color: #E8F0FE;\n",
              "    border: none;\n",
              "    border-radius: 50%;\n",
              "    cursor: pointer;\n",
              "    display: none;\n",
              "    fill: #1967D2;\n",
              "    height: 32px;\n",
              "    padding: 0 0 0 0;\n",
              "    width: 32px;\n",
              "  }\n",
              "\n",
              "  .colab-df-quickchart:hover {\n",
              "    background-color: #E2EBFA;\n",
              "    box-shadow: 0px 1px 2px rgba(60, 64, 67, 0.3), 0px 1px 3px 1px rgba(60, 64, 67, 0.15);\n",
              "    fill: #174EA6;\n",
              "  }\n",
              "\n",
              "  [theme=dark] .colab-df-quickchart {\n",
              "    background-color: #3B4455;\n",
              "    fill: #D2E3FC;\n",
              "  }\n",
              "\n",
              "  [theme=dark] .colab-df-quickchart:hover {\n",
              "    background-color: #434B5C;\n",
              "    box-shadow: 0px 1px 3px 1px rgba(0, 0, 0, 0.15);\n",
              "    filter: drop-shadow(0px 1px 2px rgba(0, 0, 0, 0.3));\n",
              "    fill: #FFFFFF;\n",
              "  }\n",
              "</style>\n",
              "\n",
              "    <script>\n",
              "      async function quickchart(key) {\n",
              "        const containerElement = document.querySelector('#' + key);\n",
              "        const charts = await google.colab.kernel.invokeFunction(\n",
              "            'suggestCharts', [key], {});\n",
              "      }\n",
              "    </script>\n",
              "\n",
              "      <script>\n",
              "\n",
              "function displayQuickchartButton(domScope) {\n",
              "  let quickchartButtonEl =\n",
              "    domScope.querySelector('#df-0d97dec4-2047-4bc1-bd1c-62ce09837220 button.colab-df-quickchart');\n",
              "  quickchartButtonEl.style.display =\n",
              "    google.colab.kernel.accessAllowed ? 'block' : 'none';\n",
              "}\n",
              "\n",
              "        displayQuickchartButton(document);\n",
              "      </script>\n",
              "      <style>\n",
              "    .colab-df-container {\n",
              "      display:flex;\n",
              "      flex-wrap:wrap;\n",
              "      gap: 12px;\n",
              "    }\n",
              "\n",
              "    .colab-df-convert {\n",
              "      background-color: #E8F0FE;\n",
              "      border: none;\n",
              "      border-radius: 50%;\n",
              "      cursor: pointer;\n",
              "      display: none;\n",
              "      fill: #1967D2;\n",
              "      height: 32px;\n",
              "      padding: 0 0 0 0;\n",
              "      width: 32px;\n",
              "    }\n",
              "\n",
              "    .colab-df-convert:hover {\n",
              "      background-color: #E2EBFA;\n",
              "      box-shadow: 0px 1px 2px rgba(60, 64, 67, 0.3), 0px 1px 3px 1px rgba(60, 64, 67, 0.15);\n",
              "      fill: #174EA6;\n",
              "    }\n",
              "\n",
              "    [theme=dark] .colab-df-convert {\n",
              "      background-color: #3B4455;\n",
              "      fill: #D2E3FC;\n",
              "    }\n",
              "\n",
              "    [theme=dark] .colab-df-convert:hover {\n",
              "      background-color: #434B5C;\n",
              "      box-shadow: 0px 1px 3px 1px rgba(0, 0, 0, 0.15);\n",
              "      filter: drop-shadow(0px 1px 2px rgba(0, 0, 0, 0.3));\n",
              "      fill: #FFFFFF;\n",
              "    }\n",
              "  </style>\n",
              "\n",
              "      <script>\n",
              "        const buttonEl =\n",
              "          document.querySelector('#df-0532e40b-c08a-4037-89d1-edda2c5d8616 button.colab-df-convert');\n",
              "        buttonEl.style.display =\n",
              "          google.colab.kernel.accessAllowed ? 'block' : 'none';\n",
              "\n",
              "        async function convertToInteractive(key) {\n",
              "          const element = document.querySelector('#df-0532e40b-c08a-4037-89d1-edda2c5d8616');\n",
              "          const dataTable =\n",
              "            await google.colab.kernel.invokeFunction('convertToInteractive',\n",
              "                                                     [key], {});\n",
              "          if (!dataTable) return;\n",
              "\n",
              "          const docLinkHtml = 'Like what you see? Visit the ' +\n",
              "            '<a target=\"_blank\" href=https://colab.research.google.com/notebooks/data_table.ipynb>data table notebook</a>'\n",
              "            + ' to learn more about interactive tables.';\n",
              "          element.innerHTML = '';\n",
              "          dataTable['output_type'] = 'display_data';\n",
              "          await google.colab.output.renderOutput(dataTable, element);\n",
              "          const docLink = document.createElement('div');\n",
              "          docLink.innerHTML = docLinkHtml;\n",
              "          element.appendChild(docLink);\n",
              "        }\n",
              "      </script>\n",
              "    </div>\n",
              "  </div>\n"
            ]
          },
          "metadata": {},
          "execution_count": 6
        }
      ],
      "source": [
        "total_data.head()"
      ]
    },
    {
      "cell_type": "code",
      "execution_count": 7,
      "metadata": {
        "colab": {
          "base_uri": "https://localhost:8080/"
        },
        "id": "vJ2iZlE-Bo85",
        "outputId": "3f70f76e-d408-42ae-bf1e-e1a4783cbcfa"
      },
      "outputs": [
        {
          "output_type": "stream",
          "name": "stdout",
          "text": [
            "<class 'pandas.core.frame.DataFrame'>\n",
            "RangeIndex: 100000 entries, 0 to 99999\n",
            "Data columns (total 2 columns):\n",
            " #   Column   Non-Null Count   Dtype \n",
            "---  ------   --------------   ----- \n",
            " 0   label    100000 non-null  int64 \n",
            " 1   reviews  100000 non-null  object\n",
            "dtypes: int64(1), object(1)\n",
            "memory usage: 1.5+ MB\n"
          ]
        }
      ],
      "source": [
        "total_data.info()"
      ]
    },
    {
      "cell_type": "code",
      "execution_count": 8,
      "metadata": {
        "colab": {
          "base_uri": "https://localhost:8080/"
        },
        "id": "LIOht5M2BWje",
        "outputId": "ff876088-0798-4fa0-e4a6-40ce6609b9ca"
      },
      "outputs": [
        {
          "output_type": "execute_result",
          "data": {
            "text/plain": [
              "label          2\n",
              "reviews    99892\n",
              "dtype: int64"
            ]
          },
          "metadata": {},
          "execution_count": 8
        }
      ],
      "source": [
        "total_data.nunique()"
      ]
    },
    {
      "cell_type": "code",
      "execution_count": 9,
      "metadata": {
        "colab": {
          "base_uri": "https://localhost:8080/"
        },
        "id": "MLOAMgcoBnUe",
        "outputId": "43655ff9-31ea-44f4-fb2d-b4a577bb413a"
      },
      "outputs": [
        {
          "output_type": "stream",
          "name": "stdout",
          "text": [
            "99892\n"
          ]
        }
      ],
      "source": [
        "total_data.drop_duplicates(subset=['reviews'], inplace=True)\n",
        "print(len(total_data))"
      ]
    },
    {
      "cell_type": "code",
      "execution_count": 10,
      "metadata": {
        "colab": {
          "base_uri": "https://localhost:8080/"
        },
        "id": "wL_oUzTFCVmF",
        "outputId": "1c2207a4-87d4-49df-8f79-ec46602da2b5"
      },
      "outputs": [
        {
          "output_type": "stream",
          "name": "stdout",
          "text": [
            "훈련용 리뷰 개수 :  74919\n",
            "테스트용 리뷰 개수 :  24973\n"
          ]
        }
      ],
      "source": [
        "#훈련데이터와 테스트 데이터 분리\n",
        "train_data, test_data=train_test_split(total_data, test_size=0.25, random_state=42)\n",
        "print(\"훈련용 리뷰 개수 : \", len(train_data))\n",
        "print(\"테스트용 리뷰 개수 : \", len(test_data))"
      ]
    },
    {
      "cell_type": "code",
      "execution_count": 11,
      "metadata": {
        "colab": {
          "base_uri": "https://localhost:8080/",
          "height": 444
        },
        "id": "ZjWWLGZDDMfm",
        "outputId": "e8c9e859-d431-497e-a171-236d4566d365"
      },
      "outputs": [
        {
          "output_type": "execute_result",
          "data": {
            "text/plain": [
              "<Axes: >"
            ]
          },
          "metadata": {},
          "execution_count": 11
        },
        {
          "output_type": "display_data",
          "data": {
            "text/plain": [
              "<Figure size 640x480 with 1 Axes>"
            ],
            "image/png": "[encoded data removed]"
          },
          "metadata": {}
        }
      ],
      "source": [
        "train_data['label'].value_counts().plot(kind = 'bar')"
      ]
    },
    {
      "cell_type": "code",
      "execution_count": 12,
      "metadata": {
        "colab": {
          "base_uri": "https://localhost:8080/"
        },
        "id": "3qBz_stlEw4r",
        "outputId": "4a2f3438-5cc3-4e13-852e-233a9458ca40"
      },
      "outputs": [
        {
          "output_type": "stream",
          "name": "stdout",
          "text": [
            "   label  counts\n",
            "0      0   37376\n",
            "1      1   37543\n"
          ]
        }
      ],
      "source": [
        "print(train_data.groupby('label').size().reset_index(name='counts'))"
      ]
    },
    {
      "cell_type": "code",
      "execution_count": 13,
      "metadata": {
        "colab": {
          "base_uri": "https://localhost:8080/"
        },
        "id": "MyKBIipZB1Qt",
        "outputId": "f6a3c14e-e500-4ed5-b67e-d58f17c8e8fe"
      },
      "outputs": [
        {
          "output_type": "stream",
          "name": "stderr",
          "text": [
            "<ipython-input-13-159aa2b6927a>:3: FutureWarning: The default value of regex will change from True to False in a future version.\n",
            "  train_data['reviews']=train_data['reviews'].str.replace('[^ㄱ-ㅎㅏ-ㅣ가-힣]', '')\n"
          ]
        },
        {
          "output_type": "execute_result",
          "data": {
            "text/plain": [
              "label      0\n",
              "reviews    0\n",
              "dtype: int64"
            ]
          },
          "metadata": {},
          "execution_count": 13
        }
      ],
      "source": [
        "#데이터 정제\n",
        "train_data.drop_duplicates(subset=['reviews'], inplace=True)\n",
        "train_data['reviews']=train_data['reviews'].str.replace('[^ㄱ-ㅎㅏ-ㅣ가-힣]', '')\n",
        "train_data['reviews']=train_data['reviews'].replace('', np.nan)\n",
        "train_data.isnull().sum()"
      ]
    },
    {
      "cell_type": "code",
      "execution_count": 14,
      "metadata": {
        "colab": {
          "base_uri": "https://localhost:8080/"
        },
        "id": "p62sh1l9FPX9",
        "outputId": "cce8b551-5d38-4315-a076-588679ac7573"
      },
      "outputs": [
        {
          "output_type": "stream",
          "name": "stderr",
          "text": [
            "<ipython-input-14-f71194b913c4>:2: FutureWarning: The default value of regex will change from True to False in a future version.\n",
            "  test_data['reviews']=test_data['reviews'].str.replace('[^ㄱ-ㅎㅏ-ㅣ가-힣]', '')\n"
          ]
        },
        {
          "output_type": "execute_result",
          "data": {
            "text/plain": [
              "label      0\n",
              "reviews    0\n",
              "dtype: int64"
            ]
          },
          "metadata": {},
          "execution_count": 14
        }
      ],
      "source": [
        "test_data.drop_duplicates(subset=['reviews'], inplace=True)\n",
        "test_data['reviews']=test_data['reviews'].str.replace('[^ㄱ-ㅎㅏ-ㅣ가-힣]', '')\n",
        "test_data['reviews']=test_data['reviews'].replace('',np.nan)\n",
        "test_data.isnull().sum()"
      ]
    },
    {
      "cell_type": "code",
      "execution_count": 15,
      "metadata": {
        "id": "bgacMVfICqtd"
      },
      "outputs": [],
      "source": [
        "okt=Okt()\n",
        "stopwords = ['도', '는', '다', '의', '가', '이', '은', '한', '에', '하', '고', '을', '를', '인', '듯', '과', '와', '네', '들', '듯', '지', '임', '게', '만', '게임', '겜', '되', '음', '면']"
      ]
    },
    {
      "cell_type": "code",
      "execution_count": 16,
      "metadata": {
        "id": "PaZiBp_FIsWI"
      },
      "outputs": [],
      "source": [
        "from tqdm import tqdm"
      ]
    },
    {
      "cell_type": "code",
      "execution_count": 17,
      "metadata": {
        "colab": {
          "base_uri": "https://localhost:8080/"
        },
        "id": "o40_A5tCEGTm",
        "outputId": "5a7a34b0-f5bf-41c0-a12c-41ef7a24b6ae"
      },
      "outputs": [
        {
          "output_type": "stream",
          "name": "stderr",
          "text": [
            "100%|██████████| 74919/74919 [36:45<00:00, 33.97it/s]\n"
          ]
        }
      ],
      "source": [
        "X_train=[]\n",
        "for sentence in tqdm(train_data['reviews']):\n",
        "  tokenized_sentence=okt.morphs(sentence)\n",
        "  stopwords_removed_sentence=[word for word in tokenized_sentence if not word in stopwords]\n",
        "  X_train.append(stopwords_removed_sentence)\n",
        "y_train=train_data['label']"
      ]
    },
    {
      "cell_type": "code",
      "execution_count": 18,
      "metadata": {
        "id": "ryCV7J4GGiZV",
        "colab": {
          "base_uri": "https://localhost:8080/"
        },
        "outputId": "09dcb688-f277-452b-e3dd-8e25b38d4b53"
      },
      "outputs": [
        {
          "output_type": "stream",
          "name": "stderr",
          "text": [
            "100%|██████████| 24973/24973 [12:16<00:00, 33.90it/s]\n"
          ]
        }
      ],
      "source": [
        "X_test=[]\n",
        "for sentence in tqdm(test_data['reviews']):\n",
        "  tokenized_sentence=okt.morphs(sentence)\n",
        "  stopwords_removed_sentence=[word for word in tokenized_sentence if not word in stopwords]\n",
        "  X_test.append(stopwords_removed_sentence)\n",
        "y_test=test_data['label']"
      ]
    },
    {
      "cell_type": "code",
      "execution_count": 19,
      "metadata": {
        "id": "8xlaAMzrG25l"
      },
      "outputs": [],
      "source": [
        "#정수 인코딩\n",
        "tokenizer=Tokenizer()\n",
        "tokenizer.fit_on_texts(X_train)"
      ]
    },
    {
      "cell_type": "code",
      "execution_count": 20,
      "metadata": {
        "id": "d14oh366HQOl",
        "colab": {
          "base_uri": "https://localhost:8080/"
        },
        "outputId": "ff6a08d3-20b2-4091-a433-4d369a1c4017"
      },
      "outputs": [
        {
          "output_type": "stream",
          "name": "stdout",
          "text": [
            "유니크한 단어 개수의 비율 :  60.281727663258856\n",
            "유니크한 단어 출현빈도 비율 :  5.590729679479656\n"
          ]
        }
      ],
      "source": [
        "threshold=2\n",
        "total_cnt=len(tokenizer.word_index)\n",
        "rare_cnt=0\n",
        "total_freq=0\n",
        "rare_freq=0\n",
        "\n",
        "for key, value in tokenizer.word_counts.items():\n",
        "  total_freq+=value\n",
        "  if value<threshold:\n",
        "    rare_cnt+=1\n",
        "    rare_freq+=value\n",
        "\n",
        "print(\"유니크한 단어 개수의 비율 : \", (rare_cnt/total_cnt)*100)\n",
        "print(\"유니크한 단어 출현빈도 비율 : \", (rare_freq/total_freq)*100)"
      ]
    },
    {
      "cell_type": "code",
      "execution_count": 21,
      "metadata": {
        "id": "ulrVll7jIJaf",
        "colab": {
          "base_uri": "https://localhost:8080/"
        },
        "outputId": "07b7ef14-de26-461f-fb60-17359a85d6f6"
      },
      "outputs": [
        {
          "output_type": "stream",
          "name": "stdout",
          "text": [
            "단어 집합의 크기 :  35783\n"
          ]
        }
      ],
      "source": [
        "vocab_size=total_cnt-rare_cnt+2\n",
        "print(\"단어 집합의 크기 : \", vocab_size)"
      ]
    },
    {
      "cell_type": "code",
      "execution_count": 22,
      "metadata": {
        "id": "tCss1WnnK4Np"
      },
      "outputs": [],
      "source": [
        "tokenizer=Tokenizer(vocab_size, oov_token='oov')\n",
        "tokenizer.fit_on_texts(X_train)\n",
        "X_train=tokenizer.texts_to_sequences(X_train)\n",
        "X_test=tokenizer.texts_to_sequences(X_test)"
      ]
    },
    {
      "cell_type": "code",
      "execution_count": 23,
      "metadata": {
        "id": "bW-zU0HsLRig",
        "colab": {
          "base_uri": "https://localhost:8080/",
          "height": 486
        },
        "outputId": "08e7ae01-fafb-4a81-dd05-cc99d3751d28"
      },
      "outputs": [
        {
          "output_type": "stream",
          "name": "stdout",
          "text": [
            "가장 긴 토큰 :  56\n",
            "토큰의 평균 길이 :  12.965442678092339\n"
          ]
        },
        {
          "output_type": "display_data",
          "data": {
            "text/plain": [
              "<Figure size 640x480 with 1 Axes>"
            ],
            "image/png": "[encoded data removed]"
          },
          "metadata": {}
        }
      ],
      "source": [
        "print(\"가장 긴 토큰 : \", max(len(word)for word in X_train))\n",
        "print(\"토큰의 평균 길이 : \", sum(map(len, X_train))/len(X_train))\n",
        "plt.hist([len(review) for review in X_train], bins=50)\n",
        "plt.xlabel('length of samples')\n",
        "plt.ylabel('number of samples')\n",
        "plt.show()"
      ]
    },
    {
      "cell_type": "code",
      "execution_count": 24,
      "metadata": {
        "id": "IzVCLHVSL1gx"
      },
      "outputs": [],
      "source": [
        "def below_threshold_len(max_len, nested_list):\n",
        "  count=0\n",
        "\n",
        "  for sentence in nested_list:\n",
        "    if len(sentence)<max_len:\n",
        "      count+=1\n",
        "\n",
        "  print(\"%s의 threshold보다 낮은 비율은 %s입니다.\" %(max_len, count/len(nested_list)*100))"
      ]
    },
    {
      "cell_type": "code",
      "execution_count": 25,
      "metadata": {
        "id": "69opJ4Y8MXD_",
        "colab": {
          "base_uri": "https://localhost:8080/"
        },
        "outputId": "2890fc8e-4f37-423a-bb73-3bfad11e68f5"
      },
      "outputs": [
        {
          "output_type": "stream",
          "name": "stdout",
          "text": [
            "60의 threshold보다 낮은 비율은 100.0입니다.\n"
          ]
        }
      ],
      "source": [
        "max_len=60\n",
        "below_threshold_len(max_len, X_train)"
      ]
    },
    {
      "cell_type": "code",
      "execution_count": 26,
      "metadata": {
        "id": "MKjm4UrEMehl"
      },
      "outputs": [],
      "source": [
        "#패딩\n",
        "X_train=pad_sequences(X_train, maxlen=max_len)\n",
        "X_test=pad_sequences(X_test, maxlen=max_len)"
      ]
    },
    {
      "cell_type": "code",
      "execution_count": 27,
      "metadata": {
        "id": "5iMcXFv5MnL1"
      },
      "outputs": [],
      "source": [
        "import re\n",
        "from tensorflow.keras.models import Sequential, load_model\n",
        "from tensorflow.keras.layers import LSTM, Dense, Embedding, Bidirectional\n",
        "from tensorflow.keras.callbacks import EarlyStopping, ModelCheckpoint"
      ]
    },
    {
      "cell_type": "code",
      "execution_count": 28,
      "metadata": {
        "id": "QWE1lgQHNDsH",
        "colab": {
          "base_uri": "https://localhost:8080/"
        },
        "outputId": "3ba5aa6d-5744-468e-9e95-4b9b23310791"
      },
      "outputs": [
        {
          "output_type": "stream",
          "name": "stdout",
          "text": [
            "Epoch 1/15\n",
            "235/235 [==============================] - ETA: 0s - loss: 0.6380 - acc: 0.6157\n",
            "Epoch 1: val_acc improved from -inf to 0.73171, saving model to best_model.h5\n",
            "235/235 [==============================] - 199s 812ms/step - loss: 0.6380 - acc: 0.6157 - val_loss: 0.5303 - val_acc: 0.7317\n",
            "Epoch 2/15\n",
            "235/235 [==============================] - ETA: 0s - loss: 0.4889 - acc: 0.7688\n",
            "Epoch 2: val_acc improved from 0.73171 to 0.76168, saving model to best_model.h5\n",
            "235/235 [==============================] - 176s 748ms/step - loss: 0.4889 - acc: 0.7688 - val_loss: 0.4908 - val_acc: 0.7617\n",
            "Epoch 3/15\n",
            "235/235 [==============================] - ETA: 0s - loss: 0.4261 - acc: 0.8094\n",
            "Epoch 3: val_acc improved from 0.76168 to 0.77109, saving model to best_model.h5\n",
            "235/235 [==============================] - 171s 726ms/step - loss: 0.4261 - acc: 0.8094 - val_loss: 0.4801 - val_acc: 0.7711\n",
            "Epoch 4/15\n",
            "235/235 [==============================] - ETA: 0s - loss: 0.3915 - acc: 0.8288\n",
            "Epoch 4: val_acc improved from 0.77109 to 0.77576, saving model to best_model.h5\n",
            "235/235 [==============================] - 177s 753ms/step - loss: 0.3915 - acc: 0.8288 - val_loss: 0.4732 - val_acc: 0.7758\n",
            "Epoch 5/15\n",
            "235/235 [==============================] - ETA: 0s - loss: 0.3630 - acc: 0.8451\n",
            "Epoch 5: val_acc improved from 0.77576 to 0.77643, saving model to best_model.h5\n",
            "235/235 [==============================] - 181s 771ms/step - loss: 0.3630 - acc: 0.8451 - val_loss: 0.4819 - val_acc: 0.7764\n",
            "Epoch 6/15\n",
            "235/235 [==============================] - ETA: 0s - loss: 0.3386 - acc: 0.8583\n",
            "Epoch 6: val_acc did not improve from 0.77643\n",
            "235/235 [==============================] - 181s 769ms/step - loss: 0.3386 - acc: 0.8583 - val_loss: 0.5070 - val_acc: 0.7757\n",
            "Epoch 7/15\n",
            "235/235 [==============================] - ETA: 0s - loss: 0.3163 - acc: 0.8723\n",
            "Epoch 7: val_acc did not improve from 0.77643\n",
            "235/235 [==============================] - 179s 763ms/step - loss: 0.3163 - acc: 0.8723 - val_loss: 0.5001 - val_acc: 0.7708\n",
            "Epoch 8/15\n",
            "235/235 [==============================] - ETA: 0s - loss: 0.2876 - acc: 0.8855\n",
            "Epoch 8: val_acc did not improve from 0.77643\n",
            "235/235 [==============================] - 179s 762ms/step - loss: 0.2876 - acc: 0.8855 - val_loss: 0.5409 - val_acc: 0.7643\n",
            "Epoch 8: early stopping\n"
          ]
        }
      ],
      "source": [
        "embedding_dim=100\n",
        "hidden_units=128\n",
        "\n",
        "model=Sequential()\n",
        "model.add(Embedding(vocab_size, embedding_dim))\n",
        "model.add(Bidirectional(LSTM(hidden_units)))\n",
        "model.add(Dense(1, activation='sigmoid'))\n",
        "\n",
        "es=EarlyStopping(monitor='val_loss', mode='min', verbose=1, patience=4)\n",
        "mc=ModelCheckpoint('best_model.h5', monitor='val_acc', mode='max', verbose=1, save_best_only=True)\n",
        "\n",
        "model.compile(optimizer='rmsprop', loss='binary_crossentropy', metrics=['acc'])\n",
        "history=model.fit(X_train,y_train, callbacks=[es, mc], batch_size=256, epochs=15, validation_split=0.2)"
      ]
    },
    {
      "cell_type": "code",
      "execution_count": 29,
      "metadata": {
        "id": "c0PD6FlzOFRG",
        "colab": {
          "base_uri": "https://localhost:8080/"
        },
        "outputId": "6672ab2c-cc2d-4463-d830-aba3384e39ea"
      },
      "outputs": [
        {
          "output_type": "stream",
          "name": "stdout",
          "text": [
            "781/781 [==============================] - 49s 61ms/step - loss: 0.4903 - acc: 0.7741\n",
            "\n",
            " 모델의 테스트 정확도 : 0.7741\n"
          ]
        }
      ],
      "source": [
        "loaded_model=load_model('best_model.h5')\n",
        "print(\"\\n 모델의 테스트 정확도 : %.4f\"%(loaded_model.evaluate(X_test, y_test)[1]))"
      ]
    },
    {
      "cell_type": "code",
      "execution_count": 30,
      "metadata": {
        "id": "aysJxtJbOReV"
      },
      "outputs": [],
      "source": [
        "def sentiment_predict(new_sentence):\n",
        "  new_sentence=re.sub(\"[^ㄱ-ㅎㅏ-ㅣ가-힣]\", \"\", new_sentence)\n",
        "  new_sentence=okt.morphs(new_sentence)\n",
        "  new_sentence=[word for word in new_sentence if not word in stopwords]\n",
        "  encoded=tokenizer.texts_to_sequences([new_sentence])\n",
        "  paded=pad_sequences(encoded, maxlen=max_len)\n",
        "  score=float(loaded_model.predict(paded))\n",
        "\n",
        "  if score>0.5:\n",
        "    print(\"{:.2f}%의 확률로 긍정리뷰입니다.\".format(score*100))\n",
        "  else:\n",
        "    print(\"{:.2f}%의 확률로 부정리뷰입니다.\".format((1-score)*100))"
      ]
    },
    {
      "cell_type": "code",
      "execution_count": 31,
      "metadata": {
        "id": "RwGOJgxGPBDZ",
        "colab": {
          "base_uri": "https://localhost:8080/"
        },
        "outputId": "37a3ce7a-57ba-45ef-b2ca-3efdc047635b"
      },
      "outputs": [
        {
          "output_type": "stream",
          "name": "stdout",
          "text": [
            "1/1 [==============================] - 3s 3s/step\n",
            "96.74%의 확률로 부정리뷰입니다.\n"
          ]
        }
      ],
      "source": [
        "sentiment_predict('ㅈ노잼이네')"
      ]
    },
    {
      "cell_type": "code",
      "source": [
        "sentiment_predict('조금 어렵지만 재밌음ㅋㅋ')"
      ],
      "metadata": {
        "colab": {
          "base_uri": "https://localhost:8080/"
        },
        "id": "YKIxe_kz88lN",
        "outputId": "a4f53f07-201e-454a-f28f-e8cf8afd475e"
      },
      "execution_count": 32,
      "outputs": [
        {
          "output_type": "stream",
          "name": "stdout",
          "text": [
            "1/1 [==============================] - 0s 46ms/step\n",
            "99.70%의 확률로 긍정리뷰입니다.\n"
          ]
        }
      ]
    },
    {
      "cell_type": "code",
      "source": [],
      "metadata": {
        "id": "O5vsMtf58_Ah"
      },
      "execution_count": null,
      "outputs": []
    }
  ],
  "metadata": {
    "accelerator": "GPU",
    "colab": {
      "provenance": [],
      "authorship_tag": "ABX9TyM/R2CSN6r4TpwP8lvreXns",
      "include_colab_link": true
    },
    "kernelspec": {
      "display_name": "Python 3",
      "name": "python3"
    },
    "language_info": {
      "name": "python"
    }
  },
  "nbformat": 4,
  "nbformat_minor": 0
}