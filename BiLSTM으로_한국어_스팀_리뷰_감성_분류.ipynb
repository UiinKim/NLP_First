{
  "nbformat": 4,
  "nbformat_minor": 0,
  "metadata": {
    "colab": {
      "provenance": [],
      "gpuType": "T4",
      "authorship_tag": "ABX9TyML5zjIvfWgY8JBxcUXCeMM",
      "include_colab_link": true
    },
    "kernelspec": {
      "name": "python3",
      "display_name": "Python 3"
    },
    "language_info": {
      "name": "python"
    },
    "accelerator": "GPU"
  },
  "cells": [
    {
      "cell_type": "markdown",
      "metadata": {
        "id": "view-in-github",
        "colab_type": "text"
      },
      "source": [
        "<a href=\"https://colab.research.google.com/github/UiinKim/UiinKim/blob/main/BiLSTM%EC%9C%BC%EB%A1%9C_%ED%95%9C%EA%B5%AD%EC%96%B4_%EC%8A%A4%ED%8C%80_%EB%A6%AC%EB%B7%B0_%EA%B0%90%EC%84%B1_%EB%B6%84%EB%A5%98.ipynb\" target=\"_parent\"><img src=\"https://colab.research.google.com/assets/colab-badge.svg\" alt=\"Open In Colab\"/></a>"
      ]
    },
    {
      "cell_type": "code",
      "source": [
        "import pandas as pd\n",
        "import numpy as np\n",
        "import matplotlib.pyplot as plt\n",
        "import urllib.request\n",
        "from collections import Counter\n",
        "from konlpy.tag import Okt\n",
        "from sklearn.model_selection import train_test_split\n",
        "from tensorflow.keras.preprocessing.text import Tokenizer\n",
        "from tensorflow.keras.preprocessing.sequence import pad_sequences"
      ],
      "metadata": {
        "id": "UuHka7GNADcn"
      },
      "execution_count": 89,
      "outputs": []
    },
    {
      "cell_type": "code",
      "source": [
        "urllib.request.urlretrieve(\"https://raw.githubusercontent.com/bab2min/corpus/master/sentiment/steam.txt\", filename=\"steam.txt\")"
      ],
      "metadata": {
        "id": "_nksk8l3AfFH",
        "colab": {
          "base_uri": "https://localhost:8080/"
        },
        "outputId": "3fdc498a-01ee-48c2-bcc5-6ac029f4e7f4"
      },
      "execution_count": 90,
      "outputs": [
        {
          "output_type": "execute_result",
          "data": {
            "text/plain": [
              "('steam.txt', <http.client.HTTPMessage at 0x7e80b59a4d60>)"
            ]
          },
          "metadata": {},
          "execution_count": 90
        }
      ]
    },
    {
      "cell_type": "code",
      "source": [
        "total_data=pd.read_table('steam.txt', names=['label', 'reviews'])"
      ],
      "metadata": {
        "id": "07Vw3LrgAjAW"
      },
      "execution_count": 91,
      "outputs": []
    },
    {
      "cell_type": "code",
      "source": [
        "total_data.head()"
      ],
      "metadata": {
        "colab": {
          "base_uri": "https://localhost:8080/",
          "height": 206
        },
        "id": "-xD3jOb1BVGY",
        "outputId": "b8019571-fd13-4949-96e3-1a834b96685b"
      },
      "execution_count": 92,
      "outputs": [
        {
          "output_type": "execute_result",
          "data": {
            "text/plain": [
              "   label                               reviews\n",
              "0      0                             노래가 너무 적음\n",
              "1      0       돌겠네 진짜. 황숙아, 어크 공장 그만 돌려라. 죽는다.\n",
              "2      1      막노동 체험판 막노동 하는사람인데 장비를 내가 사야돼 뭐지\n",
              "3      1  차악!차악!!차악!!! 정말 이래서 왕국을 되찾을 수 있는거야??\n",
              "4      1   시간 때우기에 좋음.. 도전과제는 50시간이면 다 깰 수 있어요"
            ],
            "text/html": [
              "\n",
              "\n",
              "  <div id=\"df-b8425753-7d11-44ea-93c4-6acd422afcd1\">\n",
              "    <div class=\"colab-df-container\">\n",
              "      <div>\n",
              "<style scoped>\n",
              "    .dataframe tbody tr th:only-of-type {\n",
              "        vertical-align: middle;\n",
              "    }\n",
              "\n",
              "    .dataframe tbody tr th {\n",
              "        vertical-align: top;\n",
              "    }\n",
              "\n",
              "    .dataframe thead th {\n",
              "        text-align: right;\n",
              "    }\n",
              "</style>\n",
              "<table border=\"1\" class=\"dataframe\">\n",
              "  <thead>\n",
              "    <tr style=\"text-align: right;\">\n",
              "      <th></th>\n",
              "      <th>label</th>\n",
              "      <th>reviews</th>\n",
              "    </tr>\n",
              "  </thead>\n",
              "  <tbody>\n",
              "    <tr>\n",
              "      <th>0</th>\n",
              "      <td>0</td>\n",
              "      <td>노래가 너무 적음</td>\n",
              "    </tr>\n",
              "    <tr>\n",
              "      <th>1</th>\n",
              "      <td>0</td>\n",
              "      <td>돌겠네 진짜. 황숙아, 어크 공장 그만 돌려라. 죽는다.</td>\n",
              "    </tr>\n",
              "    <tr>\n",
              "      <th>2</th>\n",
              "      <td>1</td>\n",
              "      <td>막노동 체험판 막노동 하는사람인데 장비를 내가 사야돼 뭐지</td>\n",
              "    </tr>\n",
              "    <tr>\n",
              "      <th>3</th>\n",
              "      <td>1</td>\n",
              "      <td>차악!차악!!차악!!! 정말 이래서 왕국을 되찾을 수 있는거야??</td>\n",
              "    </tr>\n",
              "    <tr>\n",
              "      <th>4</th>\n",
              "      <td>1</td>\n",
              "      <td>시간 때우기에 좋음.. 도전과제는 50시간이면 다 깰 수 있어요</td>\n",
              "    </tr>\n",
              "  </tbody>\n",
              "</table>\n",
              "</div>\n",
              "      <button class=\"colab-df-convert\" onclick=\"convertToInteractive('df-b8425753-7d11-44ea-93c4-6acd422afcd1')\"\n",
              "              title=\"Convert this dataframe to an interactive table.\"\n",
              "              style=\"display:none;\">\n",
              "\n",
              "  <svg xmlns=\"http://www.w3.org/2000/svg\" height=\"24px\"viewBox=\"0 0 24 24\"\n",
              "       width=\"24px\">\n",
              "    <path d=\"M0 0h24v24H0V0z\" fill=\"none\"/>\n",
              "    <path d=\"M18.56 5.44l.94 2.06.94-2.06 2.06-.94-2.06-.94-.94-2.06-.94 2.06-2.06.94zm-11 1L8.5 8.5l.94-2.06 2.06-.94-2.06-.94L8.5 2.5l-.94 2.06-2.06.94zm10 10l.94 2.06.94-2.06 2.06-.94-2.06-.94-.94-2.06-.94 2.06-2.06.94z\"/><path d=\"M17.41 7.96l-1.37-1.37c-.4-.4-.92-.59-1.43-.59-.52 0-1.04.2-1.43.59L10.3 9.45l-7.72 7.72c-.78.78-.78 2.05 0 2.83L4 21.41c.39.39.9.59 1.41.59.51 0 1.02-.2 1.41-.59l7.78-7.78 2.81-2.81c.8-.78.8-2.07 0-2.86zM5.41 20L4 18.59l7.72-7.72 1.47 1.35L5.41 20z\"/>\n",
              "  </svg>\n",
              "      </button>\n",
              "\n",
              "\n",
              "\n",
              "    <div id=\"df-531a8d03-97a0-4e94-b534-476f5fa3572e\">\n",
              "      <button class=\"colab-df-quickchart\" onclick=\"quickchart('df-531a8d03-97a0-4e94-b534-476f5fa3572e')\"\n",
              "              title=\"Suggest charts.\"\n",
              "              style=\"display:none;\">\n",
              "\n",
              "<svg xmlns=\"http://www.w3.org/2000/svg\" height=\"24px\"viewBox=\"0 0 24 24\"\n",
              "     width=\"24px\">\n",
              "    <g>\n",
              "        <path d=\"M19 3H5c-1.1 0-2 .9-2 2v14c0 1.1.9 2 2 2h14c1.1 0 2-.9 2-2V5c0-1.1-.9-2-2-2zM9 17H7v-7h2v7zm4 0h-2V7h2v10zm4 0h-2v-4h2v4z\"/>\n",
              "    </g>\n",
              "</svg>\n",
              "      </button>\n",
              "    </div>\n",
              "\n",
              "<style>\n",
              "  .colab-df-quickchart {\n",
              "    background-color: #E8F0FE;\n",
              "    border: none;\n",
              "    border-radius: 50%;\n",
              "    cursor: pointer;\n",
              "    display: none;\n",
              "    fill: #1967D2;\n",
              "    height: 32px;\n",
              "    padding: 0 0 0 0;\n",
              "    width: 32px;\n",
              "  }\n",
              "\n",
              "  .colab-df-quickchart:hover {\n",
              "    background-color: #E2EBFA;\n",
              "    box-shadow: 0px 1px 2px rgba(60, 64, 67, 0.3), 0px 1px 3px 1px rgba(60, 64, 67, 0.15);\n",
              "    fill: #174EA6;\n",
              "  }\n",
              "\n",
              "  [theme=dark] .colab-df-quickchart {\n",
              "    background-color: #3B4455;\n",
              "    fill: #D2E3FC;\n",
              "  }\n",
              "\n",
              "  [theme=dark] .colab-df-quickchart:hover {\n",
              "    background-color: #434B5C;\n",
              "    box-shadow: 0px 1px 3px 1px rgba(0, 0, 0, 0.15);\n",
              "    filter: drop-shadow(0px 1px 2px rgba(0, 0, 0, 0.3));\n",
              "    fill: #FFFFFF;\n",
              "  }\n",
              "</style>\n",
              "\n",
              "    <script>\n",
              "      async function quickchart(key) {\n",
              "        const containerElement = document.querySelector('#' + key);\n",
              "        const charts = await google.colab.kernel.invokeFunction(\n",
              "            'suggestCharts', [key], {});\n",
              "      }\n",
              "    </script>\n",
              "\n",
              "      <script>\n",
              "\n",
              "function displayQuickchartButton(domScope) {\n",
              "  let quickchartButtonEl =\n",
              "    domScope.querySelector('#df-531a8d03-97a0-4e94-b534-476f5fa3572e button.colab-df-quickchart');\n",
              "  quickchartButtonEl.style.display =\n",
              "    google.colab.kernel.accessAllowed ? 'block' : 'none';\n",
              "}\n",
              "\n",
              "        displayQuickchartButton(document);\n",
              "      </script>\n",
              "      <style>\n",
              "    .colab-df-container {\n",
              "      display:flex;\n",
              "      flex-wrap:wrap;\n",
              "      gap: 12px;\n",
              "    }\n",
              "\n",
              "    .colab-df-convert {\n",
              "      background-color: #E8F0FE;\n",
              "      border: none;\n",
              "      border-radius: 50%;\n",
              "      cursor: pointer;\n",
              "      display: none;\n",
              "      fill: #1967D2;\n",
              "      height: 32px;\n",
              "      padding: 0 0 0 0;\n",
              "      width: 32px;\n",
              "    }\n",
              "\n",
              "    .colab-df-convert:hover {\n",
              "      background-color: #E2EBFA;\n",
              "      box-shadow: 0px 1px 2px rgba(60, 64, 67, 0.3), 0px 1px 3px 1px rgba(60, 64, 67, 0.15);\n",
              "      fill: #174EA6;\n",
              "    }\n",
              "\n",
              "    [theme=dark] .colab-df-convert {\n",
              "      background-color: #3B4455;\n",
              "      fill: #D2E3FC;\n",
              "    }\n",
              "\n",
              "    [theme=dark] .colab-df-convert:hover {\n",
              "      background-color: #434B5C;\n",
              "      box-shadow: 0px 1px 3px 1px rgba(0, 0, 0, 0.15);\n",
              "      filter: drop-shadow(0px 1px 2px rgba(0, 0, 0, 0.3));\n",
              "      fill: #FFFFFF;\n",
              "    }\n",
              "  </style>\n",
              "\n",
              "      <script>\n",
              "        const buttonEl =\n",
              "          document.querySelector('#df-b8425753-7d11-44ea-93c4-6acd422afcd1 button.colab-df-convert');\n",
              "        buttonEl.style.display =\n",
              "          google.colab.kernel.accessAllowed ? 'block' : 'none';\n",
              "\n",
              "        async function convertToInteractive(key) {\n",
              "          const element = document.querySelector('#df-b8425753-7d11-44ea-93c4-6acd422afcd1');\n",
              "          const dataTable =\n",
              "            await google.colab.kernel.invokeFunction('convertToInteractive',\n",
              "                                                     [key], {});\n",
              "          if (!dataTable) return;\n",
              "\n",
              "          const docLinkHtml = 'Like what you see? Visit the ' +\n",
              "            '<a target=\"_blank\" href=https://colab.research.google.com/notebooks/data_table.ipynb>data table notebook</a>'\n",
              "            + ' to learn more about interactive tables.';\n",
              "          element.innerHTML = '';\n",
              "          dataTable['output_type'] = 'display_data';\n",
              "          await google.colab.output.renderOutput(dataTable, element);\n",
              "          const docLink = document.createElement('div');\n",
              "          docLink.innerHTML = docLinkHtml;\n",
              "          element.appendChild(docLink);\n",
              "        }\n",
              "      </script>\n",
              "    </div>\n",
              "  </div>\n"
            ]
          },
          "metadata": {},
          "execution_count": 92
        }
      ]
    },
    {
      "cell_type": "code",
      "source": [
        "total_data.info()"
      ],
      "metadata": {
        "colab": {
          "base_uri": "https://localhost:8080/"
        },
        "id": "vJ2iZlE-Bo85",
        "outputId": "348346d1-788c-47ad-aad4-999eaa0ad72a"
      },
      "execution_count": 93,
      "outputs": [
        {
          "output_type": "stream",
          "name": "stdout",
          "text": [
            "<class 'pandas.core.frame.DataFrame'>\n",
            "RangeIndex: 100000 entries, 0 to 99999\n",
            "Data columns (total 2 columns):\n",
            " #   Column   Non-Null Count   Dtype \n",
            "---  ------   --------------   ----- \n",
            " 0   label    100000 non-null  int64 \n",
            " 1   reviews  100000 non-null  object\n",
            "dtypes: int64(1), object(1)\n",
            "memory usage: 1.5+ MB\n"
          ]
        }
      ]
    },
    {
      "cell_type": "code",
      "source": [
        "total_data.nunique()"
      ],
      "metadata": {
        "colab": {
          "base_uri": "https://localhost:8080/"
        },
        "id": "LIOht5M2BWje",
        "outputId": "6330fab3-f0bb-4d54-e382-a97b3f35fd4b"
      },
      "execution_count": 94,
      "outputs": [
        {
          "output_type": "execute_result",
          "data": {
            "text/plain": [
              "label          2\n",
              "reviews    99892\n",
              "dtype: int64"
            ]
          },
          "metadata": {},
          "execution_count": 94
        }
      ]
    },
    {
      "cell_type": "code",
      "source": [
        "total_data.drop_duplicates(subset=['reviews'], inplace=True)\n",
        "print(len(total_data))"
      ],
      "metadata": {
        "colab": {
          "base_uri": "https://localhost:8080/"
        },
        "id": "MLOAMgcoBnUe",
        "outputId": "e8df289b-d10e-4b74-de02-d25a1c58655b"
      },
      "execution_count": 95,
      "outputs": [
        {
          "output_type": "stream",
          "name": "stdout",
          "text": [
            "99892\n"
          ]
        }
      ]
    },
    {
      "cell_type": "code",
      "source": [
        "#훈련데이터와 테스트 데이터 분리\n",
        "train_data, test_data=train_test_split(total_data, test_size=0.25, random_state=42)\n",
        "print(\"훈련용 리뷰 개수 : \", len(train_data))\n",
        "print(\"테스트용 리뷰 개수 : \", len(test_data))"
      ],
      "metadata": {
        "colab": {
          "base_uri": "https://localhost:8080/"
        },
        "id": "wL_oUzTFCVmF",
        "outputId": "bc2ed580-efec-4210-9e2d-203c756681d3"
      },
      "execution_count": 96,
      "outputs": [
        {
          "output_type": "stream",
          "name": "stdout",
          "text": [
            "훈련용 리뷰 개수 :  74919\n",
            "테스트용 리뷰 개수 :  24973\n"
          ]
        }
      ]
    },
    {
      "cell_type": "code",
      "source": [
        "train_data['label'].value_counts().plot(kind = 'bar')"
      ],
      "metadata": {
        "colab": {
          "base_uri": "https://localhost:8080/",
          "height": 444
        },
        "id": "ZjWWLGZDDMfm",
        "outputId": "fff0fd32-9f08-4373-e863-978a01dfbb92"
      },
      "execution_count": 97,
      "outputs": [
        {
          "output_type": "execute_result",
          "data": {
            "text/plain": [
              "<Axes: >"
            ]
          },
          "metadata": {},
          "execution_count": 97
        },
        {
          "output_type": "display_data",
          "data": {
            "text/plain": [
              "<Figure size 640x480 with 1 Axes>"
            ],
            "image/png": "[encoded data removed]"
          },
          "metadata": {}
        }
      ]
    },
    {
      "cell_type": "code",
      "source": [
        "print(train_data.groupby('label').size().reset_index(name='counts'))"
      ],
      "metadata": {
        "colab": {
          "base_uri": "https://localhost:8080/"
        },
        "id": "3qBz_stlEw4r",
        "outputId": "8e74418d-cc48-4b30-bd53-0547cb27f825"
      },
      "execution_count": 98,
      "outputs": [
        {
          "output_type": "stream",
          "name": "stdout",
          "text": [
            "   label  counts\n",
            "0      0   37376\n",
            "1      1   37543\n"
          ]
        }
      ]
    },
    {
      "cell_type": "code",
      "source": [
        "#데이터 정제\n",
        "train_data.drop_duplicates(subset=['reviews'], inplace=True)\n",
        "train_data['reviews']=train_data['reviews'].str.replace('[^ㄱ-ㅎㅏ-ㅣ가-힣]', '')\n",
        "train_data['reviews']=train_data['reviews'].replace('', np.nan)\n",
        "train_data.isnull().sum()"
      ],
      "metadata": {
        "colab": {
          "base_uri": "https://localhost:8080/"
        },
        "id": "MyKBIipZB1Qt",
        "outputId": "53d3218f-d208-4986-f8ca-a139c24d2617"
      },
      "execution_count": 99,
      "outputs": [
        {
          "output_type": "stream",
          "name": "stderr",
          "text": [
            "<ipython-input-99-159aa2b6927a>:3: FutureWarning: The default value of regex will change from True to False in a future version.\n",
            "  train_data['reviews']=train_data['reviews'].str.replace('[^ㄱ-ㅎㅏ-ㅣ가-힣]', '')\n"
          ]
        },
        {
          "output_type": "execute_result",
          "data": {
            "text/plain": [
              "label      0\n",
              "reviews    0\n",
              "dtype: int64"
            ]
          },
          "metadata": {},
          "execution_count": 99
        }
      ]
    },
    {
      "cell_type": "code",
      "source": [
        "test_data.drop_duplicates(subset=['reviews'], inplace=True)\n",
        "test_data['reviews']=test_data['reviews'].str.replace('[^ㄱ-ㅎㅏ-ㅣ가-힣]', '')\n",
        "test_data['reviews']=test_data['reviews'].replace('',np.nan)\n",
        "test_data.isnull().sum()"
      ],
      "metadata": {
        "colab": {
          "base_uri": "https://localhost:8080/"
        },
        "id": "p62sh1l9FPX9",
        "outputId": "cb87d986-d524-46d9-9be7-873e98eb253b"
      },
      "execution_count": 100,
      "outputs": [
        {
          "output_type": "stream",
          "name": "stderr",
          "text": [
            "<ipython-input-100-f71194b913c4>:2: FutureWarning: The default value of regex will change from True to False in a future version.\n",
            "  test_data['reviews']=test_data['reviews'].str.replace('[^ㄱ-ㅎㅏ-ㅣ가-힣]', '')\n"
          ]
        },
        {
          "output_type": "execute_result",
          "data": {
            "text/plain": [
              "label      0\n",
              "reviews    0\n",
              "dtype: int64"
            ]
          },
          "metadata": {},
          "execution_count": 100
        }
      ]
    },
    {
      "cell_type": "code",
      "source": [
        "okt=Okt()\n",
        "stopwords = ['도', '는', '다', '의', '가', '이', '은', '한', '에', '하', '고', '을', '를', '인', '듯', '과', '와', '네', '들', '듯', '지', '임', '게', '만', '게임', '겜', '되', '음', '면']"
      ],
      "metadata": {
        "id": "bgacMVfICqtd"
      },
      "execution_count": 101,
      "outputs": []
    },
    {
      "cell_type": "code",
      "source": [
        "from tqdm import tqdm"
      ],
      "metadata": {
        "id": "PaZiBp_FIsWI"
      },
      "execution_count": 102,
      "outputs": []
    },
    {
      "cell_type": "code",
      "source": [
        "X_train=[]\n",
        "for sentence in tqdm(train_data['reviews']):\n",
        "  tokenized_sentence=okt.morphs(sentence)\n",
        "  stopwords_removed_sentence=[word for word in tokenized_sentence if not word in stopwords]\n",
        "  X_train.append(stopwords_removed_sentence)\n",
        "y_train=train_data['label']"
      ],
      "metadata": {
        "colab": {
          "base_uri": "https://localhost:8080/"
        },
        "id": "o40_A5tCEGTm",
        "outputId": "15ab81e9-ddb2-4290-a610-114c1161efa6"
      },
      "execution_count": null,
      "outputs": [
        {
          "output_type": "stream",
          "name": "stderr",
          "text": [
            "  0%|          | 123/74919 [00:16<3:31:20,  5.90it/s]"
          ]
        }
      ]
    },
    {
      "cell_type": "code",
      "source": [
        "X_test=[]\n",
        "for sentence in tqdm(test_data['reviews']):\n",
        "  tokenized_sentence=okt.morphs(sentence)\n",
        "  stopwords_removed_sentence=[word for word in tokenized_sentence if not word in stopwords]\n",
        "  X_test.append(stopwords_removed_sentence)\n",
        "y_test=test_data['label']"
      ],
      "metadata": {
        "id": "ryCV7J4GGiZV"
      },
      "execution_count": null,
      "outputs": []
    },
    {
      "cell_type": "code",
      "source": [
        "#정수 인코딩\n",
        "tokenizer=Tokenizer()\n",
        "tokenizer.fit_on_texts(X_train)"
      ],
      "metadata": {
        "id": "8xlaAMzrG25l"
      },
      "execution_count": null,
      "outputs": []
    },
    {
      "cell_type": "code",
      "source": [
        "threshold=2\n",
        "total_cnt=len(tokenizer.word_index)\n",
        "rare_cnt=0\n",
        "total_freq=0\n",
        "rare_freq=0\n",
        "\n",
        "for key, value in tokenizer.word_counts.items():\n",
        "  total_freq+=value\n",
        "  if value<threshold:\n",
        "    rare_cnt+=1\n",
        "    rare_freq+=value\n",
        "\n",
        "print(\"유니크한 단어 개수의 비율 : \", (rare_cnt/total_cnt)*100)\n",
        "print(\"유니크한 단어 출현빈도 비율 : \", (rare_freq/total_freq)*100)"
      ],
      "metadata": {
        "id": "d14oh366HQOl"
      },
      "execution_count": null,
      "outputs": []
    },
    {
      "cell_type": "code",
      "source": [
        "vocab_size=total_cnt-rare_cnt+2\n",
        "print(\"단어 집합의 크기 : \", vocab_size)"
      ],
      "metadata": {
        "id": "ulrVll7jIJaf"
      },
      "execution_count": null,
      "outputs": []
    },
    {
      "cell_type": "code",
      "source": [
        "tokenizer=Tokenizer(vocab_size, oov_token='oov')\n",
        "tokenizer.fit_on_texts(X_train)\n",
        "X_train=tokenizer.texts_to_sequences(X_train)\n",
        "X_test=tokenizer.texts_to_sequences(X_test)"
      ],
      "metadata": {
        "id": "tCss1WnnK4Np"
      },
      "execution_count": null,
      "outputs": []
    },
    {
      "cell_type": "code",
      "source": [
        "print(\"가장 긴 토큰 : \", max(len(word)for word in X_train))\n",
        "print(\"토큰의 평균 길이 : \", sum(map(len, X_train))/len(X_train))\n",
        "plt.hist([len(review) for review in X_train], bins=50)\n",
        "plt.xlabel('length of samples')\n",
        "plt.ylabel('number of samples')\n",
        "plt.show()"
      ],
      "metadata": {
        "id": "bW-zU0HsLRig"
      },
      "execution_count": null,
      "outputs": []
    },
    {
      "cell_type": "code",
      "source": [
        "def below_threshold_len(max_len, nested_list):\n",
        "  count=0\n",
        "\n",
        "  for sentence in nested_list:\n",
        "    if len(sentence)<max_len:\n",
        "      count+=1\n",
        "\n",
        "  print(\"%s의 threshold보다 낮은 비율은 %s입니다.\" %(max_len, count/len(nested_list)*100))"
      ],
      "metadata": {
        "id": "IzVCLHVSL1gx"
      },
      "execution_count": null,
      "outputs": []
    },
    {
      "cell_type": "code",
      "source": [
        "max_len=60\n",
        "below_threshold_len(max_len, X_train)"
      ],
      "metadata": {
        "id": "69opJ4Y8MXD_"
      },
      "execution_count": null,
      "outputs": []
    },
    {
      "cell_type": "code",
      "source": [
        "#패딩\n",
        "X_train=pad_sequences(X_train, maxlen=max_len)\n",
        "X_test=pad_sequences(X_test, maxlen=max_len)"
      ],
      "metadata": {
        "id": "MKjm4UrEMehl"
      },
      "execution_count": null,
      "outputs": []
    },
    {
      "cell_type": "code",
      "source": [
        "import re\n",
        "from tensorflow.keras.models import Sequential, load_model\n",
        "from tensorflow.keras.layers import LSTM, Dense, Embedding, Bidirectional\n",
        "from tensorflow.keras.callbacks import EarlyStopping, ModelCheckpoint"
      ],
      "metadata": {
        "id": "5iMcXFv5MnL1"
      },
      "execution_count": null,
      "outputs": []
    },
    {
      "cell_type": "code",
      "source": [
        "embedding_dim=100\n",
        "hidden_units=128\n",
        "\n",
        "model=Sequential()\n",
        "model.add(Embedding(vocab_size, embedding_dim))\n",
        "model.add(Bidirectional(LSTM(hidden_units)))\n",
        "model.add(Dense(1, activation='sigmoid'))\n",
        "\n",
        "es=EarlyStopping(monitor='val_loss', mode='min', verbose=1, patience=4)\n",
        "mc=ModelCheckpoint('best_model.h5', monitor='val_acc', mode='max', verbose=1, save_best_only=True)\n",
        "\n",
        "model.compile(optimizer='rmsprop', loss='binary_crossentropy', metrics=['acc'])\n",
        "history=model.fit(X_train,y_train, callbacks=[es, mc], batch_size=256, epochs=15, validation_split=0.2)"
      ],
      "metadata": {
        "id": "QWE1lgQHNDsH"
      },
      "execution_count": null,
      "outputs": []
    },
    {
      "cell_type": "code",
      "source": [
        "loaded_model=load_model('best_model.h5')\n",
        "print(\"\\n 모델의 테스트 정확도 : %.4f\"%(loaded_model.evaluate(X_test, y_test)[1]))"
      ],
      "metadata": {
        "id": "c0PD6FlzOFRG"
      },
      "execution_count": null,
      "outputs": []
    },
    {
      "cell_type": "code",
      "source": [
        "def sentiment_predict(new_sentence):\n",
        "  new_sentence=re.sub(\"[^ㄱ-ㅎㅏ-ㅣ가-힣]\", \"\", new_sentence)\n",
        "  new_sentence=okt.morphs(new_sentence)\n",
        "  new_sentence=[word for word in new_sentence if not word in stopwords]\n",
        "  encoded=tokenizer.texts_to_sequences([new_sentence])\n",
        "  paded=pad_sequences(encoded, maxlen=max_len)\n",
        "  score=float(loaded_model.predict(paded))\n",
        "\n",
        "  if score>0.5:\n",
        "    print(\"{:.2f}%의 확률로 긍정리뷰입니다.\".format(score*100))\n",
        "  else:\n",
        "    print(\"{:.2f}%의 확률로 부정리뷰입니다.\".format((1-score)*100))"
      ],
      "metadata": {
        "id": "aysJxtJbOReV"
      },
      "execution_count": null,
      "outputs": []
    },
    {
      "cell_type": "code",
      "source": [],
      "metadata": {
        "id": "RwGOJgxGPBDZ"
      },
      "execution_count": null,
      "outputs": []
    }
  ]
}