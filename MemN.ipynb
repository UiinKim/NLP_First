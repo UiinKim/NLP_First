{
  "nbformat": 4,
  "nbformat_minor": 0,
  "metadata": {
    "colab": {
      "provenance": [],
      "authorship_tag": "ABX9TyOKaoITqT2s3QUK8jrnDKS4",
      "include_colab_link": true
    },
    "kernelspec": {
      "name": "python3",
      "display_name": "Python 3"
    },
    "language_info": {
      "name": "python"
    }
  },
  "cells": [
    {
      "cell_type": "markdown",
      "metadata": {
        "id": "view-in-github",
        "colab_type": "text"
      },
      "source": [
        "<a href=\"https://colab.research.google.com/github/UiinKim/UiinKim/blob/main/MemN.ipynb\" target=\"_parent\"><img src=\"https://colab.research.google.com/assets/colab-badge.svg\" alt=\"Open In Colab\"/></a>"
      ]
    },
    {
      "cell_type": "code",
      "execution_count": 33,
      "metadata": {
        "id": "mcGXP5pkSKp4"
      },
      "outputs": [],
      "source": [
        "from tensorflow.keras.utils import get_file\n",
        "from tensorflow.keras.preprocessing.sequence import pad_sequences\n",
        "from tensorflow.keras.utils import to_categorical\n",
        "import numpy as np\n",
        "import tarfile\n",
        "from nltk import FreqDist\n",
        "from functools import reduce\n",
        "import os\n",
        "import re\n",
        "import matplotlib.pyplot as plt"
      ]
    },
    {
      "cell_type": "code",
      "source": [
        "path=get_file('babi-tasks-v1-2.tar.gz', origin='https://s3.amazonaws.com/text-datasets/''babi_tasks_1-20_v1-2.tar.gz')"
      ],
      "metadata": {
        "id": "56FpBmIquLLJ"
      },
      "execution_count": 34,
      "outputs": []
    },
    {
      "cell_type": "code",
      "source": [
        "with tarfile.open(path) as tar:\n",
        "  tar.extractall()\n",
        "  tar.close()\n",
        "\n",
        "DATA_DIR='tasks_1-20_v1-2/en-10k'\n",
        "TRAIN_FILE=os.path.join(DATA_DIR, \"qa1_single-supporting-fact_train.txt\")\n",
        "TEST_FILE=os.path.join(DATA_DIR, \"qa1_single-supporting-fact_test.txt\")"
      ],
      "metadata": {
        "id": "kPyO5WsouYuv"
      },
      "execution_count": 35,
      "outputs": []
    },
    {
      "cell_type": "code",
      "source": [
        "i=0\n",
        "lines=open(TRAIN_FILE, \"rb\")\n",
        "for line in lines:\n",
        "  line=line.decode(\"utf-8\").strip()\n",
        "  i+=1\n",
        "  print(line)\n",
        "  if i==20:\n",
        "    break"
      ],
      "metadata": {
        "colab": {
          "base_uri": "https://localhost:8080/"
        },
        "id": "3HMwwr6GutVn",
        "outputId": "fd3c087f-d98c-46de-db65-004230b70897"
      },
      "execution_count": 36,
      "outputs": [
        {
          "output_type": "stream",
          "name": "stdout",
          "text": [
            "1 Mary moved to the bathroom.\n",
            "2 John went to the hallway.\n",
            "3 Where is Mary? \tbathroom\t1\n",
            "4 Daniel went back to the hallway.\n",
            "5 Sandra moved to the garden.\n",
            "6 Where is Daniel? \thallway\t4\n",
            "7 John moved to the office.\n",
            "8 Sandra journeyed to the bathroom.\n",
            "9 Where is Daniel? \thallway\t4\n",
            "10 Mary moved to the hallway.\n",
            "11 Daniel travelled to the office.\n",
            "12 Where is Daniel? \toffice\t11\n",
            "13 John went back to the garden.\n",
            "14 John moved to the bedroom.\n",
            "15 Where is Sandra? \tbathroom\t8\n",
            "1 Sandra travelled to the office.\n",
            "2 Sandra went to the bathroom.\n",
            "3 Where is Sandra? \tbathroom\t2\n",
            "4 Mary went to the bedroom.\n",
            "5 Daniel moved to the hallway.\n"
          ]
        }
      ]
    },
    {
      "cell_type": "code",
      "source": [
        "def read_data(dir):\n",
        "  stories, questions, answers=[],[],[] #각각 스토리, 질문, 대답\n",
        "  story_temp=[] #현재 시점의 스토리 임시 저장\n",
        "  lines=open(dir, 'rb')\n",
        "\n",
        "  for line in lines:\n",
        "    line=line.decode('utf-8') #b'제거\n",
        "    line=line.strip()# \\n제거\n",
        "    idx, text=line.split(\" \", 1) #앞에서부터 공백이 있는 곳으로 한 번만 구분\n",
        "    #idx=id, text=내용\n",
        "\n",
        "    if int(idx)==1:\n",
        "      story_temp=[]\n",
        "\n",
        "    if \"\\t\" in text:#\\t을 통해 질문과 답변이 존재하는 경우\n",
        "      question, answer, _=text.split('\\t')\n",
        "      stories.append([x for x in story_temp if x]) #지금까지의 누적 스토리를 스토리에 저장\n",
        "      questions.append(question)\n",
        "      answers.append(answer)\n",
        "\n",
        "    else: #현재 읽는 줄이 스토리인 경우\n",
        "      story_temp.append(text)\n",
        "\n",
        "  lines.close()\n",
        "  return stories, questions, answers\n"
      ],
      "metadata": {
        "id": "m1yoCz-Gu63x"
      },
      "execution_count": 37,
      "outputs": []
    },
    {
      "cell_type": "code",
      "source": [
        "train_data=read_data(TRAIN_FILE)\n",
        "test_data=read_data(TEST_FILE)"
      ],
      "metadata": {
        "id": "kb_jZoyXzOtZ"
      },
      "execution_count": 38,
      "outputs": []
    },
    {
      "cell_type": "code",
      "source": [
        "train_stories, train_questions, train_answers=read_data(TRAIN_FILE)\n",
        "test_stories, test_questions, test_answers=read_data(TEST_FILE)"
      ],
      "metadata": {
        "id": "IKvhyBVv2pwv"
      },
      "execution_count": 39,
      "outputs": []
    },
    {
      "cell_type": "code",
      "source": [
        "print('훈련용 스토리의 개수 :', len(train_stories))\n",
        "print('훈련용 질문의 개수 :',len(train_questions))\n",
        "print('훈련용 답변의 개수 :',len(train_answers))\n",
        "print('테스트용 스토리의 개수 :',len(test_stories))\n",
        "print('테스트용 질문의 개수 :',len(test_questions))\n",
        "print('테스트용 답변의 개수 :',len(test_answers))\n"
      ],
      "metadata": {
        "colab": {
          "base_uri": "https://localhost:8080/"
        },
        "id": "u6aNZ_UL278X",
        "outputId": "d4e41701-d7cf-4bba-bf84-a0c8382f5a83"
      },
      "execution_count": 40,
      "outputs": [
        {
          "output_type": "stream",
          "name": "stdout",
          "text": [
            "훈련용 스토리의 개수 : 10000\n",
            "훈련용 질문의 개수 : 10000\n",
            "훈련용 답변의 개수 : 10000\n",
            "테스트용 스토리의 개수 : 1000\n",
            "테스트용 질문의 개수 : 1000\n",
            "테스트용 답변의 개수 : 1000\n"
          ]
        }
      ]
    },
    {
      "cell_type": "code",
      "source": [
        "train_stories[3576]"
      ],
      "metadata": {
        "colab": {
          "base_uri": "https://localhost:8080/"
        },
        "id": "nymF2aT-29ev",
        "outputId": "f2f49991-5a50-4648-8bc1-7eb7d8e35380"
      },
      "execution_count": 41,
      "outputs": [
        {
          "output_type": "execute_result",
          "data": {
            "text/plain": [
              "['John went back to the garden.',\n",
              " 'Mary went to the kitchen.',\n",
              " 'Sandra went back to the bedroom.',\n",
              " 'John travelled to the bedroom.']"
            ]
          },
          "metadata": {},
          "execution_count": 41
        }
      ]
    },
    {
      "cell_type": "code",
      "source": [
        "def tokenize(sent):\n",
        "  return [x.strip() for x in re.split('(\\W+)', sent) if x and x.strip()]"
      ],
      "metadata": {
        "id": "jiCNVkVz3BBv"
      },
      "execution_count": 42,
      "outputs": []
    },
    {
      "cell_type": "code",
      "source": [
        "def preprocess_data(train_data, test_data):\n",
        "  counter=FreqDist() #토큰의 사용 빈도수를 담아놓음\n",
        "\n",
        "  #두 문장의 story를 하나의 문장으로 통합하는 함수\n",
        "  flatten=lambda data:reduce(lambda x, y:x+y, data) #reduce는 누적집계 함수\n",
        "\n",
        "  #각 샘플의 길이를 저장하는 리스트\n",
        "  story_len=[]\n",
        "  question_len=[]\n",
        "\n",
        "  for stories, questions, answers in [train_data, test_data]:\n",
        "    for story in stories:\n",
        "      stories=tokenize(flatten(story)) #스토리의 문장들을 펼친 후 토큰화\n",
        "      story_len.append(len(stories)) #각 스토리의 길이 저장\n",
        "      for word in stories:# 단어 집합에 단어 추가\n",
        "        counter[word]+=1\n",
        "    for question in questions:\n",
        "      question=tokenize(question)\n",
        "      question_len.append(len(question))\n",
        "      for word in question:\n",
        "        counter[word]+=1\n",
        "    for answer in answers:\n",
        "      answer=tokenize(answer)\n",
        "      for word in answers:\n",
        "        counter[word]+=1\n",
        "\n",
        "  #단어집합 생성\n",
        "  word2idx={word:(idx+1) for idx, (word, _)in enumerate(counter.most_common())}\n",
        "  idx2word={idx:word for word, idx in word2idx.items()}\n",
        "\n",
        "  #가장 긴 샘플의 길이\n",
        "  story_max_len=np.max(story_len)\n",
        "  question_max_len=np.max(question_len)\n",
        "\n",
        "  return word2idx, idx2word, story_max_len, question_max_len\n"
      ],
      "metadata": {
        "id": "MSyOz0zs92Gx"
      },
      "execution_count": 43,
      "outputs": []
    },
    {
      "cell_type": "code",
      "source": [
        "word2idx, idx2word, story_max_len, question_max_len=preprocess_data(train_data, test_data)"
      ],
      "metadata": {
        "id": "obtPDo2eCI-B"
      },
      "execution_count": 44,
      "outputs": []
    },
    {
      "cell_type": "code",
      "source": [
        "print(word2idx)"
      ],
      "metadata": {
        "colab": {
          "base_uri": "https://localhost:8080/"
        },
        "id": "OFiZAzUhCOro",
        "outputId": "6c21f81e-bcf5-4e9f-e9bf-220ed6bbb2b8"
      },
      "execution_count": 45,
      "outputs": [
        {
          "output_type": "stream",
          "name": "stdout",
          "text": [
            "{'bathroom': 1, 'garden': 2, 'office': 3, 'hallway': 4, 'bedroom': 5, 'kitchen': 6, 'to': 7, 'the': 8, '.': 9, 'went': 10, 'Sandra': 11, 'John': 12, 'Daniel': 13, 'Mary': 14, 'travelled': 15, 'journeyed': 16, 'back': 17, 'moved': 18, 'Where': 19, 'is': 20, '?': 21}\n"
          ]
        }
      ]
    },
    {
      "cell_type": "code",
      "source": [
        "vocab_size=len(word2idx)+1"
      ],
      "metadata": {
        "id": "nYNFcsJ3CPpX"
      },
      "execution_count": 46,
      "outputs": []
    },
    {
      "cell_type": "code",
      "source": [
        "print('스토리의 최대 길이 :',story_max_len)\n",
        "print('질문의 최대 길이 :',question_max_len)"
      ],
      "metadata": {
        "colab": {
          "base_uri": "https://localhost:8080/"
        },
        "id": "FgQqOonmCTCX",
        "outputId": "e00ac5b6-3564-484e-93ad-93b0e5b0d41f"
      },
      "execution_count": 47,
      "outputs": [
        {
          "output_type": "stream",
          "name": "stdout",
          "text": [
            "스토리의 최대 길이 : 68\n",
            "질문의 최대 길이 : 4\n"
          ]
        }
      ]
    },
    {
      "cell_type": "code",
      "source": [
        "def vectorize(data, word2idx, story_max_len, question_max_len):\n",
        "  Xs, Xq, Y=[],[],[]\n",
        "  flatten=lambda data: reduce(lambda x, y:x+y, data)\n",
        "\n",
        "  stories, questions, answers=data\n",
        "  for story, question, answer in zip(stories, questions, answers):\n",
        "      xs=[word2idx[w] for w in tokenize(flatten(story))]\n",
        "      xq=[word2idx[w]for w in tokenize(question)]\n",
        "      Xs.append(xs)\n",
        "      Xq.append(xq)\n",
        "      Y.append(word2idx[answer])\n",
        "\n",
        "      #스토리와 질문은 각각의 최대 길이로 패딩\n",
        "      #정답은 원-핫 인코딩\n",
        "  return pad_sequences(Xs, maxlen=story_max_len), pad_sequences(Xq, maxlen=question_max_len), to_categorical(Y, num_classes=len(word2idx)+1)"
      ],
      "metadata": {
        "id": "lAs-gS-7CWV_"
      },
      "execution_count": 48,
      "outputs": []
    },
    {
      "cell_type": "code",
      "source": [
        "Xstrain, Xqtrain, Ytrain=vectorize(train_data, word2idx, story_max_len, question_max_len)\n",
        "Xstest, Xqtest, Ytest=vectorize(test_data, word2idx, story_max_len, question_max_len)"
      ],
      "metadata": {
        "id": "O_AGhOGeDbAY"
      },
      "execution_count": 49,
      "outputs": []
    },
    {
      "cell_type": "code",
      "source": [
        "print(Xstrain.shape, Xqtrain.shape, Ytrain.shape, Xstest.shape, Xqtest.shape, Ytest.shape)\n"
      ],
      "metadata": {
        "colab": {
          "base_uri": "https://localhost:8080/"
        },
        "id": "o-1rvYMbDslu",
        "outputId": "122045eb-1c38-48e2-c1c7-02850d092559"
      },
      "execution_count": 50,
      "outputs": [
        {
          "output_type": "stream",
          "name": "stdout",
          "text": [
            "(10000, 68) (10000, 4) (10000, 22) (1000, 68) (1000, 4) (1000, 22)\n"
          ]
        }
      ]
    },
    {
      "cell_type": "code",
      "source": [
        "from tensorflow.keras.models import Sequential, Model\n",
        "from tensorflow.keras.layers import Embedding\n",
        "from tensorflow.keras.layers import Permute, dot, add, concatenate\n",
        "from tensorflow.keras.layers import LSTM, Dense, Dropout, Input, Activation"
      ],
      "metadata": {
        "id": "PhmJbei6DzZH"
      },
      "execution_count": 51,
      "outputs": []
    },
    {
      "cell_type": "code",
      "source": [
        "#에포크 횟수\n",
        "train_epochs=120\n",
        "#배치 크기\n",
        "batch_size=32\n",
        "#임베딩 크기\n",
        "embed_size=50\n",
        "#LSTM의 크기\n",
        "lstm_size=64\n",
        "#과적합 방지 기법인 드롭아웃 적용 비율\n",
        "dropout_rate=0.30"
      ],
      "metadata": {
        "id": "xkXu0XiZECCB"
      },
      "execution_count": 52,
      "outputs": []
    },
    {
      "cell_type": "code",
      "source": [
        "#플레이스 홀더. 입력을 담는 변수\n",
        "input_sequence=Input(shape=(story_max_len, ))\n",
        "question=Input(shape=(question_max_len,))\n",
        "\n",
        "print('Stories : ', input_sequence)\n",
        "print('Questions : ', question)"
      ],
      "metadata": {
        "colab": {
          "base_uri": "https://localhost:8080/"
        },
        "id": "Ov7Lsh5fEPQn",
        "outputId": "0d39029f-0e3c-4b2a-a3ff-484f413b272d"
      },
      "execution_count": 53,
      "outputs": [
        {
          "output_type": "stream",
          "name": "stdout",
          "text": [
            "Stories :  KerasTensor(type_spec=TensorSpec(shape=(None, 68), dtype=tf.float32, name='input_9'), name='input_9', description=\"created by layer 'input_9'\")\n",
            "Questions :  KerasTensor(type_spec=TensorSpec(shape=(None, 4), dtype=tf.float32, name='input_10'), name='input_10', description=\"created by layer 'input_10'\")\n"
          ]
        }
      ]
    },
    {
      "cell_type": "code",
      "source": [
        "#스토리를 위한 첫번째 임베딩\n",
        "input_encoder_m=Sequential()\n",
        "input_encoder_m.add(Embedding(input_dim=vocab_size, output_dim=embed_size))\n",
        "input_encoder_m.add(Dropout(dropout_rate))\n",
        "#결과 : (samples, story_max_len, embed_size)/ 샘플의 수, 문장 최대 길이, 임베딩 벡터의 차원\n",
        "\n",
        "#스토리를 위한 두번째 임베딩\n",
        "#임베딩 베겉의 차원을 question_max_len으로 한다\n",
        "input_encoder_c=Sequential()\n",
        "input_encoder_c.add(Embedding(vocab_size, question_max_len))\n",
        "input_encoder_c.add(Dropout(dropout_rate))\n",
        "#결과 : (samples, story_max_len, question_max_len)/샘플의 수, 문장 최대 길이, 질문 최대 길이"
      ],
      "metadata": {
        "id": "KvCbLxfXEgUp"
      },
      "execution_count": 54,
      "outputs": []
    },
    {
      "cell_type": "code",
      "source": [
        "#질문을 위한 임베딩\n",
        "question_encoder=Sequential()\n",
        "question_encoder.add(Embedding(vocab_size, embed_size, input_length=question_max_len))\n",
        "question_encoder.add(Dropout(dropout_rate))\n",
        "#결과 : (sampels, question_max_len, embed_size)/ 샘플의 수, 질문 최대 길이, 임베딩 벡터 차원"
      ],
      "metadata": {
        "id": "0cD-BujgGPop"
      },
      "execution_count": 55,
      "outputs": []
    },
    {
      "cell_type": "code",
      "source": [
        "#실질적인 임베딩 과정\n",
        "input_encoded_m=input_encoder_m(input_sequence)\n",
        "input_encoded_c=input_encoder_c(input_sequence)\n",
        "question_encoded=question_encoder(question)\n",
        "\n",
        "print('Input encoded m', input_encoded_m)\n",
        "print('Input encoded c', input_encoded_c)\n",
        "print('Question encoded', question_encoded)"
      ],
      "metadata": {
        "colab": {
          "base_uri": "https://localhost:8080/"
        },
        "id": "V1O75sPOHW6v",
        "outputId": "38abd739-df50-4292-a44b-50cf357516f3"
      },
      "execution_count": 56,
      "outputs": [
        {
          "output_type": "stream",
          "name": "stdout",
          "text": [
            "Input encoded m KerasTensor(type_spec=TensorSpec(shape=(None, 68, 50), dtype=tf.float32, name=None), name='sequential/dropout/Identity:0', description=\"created by layer 'sequential'\")\n",
            "Input encoded c KerasTensor(type_spec=TensorSpec(shape=(None, 68, 4), dtype=tf.float32, name=None), name='sequential_1/dropout_1/Identity:0', description=\"created by layer 'sequential_1'\")\n",
            "Question encoded KerasTensor(type_spec=TensorSpec(shape=(None, 4, 50), dtype=tf.float32, name=None), name='sequential_2/dropout_2/Identity:0', description=\"created by layer 'sequential_2'\")\n"
          ]
        }
      ]
    },
    {
      "cell_type": "code",
      "source": [
        "#스토리 단어들과 질문 단어들 간의 유사도를 구하는 과정\n",
        "#유사도는 내적을 사용한다.\n",
        "match=dot([input_encoded_m, question_encoded], axes=-1, normalize=False) #스토리의 첫번째 임베딩과 질문 임베딩의 내적을 구한다.\n",
        "match=Activation('softmax')(match)#softmax함수를 거친뒤\n",
        "print('Match shape', match)\n",
        "#결과 : (samples, story_max_len, question_max_len)\n",
        "\n",
        "response=add([match, input_encoded_c]) #내적한 값을 스토리의 두번째 임베딩과 더한다. (samples, story_max_len, question_max_len)\n",
        "response=Permute((2,1))(response) #(samples, question_max_len, story_max_len)\n",
        "print('Response shape', response)\n",
        "\n",
        "#질문 벡터와 답변 벡터를 연결\n",
        "answer=concatenate([response, question_encoded])\n",
        "print('Answer shape', answer)\n",
        "\n",
        "answer=LSTM(lstm_size)(answer)\n",
        "answer=Dropout(dropout_rate)(answer)\n",
        "answer=Dense(vocab_size)(answer)\n",
        "answer=Activation('softmax')(answer)"
      ],
      "metadata": {
        "colab": {
          "base_uri": "https://localhost:8080/"
        },
        "id": "t3pwU8awICsg",
        "outputId": "4f98c5a9-4d6d-4dbe-a94a-dd2c9d914994"
      },
      "execution_count": 57,
      "outputs": [
        {
          "output_type": "stream",
          "name": "stdout",
          "text": [
            "Match shape KerasTensor(type_spec=TensorSpec(shape=(None, 68, 4), dtype=tf.float32, name=None), name='activation/Softmax:0', description=\"created by layer 'activation'\")\n",
            "Response shape KerasTensor(type_spec=TensorSpec(shape=(None, 4, 68), dtype=tf.float32, name=None), name='permute/transpose:0', description=\"created by layer 'permute'\")\n",
            "Answer shape KerasTensor(type_spec=TensorSpec(shape=(None, 4, 118), dtype=tf.float32, name=None), name='concatenate/concat:0', description=\"created by layer 'concatenate'\")\n"
          ]
        }
      ]
    },
    {
      "cell_type": "code",
      "source": [
        "model=Model([input_sequence, question], answer) #입력은 정수 시퀀스와 질문, 출력은 답변\n",
        "model.compile(optimizer='rmsprop', loss='categorical_crossentropy', metrics=['acc'])\n",
        "print(model.summary())\n",
        "\n",
        "history=model.fit([Xstrain, Xqtrain], Ytrain, batch_size, train_epochs, validation_data=([Xstest, Xqtest], Ytest))\n",
        "\n",
        "model.save('model.h5')"
      ],
      "metadata": {
        "colab": {
          "base_uri": "https://localhost:8080/"
        },
        "id": "JWfsEKqmKPtp",
        "outputId": "9f8850a3-4f58-471a-e334-23c73e1c6403"
      },
      "execution_count": 59,
      "outputs": [
        {
          "output_type": "stream",
          "name": "stdout",
          "text": [
            "Model: \"model_1\"\n",
            "__________________________________________________________________________________________________\n",
            " Layer (type)                   Output Shape         Param #     Connected to                     \n",
            "==================================================================================================\n",
            " input_9 (InputLayer)           [(None, 68)]         0           []                               \n",
            "                                                                                                  \n",
            " input_10 (InputLayer)          [(None, 4)]          0           []                               \n",
            "                                                                                                  \n",
            " sequential (Sequential)        (None, None, 50)     1100        ['input_9[0][0]']                \n",
            "                                                                                                  \n",
            " sequential_2 (Sequential)      (None, 4, 50)        1100        ['input_10[0][0]']               \n",
            "                                                                                                  \n",
            " dot (Dot)                      (None, 68, 4)        0           ['sequential[0][0]',             \n",
            "                                                                  'sequential_2[0][0]']           \n",
            "                                                                                                  \n",
            " activation (Activation)        (None, 68, 4)        0           ['dot[0][0]']                    \n",
            "                                                                                                  \n",
            " sequential_1 (Sequential)      (None, None, 4)      88          ['input_9[0][0]']                \n",
            "                                                                                                  \n",
            " add (Add)                      (None, 68, 4)        0           ['activation[0][0]',             \n",
            "                                                                  'sequential_1[0][0]']           \n",
            "                                                                                                  \n",
            " permute (Permute)              (None, 4, 68)        0           ['add[0][0]']                    \n",
            "                                                                                                  \n",
            " concatenate (Concatenate)      (None, 4, 118)       0           ['permute[0][0]',                \n",
            "                                                                  'sequential_2[0][0]']           \n",
            "                                                                                                  \n",
            " lstm (LSTM)                    (None, 64)           46848       ['concatenate[0][0]']            \n",
            "                                                                                                  \n",
            " dropout_3 (Dropout)            (None, 64)           0           ['lstm[0][0]']                   \n",
            "                                                                                                  \n",
            " dense (Dense)                  (None, 22)           1430        ['dropout_3[0][0]']              \n",
            "                                                                                                  \n",
            " activation_1 (Activation)      (None, 22)           0           ['dense[0][0]']                  \n",
            "                                                                                                  \n",
            "==================================================================================================\n",
            "Total params: 50,566\n",
            "Trainable params: 50,566\n",
            "Non-trainable params: 0\n",
            "__________________________________________________________________________________________________\n",
            "None\n",
            "Epoch 1/120\n",
            "313/313 [==============================] - 9s 17ms/step - loss: 1.8775 - acc: 0.1729 - val_loss: 1.8012 - val_acc: 0.2320\n",
            "Epoch 2/120\n",
            "313/313 [==============================] - 4s 13ms/step - loss: 1.7357 - acc: 0.2386 - val_loss: 1.6800 - val_acc: 0.2580\n",
            "Epoch 3/120\n",
            "313/313 [==============================] - 5s 14ms/step - loss: 1.6403 - acc: 0.3250 - val_loss: 1.5575 - val_acc: 0.4070\n",
            "Epoch 4/120\n",
            "313/313 [==============================] - 4s 13ms/step - loss: 1.5397 - acc: 0.4017 - val_loss: 1.5326 - val_acc: 0.3740\n",
            "Epoch 5/120\n",
            "313/313 [==============================] - 4s 12ms/step - loss: 1.4893 - acc: 0.4274 - val_loss: 1.4607 - val_acc: 0.4310\n",
            "Epoch 6/120\n",
            "313/313 [==============================] - 4s 13ms/step - loss: 1.4380 - acc: 0.4476 - val_loss: 1.3870 - val_acc: 0.4650\n",
            "Epoch 7/120\n",
            "313/313 [==============================] - 4s 14ms/step - loss: 1.3955 - acc: 0.4628 - val_loss: 1.3699 - val_acc: 0.4420\n",
            "Epoch 8/120\n",
            "313/313 [==============================] - 4s 12ms/step - loss: 1.3672 - acc: 0.4744 - val_loss: 1.3203 - val_acc: 0.4730\n",
            "Epoch 9/120\n",
            "313/313 [==============================] - 4s 14ms/step - loss: 1.3411 - acc: 0.4876 - val_loss: 1.3183 - val_acc: 0.4700\n",
            "Epoch 10/120\n",
            "313/313 [==============================] - 5s 15ms/step - loss: 1.3190 - acc: 0.4870 - val_loss: 1.2747 - val_acc: 0.5020\n",
            "Epoch 11/120\n",
            "313/313 [==============================] - 4s 12ms/step - loss: 1.2954 - acc: 0.4999 - val_loss: 1.2668 - val_acc: 0.5020\n",
            "Epoch 12/120\n",
            "313/313 [==============================] - 5s 14ms/step - loss: 1.2711 - acc: 0.5009 - val_loss: 1.2210 - val_acc: 0.5120\n",
            "Epoch 13/120\n",
            "313/313 [==============================] - 5s 15ms/step - loss: 1.2473 - acc: 0.5049 - val_loss: 1.2034 - val_acc: 0.5150\n",
            "Epoch 14/120\n",
            "313/313 [==============================] - 4s 12ms/step - loss: 1.2187 - acc: 0.5158 - val_loss: 1.2054 - val_acc: 0.5100\n",
            "Epoch 15/120\n",
            "313/313 [==============================] - 4s 12ms/step - loss: 1.2065 - acc: 0.5177 - val_loss: 1.2038 - val_acc: 0.5060\n",
            "Epoch 16/120\n",
            "313/313 [==============================] - 5s 17ms/step - loss: 1.1922 - acc: 0.5183 - val_loss: 1.1796 - val_acc: 0.5280\n",
            "Epoch 17/120\n",
            "313/313 [==============================] - 4s 12ms/step - loss: 1.1777 - acc: 0.5263 - val_loss: 1.1684 - val_acc: 0.5140\n",
            "Epoch 18/120\n",
            "313/313 [==============================] - 5s 18ms/step - loss: 1.1739 - acc: 0.5220 - val_loss: 1.1652 - val_acc: 0.5240\n",
            "Epoch 19/120\n",
            "313/313 [==============================] - 4s 14ms/step - loss: 1.1658 - acc: 0.5212 - val_loss: 1.1758 - val_acc: 0.5130\n",
            "Epoch 20/120\n",
            "313/313 [==============================] - 4s 14ms/step - loss: 1.1563 - acc: 0.5219 - val_loss: 1.1696 - val_acc: 0.5230\n",
            "Epoch 21/120\n",
            "313/313 [==============================] - 7s 22ms/step - loss: 1.1452 - acc: 0.5236 - val_loss: 1.1577 - val_acc: 0.5160\n",
            "Epoch 22/120\n",
            "313/313 [==============================] - 5s 15ms/step - loss: 1.1369 - acc: 0.5323 - val_loss: 1.1615 - val_acc: 0.5270\n",
            "Epoch 23/120\n",
            "313/313 [==============================] - 6s 19ms/step - loss: 1.1276 - acc: 0.5317 - val_loss: 1.1531 - val_acc: 0.5300\n",
            "Epoch 24/120\n",
            "313/313 [==============================] - 8s 24ms/step - loss: 1.1275 - acc: 0.5319 - val_loss: 1.1469 - val_acc: 0.5240\n",
            "Epoch 25/120\n",
            "313/313 [==============================] - 9s 29ms/step - loss: 1.1180 - acc: 0.5377 - val_loss: 1.1535 - val_acc: 0.5250\n",
            "Epoch 26/120\n",
            "313/313 [==============================] - 5s 17ms/step - loss: 1.1189 - acc: 0.5332 - val_loss: 1.1435 - val_acc: 0.5200\n",
            "Epoch 27/120\n",
            "313/313 [==============================] - 6s 18ms/step - loss: 1.1081 - acc: 0.5356 - val_loss: 1.1387 - val_acc: 0.5160\n",
            "Epoch 28/120\n",
            "313/313 [==============================] - 9s 28ms/step - loss: 1.1010 - acc: 0.5373 - val_loss: 1.1434 - val_acc: 0.5210\n",
            "Epoch 29/120\n",
            "313/313 [==============================] - 7s 22ms/step - loss: 1.0903 - acc: 0.5438 - val_loss: 1.1510 - val_acc: 0.5310\n",
            "Epoch 30/120\n",
            "313/313 [==============================] - 4s 12ms/step - loss: 1.0924 - acc: 0.5429 - val_loss: 1.1626 - val_acc: 0.5160\n",
            "Epoch 31/120\n",
            "313/313 [==============================] - 4s 12ms/step - loss: 1.0827 - acc: 0.5420 - val_loss: 1.1504 - val_acc: 0.5250\n",
            "Epoch 32/120\n",
            "313/313 [==============================] - 5s 15ms/step - loss: 1.0747 - acc: 0.5511 - val_loss: 1.1510 - val_acc: 0.5130\n",
            "Epoch 33/120\n",
            "313/313 [==============================] - 4s 12ms/step - loss: 1.0724 - acc: 0.5514 - val_loss: 1.1495 - val_acc: 0.5170\n",
            "Epoch 34/120\n",
            "313/313 [==============================] - 4s 12ms/step - loss: 1.0648 - acc: 0.5508 - val_loss: 1.1677 - val_acc: 0.5060\n",
            "Epoch 35/120\n",
            "313/313 [==============================] - 5s 16ms/step - loss: 1.0631 - acc: 0.5533 - val_loss: 1.1547 - val_acc: 0.5100\n",
            "Epoch 36/120\n",
            "313/313 [==============================] - 4s 13ms/step - loss: 1.0472 - acc: 0.5562 - val_loss: 1.1890 - val_acc: 0.5180\n",
            "Epoch 37/120\n",
            "313/313 [==============================] - 4s 12ms/step - loss: 1.0456 - acc: 0.5574 - val_loss: 1.1518 - val_acc: 0.5210\n",
            "Epoch 38/120\n",
            "313/313 [==============================] - 5s 16ms/step - loss: 1.0298 - acc: 0.5682 - val_loss: 1.1554 - val_acc: 0.5230\n",
            "Epoch 39/120\n",
            "313/313 [==============================] - 4s 12ms/step - loss: 1.0278 - acc: 0.5691 - val_loss: 1.1394 - val_acc: 0.5280\n",
            "Epoch 40/120\n",
            "313/313 [==============================] - 4s 13ms/step - loss: 1.0056 - acc: 0.5737 - val_loss: 1.1336 - val_acc: 0.5330\n",
            "Epoch 41/120\n",
            "313/313 [==============================] - 5s 16ms/step - loss: 0.9647 - acc: 0.6055 - val_loss: 1.0951 - val_acc: 0.5650\n",
            "Epoch 42/120\n",
            "313/313 [==============================] - 4s 13ms/step - loss: 0.8896 - acc: 0.6533 - val_loss: 0.9937 - val_acc: 0.6320\n",
            "Epoch 43/120\n",
            "313/313 [==============================] - 4s 13ms/step - loss: 0.7536 - acc: 0.7269 - val_loss: 0.8342 - val_acc: 0.7010\n",
            "Epoch 44/120\n",
            "313/313 [==============================] - 5s 17ms/step - loss: 0.6423 - acc: 0.7676 - val_loss: 0.7206 - val_acc: 0.7490\n",
            "Epoch 45/120\n",
            "313/313 [==============================] - 4s 12ms/step - loss: 0.5839 - acc: 0.7859 - val_loss: 0.7231 - val_acc: 0.7260\n",
            "Epoch 46/120\n",
            "313/313 [==============================] - 4s 12ms/step - loss: 0.5393 - acc: 0.7961 - val_loss: 0.6351 - val_acc: 0.7450\n",
            "Epoch 47/120\n",
            "313/313 [==============================] - 5s 17ms/step - loss: 0.5059 - acc: 0.8081 - val_loss: 0.5928 - val_acc: 0.7600\n",
            "Epoch 48/120\n",
            "313/313 [==============================] - 4s 13ms/step - loss: 0.4639 - acc: 0.8230 - val_loss: 0.5602 - val_acc: 0.7860\n",
            "Epoch 49/120\n",
            "313/313 [==============================] - 4s 12ms/step - loss: 0.4268 - acc: 0.8416 - val_loss: 0.5153 - val_acc: 0.8010\n",
            "Epoch 50/120\n",
            "313/313 [==============================] - 5s 16ms/step - loss: 0.4016 - acc: 0.8502 - val_loss: 0.4865 - val_acc: 0.8130\n",
            "Epoch 51/120\n",
            "313/313 [==============================] - 4s 12ms/step - loss: 0.3641 - acc: 0.8667 - val_loss: 0.4526 - val_acc: 0.8350\n",
            "Epoch 52/120\n",
            "313/313 [==============================] - 4s 13ms/step - loss: 0.3422 - acc: 0.8708 - val_loss: 0.4294 - val_acc: 0.8340\n",
            "Epoch 53/120\n",
            "313/313 [==============================] - 5s 16ms/step - loss: 0.3265 - acc: 0.8802 - val_loss: 0.4451 - val_acc: 0.8330\n",
            "Epoch 54/120\n",
            "313/313 [==============================] - 4s 13ms/step - loss: 0.3083 - acc: 0.8816 - val_loss: 0.3945 - val_acc: 0.8560\n",
            "Epoch 55/120\n",
            "313/313 [==============================] - 4s 12ms/step - loss: 0.3062 - acc: 0.8862 - val_loss: 0.3776 - val_acc: 0.8620\n",
            "Epoch 56/120\n",
            "313/313 [==============================] - 5s 17ms/step - loss: 0.2796 - acc: 0.8923 - val_loss: 0.3977 - val_acc: 0.8590\n",
            "Epoch 57/120\n",
            "313/313 [==============================] - 4s 13ms/step - loss: 0.2707 - acc: 0.8986 - val_loss: 0.3649 - val_acc: 0.8710\n",
            "Epoch 58/120\n",
            "313/313 [==============================] - 4s 12ms/step - loss: 0.2583 - acc: 0.9015 - val_loss: 0.3714 - val_acc: 0.8630\n",
            "Epoch 59/120\n",
            "313/313 [==============================] - 5s 17ms/step - loss: 0.2447 - acc: 0.9088 - val_loss: 0.3505 - val_acc: 0.8760\n",
            "Epoch 60/120\n",
            "313/313 [==============================] - 4s 13ms/step - loss: 0.2348 - acc: 0.9160 - val_loss: 0.3524 - val_acc: 0.8760\n",
            "Epoch 61/120\n",
            "313/313 [==============================] - 4s 12ms/step - loss: 0.2182 - acc: 0.9216 - val_loss: 0.3520 - val_acc: 0.8810\n",
            "Epoch 62/120\n",
            "313/313 [==============================] - 5s 15ms/step - loss: 0.2057 - acc: 0.9243 - val_loss: 0.3208 - val_acc: 0.8880\n",
            "Epoch 63/120\n",
            "313/313 [==============================] - 4s 12ms/step - loss: 0.1985 - acc: 0.9280 - val_loss: 0.3494 - val_acc: 0.8830\n",
            "Epoch 64/120\n",
            "313/313 [==============================] - 4s 12ms/step - loss: 0.1779 - acc: 0.9335 - val_loss: 0.2800 - val_acc: 0.9030\n",
            "Epoch 65/120\n",
            "313/313 [==============================] - 5s 15ms/step - loss: 0.1698 - acc: 0.9398 - val_loss: 0.2763 - val_acc: 0.9080\n",
            "Epoch 66/120\n",
            "313/313 [==============================] - 4s 14ms/step - loss: 0.1499 - acc: 0.9471 - val_loss: 0.2914 - val_acc: 0.9010\n",
            "Epoch 67/120\n",
            "313/313 [==============================] - 4s 12ms/step - loss: 0.1485 - acc: 0.9463 - val_loss: 0.2844 - val_acc: 0.9040\n",
            "Epoch 68/120\n",
            "313/313 [==============================] - 4s 14ms/step - loss: 0.1349 - acc: 0.9531 - val_loss: 0.2919 - val_acc: 0.9090\n",
            "Epoch 69/120\n",
            "313/313 [==============================] - 4s 14ms/step - loss: 0.1290 - acc: 0.9543 - val_loss: 0.2538 - val_acc: 0.9180\n",
            "Epoch 70/120\n",
            "313/313 [==============================] - 4s 12ms/step - loss: 0.1225 - acc: 0.9576 - val_loss: 0.2363 - val_acc: 0.9180\n",
            "Epoch 71/120\n",
            "313/313 [==============================] - 4s 14ms/step - loss: 0.1138 - acc: 0.9629 - val_loss: 0.2638 - val_acc: 0.9120\n",
            "Epoch 72/120\n",
            "313/313 [==============================] - 5s 15ms/step - loss: 0.1199 - acc: 0.9616 - val_loss: 0.2442 - val_acc: 0.9250\n",
            "Epoch 73/120\n",
            "313/313 [==============================] - 4s 14ms/step - loss: 0.1058 - acc: 0.9646 - val_loss: 0.2147 - val_acc: 0.9290\n",
            "Epoch 74/120\n",
            "313/313 [==============================] - 5s 15ms/step - loss: 0.0972 - acc: 0.9661 - val_loss: 0.2256 - val_acc: 0.9240\n",
            "Epoch 75/120\n",
            "313/313 [==============================] - 4s 14ms/step - loss: 0.1000 - acc: 0.9669 - val_loss: 0.2086 - val_acc: 0.9320\n",
            "Epoch 76/120\n",
            "313/313 [==============================] - 4s 12ms/step - loss: 0.0928 - acc: 0.9686 - val_loss: 0.2272 - val_acc: 0.9240\n",
            "Epoch 77/120\n",
            "313/313 [==============================] - 4s 13ms/step - loss: 0.0898 - acc: 0.9709 - val_loss: 0.2167 - val_acc: 0.9320\n",
            "Epoch 78/120\n",
            "313/313 [==============================] - 5s 15ms/step - loss: 0.0823 - acc: 0.9710 - val_loss: 0.2373 - val_acc: 0.9200\n",
            "Epoch 79/120\n",
            "313/313 [==============================] - 4s 12ms/step - loss: 0.0827 - acc: 0.9735 - val_loss: 0.2169 - val_acc: 0.9370\n",
            "Epoch 80/120\n",
            "313/313 [==============================] - 4s 12ms/step - loss: 0.0757 - acc: 0.9741 - val_loss: 0.2521 - val_acc: 0.9300\n",
            "Epoch 81/120\n",
            "313/313 [==============================] - 5s 16ms/step - loss: 0.0701 - acc: 0.9766 - val_loss: 0.2341 - val_acc: 0.9320\n",
            "Epoch 82/120\n",
            "313/313 [==============================] - 4s 12ms/step - loss: 0.0705 - acc: 0.9780 - val_loss: 0.2159 - val_acc: 0.9320\n",
            "Epoch 83/120\n",
            "313/313 [==============================] - 4s 13ms/step - loss: 0.0747 - acc: 0.9758 - val_loss: 0.2369 - val_acc: 0.9320\n",
            "Epoch 84/120\n",
            "313/313 [==============================] - 5s 17ms/step - loss: 0.0657 - acc: 0.9769 - val_loss: 0.2232 - val_acc: 0.9310\n",
            "Epoch 85/120\n",
            "313/313 [==============================] - 4s 12ms/step - loss: 0.0644 - acc: 0.9776 - val_loss: 0.3065 - val_acc: 0.9190\n",
            "Epoch 86/120\n",
            "313/313 [==============================] - 4s 13ms/step - loss: 0.0634 - acc: 0.9779 - val_loss: 0.2183 - val_acc: 0.9360\n",
            "Epoch 87/120\n",
            "313/313 [==============================] - 5s 16ms/step - loss: 0.0587 - acc: 0.9804 - val_loss: 0.1964 - val_acc: 0.9450\n",
            "Epoch 88/120\n",
            "313/313 [==============================] - 4s 13ms/step - loss: 0.0583 - acc: 0.9807 - val_loss: 0.1922 - val_acc: 0.9400\n",
            "Epoch 89/120\n",
            "313/313 [==============================] - 4s 12ms/step - loss: 0.0571 - acc: 0.9813 - val_loss: 0.2715 - val_acc: 0.9240\n",
            "Epoch 90/120\n",
            "313/313 [==============================] - 5s 16ms/step - loss: 0.0524 - acc: 0.9826 - val_loss: 0.2594 - val_acc: 0.9330\n",
            "Epoch 91/120\n",
            "313/313 [==============================] - 4s 12ms/step - loss: 0.0512 - acc: 0.9823 - val_loss: 0.1889 - val_acc: 0.9410\n",
            "Epoch 92/120\n",
            "313/313 [==============================] - 4s 12ms/step - loss: 0.0484 - acc: 0.9833 - val_loss: 0.2108 - val_acc: 0.9420\n",
            "Epoch 93/120\n",
            "313/313 [==============================] - 6s 18ms/step - loss: 0.0548 - acc: 0.9828 - val_loss: 0.1970 - val_acc: 0.9420\n",
            "Epoch 94/120\n",
            "313/313 [==============================] - 5s 15ms/step - loss: 0.0506 - acc: 0.9849 - val_loss: 0.2034 - val_acc: 0.9450\n",
            "Epoch 95/120\n",
            "313/313 [==============================] - 4s 13ms/step - loss: 0.0460 - acc: 0.9858 - val_loss: 0.2064 - val_acc: 0.9490\n",
            "Epoch 96/120\n",
            "313/313 [==============================] - 5s 16ms/step - loss: 0.0437 - acc: 0.9868 - val_loss: 0.2245 - val_acc: 0.9370\n",
            "Epoch 97/120\n",
            "313/313 [==============================] - 4s 13ms/step - loss: 0.0401 - acc: 0.9850 - val_loss: 0.1959 - val_acc: 0.9480\n",
            "Epoch 98/120\n",
            "313/313 [==============================] - 4s 14ms/step - loss: 0.0440 - acc: 0.9872 - val_loss: 0.2376 - val_acc: 0.9280\n",
            "Epoch 99/120\n",
            "313/313 [==============================] - 5s 17ms/step - loss: 0.0442 - acc: 0.9868 - val_loss: 0.2273 - val_acc: 0.9390\n",
            "Epoch 100/120\n",
            "313/313 [==============================] - 4s 13ms/step - loss: 0.0394 - acc: 0.9862 - val_loss: 0.2157 - val_acc: 0.9460\n",
            "Epoch 101/120\n",
            "313/313 [==============================] - 4s 14ms/step - loss: 0.0371 - acc: 0.9883 - val_loss: 0.2375 - val_acc: 0.9460\n",
            "Epoch 102/120\n",
            "313/313 [==============================] - 5s 15ms/step - loss: 0.0390 - acc: 0.9877 - val_loss: 0.2289 - val_acc: 0.9400\n",
            "Epoch 103/120\n",
            "313/313 [==============================] - 4s 12ms/step - loss: 0.0429 - acc: 0.9868 - val_loss: 0.2014 - val_acc: 0.9460\n",
            "Epoch 104/120\n",
            "313/313 [==============================] - 4s 12ms/step - loss: 0.0322 - acc: 0.9892 - val_loss: 0.2424 - val_acc: 0.9410\n",
            "Epoch 105/120\n",
            "313/313 [==============================] - 5s 16ms/step - loss: 0.0339 - acc: 0.9892 - val_loss: 0.2351 - val_acc: 0.9470\n",
            "Epoch 106/120\n",
            "313/313 [==============================] - 4s 12ms/step - loss: 0.0347 - acc: 0.9893 - val_loss: 0.2388 - val_acc: 0.9420\n",
            "Epoch 107/120\n",
            "313/313 [==============================] - 4s 13ms/step - loss: 0.0354 - acc: 0.9893 - val_loss: 0.2258 - val_acc: 0.9410\n",
            "Epoch 108/120\n",
            "313/313 [==============================] - 5s 16ms/step - loss: 0.0315 - acc: 0.9898 - val_loss: 0.2246 - val_acc: 0.9430\n",
            "Epoch 109/120\n",
            "313/313 [==============================] - 4s 12ms/step - loss: 0.0337 - acc: 0.9892 - val_loss: 0.1943 - val_acc: 0.9460\n",
            "Epoch 110/120\n",
            "313/313 [==============================] - 4s 12ms/step - loss: 0.0361 - acc: 0.9888 - val_loss: 0.2065 - val_acc: 0.9500\n",
            "Epoch 111/120\n",
            "313/313 [==============================] - 5s 16ms/step - loss: 0.0316 - acc: 0.9907 - val_loss: 0.2103 - val_acc: 0.9520\n",
            "Epoch 112/120\n",
            "313/313 [==============================] - 4s 12ms/step - loss: 0.0353 - acc: 0.9915 - val_loss: 0.2104 - val_acc: 0.9470\n",
            "Epoch 113/120\n",
            "313/313 [==============================] - 4s 13ms/step - loss: 0.0343 - acc: 0.9911 - val_loss: 0.2146 - val_acc: 0.9540\n",
            "Epoch 114/120\n",
            "313/313 [==============================] - 5s 16ms/step - loss: 0.0389 - acc: 0.9888 - val_loss: 0.2005 - val_acc: 0.9560\n",
            "Epoch 115/120\n",
            "313/313 [==============================] - 4s 13ms/step - loss: 0.0316 - acc: 0.9912 - val_loss: 0.2146 - val_acc: 0.9530\n",
            "Epoch 116/120\n",
            "313/313 [==============================] - 4s 13ms/step - loss: 0.0320 - acc: 0.9911 - val_loss: 0.2298 - val_acc: 0.9470\n",
            "Epoch 117/120\n",
            "313/313 [==============================] - 5s 17ms/step - loss: 0.0286 - acc: 0.9916 - val_loss: 0.1920 - val_acc: 0.9510\n",
            "Epoch 118/120\n",
            "313/313 [==============================] - 4s 13ms/step - loss: 0.0331 - acc: 0.9909 - val_loss: 0.1929 - val_acc: 0.9490\n",
            "Epoch 119/120\n",
            "313/313 [==============================] - 4s 13ms/step - loss: 0.0377 - acc: 0.9913 - val_loss: 0.2068 - val_acc: 0.9560\n",
            "Epoch 120/120\n",
            "313/313 [==============================] - 5s 16ms/step - loss: 0.0303 - acc: 0.9899 - val_loss: 0.1939 - val_acc: 0.9550\n"
          ]
        }
      ]
    },
    {
      "cell_type": "code",
      "source": [
        "print('\\n 테스트 정확도 : %.4f'%(model.evaluate([Xstest, Xqtest], Ytest)[1]))"
      ],
      "metadata": {
        "colab": {
          "base_uri": "https://localhost:8080/"
        },
        "id": "ESb0rriUKou4",
        "outputId": "2d8b8dfd-a49d-42df-beaa-f44517570510"
      },
      "execution_count": 60,
      "outputs": [
        {
          "output_type": "stream",
          "name": "stdout",
          "text": [
            "32/32 [==============================] - 0s 7ms/step - loss: 0.1939 - acc: 0.9550\n",
            "\n",
            " 테스트 정확도 : 0.9550\n"
          ]
        }
      ]
    },
    {
      "cell_type": "code",
      "source": [
        "plt.subplot(211)\n",
        "plt.title(\"Accuracy\")\n",
        "plt.plot(history.history[\"acc\"], color=\"g\", label=\"train\")\n",
        "plt.plot(history.history[\"val_acc\"], color=\"b\", label=\"validation\")\n",
        "plt.legend(loc=\"best\")\n",
        "\n",
        "plt.subplot(212)\n",
        "plt.title(\"Loss\")\n",
        "plt.plot(history.history[\"loss\"], color=\"g\", label=\"train\")\n",
        "plt.plot(history.history[\"val_loss\"], color=\"b\", label=\"validation\")\n",
        "plt.legend(loc=\"best\")\n",
        "\n",
        "plt.tight_layout()\n",
        "plt.show()\n",
        "\n",
        "ytest = np.argmax(Ytest, axis=1)\n",
        "\n",
        "Ytest_ = model.predict([Xstest, Xqtest])\n",
        "ytest_ = np.argmax(Ytest_, axis=1)\n"
      ],
      "metadata": {
        "colab": {
          "base_uri": "https://localhost:8080/",
          "height": 505
        },
        "id": "E-ciMBBKLbR4",
        "outputId": "01c8ce1a-8256-4caf-bc70-a7b53e21740a"
      },
      "execution_count": 61,
      "outputs": [
        {
          "output_type": "display_data",
          "data": {
            "text/plain": [
              "<Figure size 640x480 with 2 Axes>"
            ],
            "image/png": "[encoded data removed]"
          },
          "metadata": {}
        },
        {
          "output_type": "stream",
          "name": "stdout",
          "text": [
            "32/32 [==============================] - 1s 4ms/step\n"
          ]
        }
      ]
    },
    {
      "cell_type": "code",
      "source": [],
      "metadata": {
        "id": "hewfudvmLc1o"
      },
      "execution_count": null,
      "outputs": []
    }
  ]
}