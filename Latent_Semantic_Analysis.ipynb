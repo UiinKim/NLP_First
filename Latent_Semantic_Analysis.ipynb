{
  "nbformat": 4,
  "nbformat_minor": 0,
  "metadata": {
    "colab": {
      "provenance": [],
      "authorship_tag": "ABX9TyOpaN0cEG4mdpg9DEd6LyfI",
      "include_colab_link": true
    },
    "kernelspec": {
      "name": "python3",
      "display_name": "Python 3"
    },
    "language_info": {
      "name": "python"
    }
  },
  "cells": [
    {
      "cell_type": "markdown",
      "metadata": {
        "id": "view-in-github",
        "colab_type": "text"
      },
      "source": [
        "<a href=\"https://colab.research.google.com/github/UiinKim/UiinKim/blob/main/Latent_Semantic_Analysis.ipynb\" target=\"_parent\"><img src=\"https://colab.research.google.com/assets/colab-badge.svg\" alt=\"Open In Colab\"/></a>"
      ]
    },
    {
      "cell_type": "code",
      "execution_count": 18,
      "metadata": {
        "id": "2OHtTkbDjNFm"
      },
      "outputs": [],
      "source": [
        "#Full SVD\n",
        "import numpy as np"
      ]
    },
    {
      "cell_type": "code",
      "source": [
        "A=np.array([[0,0,0,1,0,1,1,0,0],[0,0,0,1,1,0,1,0,0],[0,1,1,0,2,0,0,0,0],[1,0,0,0,0,0,0,1,1]])\n",
        "print('DTM의 크기 : ', A.shape)"
      ],
      "metadata": {
        "colab": {
          "base_uri": "https://localhost:8080/"
        },
        "id": "YZO_Vbn0t17J",
        "outputId": "c5199118-2693-4f19-9611-a0785606672b"
      },
      "execution_count": 19,
      "outputs": [
        {
          "output_type": "stream",
          "name": "stdout",
          "text": [
            "DTM의 크기 :  (4, 9)\n"
          ]
        }
      ]
    },
    {
      "cell_type": "code",
      "source": [
        "U, s, VT=np.linalg.svd(A, full_matrices=True)\n",
        "#직교행렬\n",
        "print('행렬 U : ')\n",
        "print(U.round(2))#소수점 2자리까지만 표현\n",
        "print('행렬 U의 크기 : ', np.shape(U))"
      ],
      "metadata": {
        "colab": {
          "base_uri": "https://localhost:8080/"
        },
        "id": "X5wtfe4yt9Bw",
        "outputId": "e6e579c1-9734-420c-8c4e-f738a55fe90b"
      },
      "execution_count": 20,
      "outputs": [
        {
          "output_type": "stream",
          "name": "stdout",
          "text": [
            "행렬 U : \n",
            "[[-0.24  0.75  0.   -0.62]\n",
            " [-0.51  0.44 -0.    0.74]\n",
            " [-0.83 -0.49 -0.   -0.27]\n",
            " [-0.   -0.    1.    0.  ]]\n",
            "행렬 U의 크기 :  (4, 4)\n"
          ]
        }
      ]
    },
    {
      "cell_type": "code",
      "source": [
        "#대각행렬(linalg.svd의 영향으로 대각행렬이 아닌 리스트로 반환됨)\n",
        "print('특이값 벡터(s)')\n",
        "print(s.round(2))\n",
        "print('특이값 벡터의 크기 : ', s.shape)"
      ],
      "metadata": {
        "colab": {
          "base_uri": "https://localhost:8080/"
        },
        "id": "Eks3wIA-xy7D",
        "outputId": "2b4b66c9-0ac6-4f05-c7a8-afaa394555d9"
      },
      "execution_count": 21,
      "outputs": [
        {
          "output_type": "stream",
          "name": "stdout",
          "text": [
            "특이값 벡터(s)\n",
            "[2.69 2.05 1.73 0.77]\n",
            "특이값 벡터의 크기 :  (4,)\n"
          ]
        }
      ]
    },
    {
      "cell_type": "code",
      "source": [
        "#대각 행렬의 크기인 4 X 9의 크기로 행렬 생성\n",
        "S=np.zeros((4,9))\n",
        "\n",
        "#특이값을 대각행렬에 삽입\n",
        "S[:4,:4]=np.diag(s) #대각으로 삽입(diag)\n",
        "\n",
        "print('대각행렬 S : ')\n",
        "print(S.round(2))\n",
        "\n",
        "print('대각행렬의 크기 : ')\n",
        "print(np.shape(S))"
      ],
      "metadata": {
        "colab": {
          "base_uri": "https://localhost:8080/"
        },
        "id": "1OTOX5_mx7E5",
        "outputId": "99805b38-0a47-4def-df07-257a0fa03e91"
      },
      "execution_count": 22,
      "outputs": [
        {
          "output_type": "stream",
          "name": "stdout",
          "text": [
            "대각행렬 S : \n",
            "[[2.69 0.   0.   0.   0.   0.   0.   0.   0.  ]\n",
            " [0.   2.05 0.   0.   0.   0.   0.   0.   0.  ]\n",
            " [0.   0.   1.73 0.   0.   0.   0.   0.   0.  ]\n",
            " [0.   0.   0.   0.77 0.   0.   0.   0.   0.  ]]\n",
            "대각행렬의 크기 : \n",
            "(4, 9)\n"
          ]
        }
      ]
    },
    {
      "cell_type": "code",
      "source": [
        "print('직교행렬 VT : ')\n",
        "print(VT.round(2))\n",
        "\n",
        "print('직교 행렬 VT의 크기 : ')\n",
        "print(VT.shape)"
      ],
      "metadata": {
        "colab": {
          "base_uri": "https://localhost:8080/"
        },
        "id": "K9RlXSWkyqha",
        "outputId": "640407a6-f443-424f-b6ca-c2994aaa59fc"
      },
      "execution_count": 23,
      "outputs": [
        {
          "output_type": "stream",
          "name": "stdout",
          "text": [
            "직교행렬 VT : \n",
            "[[-0.   -0.31 -0.31 -0.28 -0.8  -0.09 -0.28 -0.   -0.  ]\n",
            " [ 0.   -0.24 -0.24  0.58 -0.26  0.37  0.58 -0.   -0.  ]\n",
            " [ 0.58 -0.    0.    0.   -0.    0.   -0.    0.58  0.58]\n",
            " [ 0.   -0.35 -0.35  0.16  0.25 -0.8   0.16 -0.   -0.  ]\n",
            " [-0.   -0.78 -0.01 -0.2   0.4   0.4  -0.2   0.    0.  ]\n",
            " [-0.29  0.31 -0.78 -0.24  0.23  0.23  0.01  0.14  0.14]\n",
            " [-0.29 -0.1   0.26 -0.59 -0.08 -0.08  0.66  0.14  0.14]\n",
            " [-0.5  -0.06  0.15  0.24 -0.05 -0.05 -0.19  0.75 -0.25]\n",
            " [-0.5  -0.06  0.15  0.24 -0.05 -0.05 -0.19 -0.25  0.75]]\n",
            "직교 행렬 VT의 크기 : \n",
            "(9, 9)\n"
          ]
        }
      ]
    },
    {
      "cell_type": "code",
      "source": [
        "np.allclose(A, np.dot(np.dot(U,S),VT).round(2))"
      ],
      "metadata": {
        "colab": {
          "base_uri": "https://localhost:8080/"
        },
        "id": "0sHdj56Py7sK",
        "outputId": "3909001d-6c47-4a77-eabd-a9d558b1306d"
      },
      "execution_count": 24,
      "outputs": [
        {
          "output_type": "execute_result",
          "data": {
            "text/plain": [
              "True"
            ]
          },
          "metadata": {},
          "execution_count": 24
        }
      ]
    },
    {
      "cell_type": "code",
      "source": [
        "#Truncated SVD\n",
        "#특이값 상위 2개만 보존\n",
        "S=S[:2,:2]\n",
        "\n",
        "print('대각 행렬 S : ')\n",
        "print(S.round(2))"
      ],
      "metadata": {
        "colab": {
          "base_uri": "https://localhost:8080/"
        },
        "id": "gEgTJcFczMmy",
        "outputId": "72f7b2ca-0cfe-4936-838a-78772c6df07f"
      },
      "execution_count": 25,
      "outputs": [
        {
          "output_type": "stream",
          "name": "stdout",
          "text": [
            "대각 행렬 S : \n",
            "[[2.69 0.  ]\n",
            " [0.   2.05]]\n"
          ]
        }
      ]
    },
    {
      "cell_type": "code",
      "source": [
        "U=U[:,:2]\n",
        "print('행렬 U : ')\n",
        "print(U.round(2))"
      ],
      "metadata": {
        "colab": {
          "base_uri": "https://localhost:8080/"
        },
        "id": "t6czKJuazWhr",
        "outputId": "31621a55-d73d-49ad-d34c-92d70432bd9d"
      },
      "execution_count": 26,
      "outputs": [
        {
          "output_type": "stream",
          "name": "stdout",
          "text": [
            "행렬 U : \n",
            "[[-0.24  0.75]\n",
            " [-0.51  0.44]\n",
            " [-0.83 -0.49]\n",
            " [-0.   -0.  ]]\n"
          ]
        }
      ]
    },
    {
      "cell_type": "code",
      "source": [
        "VT=VT[:2,:] #V의 입장에서는 2개의 열만 추출\n",
        "print('직교 행렬 VT : ')\n",
        "print(VT.round(2))"
      ],
      "metadata": {
        "colab": {
          "base_uri": "https://localhost:8080/"
        },
        "id": "cdJFQ5d9zc86",
        "outputId": "0c111bca-5d3a-4572-e34a-d526db41eab3"
      },
      "execution_count": 27,
      "outputs": [
        {
          "output_type": "stream",
          "name": "stdout",
          "text": [
            "직교 행렬 VT : \n",
            "[[-0.   -0.31 -0.31 -0.28 -0.8  -0.09 -0.28 -0.   -0.  ]\n",
            " [ 0.   -0.24 -0.24  0.58 -0.26  0.37  0.58 -0.   -0.  ]]\n"
          ]
        }
      ]
    },
    {
      "cell_type": "code",
      "source": [
        "A_prime=np.dot(np.dot(U,S),VT)\n",
        "print(A)\n",
        "print(A_prime.round(2))"
      ],
      "metadata": {
        "colab": {
          "base_uri": "https://localhost:8080/"
        },
        "id": "e1XzHhjeznsM",
        "outputId": "f49bdd46-61bc-4813-eff5-5083b86bc74b"
      },
      "execution_count": 28,
      "outputs": [
        {
          "output_type": "stream",
          "name": "stdout",
          "text": [
            "[[0 0 0 1 0 1 1 0 0]\n",
            " [0 0 0 1 1 0 1 0 0]\n",
            " [0 1 1 0 2 0 0 0 0]\n",
            " [1 0 0 0 0 0 0 1 1]]\n",
            "[[ 0.   -0.17 -0.17  1.08  0.12  0.62  1.08 -0.   -0.  ]\n",
            " [ 0.    0.2   0.2   0.91  0.86  0.45  0.91  0.    0.  ]\n",
            " [ 0.    0.93  0.93  0.03  2.05 -0.17  0.03  0.    0.  ]\n",
            " [ 0.    0.    0.    0.    0.    0.    0.    0.    0.  ]]\n"
          ]
        }
      ]
    },
    {
      "cell_type": "code",
      "source": [
        "#실습\n",
        "import pandas as pd\n",
        "from sklearn.datasets import fetch_20newsgroups\n",
        "import nltk\n",
        "from nltk.corpus import stopwords\n",
        "from sklearn.feature_extraction.text import TfidfVectorizer\n",
        "from sklearn.decomposition import TruncatedSVD"
      ],
      "metadata": {
        "id": "nOMtVZg_z9hy"
      },
      "execution_count": 29,
      "outputs": []
    },
    {
      "cell_type": "code",
      "source": [
        "dataset=fetch_20newsgroups(shuffle=True, random_state=1, remove=('header', 'footers', 'quotes'))\n",
        "documents=dataset.data\n",
        "print('샘플의 수 : ', len(documents))"
      ],
      "metadata": {
        "colab": {
          "base_uri": "https://localhost:8080/"
        },
        "id": "Iv9mfBjP2xaF",
        "outputId": "5a08d7c4-ff7a-44ef-fc4f-d6d05b2de467"
      },
      "execution_count": 30,
      "outputs": [
        {
          "output_type": "stream",
          "name": "stdout",
          "text": [
            "샘플의 수 :  11314\n"
          ]
        }
      ]
    },
    {
      "cell_type": "code",
      "source": [
        "documents[1]"
      ],
      "metadata": {
        "colab": {
          "base_uri": "https://localhost:8080/",
          "height": 125
        },
        "id": "ybNnn-es3D8E",
        "outputId": "b04958c3-64d1-4459-877c-e9640367c75a"
      },
      "execution_count": 31,
      "outputs": [
        {
          "output_type": "execute_result",
          "data": {
            "text/plain": [
              "\"From: timmbake@mcl.ucsb.edu (Bake Timmons)\\nSubject: Re: Amusing atheists and agnostics\\nLines: 66\\n\\n\\n\\n\\n\\n\\n\\n\\n\\nYeah, do you expect people to read the FAQ, etc. and actually accept hard\\natheism?  No, you need a little leap of faith, Jimmy.  Your logic runs out\\nof steam!\\n\\n\\n\\n\\n\\n\\n\\nJim,\\n\\nSorry I can't pity you, Jim.  And I'm sorry that you have these feelings of\\ndenial about the faith you need to get by.  Oh well, just pretend that it will\\nall end happily ever after anyway.  Maybe if you start a new newsgroup,\\nalt.atheist.hard, you won't be bummin' so much?\\n\\n\\n\\n\\n\\n\\nBye-Bye, Big Jim.  Don't forget your Flintstone's Chewables!  :) \\n--\\nBake Timmons, III\""
            ],
            "application/vnd.google.colaboratory.intrinsic+json": {
              "type": "string"
            }
          },
          "metadata": {},
          "execution_count": 31
        }
      ]
    },
    {
      "cell_type": "code",
      "source": [
        "print(dataset.target_names)"
      ],
      "metadata": {
        "colab": {
          "base_uri": "https://localhost:8080/"
        },
        "id": "pHQhcvja3NSL",
        "outputId": "c62d346c-9401-40a6-ce82-b8c33b29065c"
      },
      "execution_count": 32,
      "outputs": [
        {
          "output_type": "stream",
          "name": "stdout",
          "text": [
            "['alt.atheism', 'comp.graphics', 'comp.os.ms-windows.misc', 'comp.sys.ibm.pc.hardware', 'comp.sys.mac.hardware', 'comp.windows.x', 'misc.forsale', 'rec.autos', 'rec.motorcycles', 'rec.sport.baseball', 'rec.sport.hockey', 'sci.crypt', 'sci.electronics', 'sci.med', 'sci.space', 'soc.religion.christian', 'talk.politics.guns', 'talk.politics.mideast', 'talk.politics.misc', 'talk.religion.misc']\n"
          ]
        }
      ]
    },
    {
      "cell_type": "code",
      "source": [
        "news_df = pd.DataFrame({'document':documents})\n",
        "# 특수 문자 제거\n",
        "news_df['clean_doc'] = news_df['document'].str.replace(\"[^a-zA-Z]\", \" \")\n",
        "# 길이가 3이하인 단어는 제거 (길이가 짧은 단어 제거)\n",
        "news_df['clean_doc'] = news_df['clean_doc'].apply(lambda x: ' '.join([w for w in x.split() if len(w)>3]))\n",
        "# 전체 단어에 대한 소문자 변환\n",
        "news_df['clean_doc'] = news_df['clean_doc'].apply(lambda x: x.lower())"
      ],
      "metadata": {
        "colab": {
          "base_uri": "https://localhost:8080/"
        },
        "id": "Vvjw5XVm3S2B",
        "outputId": "637307d8-ec71-4bd3-8057-43c7d1cb0a95"
      },
      "execution_count": 35,
      "outputs": [
        {
          "output_type": "stream",
          "name": "stderr",
          "text": [
            "<ipython-input-35-b4124dfb5e6a>:3: FutureWarning: The default value of regex will change from True to False in a future version.\n",
            "  news_df['clean_doc'] = news_df['document'].str.replace(\"[^a-zA-Z]\", \" \")\n"
          ]
        }
      ]
    },
    {
      "cell_type": "code",
      "source": [
        "news_df['clean_doc'][1]"
      ],
      "metadata": {
        "colab": {
          "base_uri": "https://localhost:8080/",
          "height": 71
        },
        "id": "GBR_fHNg7gFt",
        "outputId": "13de708e-031f-44da-d681-28ab45824a8d"
      },
      "execution_count": 36,
      "outputs": [
        {
          "output_type": "execute_result",
          "data": {
            "text/plain": [
              "'from timmbake ucsb bake timmons subject amusing atheists agnostics lines yeah expect people read actually accept hard atheism need little leap faith jimmy your logic runs steam sorry pity sorry that have these feelings denial about faith need well just pretend that will happily ever after anyway maybe start newsgroup atheist hard bummin much forget your flintstone chewables bake timmons'"
            ],
            "application/vnd.google.colaboratory.intrinsic+json": {
              "type": "string"
            }
          },
          "metadata": {},
          "execution_count": 36
        }
      ]
    },
    {
      "cell_type": "code",
      "source": [
        "import nltk\n",
        "nltk.download('stopwords')"
      ],
      "metadata": {
        "colab": {
          "base_uri": "https://localhost:8080/"
        },
        "id": "JnqQahT191O8",
        "outputId": "4b755c5e-2ff6-4c57-828e-7d9351025b16"
      },
      "execution_count": 38,
      "outputs": [
        {
          "output_type": "stream",
          "name": "stderr",
          "text": [
            "[nltk_data] Downloading package stopwords to /root/nltk_data...\n",
            "[nltk_data]   Unzipping corpora/stopwords.zip.\n"
          ]
        },
        {
          "output_type": "execute_result",
          "data": {
            "text/plain": [
              "True"
            ]
          },
          "metadata": {},
          "execution_count": 38
        }
      ]
    },
    {
      "cell_type": "code",
      "source": [
        "#NLTK로부터 불용어를 받아온다.\n",
        "stop_words=stopwords.words('english')\n",
        "tokenized_doc=news_df['clean_doc'].apply(lambda x:x.split()) #토큰화\n",
        "tokenized_doc = tokenized_doc.apply(lambda x: [item for item in x if item not in stop_words])\n",
        "# 불용어를 제거합니다."
      ],
      "metadata": {
        "id": "SLlMnaDC7sdM"
      },
      "execution_count": 42,
      "outputs": []
    },
    {
      "cell_type": "code",
      "source": [
        "#역토큰화\n",
        "detokenized_doc=[]\n",
        "for i in range(len(news_df)):\n",
        "  t=' '.join(tokenized_doc[i])\n",
        "  detokenized_doc.append(t)\n",
        "\n",
        "news_df['clean_doc']=detokenized_doc"
      ],
      "metadata": {
        "id": "INlIz5NT9yTA"
      },
      "execution_count": 43,
      "outputs": []
    },
    {
      "cell_type": "code",
      "source": [
        "vectorizer = TfidfVectorizer(stop_words='english', max_features= 1000, # 상위 1,000개의 단어를 보존\n",
        "max_df = 0.5, smooth_idf=True)\n",
        "\n",
        "X = vectorizer.fit_transform(news_df['clean_doc'])\n",
        "\n",
        "# TF-IDF 행렬의 크기 확인\n",
        "print('TF-IDF 행렬의 크기 :',X.shape)\n"
      ],
      "metadata": {
        "colab": {
          "base_uri": "https://localhost:8080/"
        },
        "id": "vWRaLJ_TAyz_",
        "outputId": "569b4313-8211-4c6c-972d-c7a11fb5b27b"
      },
      "execution_count": 51,
      "outputs": [
        {
          "output_type": "stream",
          "name": "stdout",
          "text": [
            "TF-IDF 행렬의 크기 : (11314, 1000)\n"
          ]
        }
      ]
    },
    {
      "cell_type": "code",
      "source": [
        "svd_model = TruncatedSVD(n_components=20, algorithm='randomized', n_iter=100, random_state=122)\n",
        "svd_model.fit(X)\n",
        "len(svd_model.components_)\n"
      ],
      "metadata": {
        "colab": {
          "base_uri": "https://localhost:8080/"
        },
        "id": "r6fmfG0nBGhQ",
        "outputId": "1d5225f0-30a7-48e0-d8bd-f16ff5ab283b"
      },
      "execution_count": 52,
      "outputs": [
        {
          "output_type": "execute_result",
          "data": {
            "text/plain": [
              "20"
            ]
          },
          "metadata": {},
          "execution_count": 52
        }
      ]
    },
    {
      "cell_type": "code",
      "source": [
        "np.shape(svd_model.components_)"
      ],
      "metadata": {
        "colab": {
          "base_uri": "https://localhost:8080/"
        },
        "id": "ZmY3esPOBTD-",
        "outputId": "0354c624-9d6e-4d18-8043-d15aa6879b2a"
      },
      "execution_count": 53,
      "outputs": [
        {
          "output_type": "execute_result",
          "data": {
            "text/plain": [
              "(20, 1000)"
            ]
          },
          "metadata": {},
          "execution_count": 53
        }
      ]
    },
    {
      "cell_type": "code",
      "source": [
        "terms = vectorizer.get_feature_names_out() # 단어 집합. 1,000개의 단어가 저장됨.\n",
        "\n",
        "def get_topics(components, feature_names, n=5):\n",
        "    for idx, topic in enumerate(components):\n",
        "        print(\"Topic %d:\" % (idx+1), [(feature_names[i], topic[i].round(5)) for i in topic.argsort()[:-n - 1:-1]])\n",
        "get_topics(svd_model.components_,terms)\n"
      ],
      "metadata": {
        "colab": {
          "base_uri": "https://localhost:8080/"
        },
        "id": "i603oXjTBa12",
        "outputId": "021d50e3-d647-434e-d00f-8cce432ab52a"
      },
      "execution_count": 56,
      "outputs": [
        {
          "output_type": "stream",
          "name": "stdout",
          "text": [
            "Topic 1: [('posting', 0.27494), ('host', 0.26886), ('nntp', 0.2688), ('university', 0.2218), ('distribution', 0.16715)]\n",
            "Topic 2: [('nntp', 0.40741), ('host', 0.40479), ('posting', 0.40086), ('university', 0.15704), ('distribution', 0.13024)]\n",
            "Topic 3: [('windows', 0.39271), ('card', 0.18234), ('file', 0.16217), ('thanks', 0.15766), ('drive', 0.15256)]\n",
            "Topic 4: [('university', 0.47298), ('state', 0.32655), ('ohio', 0.21727), ('cleveland', 0.15398), ('virginia', 0.14866)]\n",
            "Topic 5: [('pitt', 0.46305), ('gordon', 0.4018), ('banks', 0.39252), ('computer', 0.22558), ('science', 0.21242)]\n",
            "Topic 6: [('cleveland', 0.35839), ('cwru', 0.34055), ('freenet', 0.2414), ('reserve', 0.19872), ('western', 0.1983)]\n",
            "Topic 7: [('nasa', 0.31696), ('state', 0.27449), ('access', 0.26734), ('ohio', 0.23291), ('space', 0.18938)]\n",
            "Topic 8: [('nasa', 0.5096), ('space', 0.30749), ('cleveland', 0.22575), ('cwru', 0.1883), ('team', 0.14418)]\n",
            "Topic 9: [('access', 0.30755), ('sale', 0.22276), ('drive', 0.2077), ('digex', 0.18305), ('game', 0.16321)]\n",
            "Topic 10: [('access', 0.39491), ('windows', 0.28549), ('digex', 0.23543), ('virginia', 0.16932), ('team', 0.13798)]\n",
            "Topic 11: [('world', 0.35272), ('distribution', 0.34783), ('virginia', 0.19379), ('reply', 0.14692), ('jesus', 0.13654)]\n",
            "Topic 12: [('clipper', 0.26754), ('distribution', 0.24493), ('chip', 0.24209), ('reply', 0.21636), ('encryption', 0.18292)]\n",
            "Topic 13: [('virginia', 0.60327), ('university', 0.22516), ('space', 0.11079), ('clipper', 0.1082), ('chip', 0.1066)]\n",
            "Topic 14: [('caltech', 0.4202), ('institute', 0.3543), ('sale', 0.3226), ('technology', 0.32122), ('keith', 0.29958)]\n",
            "Topic 15: [('netcom', 0.61354), ('services', 0.26401), ('guest', 0.24463), ('sale', 0.17489), ('communication', 0.15793)]\n",
            "Topic 16: [('netcom', 0.3303), ('drive', 0.28711), ('caltech', 0.20789), ('uiuc', 0.20048), ('university', 0.19823)]\n",
            "Topic 17: [('virginia', 0.57289), ('netcom', 0.18371), ('windows', 0.17003), ('world', 0.15193), ('distribution', 0.14893)]\n",
            "Topic 18: [('card', 0.36621), ('windows', 0.21836), ('video', 0.19896), ('uiuc', 0.19327), ('illinois', 0.17156)]\n",
            "Topic 19: [('computer', 0.37496), ('card', 0.31844), ('science', 0.25339), ('video', 0.17796), ('department', 0.15406)]\n",
            "Topic 20: [('computer', 0.35674), ('sale', 0.31044), ('windows', 0.26101), ('colorado', 0.22456), ('science', 0.22314)]\n"
          ]
        }
      ]
    },
    {
      "cell_type": "code",
      "source": [],
      "metadata": {
        "id": "h-Df42f4B6lv"
      },
      "execution_count": null,
      "outputs": []
    }
  ]
}