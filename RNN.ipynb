{
  "nbformat": 4,
  "nbformat_minor": 0,
  "metadata": {
    "colab": {
      "provenance": [],
      "authorship_tag": "ABX9TyOAB5KL0HsR06pMrNAlrnSl",
      "include_colab_link": true
    },
    "kernelspec": {
      "name": "python3",
      "display_name": "Python 3"
    },
    "language_info": {
      "name": "python"
    }
  },
  "cells": [
    {
      "cell_type": "markdown",
      "metadata": {
        "id": "view-in-github",
        "colab_type": "text"
      },
      "source": [
        "<a href=\"https://colab.research.google.com/github/UiinKim/UiinKim/blob/main/RNN.ipynb\" target=\"_parent\"><img src=\"https://colab.research.google.com/assets/colab-badge.svg\" alt=\"Open In Colab\"/></a>"
      ]
    },
    {
      "cell_type": "code",
      "execution_count": null,
      "metadata": {
        "id": "PTy4-OpM4mGd"
      },
      "outputs": [],
      "source": []
    },
    {
      "cell_type": "code",
      "source": [
        "import numpy as np\n",
        "\n",
        "timesteps=10 #시점의 수 -> 문장의 길이(input_length)\n",
        "input_dim=4 #입력의 수 -> 벡터의 차원\n",
        "hidden_units=8 #은닉 상태의 크기 -> 은닉에서 반복할 횟수(output_dims)\n",
        "\n",
        "#입력에 해당되는 2D 텐서\n",
        "inputs=np.random.random((timesteps, input_dim))\n",
        "\n",
        "#초기 은닉 상태(맨 처음 은닉층 갔을 때 가중치를 곱한 값)는 0(벡터)로 초기화\n",
        "hidden_state_t=np.zeros((hidden_units, ))\n",
        "\n",
        "print('초기 은닉 상태 : ', hidden_state_t)"
      ],
      "metadata": {
        "colab": {
          "base_uri": "https://localhost:8080/"
        },
        "id": "xafkfxMGDNh_",
        "outputId": "ab43bbea-7d0c-4c9b-b80b-8abaefa19dc2"
      },
      "execution_count": 1,
      "outputs": [
        {
          "output_type": "stream",
          "name": "stdout",
          "text": [
            "초기 은닉 상태 :  [0. 0. 0. 0. 0. 0. 0. 0.]\n"
          ]
        }
      ]
    },
    {
      "cell_type": "code",
      "source": [
        "Wx=np.random.random((hidden_units, input_dim)) #x(입력)에 대한 가중치 (출력할 벡터의 차원 x 입력한 벡터의 차원)\n",
        "Wh=np.random.random((hidden_units, hidden_units)) #h(은닉) 상태에 대한 가중치(출력할 벡터의 차원 x 출력할 벡터의 차원)\n",
        "b=np.random.random((hidden_units)) #편향.출력할 벡터의 차원과 같음"
      ],
      "metadata": {
        "id": "s8ts4XX_FBd0"
      },
      "execution_count": 2,
      "outputs": []
    },
    {
      "cell_type": "code",
      "source": [
        "total_hidden_states=[]\n",
        "\n"
      ],
      "metadata": {
        "id": "Bpylom6AGcXk"
      },
      "execution_count": null,
      "outputs": []
    }
  ]
}