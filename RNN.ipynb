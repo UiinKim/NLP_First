{
  "nbformat": 4,
  "nbformat_minor": 0,
  "metadata": {
    "colab": {
      "provenance": [],
      "authorship_tag": "ABX9TyN4aQnnL+Wtx5+R1P6e3H7u",
      "include_colab_link": true
    },
    "kernelspec": {
      "name": "python3",
      "display_name": "Python 3"
    },
    "language_info": {
      "name": "python"
    }
  },
  "cells": [
    {
      "cell_type": "markdown",
      "metadata": {
        "id": "view-in-github",
        "colab_type": "text"
      },
      "source": [
        "<a href=\"https://colab.research.google.com/github/UiinKim/UiinKim/blob/main/RNN.ipynb\" target=\"_parent\"><img src=\"https://colab.research.google.com/assets/colab-badge.svg\" alt=\"Open In Colab\"/></a>"
      ]
    },
    {
      "cell_type": "code",
      "source": [
        "import numpy as np\n",
        "\n",
        "timesteps=10 #시점의 수 -> 문장의 길이(input_length)\n",
        "input_dim=4 #입력의 수 -> 벡터의 차원\n",
        "hidden_units=8 #은닉 상태의 크기 -> 은닉에서 반복할 횟수(output_dims)\n",
        "\n",
        "#입력에 해당되는 2D 텐서\n",
        "inputs=np.random.random((timesteps, input_dim))\n",
        "\n",
        "#초기 은닉 상태(맨 처음 은닉층 갔을 때 가중치를 곱한 값)는 0(벡터)로 초기화\n",
        "hidden_state_t=np.zeros((hidden_units, ))\n",
        "\n",
        "print('초기 은닉 상태 : ', hidden_state_t)"
      ],
      "metadata": {
        "colab": {
          "base_uri": "https://localhost:8080/"
        },
        "id": "xafkfxMGDNh_",
        "outputId": "a0aab744-38ba-4a70-adfd-2b00e9df718a"
      },
      "execution_count": null,
      "outputs": [
        {
          "output_type": "stream",
          "name": "stdout",
          "text": [
            "초기 은닉 상태 :  [0. 0. 0. 0. 0. 0. 0. 0.]\n"
          ]
        }
      ]
    },
    {
      "cell_type": "code",
      "source": [
        "Wx=np.random.random((hidden_units, input_dim)) #x(입력)에 대한 가중치 (출력할 벡터의 차원 x 입력한 벡터의 차원)\n",
        "Wh=np.random.random((hidden_units, hidden_units)) #h(은닉) 상태에 대한 가중치(출력할 벡터의 차원 x 출력할 벡터의 차원)\n",
        "b=np.random.random((hidden_units)) #편향.출력할 벡터의 차원과 같음"
      ],
      "metadata": {
        "id": "s8ts4XX_FBd0"
      },
      "execution_count": null,
      "outputs": []
    },
    {
      "cell_type": "code",
      "source": [
        "total_hidden_states=[]\n",
        "for input_t in inputs:\n",
        "\n",
        "  #Wx*Xt + Wh * Ht-1 + b\n",
        "  output_t=np.tanh(np.dot(Wx,input_t)+np.dot(Wh,hidden_state_t)+b)\n",
        "\n",
        "  #각 시점 t별 메모리 셀의 출력의 크기는 (timestep_t, output_dim)\n",
        "  #각 시점의 은닉 상태의 값을 계속 누적\n",
        "  total_hidden_states.append(list(output_t))\n",
        "  hidden_state_t=output_t\n",
        "\n",
        "#출력 시 값을 깔끔하게 해주는 용도.\n",
        "total_hidden_states=np.stack(total_hidden_states, axis=0)\n",
        "\n",
        "#(timesteps, output_dim)\n",
        "print('모든 시점의 은닉 상태')\n",
        "print(total_hidden_states)\n",
        "\n"
      ],
      "metadata": {
        "id": "Bpylom6AGcXk",
        "colab": {
          "base_uri": "https://localhost:8080/"
        },
        "outputId": "26c7ada0-a8ce-4d91-e2da-4e6175175528"
      },
      "execution_count": null,
      "outputs": [
        {
          "output_type": "stream",
          "name": "stdout",
          "text": [
            "모든 시점의 은닉 상태\n",
            "[[0.85936852 0.87540767 0.73495677 0.92907276 0.9061174  0.8705374\n",
            "  0.78814924 0.66819455]\n",
            " [0.99977299 0.99992069 0.99982753 0.99992099 0.99955838 0.99984483\n",
            "  0.99997213 0.99974171]\n",
            " [0.99985987 0.99992366 0.99993661 0.99988254 0.99947264 0.9997658\n",
            "  0.99998508 0.9997023 ]\n",
            " [0.99995672 0.99999067 0.99997488 0.99997931 0.99988212 0.99994692\n",
            "  0.99999677 0.99989061]\n",
            " [0.99991471 0.99994527 0.99994209 0.99993967 0.99963212 0.99984702\n",
            "  0.99998996 0.99981676]\n",
            " [0.99991857 0.99997784 0.9999641  0.99995301 0.99978769 0.99990174\n",
            "  0.99999355 0.99982939]\n",
            " [0.99996368 0.99999631 0.999983   0.99998933 0.99994705 0.99997664\n",
            "  0.9999982  0.99993833]\n",
            " [0.99992789 0.99998253 0.9999717  0.99997017 0.99988514 0.99993313\n",
            "  0.99999435 0.9998991 ]\n",
            " [0.99993576 0.99995257 0.99996724 0.99992863 0.99969373 0.99972739\n",
            "  0.99998851 0.99969872]\n",
            " [0.99995333 0.99997494 0.99997118 0.99996509 0.99981871 0.99987006\n",
            "  0.9999934  0.99983588]]\n"
          ]
        }
      ]
    },
    {
      "cell_type": "code",
      "source": [
        "import numpy as np\n",
        "import tensorflow as tf\n",
        "from tensorflow.keras.layers import SimpleRNN, LSTM, Bidirectional"
      ],
      "metadata": {
        "id": "_rlFg-_AZedL"
      },
      "execution_count": null,
      "outputs": []
    },
    {
      "cell_type": "code",
      "source": [
        "train_X=[[0.1, 4.2, 1.5, 1.1, 2.8], [1.0, 3.1, 2.5, 0.7, 1.1], [0.3, 2.1, 1.5, 2.1, 0.1], [2.2, 1.4, 0.5, 0.9, 1.1]]\n",
        "print(np.shape(train_X)) #2D 텐서(은닉 반복 횟수(시점), 벡터의 차원)"
      ],
      "metadata": {
        "colab": {
          "base_uri": "https://localhost:8080/"
        },
        "id": "MCfvbHg0mVL-",
        "outputId": "48f11e47-c9b5-40b2-aff7-73083f49e6a2"
      },
      "execution_count": null,
      "outputs": [
        {
          "output_type": "stream",
          "name": "stdout",
          "text": [
            "(4, 5)\n"
          ]
        }
      ]
    },
    {
      "cell_type": "code",
      "source": [
        "train_X=[[[0.1, 4.2, 1.5, 1.1, 2.8], [1.0, 3.1, 2.5, 0.7, 1.1], [0.3, 2.1, 1.5, 2.1, 0.1], [2.2, 1.4, 0.5, 0.9, 1.1]]]\n",
        "#3D텐서로 만들어 (batch_size)를 추가한다.\n",
        "train_X=np.array(train_X, dtype=float)\n",
        "print(np.shape(train_X))"
      ],
      "metadata": {
        "colab": {
          "base_uri": "https://localhost:8080/"
        },
        "id": "sylEM1gJt-E4",
        "outputId": "370dbdd7-f38a-4f3b-8562-5fe1ec56507d"
      },
      "execution_count": null,
      "outputs": [
        {
          "output_type": "stream",
          "name": "stdout",
          "text": [
            "(1, 4, 5)\n"
          ]
        }
      ]
    },
    {
      "cell_type": "code",
      "source": [
        "rnn=SimpleRNN(3) #hidden_state(output_dim)\n",
        "#rnn=SimpleRNN(3, return_sequence=False, return_state=False)와 동일\n",
        "hidden_state=rnn(train_X) #마지막 은닉 상태를 얻는다.\n",
        "print('hidden state : {}, shape{}'.format(hidden_state, hidden_state.shape))"
      ],
      "metadata": {
        "colab": {
          "base_uri": "https://localhost:8080/"
        },
        "id": "lNnvrb6vuRnm",
        "outputId": "d8cd379b-5378-4d15-b46c-bd43aa1a57ac"
      },
      "execution_count": null,
      "outputs": [
        {
          "output_type": "stream",
          "name": "stdout",
          "text": [
            "hidden state : [[ 0.84908116  0.9932367  -0.69145715]], shape(1, 3)\n"
          ]
        }
      ]
    },
    {
      "cell_type": "code",
      "source": [
        "rnn=SimpleRNN(3, return_sequences=True) #return_sequences=True로 timesteps만큼 반복할때마다 은닉상태를 출력한다.\n",
        "hidden_states=rnn(train_X)\n",
        "print('hidden_state : {}, shape : {}'.format(hidden_states, hidden_states.shape))"
      ],
      "metadata": {
        "colab": {
          "base_uri": "https://localhost:8080/"
        },
        "id": "9v5bEtzPux4h",
        "outputId": "927deb0e-fa3d-4400-b424-9e7b721bf717"
      },
      "execution_count": null,
      "outputs": [
        {
          "output_type": "stream",
          "name": "stdout",
          "text": [
            "hidden_state : [[[-0.9933314  -0.5879856  -0.61173314]\n",
            "  [-0.9940619   0.12497369  0.86544895]\n",
            "  [-0.99415934  0.70310915 -0.9300458 ]\n",
            "  [-0.09982249  0.26073325  0.19295971]]], shape : (1, 4, 3)\n"
          ]
        }
      ]
    },
    {
      "cell_type": "code",
      "source": [
        "rnn=SimpleRNN(3, return_sequences=True, return_state=True) #return_state=True일 경우 return_sequences여부와 상관 없이 마지막 은닉 상태의 값을 출력한다. 둘 다 True일 경우 둘 다 출력을 리턴한다.\n",
        "hiddens_states, last_hidden_states=rnn(train_X)\n",
        "\n",
        "print('hiddens_states : {}, shape : {}'.format(hidden_states, hidden_states.shape))\n",
        "print('last_hidden_states : {}, shape : {}'.format(last_hidden_states, last_hidden_states.shape))"
      ],
      "metadata": {
        "colab": {
          "base_uri": "https://localhost:8080/"
        },
        "id": "M3NPo87uvsDJ",
        "outputId": "87ff53e0-9bbc-42be-91b4-b1065624a9c2"
      },
      "execution_count": null,
      "outputs": [
        {
          "output_type": "stream",
          "name": "stdout",
          "text": [
            "hiddens_states : [[[-0.9933314  -0.5879856  -0.61173314]\n",
            "  [-0.9940619   0.12497369  0.86544895]\n",
            "  [-0.99415934  0.70310915 -0.9300458 ]\n",
            "  [-0.09982249  0.26073325  0.19295971]]], shape : (1, 4, 3)\n",
            "last_hidden_states : [[ 0.9929871  0.9824991 -0.7674601]], shape : (1, 3)\n"
          ]
        }
      ]
    },
    {
      "cell_type": "code",
      "source": [
        "lstm=LSTM(3, return_sequences=True, return_state=True) #LSTM은 return_state=True이면 마지막 셀 상태까지 출력한다.\n",
        "hidden_state, last_state, last_cell_state=lstm(train_X)\n",
        "\n",
        "print('hidden state : {}, shape: {}'.format(hidden_state, hidden_state.shape))\n",
        "print('last hidden state : {}, shape: {}'.format(last_state, last_state.shape))\n",
        "print('last cell state : {}, shape: {}'.format(last_cell_state, last_cell_state.shape))"
      ],
      "metadata": {
        "colab": {
          "base_uri": "https://localhost:8080/"
        },
        "id": "MxUTUgZgxG0h",
        "outputId": "6ed8c9e8-4aa4-4a47-8f4e-cc75cb608552"
      },
      "execution_count": null,
      "outputs": [
        {
          "output_type": "stream",
          "name": "stdout",
          "text": [
            "hidden state : [[[ 0.06385525  0.57098526 -0.35932428]\n",
            "  [ 0.21980323  0.7826744  -0.26663786]\n",
            "  [ 0.13306822  0.6068478  -0.48383227]\n",
            "  [ 0.36194637  0.5154958  -0.17846362]]], shape: (1, 4, 3)\n",
            "last hidden state : [[ 0.36194637  0.5154958  -0.17846362]], shape: (1, 3)\n",
            "last cell state : [[ 0.96608454  1.9872048  -1.2035065 ]], shape: (1, 3)\n"
          ]
        }
      ]
    },
    {
      "cell_type": "code",
      "source": [
        "!pip install pad_sequences"
      ],
      "metadata": {
        "colab": {
          "base_uri": "https://localhost:8080/"
        },
        "id": "4JLDXaO45jST",
        "outputId": "4140b300-fe41-46c3-ea96-0c12d8a18ccb"
      },
      "execution_count": null,
      "outputs": [
        {
          "output_type": "stream",
          "name": "stdout",
          "text": [
            "Requirement already satisfied: pad_sequences in /usr/local/lib/python3.10/dist-packages (0.6.1)\n"
          ]
        }
      ]
    },
    {
      "cell_type": "code",
      "source": [
        "#RNN을 이용한 텍스트 생성\n",
        "import numpy as np\n",
        "from tensorflow.keras.preprocessing.text import Tokenizer\n",
        "from tensorflow.keras.preprocessing.sequence import pad_sequences\n",
        "from tensorflow.keras.utils import to_categorical\n",
        "\n",
        "text=\"\"\"경마장에 있는 말이 뛰고 있다\\n\n",
        "그의 말이 법이다\\n\n",
        "가는 말이 고와야 오는 말이 곱다\\n\"\"\"\n",
        "\n",
        "tokenizer=Tokenizer()\n",
        "tokenizer.fit_on_texts([text]) #각 단어를 하나의 토큰으로 만든다. **리스트 형태로 받는다.(문자열은 배열)\n",
        "vocab_size=len(tokenizer.word_index)+1 #패딩까지 고려해서\n",
        "print('단어 집합의 크기 : ',vocab_size)"
      ],
      "metadata": {
        "colab": {
          "base_uri": "https://localhost:8080/"
        },
        "id": "klodSkKxxeBQ",
        "outputId": "0a299166-14cb-4a56-df6a-5e53548d64d1"
      },
      "execution_count": null,
      "outputs": [
        {
          "output_type": "stream",
          "name": "stdout",
          "text": [
            "단어 집합의 크기 :  12\n"
          ]
        }
      ]
    },
    {
      "cell_type": "code",
      "source": [
        "print(tokenizer.word_index)"
      ],
      "metadata": {
        "colab": {
          "base_uri": "https://localhost:8080/"
        },
        "id": "OYLnjjFb5TPf",
        "outputId": "bb310d05-bd93-44f6-94d4-78fef71a51bf"
      },
      "execution_count": null,
      "outputs": [
        {
          "output_type": "stream",
          "name": "stdout",
          "text": [
            "{'말이': 1, '경마장에': 2, '있는': 3, '뛰고': 4, '있다': 5, '그의': 6, '법이다': 7, '가는': 8, '고와야': 9, '오는': 10, '곱다': 11}\n"
          ]
        }
      ]
    },
    {
      "cell_type": "code",
      "source": [
        "sequences=[]\n",
        "for line in text.split('\\n'):\n",
        "  encoded=tokenizer.texts_to_sequences([line])[0] #fit_on_texts로 만들었던 각 단어들의 토큰(정수 인코딩)들을 기준으로 각 문장의 새로운 배열 생성.\n",
        "  print(encoded)\n",
        "  for i in range(1,len(encoded)): #정수로 인코딩 된 문장을 두 단어 이상부터 시작해서 마지막까지 다 포함되는 경우까지 차례대로 추가한다.\n",
        "    sequence=encoded[:i+1]\n",
        "    print(sequence)\n",
        "    sequences.append(sequence)\n",
        "print('학습에 사용할 샘플의 개수 : ', len(sequences))"
      ],
      "metadata": {
        "colab": {
          "base_uri": "https://localhost:8080/"
        },
        "id": "YY-c353X6ag7",
        "outputId": "bf8e809a-8a19-463a-a6fe-499598855183"
      },
      "execution_count": null,
      "outputs": [
        {
          "output_type": "stream",
          "name": "stdout",
          "text": [
            "[2, 3, 1, 4, 5]\n",
            "[2, 3]\n",
            "[2, 3, 1]\n",
            "[2, 3, 1, 4]\n",
            "[2, 3, 1, 4, 5]\n",
            "[]\n",
            "[6, 1, 7]\n",
            "[6, 1]\n",
            "[6, 1, 7]\n",
            "[]\n",
            "[8, 1, 9, 10, 1, 11]\n",
            "[8, 1]\n",
            "[8, 1, 9]\n",
            "[8, 1, 9, 10]\n",
            "[8, 1, 9, 10, 1]\n",
            "[8, 1, 9, 10, 1, 11]\n",
            "[]\n",
            "학습에 사용할 샘플의 개수 :  11\n"
          ]
        }
      ]
    },
    {
      "cell_type": "code",
      "source": [
        "print(sequences)"
      ],
      "metadata": {
        "colab": {
          "base_uri": "https://localhost:8080/"
        },
        "id": "W1YLiFJb7wzk",
        "outputId": "c8f3f559-8f79-4810-d626-4347d6e56d92"
      },
      "execution_count": null,
      "outputs": [
        {
          "output_type": "stream",
          "name": "stdout",
          "text": [
            "[[2, 3], [2, 3, 1], [2, 3, 1, 4], [2, 3, 1, 4, 5], [6, 1], [6, 1, 7], [8, 1], [8, 1, 9], [8, 1, 9, 10], [8, 1, 9, 10, 1], [8, 1, 9, 10, 1, 11]]\n"
          ]
        }
      ]
    },
    {
      "cell_type": "code",
      "source": [
        "max_len=max(len(l) for l in sequences)\n",
        "print(max_len)"
      ],
      "metadata": {
        "colab": {
          "base_uri": "https://localhost:8080/"
        },
        "id": "QSQyoNHSSbkS",
        "outputId": "bbf23f9d-1ef2-4ae3-aae0-bfdcc1270a65"
      },
      "execution_count": null,
      "outputs": [
        {
          "output_type": "stream",
          "name": "stdout",
          "text": [
            "6\n"
          ]
        }
      ]
    },
    {
      "cell_type": "code",
      "source": [
        "sequences=pad_sequences(sequences, maxlen=max_len, padding='pre') #앞에다가 0을 붙이고 최대 길이는 6으로 한다.\n",
        "print(sequences)"
      ],
      "metadata": {
        "colab": {
          "base_uri": "https://localhost:8080/"
        },
        "id": "nj4-8Q2OTpVi",
        "outputId": "0d1b9336-a561-4a49-d80f-679fdbfefd12"
      },
      "execution_count": null,
      "outputs": [
        {
          "output_type": "stream",
          "name": "stdout",
          "text": [
            "[[ 0  0  0  0  2  3]\n",
            " [ 0  0  0  2  3  1]\n",
            " [ 0  0  2  3  1  4]\n",
            " [ 0  2  3  1  4  5]\n",
            " [ 0  0  0  0  6  1]\n",
            " [ 0  0  0  6  1  7]\n",
            " [ 0  0  0  0  8  1]\n",
            " [ 0  0  0  8  1  9]\n",
            " [ 0  0  8  1  9 10]\n",
            " [ 0  8  1  9 10  1]\n",
            " [ 8  1  9 10  1 11]]\n"
          ]
        }
      ]
    },
    {
      "cell_type": "code",
      "source": [
        "#맨 마지막 데이터가 정답이므로 마지막 전까지의 단어들을 X, 마지막 단어를 y로 하여 분리한다.\n",
        "sequences=np.array(sequences)\n",
        "X=sequences[:,:-1] #행은 전체, 열은 마지막을 제외\n",
        "y=sequences[:,-1] #행은 전체, 열은 마지막만\n",
        "print(X)\n",
        "print(y)"
      ],
      "metadata": {
        "colab": {
          "base_uri": "https://localhost:8080/"
        },
        "id": "sHsBd-doT4T5",
        "outputId": "980a0f6e-4158-4f52-d01a-940d8d3c46f9"
      },
      "execution_count": null,
      "outputs": [
        {
          "output_type": "stream",
          "name": "stdout",
          "text": [
            "[[ 0  0  0  0  2]\n",
            " [ 0  0  0  2  3]\n",
            " [ 0  0  2  3  1]\n",
            " [ 0  2  3  1  4]\n",
            " [ 0  0  0  0  6]\n",
            " [ 0  0  0  6  1]\n",
            " [ 0  0  0  0  8]\n",
            " [ 0  0  0  8  1]\n",
            " [ 0  0  8  1  9]\n",
            " [ 0  8  1  9 10]\n",
            " [ 8  1  9 10  1]]\n",
            "[ 3  1  4  5  1  7  1  9 10  1 11]\n"
          ]
        }
      ]
    },
    {
      "cell_type": "code",
      "source": [
        "y=to_categorical(y, num_classes=vocab_size) #정수 인코딩 된 레이블을 원-핫 벡터로 인코딩\n",
        "print(y)"
      ],
      "metadata": {
        "colab": {
          "base_uri": "https://localhost:8080/"
        },
        "id": "Jt9hy5krUKwa",
        "outputId": "89b1531e-0ed5-49d7-a8f7-c344749fecde"
      },
      "execution_count": null,
      "outputs": [
        {
          "output_type": "stream",
          "name": "stdout",
          "text": [
            "[[0. 0. 0. 1. 0. 0. 0. 0. 0. 0. 0. 0.]\n",
            " [0. 1. 0. 0. 0. 0. 0. 0. 0. 0. 0. 0.]\n",
            " [0. 0. 0. 0. 1. 0. 0. 0. 0. 0. 0. 0.]\n",
            " [0. 0. 0. 0. 0. 1. 0. 0. 0. 0. 0. 0.]\n",
            " [0. 1. 0. 0. 0. 0. 0. 0. 0. 0. 0. 0.]\n",
            " [0. 0. 0. 0. 0. 0. 0. 1. 0. 0. 0. 0.]\n",
            " [0. 1. 0. 0. 0. 0. 0. 0. 0. 0. 0. 0.]\n",
            " [0. 0. 0. 0. 0. 0. 0. 0. 0. 1. 0. 0.]\n",
            " [0. 0. 0. 0. 0. 0. 0. 0. 0. 0. 1. 0.]\n",
            " [0. 1. 0. 0. 0. 0. 0. 0. 0. 0. 0. 0.]\n",
            " [0. 0. 0. 0. 0. 0. 0. 0. 0. 0. 0. 1.]]\n"
          ]
        }
      ]
    },
    {
      "cell_type": "code",
      "source": [
        "#모든 단어로 하나의 단어를 예측하는 RNN 모델 설계\n",
        "from tensorflow.keras.models import Sequential\n",
        "from tensorflow.keras.layers import Dense, Embedding, SimpleRNN\n",
        "\n",
        "embedding_dim=10\n",
        "hidden_units=32\n",
        "\n",
        "model=Sequential()\n",
        "model.add(Embedding(vocab_size, embedding_dim)) #단어 목록의 크기(쉽게 생각하면 입력 크기), 벡터의 차원\n",
        "model.add(SimpleRNN(hidden_units)) #은닉층 은닉 상태의 크기는 32(output_dim)\n",
        "model.add(Dense(vocab_size, activation='softmax')) #출력층, output_dim=단어 목록의 크기만큼으로 분류. 다중클래스분류이므로 softmax 사용\n",
        "model.compile(optimizer='adam', loss='categorical_crossentropy', metrics=['accuracy'])\n",
        "model.fit(X,y,epochs=200, verbose=2)"
      ],
      "metadata": {
        "colab": {
          "base_uri": "https://localhost:8080/"
        },
        "id": "pAVjYZYsUnDi",
        "outputId": "960a3912-8be6-42c9-9fed-9e485e8a65f0"
      },
      "execution_count": null,
      "outputs": [
        {
          "output_type": "stream",
          "name": "stdout",
          "text": [
            "Epoch 1/200\n",
            "1/1 - 2s - loss: 2.4779 - accuracy: 0.0909 - 2s/epoch - 2s/step\n",
            "Epoch 2/200\n",
            "1/1 - 0s - loss: 2.4656 - accuracy: 0.0909 - 8ms/epoch - 8ms/step\n",
            "Epoch 3/200\n",
            "1/1 - 0s - loss: 2.4531 - accuracy: 0.2727 - 8ms/epoch - 8ms/step\n",
            "Epoch 4/200\n",
            "1/1 - 0s - loss: 2.4404 - accuracy: 0.3636 - 8ms/epoch - 8ms/step\n",
            "Epoch 5/200\n",
            "1/1 - 0s - loss: 2.4274 - accuracy: 0.3636 - 8ms/epoch - 8ms/step\n",
            "Epoch 6/200\n",
            "1/1 - 0s - loss: 2.4140 - accuracy: 0.3636 - 11ms/epoch - 11ms/step\n",
            "Epoch 7/200\n",
            "1/1 - 0s - loss: 2.4002 - accuracy: 0.3636 - 11ms/epoch - 11ms/step\n",
            "Epoch 8/200\n",
            "1/1 - 0s - loss: 2.3860 - accuracy: 0.3636 - 11ms/epoch - 11ms/step\n",
            "Epoch 9/200\n",
            "1/1 - 0s - loss: 2.3713 - accuracy: 0.4545 - 11ms/epoch - 11ms/step\n",
            "Epoch 10/200\n",
            "1/1 - 0s - loss: 2.3560 - accuracy: 0.4545 - 12ms/epoch - 12ms/step\n",
            "Epoch 11/200\n",
            "1/1 - 0s - loss: 2.3402 - accuracy: 0.4545 - 12ms/epoch - 12ms/step\n",
            "Epoch 12/200\n",
            "1/1 - 0s - loss: 2.3238 - accuracy: 0.4545 - 14ms/epoch - 14ms/step\n",
            "Epoch 13/200\n",
            "1/1 - 0s - loss: 2.3066 - accuracy: 0.4545 - 23ms/epoch - 23ms/step\n",
            "Epoch 14/200\n",
            "1/1 - 0s - loss: 2.2888 - accuracy: 0.4545 - 15ms/epoch - 15ms/step\n",
            "Epoch 15/200\n",
            "1/1 - 0s - loss: 2.2703 - accuracy: 0.3636 - 13ms/epoch - 13ms/step\n",
            "Epoch 16/200\n",
            "1/1 - 0s - loss: 2.2511 - accuracy: 0.3636 - 14ms/epoch - 14ms/step\n",
            "Epoch 17/200\n",
            "1/1 - 0s - loss: 2.2311 - accuracy: 0.3636 - 16ms/epoch - 16ms/step\n",
            "Epoch 18/200\n",
            "1/1 - 0s - loss: 2.2105 - accuracy: 0.3636 - 16ms/epoch - 16ms/step\n",
            "Epoch 19/200\n",
            "1/1 - 0s - loss: 2.1892 - accuracy: 0.3636 - 16ms/epoch - 16ms/step\n",
            "Epoch 20/200\n",
            "1/1 - 0s - loss: 2.1673 - accuracy: 0.3636 - 17ms/epoch - 17ms/step\n",
            "Epoch 21/200\n",
            "1/1 - 0s - loss: 2.1448 - accuracy: 0.3636 - 15ms/epoch - 15ms/step\n",
            "Epoch 22/200\n",
            "1/1 - 0s - loss: 2.1219 - accuracy: 0.3636 - 13ms/epoch - 13ms/step\n",
            "Epoch 23/200\n",
            "1/1 - 0s - loss: 2.0988 - accuracy: 0.3636 - 15ms/epoch - 15ms/step\n",
            "Epoch 24/200\n",
            "1/1 - 0s - loss: 2.0755 - accuracy: 0.3636 - 14ms/epoch - 14ms/step\n",
            "Epoch 25/200\n",
            "1/1 - 0s - loss: 2.0524 - accuracy: 0.3636 - 13ms/epoch - 13ms/step\n",
            "Epoch 26/200\n",
            "1/1 - 0s - loss: 2.0295 - accuracy: 0.3636 - 17ms/epoch - 17ms/step\n",
            "Epoch 27/200\n",
            "1/1 - 0s - loss: 2.0072 - accuracy: 0.3636 - 21ms/epoch - 21ms/step\n",
            "Epoch 28/200\n",
            "1/1 - 0s - loss: 1.9857 - accuracy: 0.3636 - 13ms/epoch - 13ms/step\n",
            "Epoch 29/200\n",
            "1/1 - 0s - loss: 1.9652 - accuracy: 0.3636 - 11ms/epoch - 11ms/step\n",
            "Epoch 30/200\n",
            "1/1 - 0s - loss: 1.9457 - accuracy: 0.3636 - 10ms/epoch - 10ms/step\n",
            "Epoch 31/200\n",
            "1/1 - 0s - loss: 1.9274 - accuracy: 0.3636 - 10ms/epoch - 10ms/step\n",
            "Epoch 32/200\n",
            "1/1 - 0s - loss: 1.9102 - accuracy: 0.3636 - 14ms/epoch - 14ms/step\n",
            "Epoch 33/200\n",
            "1/1 - 0s - loss: 1.8938 - accuracy: 0.3636 - 8ms/epoch - 8ms/step\n",
            "Epoch 34/200\n",
            "1/1 - 0s - loss: 1.8782 - accuracy: 0.3636 - 9ms/epoch - 9ms/step\n",
            "Epoch 35/200\n",
            "1/1 - 0s - loss: 1.8628 - accuracy: 0.3636 - 8ms/epoch - 8ms/step\n",
            "Epoch 36/200\n",
            "1/1 - 0s - loss: 1.8476 - accuracy: 0.3636 - 8ms/epoch - 8ms/step\n",
            "Epoch 37/200\n",
            "1/1 - 0s - loss: 1.8320 - accuracy: 0.3636 - 8ms/epoch - 8ms/step\n",
            "Epoch 38/200\n",
            "1/1 - 0s - loss: 1.8160 - accuracy: 0.3636 - 8ms/epoch - 8ms/step\n",
            "Epoch 39/200\n",
            "1/1 - 0s - loss: 1.7996 - accuracy: 0.3636 - 8ms/epoch - 8ms/step\n",
            "Epoch 40/200\n",
            "1/1 - 0s - loss: 1.7826 - accuracy: 0.3636 - 8ms/epoch - 8ms/step\n",
            "Epoch 41/200\n",
            "1/1 - 0s - loss: 1.7652 - accuracy: 0.3636 - 8ms/epoch - 8ms/step\n",
            "Epoch 42/200\n",
            "1/1 - 0s - loss: 1.7476 - accuracy: 0.4545 - 8ms/epoch - 8ms/step\n",
            "Epoch 43/200\n",
            "1/1 - 0s - loss: 1.7300 - accuracy: 0.4545 - 10ms/epoch - 10ms/step\n",
            "Epoch 44/200\n",
            "1/1 - 0s - loss: 1.7125 - accuracy: 0.4545 - 13ms/epoch - 13ms/step\n",
            "Epoch 45/200\n",
            "1/1 - 0s - loss: 1.6951 - accuracy: 0.4545 - 9ms/epoch - 9ms/step\n",
            "Epoch 46/200\n",
            "1/1 - 0s - loss: 1.6780 - accuracy: 0.4545 - 8ms/epoch - 8ms/step\n",
            "Epoch 47/200\n",
            "1/1 - 0s - loss: 1.6611 - accuracy: 0.4545 - 8ms/epoch - 8ms/step\n",
            "Epoch 48/200\n",
            "1/1 - 0s - loss: 1.6442 - accuracy: 0.4545 - 8ms/epoch - 8ms/step\n",
            "Epoch 49/200\n",
            "1/1 - 0s - loss: 1.6272 - accuracy: 0.4545 - 9ms/epoch - 9ms/step\n",
            "Epoch 50/200\n",
            "1/1 - 0s - loss: 1.6100 - accuracy: 0.4545 - 9ms/epoch - 9ms/step\n",
            "Epoch 51/200\n",
            "1/1 - 0s - loss: 1.5925 - accuracy: 0.5455 - 14ms/epoch - 14ms/step\n",
            "Epoch 52/200\n",
            "1/1 - 0s - loss: 1.5745 - accuracy: 0.5455 - 14ms/epoch - 14ms/step\n",
            "Epoch 53/200\n",
            "1/1 - 0s - loss: 1.5561 - accuracy: 0.5455 - 9ms/epoch - 9ms/step\n",
            "Epoch 54/200\n",
            "1/1 - 0s - loss: 1.5374 - accuracy: 0.5455 - 8ms/epoch - 8ms/step\n",
            "Epoch 55/200\n",
            "1/1 - 0s - loss: 1.5183 - accuracy: 0.5455 - 15ms/epoch - 15ms/step\n",
            "Epoch 56/200\n",
            "1/1 - 0s - loss: 1.4990 - accuracy: 0.5455 - 9ms/epoch - 9ms/step\n",
            "Epoch 57/200\n",
            "1/1 - 0s - loss: 1.4796 - accuracy: 0.5455 - 9ms/epoch - 9ms/step\n",
            "Epoch 58/200\n",
            "1/1 - 0s - loss: 1.4601 - accuracy: 0.5455 - 9ms/epoch - 9ms/step\n",
            "Epoch 59/200\n",
            "1/1 - 0s - loss: 1.4405 - accuracy: 0.5455 - 8ms/epoch - 8ms/step\n",
            "Epoch 60/200\n",
            "1/1 - 0s - loss: 1.4208 - accuracy: 0.5455 - 8ms/epoch - 8ms/step\n",
            "Epoch 61/200\n",
            "1/1 - 0s - loss: 1.4010 - accuracy: 0.5455 - 9ms/epoch - 9ms/step\n",
            "Epoch 62/200\n",
            "1/1 - 0s - loss: 1.3811 - accuracy: 0.5455 - 11ms/epoch - 11ms/step\n",
            "Epoch 63/200\n",
            "1/1 - 0s - loss: 1.3611 - accuracy: 0.5455 - 12ms/epoch - 12ms/step\n",
            "Epoch 64/200\n",
            "1/1 - 0s - loss: 1.3409 - accuracy: 0.5455 - 10ms/epoch - 10ms/step\n",
            "Epoch 65/200\n",
            "1/1 - 0s - loss: 1.3205 - accuracy: 0.5455 - 9ms/epoch - 9ms/step\n",
            "Epoch 66/200\n",
            "1/1 - 0s - loss: 1.3000 - accuracy: 0.5455 - 11ms/epoch - 11ms/step\n",
            "Epoch 67/200\n",
            "1/1 - 0s - loss: 1.2794 - accuracy: 0.5455 - 9ms/epoch - 9ms/step\n",
            "Epoch 68/200\n",
            "1/1 - 0s - loss: 1.2588 - accuracy: 0.6364 - 9ms/epoch - 9ms/step\n",
            "Epoch 69/200\n",
            "1/1 - 0s - loss: 1.2381 - accuracy: 0.7273 - 11ms/epoch - 11ms/step\n",
            "Epoch 70/200\n",
            "1/1 - 0s - loss: 1.2174 - accuracy: 0.7273 - 10ms/epoch - 10ms/step\n",
            "Epoch 71/200\n",
            "1/1 - 0s - loss: 1.1967 - accuracy: 0.7273 - 11ms/epoch - 11ms/step\n",
            "Epoch 72/200\n",
            "1/1 - 0s - loss: 1.1761 - accuracy: 0.7273 - 9ms/epoch - 9ms/step\n",
            "Epoch 73/200\n",
            "1/1 - 0s - loss: 1.1556 - accuracy: 0.7273 - 9ms/epoch - 9ms/step\n",
            "Epoch 74/200\n",
            "1/1 - 0s - loss: 1.1352 - accuracy: 0.7273 - 9ms/epoch - 9ms/step\n",
            "Epoch 75/200\n",
            "1/1 - 0s - loss: 1.1150 - accuracy: 0.7273 - 10ms/epoch - 10ms/step\n",
            "Epoch 76/200\n",
            "1/1 - 0s - loss: 1.0948 - accuracy: 0.7273 - 10ms/epoch - 10ms/step\n",
            "Epoch 77/200\n",
            "1/1 - 0s - loss: 1.0748 - accuracy: 0.7273 - 9ms/epoch - 9ms/step\n",
            "Epoch 78/200\n",
            "1/1 - 0s - loss: 1.0550 - accuracy: 0.7273 - 9ms/epoch - 9ms/step\n",
            "Epoch 79/200\n",
            "1/1 - 0s - loss: 1.0354 - accuracy: 0.7273 - 9ms/epoch - 9ms/step\n",
            "Epoch 80/200\n",
            "1/1 - 0s - loss: 1.0160 - accuracy: 0.7273 - 10ms/epoch - 10ms/step\n",
            "Epoch 81/200\n",
            "1/1 - 0s - loss: 0.9969 - accuracy: 0.7273 - 9ms/epoch - 9ms/step\n",
            "Epoch 82/200\n",
            "1/1 - 0s - loss: 0.9780 - accuracy: 0.7273 - 11ms/epoch - 11ms/step\n",
            "Epoch 83/200\n",
            "1/1 - 0s - loss: 0.9594 - accuracy: 0.7273 - 8ms/epoch - 8ms/step\n",
            "Epoch 84/200\n",
            "1/1 - 0s - loss: 0.9411 - accuracy: 0.7273 - 8ms/epoch - 8ms/step\n",
            "Epoch 85/200\n",
            "1/1 - 0s - loss: 0.9230 - accuracy: 0.7273 - 8ms/epoch - 8ms/step\n",
            "Epoch 86/200\n",
            "1/1 - 0s - loss: 0.9052 - accuracy: 0.7273 - 15ms/epoch - 15ms/step\n",
            "Epoch 87/200\n",
            "1/1 - 0s - loss: 0.8877 - accuracy: 0.7273 - 12ms/epoch - 12ms/step\n",
            "Epoch 88/200\n",
            "1/1 - 0s - loss: 0.8704 - accuracy: 0.7273 - 10ms/epoch - 10ms/step\n",
            "Epoch 89/200\n",
            "1/1 - 0s - loss: 0.8534 - accuracy: 0.7273 - 10ms/epoch - 10ms/step\n",
            "Epoch 90/200\n",
            "1/1 - 0s - loss: 0.8367 - accuracy: 0.7273 - 10ms/epoch - 10ms/step\n",
            "Epoch 91/200\n",
            "1/1 - 0s - loss: 0.8203 - accuracy: 0.7273 - 10ms/epoch - 10ms/step\n",
            "Epoch 92/200\n",
            "1/1 - 0s - loss: 0.8041 - accuracy: 0.7273 - 12ms/epoch - 12ms/step\n",
            "Epoch 93/200\n",
            "1/1 - 0s - loss: 0.7883 - accuracy: 0.7273 - 11ms/epoch - 11ms/step\n",
            "Epoch 94/200\n",
            "1/1 - 0s - loss: 0.7727 - accuracy: 0.7273 - 10ms/epoch - 10ms/step\n",
            "Epoch 95/200\n",
            "1/1 - 0s - loss: 0.7574 - accuracy: 0.8182 - 8ms/epoch - 8ms/step\n",
            "Epoch 96/200\n",
            "1/1 - 0s - loss: 0.7424 - accuracy: 0.8182 - 9ms/epoch - 9ms/step\n",
            "Epoch 97/200\n",
            "1/1 - 0s - loss: 0.7276 - accuracy: 0.8182 - 10ms/epoch - 10ms/step\n",
            "Epoch 98/200\n",
            "1/1 - 0s - loss: 0.7132 - accuracy: 0.8182 - 9ms/epoch - 9ms/step\n",
            "Epoch 99/200\n",
            "1/1 - 0s - loss: 0.6990 - accuracy: 0.8182 - 10ms/epoch - 10ms/step\n",
            "Epoch 100/200\n",
            "1/1 - 0s - loss: 0.6851 - accuracy: 0.8182 - 10ms/epoch - 10ms/step\n",
            "Epoch 101/200\n",
            "1/1 - 0s - loss: 0.6715 - accuracy: 0.8182 - 11ms/epoch - 11ms/step\n",
            "Epoch 102/200\n",
            "1/1 - 0s - loss: 0.6581 - accuracy: 0.8182 - 8ms/epoch - 8ms/step\n",
            "Epoch 103/200\n",
            "1/1 - 0s - loss: 0.6450 - accuracy: 0.8182 - 8ms/epoch - 8ms/step\n",
            "Epoch 104/200\n",
            "1/1 - 0s - loss: 0.6322 - accuracy: 0.8182 - 10ms/epoch - 10ms/step\n",
            "Epoch 105/200\n",
            "1/1 - 0s - loss: 0.6197 - accuracy: 0.8182 - 9ms/epoch - 9ms/step\n",
            "Epoch 106/200\n",
            "1/1 - 0s - loss: 0.6074 - accuracy: 0.8182 - 12ms/epoch - 12ms/step\n",
            "Epoch 107/200\n",
            "1/1 - 0s - loss: 0.5953 - accuracy: 0.9091 - 12ms/epoch - 12ms/step\n",
            "Epoch 108/200\n",
            "1/1 - 0s - loss: 0.5835 - accuracy: 0.9091 - 8ms/epoch - 8ms/step\n",
            "Epoch 109/200\n",
            "1/1 - 0s - loss: 0.5720 - accuracy: 0.9091 - 10ms/epoch - 10ms/step\n",
            "Epoch 110/200\n",
            "1/1 - 0s - loss: 0.5607 - accuracy: 0.9091 - 8ms/epoch - 8ms/step\n",
            "Epoch 111/200\n",
            "1/1 - 0s - loss: 0.5496 - accuracy: 0.9091 - 8ms/epoch - 8ms/step\n",
            "Epoch 112/200\n",
            "1/1 - 0s - loss: 0.5388 - accuracy: 0.9091 - 8ms/epoch - 8ms/step\n",
            "Epoch 113/200\n",
            "1/1 - 0s - loss: 0.5282 - accuracy: 0.9091 - 9ms/epoch - 9ms/step\n",
            "Epoch 114/200\n",
            "1/1 - 0s - loss: 0.5178 - accuracy: 0.9091 - 8ms/epoch - 8ms/step\n",
            "Epoch 115/200\n",
            "1/1 - 0s - loss: 0.5077 - accuracy: 0.9091 - 8ms/epoch - 8ms/step\n",
            "Epoch 116/200\n",
            "1/1 - 0s - loss: 0.4977 - accuracy: 0.9091 - 10ms/epoch - 10ms/step\n",
            "Epoch 117/200\n",
            "1/1 - 0s - loss: 0.4880 - accuracy: 0.9091 - 9ms/epoch - 9ms/step\n",
            "Epoch 118/200\n",
            "1/1 - 0s - loss: 0.4785 - accuracy: 0.9091 - 7ms/epoch - 7ms/step\n",
            "Epoch 119/200\n",
            "1/1 - 0s - loss: 0.4692 - accuracy: 0.9091 - 9ms/epoch - 9ms/step\n",
            "Epoch 120/200\n",
            "1/1 - 0s - loss: 0.4601 - accuracy: 0.9091 - 13ms/epoch - 13ms/step\n",
            "Epoch 121/200\n",
            "1/1 - 0s - loss: 0.4511 - accuracy: 0.9091 - 8ms/epoch - 8ms/step\n",
            "Epoch 122/200\n",
            "1/1 - 0s - loss: 0.4424 - accuracy: 0.9091 - 8ms/epoch - 8ms/step\n",
            "Epoch 123/200\n",
            "1/1 - 0s - loss: 0.4339 - accuracy: 0.9091 - 9ms/epoch - 9ms/step\n",
            "Epoch 124/200\n",
            "1/1 - 0s - loss: 0.4255 - accuracy: 0.9091 - 8ms/epoch - 8ms/step\n",
            "Epoch 125/200\n",
            "1/1 - 0s - loss: 0.4173 - accuracy: 0.9091 - 10ms/epoch - 10ms/step\n",
            "Epoch 126/200\n",
            "1/1 - 0s - loss: 0.4093 - accuracy: 0.9091 - 8ms/epoch - 8ms/step\n",
            "Epoch 127/200\n",
            "1/1 - 0s - loss: 0.4015 - accuracy: 0.9091 - 9ms/epoch - 9ms/step\n",
            "Epoch 128/200\n",
            "1/1 - 0s - loss: 0.3938 - accuracy: 0.9091 - 9ms/epoch - 9ms/step\n",
            "Epoch 129/200\n",
            "1/1 - 0s - loss: 0.3863 - accuracy: 0.9091 - 9ms/epoch - 9ms/step\n",
            "Epoch 130/200\n",
            "1/1 - 0s - loss: 0.3790 - accuracy: 0.9091 - 13ms/epoch - 13ms/step\n",
            "Epoch 131/200\n",
            "1/1 - 0s - loss: 0.3718 - accuracy: 0.9091 - 11ms/epoch - 11ms/step\n",
            "Epoch 132/200\n",
            "1/1 - 0s - loss: 0.3648 - accuracy: 0.9091 - 11ms/epoch - 11ms/step\n",
            "Epoch 133/200\n",
            "1/1 - 0s - loss: 0.3580 - accuracy: 0.9091 - 11ms/epoch - 11ms/step\n",
            "Epoch 134/200\n",
            "1/1 - 0s - loss: 0.3512 - accuracy: 0.9091 - 17ms/epoch - 17ms/step\n",
            "Epoch 135/200\n",
            "1/1 - 0s - loss: 0.3447 - accuracy: 0.9091 - 18ms/epoch - 18ms/step\n",
            "Epoch 136/200\n",
            "1/1 - 0s - loss: 0.3382 - accuracy: 0.9091 - 18ms/epoch - 18ms/step\n",
            "Epoch 137/200\n",
            "1/1 - 0s - loss: 0.3319 - accuracy: 0.9091 - 22ms/epoch - 22ms/step\n",
            "Epoch 138/200\n",
            "1/1 - 0s - loss: 0.3257 - accuracy: 0.9091 - 21ms/epoch - 21ms/step\n",
            "Epoch 139/200\n",
            "1/1 - 0s - loss: 0.3197 - accuracy: 0.9091 - 17ms/epoch - 17ms/step\n",
            "Epoch 140/200\n",
            "1/1 - 0s - loss: 0.3138 - accuracy: 0.9091 - 19ms/epoch - 19ms/step\n",
            "Epoch 141/200\n",
            "1/1 - 0s - loss: 0.3080 - accuracy: 0.9091 - 15ms/epoch - 15ms/step\n",
            "Epoch 142/200\n",
            "1/1 - 0s - loss: 0.3023 - accuracy: 0.9091 - 18ms/epoch - 18ms/step\n",
            "Epoch 143/200\n",
            "1/1 - 0s - loss: 0.2967 - accuracy: 0.9091 - 15ms/epoch - 15ms/step\n",
            "Epoch 144/200\n",
            "1/1 - 0s - loss: 0.2913 - accuracy: 0.9091 - 21ms/epoch - 21ms/step\n",
            "Epoch 145/200\n",
            "1/1 - 0s - loss: 0.2860 - accuracy: 0.9091 - 12ms/epoch - 12ms/step\n",
            "Epoch 146/200\n",
            "1/1 - 0s - loss: 0.2807 - accuracy: 0.9091 - 12ms/epoch - 12ms/step\n",
            "Epoch 147/200\n",
            "1/1 - 0s - loss: 0.2756 - accuracy: 0.9091 - 11ms/epoch - 11ms/step\n",
            "Epoch 148/200\n",
            "1/1 - 0s - loss: 0.2706 - accuracy: 0.9091 - 12ms/epoch - 12ms/step\n",
            "Epoch 149/200\n",
            "1/1 - 0s - loss: 0.2656 - accuracy: 0.9091 - 11ms/epoch - 11ms/step\n",
            "Epoch 150/200\n",
            "1/1 - 0s - loss: 0.2608 - accuracy: 0.9091 - 15ms/epoch - 15ms/step\n",
            "Epoch 151/200\n",
            "1/1 - 0s - loss: 0.2561 - accuracy: 0.9091 - 19ms/epoch - 19ms/step\n",
            "Epoch 152/200\n",
            "1/1 - 0s - loss: 0.2514 - accuracy: 0.9091 - 12ms/epoch - 12ms/step\n",
            "Epoch 153/200\n",
            "1/1 - 0s - loss: 0.2468 - accuracy: 0.9091 - 13ms/epoch - 13ms/step\n",
            "Epoch 154/200\n",
            "1/1 - 0s - loss: 0.2424 - accuracy: 0.9091 - 13ms/epoch - 13ms/step\n",
            "Epoch 155/200\n",
            "1/1 - 0s - loss: 0.2380 - accuracy: 0.9091 - 13ms/epoch - 13ms/step\n",
            "Epoch 156/200\n",
            "1/1 - 0s - loss: 0.2337 - accuracy: 0.9091 - 11ms/epoch - 11ms/step\n",
            "Epoch 157/200\n",
            "1/1 - 0s - loss: 0.2294 - accuracy: 0.9091 - 11ms/epoch - 11ms/step\n",
            "Epoch 158/200\n",
            "1/1 - 0s - loss: 0.2253 - accuracy: 0.9091 - 18ms/epoch - 18ms/step\n",
            "Epoch 159/200\n",
            "1/1 - 0s - loss: 0.2212 - accuracy: 0.9091 - 26ms/epoch - 26ms/step\n",
            "Epoch 160/200\n",
            "1/1 - 0s - loss: 0.2172 - accuracy: 0.9091 - 11ms/epoch - 11ms/step\n",
            "Epoch 161/200\n",
            "1/1 - 0s - loss: 0.2133 - accuracy: 0.9091 - 14ms/epoch - 14ms/step\n",
            "Epoch 162/200\n",
            "1/1 - 0s - loss: 0.2094 - accuracy: 0.9091 - 12ms/epoch - 12ms/step\n",
            "Epoch 163/200\n",
            "1/1 - 0s - loss: 0.2056 - accuracy: 1.0000 - 27ms/epoch - 27ms/step\n",
            "Epoch 164/200\n",
            "1/1 - 0s - loss: 0.2019 - accuracy: 1.0000 - 12ms/epoch - 12ms/step\n",
            "Epoch 165/200\n",
            "1/1 - 0s - loss: 0.1982 - accuracy: 1.0000 - 17ms/epoch - 17ms/step\n",
            "Epoch 166/200\n",
            "1/1 - 0s - loss: 0.1946 - accuracy: 1.0000 - 13ms/epoch - 13ms/step\n",
            "Epoch 167/200\n",
            "1/1 - 0s - loss: 0.1911 - accuracy: 1.0000 - 13ms/epoch - 13ms/step\n",
            "Epoch 168/200\n",
            "1/1 - 0s - loss: 0.1876 - accuracy: 1.0000 - 12ms/epoch - 12ms/step\n",
            "Epoch 169/200\n",
            "1/1 - 0s - loss: 0.1842 - accuracy: 1.0000 - 12ms/epoch - 12ms/step\n",
            "Epoch 170/200\n",
            "1/1 - 0s - loss: 0.1809 - accuracy: 1.0000 - 12ms/epoch - 12ms/step\n",
            "Epoch 171/200\n",
            "1/1 - 0s - loss: 0.1776 - accuracy: 1.0000 - 14ms/epoch - 14ms/step\n",
            "Epoch 172/200\n",
            "1/1 - 0s - loss: 0.1744 - accuracy: 1.0000 - 11ms/epoch - 11ms/step\n",
            "Epoch 173/200\n",
            "1/1 - 0s - loss: 0.1712 - accuracy: 1.0000 - 65ms/epoch - 65ms/step\n",
            "Epoch 174/200\n",
            "1/1 - 0s - loss: 0.1681 - accuracy: 1.0000 - 19ms/epoch - 19ms/step\n",
            "Epoch 175/200\n",
            "1/1 - 0s - loss: 0.1651 - accuracy: 1.0000 - 14ms/epoch - 14ms/step\n",
            "Epoch 176/200\n",
            "1/1 - 0s - loss: 0.1621 - accuracy: 1.0000 - 15ms/epoch - 15ms/step\n",
            "Epoch 177/200\n",
            "1/1 - 0s - loss: 0.1592 - accuracy: 1.0000 - 12ms/epoch - 12ms/step\n",
            "Epoch 178/200\n",
            "1/1 - 0s - loss: 0.1563 - accuracy: 1.0000 - 14ms/epoch - 14ms/step\n",
            "Epoch 179/200\n",
            "1/1 - 0s - loss: 0.1534 - accuracy: 1.0000 - 15ms/epoch - 15ms/step\n",
            "Epoch 180/200\n",
            "1/1 - 0s - loss: 0.1507 - accuracy: 1.0000 - 16ms/epoch - 16ms/step\n",
            "Epoch 181/200\n",
            "1/1 - 0s - loss: 0.1479 - accuracy: 1.0000 - 13ms/epoch - 13ms/step\n",
            "Epoch 182/200\n",
            "1/1 - 0s - loss: 0.1453 - accuracy: 1.0000 - 11ms/epoch - 11ms/step\n",
            "Epoch 183/200\n",
            "1/1 - 0s - loss: 0.1426 - accuracy: 1.0000 - 27ms/epoch - 27ms/step\n",
            "Epoch 184/200\n",
            "1/1 - 0s - loss: 0.1400 - accuracy: 1.0000 - 24ms/epoch - 24ms/step\n",
            "Epoch 185/200\n",
            "1/1 - 0s - loss: 0.1375 - accuracy: 1.0000 - 17ms/epoch - 17ms/step\n",
            "Epoch 186/200\n",
            "1/1 - 0s - loss: 0.1350 - accuracy: 1.0000 - 12ms/epoch - 12ms/step\n",
            "Epoch 187/200\n",
            "1/1 - 0s - loss: 0.1326 - accuracy: 1.0000 - 12ms/epoch - 12ms/step\n",
            "Epoch 188/200\n",
            "1/1 - 0s - loss: 0.1302 - accuracy: 1.0000 - 12ms/epoch - 12ms/step\n",
            "Epoch 189/200\n",
            "1/1 - 0s - loss: 0.1279 - accuracy: 1.0000 - 14ms/epoch - 14ms/step\n",
            "Epoch 190/200\n",
            "1/1 - 0s - loss: 0.1256 - accuracy: 1.0000 - 11ms/epoch - 11ms/step\n",
            "Epoch 191/200\n",
            "1/1 - 0s - loss: 0.1233 - accuracy: 1.0000 - 11ms/epoch - 11ms/step\n",
            "Epoch 192/200\n",
            "1/1 - 0s - loss: 0.1211 - accuracy: 1.0000 - 17ms/epoch - 17ms/step\n",
            "Epoch 193/200\n",
            "1/1 - 0s - loss: 0.1189 - accuracy: 1.0000 - 13ms/epoch - 13ms/step\n",
            "Epoch 194/200\n",
            "1/1 - 0s - loss: 0.1168 - accuracy: 1.0000 - 24ms/epoch - 24ms/step\n",
            "Epoch 195/200\n",
            "1/1 - 0s - loss: 0.1147 - accuracy: 1.0000 - 11ms/epoch - 11ms/step\n",
            "Epoch 196/200\n",
            "1/1 - 0s - loss: 0.1127 - accuracy: 1.0000 - 11ms/epoch - 11ms/step\n",
            "Epoch 197/200\n",
            "1/1 - 0s - loss: 0.1107 - accuracy: 1.0000 - 16ms/epoch - 16ms/step\n",
            "Epoch 198/200\n",
            "1/1 - 0s - loss: 0.1087 - accuracy: 1.0000 - 19ms/epoch - 19ms/step\n",
            "Epoch 199/200\n",
            "1/1 - 0s - loss: 0.1068 - accuracy: 1.0000 - 14ms/epoch - 14ms/step\n",
            "Epoch 200/200\n",
            "1/1 - 0s - loss: 0.1049 - accuracy: 1.0000 - 17ms/epoch - 17ms/step\n"
          ]
        },
        {
          "output_type": "execute_result",
          "data": {
            "text/plain": [
              "<keras.callbacks.History at 0x79b970ebea70>"
            ]
          },
          "metadata": {},
          "execution_count": 111
        }
      ]
    },
    {
      "cell_type": "code",
      "source": [
        "print(tokenizer.word_index.items())"
      ],
      "metadata": {
        "colab": {
          "base_uri": "https://localhost:8080/"
        },
        "id": "cQvdGPw1dP6z",
        "outputId": "d8c88597-f80b-4af0-b0fc-4f9cd212c394"
      },
      "execution_count": null,
      "outputs": [
        {
          "output_type": "stream",
          "name": "stdout",
          "text": [
            "dict_items([('말이', 1), ('경마장에', 2), ('있는', 3), ('뛰고', 4), ('있다', 5), ('그의', 6), ('법이다', 7), ('가는', 8), ('고와야', 9), ('오는', 10), ('곱다', 11)])\n"
          ]
        }
      ]
    },
    {
      "cell_type": "code",
      "source": [
        "#문장 생성 함수\n",
        "def sentence_generation(model, tokenizer, current_word, n): #모델, 토크나이저, 현재 단어, 반복할 횟수\n",
        "  init_word=current_word\n",
        "  sentence=''\n",
        "\n",
        "  #n번 반복\n",
        "  for _ in range(n):\n",
        "    #현재 단어에 대한 정수 인코딩\n",
        "    encoded=tokenizer.texts_to_sequences([current_word])[0]\n",
        "    encoded=pad_sequences([encoded],maxlen=5, padding='pre')\n",
        "    #입력한 단어에 대한 예측 단어를 result에 저장\n",
        "    result=model.predict(encoded, verbose=0)\n",
        "    result=np.argmax(result, axis=1)#가장 큰 원소가 있는 인덱스를 반환\n",
        "\n",
        "    for word, index in tokenizer.word_index.items(): #tokenizer에 fit_on_texts로 저장해둔 토큰들 중에 있는지 확인한다.\n",
        "      if index==result:\n",
        "        break\n",
        "\n",
        "    current_word=current_word + ' ' + word #위 반복문에서 찾은 예측 단어와 합하여 다시 반복문에서 사용하도록 한다.\n",
        "\n",
        "    sentence=sentence + ' ' +word #문장에 저장\n",
        "\n",
        "  sentence=init_word + sentence\n",
        "  return sentence\n"
      ],
      "metadata": {
        "id": "tOCriUesZkT1"
      },
      "execution_count": null,
      "outputs": []
    },
    {
      "cell_type": "code",
      "source": [
        "print(sentence_generation(model, tokenizer, '가는', 4))"
      ],
      "metadata": {
        "colab": {
          "base_uri": "https://localhost:8080/"
        },
        "id": "Zrn-dtgDfg7m",
        "outputId": "957c8730-9bd2-4e86-8bc4-dc800a77a329"
      },
      "execution_count": null,
      "outputs": [
        {
          "output_type": "stream",
          "name": "stdout",
          "text": [
            "가는 말이 고와야 오는 말이\n"
          ]
        }
      ]
    },
    {
      "cell_type": "code",
      "source": [
        "!pip install kaggle"
      ],
      "metadata": {
        "colab": {
          "base_uri": "https://localhost:8080/"
        },
        "id": "__R1t8voiHwD",
        "outputId": "9d0c4d19-0e5c-4dd4-b57c-18d22a294408"
      },
      "execution_count": null,
      "outputs": [
        {
          "output_type": "stream",
          "name": "stdout",
          "text": [
            "Requirement already satisfied: kaggle in /usr/local/lib/python3.10/dist-packages (1.5.15)\n",
            "Requirement already satisfied: six>=1.10 in /usr/local/lib/python3.10/dist-packages (from kaggle) (1.16.0)\n",
            "Requirement already satisfied: certifi in /usr/local/lib/python3.10/dist-packages (from kaggle) (2023.5.7)\n",
            "Requirement already satisfied: python-dateutil in /usr/local/lib/python3.10/dist-packages (from kaggle) (2.8.2)\n",
            "Requirement already satisfied: requests in /usr/local/lib/python3.10/dist-packages (from kaggle) (2.27.1)\n",
            "Requirement already satisfied: tqdm in /usr/local/lib/python3.10/dist-packages (from kaggle) (4.65.0)\n",
            "Requirement already satisfied: python-slugify in /usr/local/lib/python3.10/dist-packages (from kaggle) (8.0.1)\n",
            "Requirement already satisfied: urllib3 in /usr/local/lib/python3.10/dist-packages (from kaggle) (1.26.16)\n",
            "Requirement already satisfied: bleach in /usr/local/lib/python3.10/dist-packages (from kaggle) (6.0.0)\n",
            "Requirement already satisfied: webencodings in /usr/local/lib/python3.10/dist-packages (from bleach->kaggle) (0.5.1)\n",
            "Requirement already satisfied: text-unidecode>=1.3 in /usr/local/lib/python3.10/dist-packages (from python-slugify->kaggle) (1.3)\n",
            "Requirement already satisfied: charset-normalizer~=2.0.0 in /usr/local/lib/python3.10/dist-packages (from requests->kaggle) (2.0.12)\n",
            "Requirement already satisfied: idna<4,>=2.5 in /usr/local/lib/python3.10/dist-packages (from requests->kaggle) (3.4)\n"
          ]
        }
      ]
    },
    {
      "cell_type": "code",
      "source": [
        "!kaggle datasets download -d aashita/nyt-comments"
      ],
      "metadata": {
        "colab": {
          "base_uri": "https://localhost:8080/"
        },
        "id": "vzj3OyM8fmcg",
        "outputId": "d02f8cd6-835f-4390-d7f3-abcfc6921e60"
      },
      "execution_count": null,
      "outputs": [
        {
          "output_type": "stream",
          "name": "stdout",
          "text": [
            "Traceback (most recent call last):\n",
            "  File \"/usr/local/bin/kaggle\", line 5, in <module>\n",
            "    from kaggle.cli import main\n",
            "  File \"/usr/local/lib/python3.10/dist-packages/kaggle/__init__.py\", line 23, in <module>\n",
            "    api.authenticate()\n",
            "  File \"/usr/local/lib/python3.10/dist-packages/kaggle/api/kaggle_api_extended.py\", line 181, in authenticate\n",
            "    raise IOError('Could not find {}. Make sure it\\'s located in'\n",
            "OSError: Could not find kaggle.json. Make sure it's located in /root/.kaggle. Or use the environment method.\n"
          ]
        }
      ]
    },
    {
      "cell_type": "code",
      "source": [
        "import pandas as pd\n",
        "import numpy as np\n",
        "from string import punctuation\n",
        "\n",
        "from tensorflow.keras.preprocessing.text import Tokenizer\n",
        "from tensorflow.keras.preprocessing.sequence import pad_sequences\n",
        "from tensorflow.keras.utils import to_categorical"
      ],
      "metadata": {
        "id": "4gdkjH-2iLs3"
      },
      "execution_count": null,
      "outputs": []
    },
    {
      "cell_type": "code",
      "source": [
        "df=pd.read_csv('ArticlesApril2018.csv')\n",
        "df.info()"
      ],
      "metadata": {
        "colab": {
          "base_uri": "https://localhost:8080/"
        },
        "id": "HDiDGBRsjFoI",
        "outputId": "97ea7429-94bf-42e9-c4b8-332cfce3794a"
      },
      "execution_count": null,
      "outputs": [
        {
          "output_type": "stream",
          "name": "stdout",
          "text": [
            "<class 'pandas.core.frame.DataFrame'>\n",
            "RangeIndex: 1324 entries, 0 to 1323\n",
            "Data columns (total 15 columns):\n",
            " #   Column            Non-Null Count  Dtype \n",
            "---  ------            --------------  ----- \n",
            " 0   articleID         1324 non-null   object\n",
            " 1   articleWordCount  1324 non-null   int64 \n",
            " 2   byline            1324 non-null   object\n",
            " 3   documentType      1324 non-null   object\n",
            " 4   headline          1324 non-null   object\n",
            " 5   keywords          1324 non-null   object\n",
            " 6   multimedia        1324 non-null   int64 \n",
            " 7   newDesk           1324 non-null   object\n",
            " 8   printPage         1324 non-null   int64 \n",
            " 9   pubDate           1324 non-null   object\n",
            " 10  sectionName       1324 non-null   object\n",
            " 11  snippet           1324 non-null   object\n",
            " 12  source            1324 non-null   object\n",
            " 13  typeOfMaterial    1324 non-null   object\n",
            " 14  webURL            1324 non-null   object\n",
            "dtypes: int64(3), object(12)\n",
            "memory usage: 155.3+ KB\n"
          ]
        }
      ]
    },
    {
      "cell_type": "code",
      "source": [
        "df['headline'].isnull().values.any()"
      ],
      "metadata": {
        "colab": {
          "base_uri": "https://localhost:8080/"
        },
        "id": "ufX4u-jfjMmf",
        "outputId": "3cb122b0-df03-4af0-98a7-d10438bbb161"
      },
      "execution_count": null,
      "outputs": [
        {
          "output_type": "execute_result",
          "data": {
            "text/plain": [
              "False"
            ]
          },
          "metadata": {},
          "execution_count": 136
        }
      ]
    },
    {
      "cell_type": "code",
      "source": [
        "headline=list(df['headline']) #리스트 형태로 저장\n",
        "headline[:5]"
      ],
      "metadata": {
        "colab": {
          "base_uri": "https://localhost:8080/"
        },
        "id": "6Or7cxj6k0qA",
        "outputId": "7dd60405-9678-4ba8-faee-26e306ee9ce3"
      },
      "execution_count": null,
      "outputs": [
        {
          "output_type": "execute_result",
          "data": {
            "text/plain": [
              "['Former N.F.L. Cheerleaders’ Settlement Offer: $1 and a Meeting With Goodell',\n",
              " 'E.P.A. to Unveil a New Rule. Its Effect: Less Science in Policymaking.',\n",
              " 'The New Noma, Explained',\n",
              " 'Unknown',\n",
              " 'Unknown']"
            ]
          },
          "metadata": {},
          "execution_count": 148
        }
      ]
    },
    {
      "cell_type": "code",
      "source": [
        "print('총 샘플의 개수 : ', len(headline))"
      ],
      "metadata": {
        "colab": {
          "base_uri": "https://localhost:8080/"
        },
        "id": "KZouVt5DlEx5",
        "outputId": "dae5e0a8-9249-4ac1-d317-7111a01a54b7"
      },
      "execution_count": null,
      "outputs": [
        {
          "output_type": "stream",
          "name": "stdout",
          "text": [
            "총 샘플의 개수 :  1324\n"
          ]
        }
      ]
    },
    {
      "cell_type": "code",
      "source": [
        "headline=[word for word in headline if word != 'Unknown']\n",
        "print('노이즈 값 제거 후 ', len(headline))"
      ],
      "metadata": {
        "colab": {
          "base_uri": "https://localhost:8080/"
        },
        "id": "EuJZAjj5mAmR",
        "outputId": "6aabb773-b6a0-4a64-ed07-01457716112a"
      },
      "execution_count": null,
      "outputs": [
        {
          "output_type": "stream",
          "name": "stdout",
          "text": [
            "노이즈 값 제거 후  1214\n"
          ]
        }
      ]
    },
    {
      "cell_type": "code",
      "source": [
        "#데이터 전처리\n",
        "def repreprocessing(raw_sentence):\n",
        "  preprocessed_sentence=raw_sentence.encode('utf8').decode('ascii','ignore') #어떤 언어든 깨지지 않고 출력이 가능한 utf8로 인코딩. ascii, ignore로 \\xe2\\x80\\x99 등과 같은 바이트 열 제거\n",
        "  return ''.join(word for word in preprocessed_sentence if word not in punctuation).lower()\n",
        "  # punctuation으로 구두점(. , ')을 모두 날리고 lower로 소문자화하며 join으로 모든 단어들을 한 문장의 문자열로 합한다.\n",
        "\n",
        "preprocessed_headline=[repreprocessing(x) for x in headline] #headline의 한 문장씩 전처리를 실행한다.\n",
        "preprocessed_headline[:5]"
      ],
      "metadata": {
        "colab": {
          "base_uri": "https://localhost:8080/"
        },
        "id": "HlQmMnd-mXfZ",
        "outputId": "89855de2-e87d-44eb-b2b4-ae1ce9c53d32"
      },
      "execution_count": null,
      "outputs": [
        {
          "output_type": "execute_result",
          "data": {
            "text/plain": [
              "['former nfl cheerleaders settlement offer 1 and a meeting with goodell',\n",
              " 'epa to unveil a new rule its effect less science in policymaking',\n",
              " 'the new noma explained',\n",
              " 'how a bag of texas dirt  became a times tradition',\n",
              " 'is school a place for selfexpression']"
            ]
          },
          "metadata": {},
          "execution_count": 157
        }
      ]
    },
    {
      "cell_type": "code",
      "source": [
        "#단어 집합 생성 및 tokenizer에 저장\n",
        "tokenizer=Tokenizer()\n",
        "tokenizer.fit_on_texts(preprocessed_headline)\n",
        "vocab_size=len(tokenizer.word_index)+1\n",
        "print('단어 집합의 크기 : {}'.format(vocab_size))"
      ],
      "metadata": {
        "colab": {
          "base_uri": "https://localhost:8080/"
        },
        "id": "Fn-axfn8q4GS",
        "outputId": "d20ac72f-0c60-44ee-c34d-35fba2e65176"
      },
      "execution_count": null,
      "outputs": [
        {
          "output_type": "stream",
          "name": "stdout",
          "text": [
            "단어 집합의 크기 : 3494\n"
          ]
        }
      ]
    },
    {
      "cell_type": "code",
      "source": [
        "#정수 인코딩을 동시하며 하나의 문장을 여러 줄로 분해 하여 train_data 생성\n",
        "sequences=[]\n",
        "for sentence in preprocessed_headline:\n",
        "  encoded=tokenizer.texts_to_sequences([sentence])[0] #정수 인코딩을 하는데 []으로 리스트형태로 받고 [0]인덱스로 설정을 하여 빈공간[] 없이 토큰화\n",
        "  for i in range(1,len(encoded)):#최소 단어 개수를 2개부터 해서\n",
        "    sequence=encoded[:i+1] #한 단어씩 늘려가며 리스트에 저장한다.\n",
        "    sequences.append(sequence)\n",
        "\n",
        "sequences[:11]"
      ],
      "metadata": {
        "colab": {
          "base_uri": "https://localhost:8080/"
        },
        "id": "hKpm7u3RsX86",
        "outputId": "5d60530c-a4f9-4802-f27c-4b70b6608bf8"
      },
      "execution_count": null,
      "outputs": [
        {
          "output_type": "execute_result",
          "data": {
            "text/plain": [
              "[[99, 269],\n",
              " [99, 269, 371],\n",
              " [99, 269, 371, 1115],\n",
              " [99, 269, 371, 1115, 582],\n",
              " [99, 269, 371, 1115, 582, 52],\n",
              " [99, 269, 371, 1115, 582, 52, 7],\n",
              " [99, 269, 371, 1115, 582, 52, 7, 2],\n",
              " [99, 269, 371, 1115, 582, 52, 7, 2, 372],\n",
              " [99, 269, 371, 1115, 582, 52, 7, 2, 372, 10],\n",
              " [99, 269, 371, 1115, 582, 52, 7, 2, 372, 10, 1116],\n",
              " [100, 3]]"
            ]
          },
          "metadata": {},
          "execution_count": 162
        }
      ]
    },
    {
      "cell_type": "code",
      "source": [
        "#word_to_index 생성\n",
        "index_to_word={}\n",
        "for word, index in tokenizer.word_index.items():\n",
        "  index_to_word[index]=word\n",
        "print('빈도수 10번째 단어 : ',index_to_word[10])"
      ],
      "metadata": {
        "colab": {
          "base_uri": "https://localhost:8080/"
        },
        "id": "VdTobfurtBqr",
        "outputId": "6663f931-eaac-4f88-99a5-d928691b79d4"
      },
      "execution_count": null,
      "outputs": [
        {
          "output_type": "stream",
          "name": "stdout",
          "text": [
            "빈도수 10번째 단어 :  with\n"
          ]
        }
      ]
    },
    {
      "cell_type": "code",
      "source": [
        "#패딩을 위한 max_len설정\n",
        "max_len=max(len(sequence)for sequence in sequences)\n",
        "print('샘플의 최대 길이 : ', max_len)"
      ],
      "metadata": {
        "colab": {
          "base_uri": "https://localhost:8080/"
        },
        "id": "36Fot1PWxBxM",
        "outputId": "1225ea16-91bb-4779-c5c0-dcb0f8a68e54"
      },
      "execution_count": null,
      "outputs": [
        {
          "output_type": "stream",
          "name": "stdout",
          "text": [
            "샘플의 최대 길이 :  24\n"
          ]
        }
      ]
    },
    {
      "cell_type": "code",
      "source": [
        "sequences=pad_sequences(sequences, maxlen=max_len, padding='pre')\n",
        "sequences[:3]"
      ],
      "metadata": {
        "colab": {
          "base_uri": "https://localhost:8080/"
        },
        "id": "MSnvh4OxxbKU",
        "outputId": "8b2105df-2d62-40ae-d42d-8b11831334c4"
      },
      "execution_count": null,
      "outputs": [
        {
          "output_type": "execute_result",
          "data": {
            "text/plain": [
              "array([[   0,    0,    0,    0,    0,    0,    0,    0,    0,    0,    0,\n",
              "           0,    0,    0,    0,    0,    0,    0,    0,    0,    0,    0,\n",
              "          99,  269],\n",
              "       [   0,    0,    0,    0,    0,    0,    0,    0,    0,    0,    0,\n",
              "           0,    0,    0,    0,    0,    0,    0,    0,    0,    0,   99,\n",
              "         269,  371],\n",
              "       [   0,    0,    0,    0,    0,    0,    0,    0,    0,    0,    0,\n",
              "           0,    0,    0,    0,    0,    0,    0,    0,    0,   99,  269,\n",
              "         371, 1115]], dtype=int32)"
            ]
          },
          "metadata": {},
          "execution_count": 169
        }
      ]
    },
    {
      "cell_type": "code",
      "source": [
        "#맨 우측 단어만 레이블로 분리\n",
        "X=sequences[:,:-1]\n",
        "y=sequences[:,-1]"
      ],
      "metadata": {
        "id": "0ht035xe7Abn"
      },
      "execution_count": null,
      "outputs": []
    },
    {
      "cell_type": "code",
      "source": [
        "y=to_categorical(y, num_classes=vocab_size) #레이블 원-핫 인코딩"
      ],
      "metadata": {
        "id": "RRmz62qJ7T5X"
      },
      "execution_count": null,
      "outputs": []
    },
    {
      "cell_type": "code",
      "source": [
        "#모델 설계\n",
        "from tensorflow.keras.models import Sequential\n",
        "from tensorflow.keras.layers import Dense, LSTM, Embedding"
      ],
      "metadata": {
        "id": "a--7vwUR7fr2"
      },
      "execution_count": null,
      "outputs": []
    },
    {
      "cell_type": "code",
      "source": [
        "embedding_dim=10\n",
        "hidden_units=128\n",
        "\n",
        "model=Sequential()\n",
        "model.add(Embedding(input_dim=vocab_size, output_dim=embedding_dim)) #단어 목록의 크기, 임베딩의 차원\n",
        "model.add(LSTM(hidden_units))\n",
        "model.add(Dense(vocab_size, activation='softmax'))\n",
        "model.compile(optimizer='adam', loss='categorical_crossentropy', metrics=['accuracy'])\n",
        "model.fit(X, y, epochs=200, verbose=2)"
      ],
      "metadata": {
        "colab": {
          "base_uri": "https://localhost:8080/"
        },
        "id": "k183mslN7uw3",
        "outputId": "b11a2d0b-a577-456b-994d-27715fa45dd2"
      },
      "execution_count": null,
      "outputs": [
        {
          "output_type": "stream",
          "name": "stdout",
          "text": [
            "Epoch 1/200\n",
            "244/244 - 14s - loss: 7.6355 - accuracy: 0.0302 - 14s/epoch - 58ms/step\n",
            "Epoch 2/200\n",
            "244/244 - 13s - loss: 7.1165 - accuracy: 0.0259 - 13s/epoch - 53ms/step\n",
            "Epoch 3/200\n",
            "244/244 - 12s - loss: 6.9865 - accuracy: 0.0333 - 12s/epoch - 50ms/step\n",
            "Epoch 4/200\n",
            "244/244 - 13s - loss: 6.8700 - accuracy: 0.0405 - 13s/epoch - 55ms/step\n",
            "Epoch 5/200\n",
            "244/244 - 15s - loss: 6.7214 - accuracy: 0.0424 - 15s/epoch - 62ms/step\n",
            "Epoch 6/200\n",
            "244/244 - 12s - loss: 6.5473 - accuracy: 0.0469 - 12s/epoch - 49ms/step\n",
            "Epoch 7/200\n",
            "244/244 - 12s - loss: 6.3641 - accuracy: 0.0504 - 12s/epoch - 48ms/step\n",
            "Epoch 8/200\n",
            "244/244 - 12s - loss: 6.1707 - accuracy: 0.0568 - 12s/epoch - 51ms/step\n",
            "Epoch 9/200\n",
            "244/244 - 14s - loss: 5.9793 - accuracy: 0.0592 - 14s/epoch - 57ms/step\n",
            "Epoch 10/200\n",
            "244/244 - 12s - loss: 5.7953 - accuracy: 0.0669 - 12s/epoch - 48ms/step\n",
            "Epoch 11/200\n",
            "244/244 - 11s - loss: 5.6214 - accuracy: 0.0715 - 11s/epoch - 47ms/step\n",
            "Epoch 12/200\n",
            "244/244 - 15s - loss: 5.4552 - accuracy: 0.0750 - 15s/epoch - 61ms/step\n",
            "Epoch 13/200\n",
            "244/244 - 15s - loss: 5.2973 - accuracy: 0.0789 - 15s/epoch - 60ms/step\n",
            "Epoch 14/200\n",
            "244/244 - 13s - loss: 5.1448 - accuracy: 0.0860 - 13s/epoch - 53ms/step\n",
            "Epoch 15/200\n",
            "244/244 - 17s - loss: 5.0004 - accuracy: 0.0952 - 17s/epoch - 70ms/step\n",
            "Epoch 16/200\n",
            "244/244 - 16s - loss: 4.8597 - accuracy: 0.1053 - 16s/epoch - 67ms/step\n",
            "Epoch 17/200\n",
            "244/244 - 14s - loss: 4.7270 - accuracy: 0.1148 - 14s/epoch - 57ms/step\n",
            "Epoch 18/200\n",
            "244/244 - 17s - loss: 4.5968 - accuracy: 0.1305 - 17s/epoch - 68ms/step\n",
            "Epoch 19/200\n",
            "244/244 - 14s - loss: 4.4710 - accuracy: 0.1423 - 14s/epoch - 55ms/step\n",
            "Epoch 20/200\n",
            "244/244 - 15s - loss: 4.3494 - accuracy: 0.1537 - 15s/epoch - 62ms/step\n",
            "Epoch 21/200\n",
            "244/244 - 15s - loss: 4.2315 - accuracy: 0.1754 - 15s/epoch - 64ms/step\n",
            "Epoch 22/200\n",
            "244/244 - 13s - loss: 4.1138 - accuracy: 0.1951 - 13s/epoch - 52ms/step\n",
            "Epoch 23/200\n",
            "244/244 - 13s - loss: 4.0039 - accuracy: 0.2075 - 13s/epoch - 52ms/step\n",
            "Epoch 24/200\n",
            "244/244 - 12s - loss: 3.8950 - accuracy: 0.2248 - 12s/epoch - 48ms/step\n",
            "Epoch 25/200\n",
            "244/244 - 15s - loss: 3.7919 - accuracy: 0.2446 - 15s/epoch - 61ms/step\n",
            "Epoch 26/200\n",
            "244/244 - 15s - loss: 3.6881 - accuracy: 0.2658 - 15s/epoch - 60ms/step\n",
            "Epoch 27/200\n",
            "244/244 - 15s - loss: 3.5956 - accuracy: 0.2803 - 15s/epoch - 60ms/step\n",
            "Epoch 28/200\n",
            "244/244 - 12s - loss: 3.5011 - accuracy: 0.2972 - 12s/epoch - 51ms/step\n",
            "Epoch 29/200\n",
            "244/244 - 17s - loss: 3.4092 - accuracy: 0.3128 - 17s/epoch - 71ms/step\n",
            "Epoch 30/200\n",
            "244/244 - 16s - loss: 3.3227 - accuracy: 0.3288 - 16s/epoch - 65ms/step\n",
            "Epoch 31/200\n",
            "244/244 - 15s - loss: 3.2371 - accuracy: 0.3422 - 15s/epoch - 62ms/step\n",
            "Epoch 32/200\n",
            "244/244 - 14s - loss: 3.1560 - accuracy: 0.3624 - 14s/epoch - 58ms/step\n",
            "Epoch 33/200\n",
            "244/244 - 13s - loss: 3.0777 - accuracy: 0.3746 - 13s/epoch - 54ms/step\n",
            "Epoch 34/200\n",
            "244/244 - 14s - loss: 3.0017 - accuracy: 0.3870 - 14s/epoch - 57ms/step\n",
            "Epoch 35/200\n",
            "244/244 - 15s - loss: 2.9274 - accuracy: 0.4063 - 15s/epoch - 62ms/step\n",
            "Epoch 36/200\n",
            "244/244 - 13s - loss: 2.8572 - accuracy: 0.4139 - 13s/epoch - 54ms/step\n",
            "Epoch 37/200\n",
            "244/244 - 16s - loss: 2.7905 - accuracy: 0.4289 - 16s/epoch - 64ms/step\n",
            "Epoch 38/200\n",
            "244/244 - 15s - loss: 2.7241 - accuracy: 0.4383 - 15s/epoch - 63ms/step\n",
            "Epoch 39/200\n",
            "244/244 - 12s - loss: 2.6586 - accuracy: 0.4498 - 12s/epoch - 48ms/step\n",
            "Epoch 40/200\n",
            "244/244 - 11s - loss: 2.5957 - accuracy: 0.4711 - 11s/epoch - 46ms/step\n",
            "Epoch 41/200\n",
            "244/244 - 12s - loss: 2.5388 - accuracy: 0.4778 - 12s/epoch - 50ms/step\n",
            "Epoch 42/200\n",
            "244/244 - 12s - loss: 2.4793 - accuracy: 0.4880 - 12s/epoch - 48ms/step\n",
            "Epoch 43/200\n",
            "244/244 - 12s - loss: 2.4230 - accuracy: 0.4998 - 12s/epoch - 47ms/step\n",
            "Epoch 44/200\n",
            "244/244 - 12s - loss: 2.3672 - accuracy: 0.5066 - 12s/epoch - 47ms/step\n",
            "Epoch 45/200\n",
            "244/244 - 12s - loss: 2.3153 - accuracy: 0.5152 - 12s/epoch - 47ms/step\n",
            "Epoch 46/200\n",
            "244/244 - 13s - loss: 2.2633 - accuracy: 0.5274 - 13s/epoch - 52ms/step\n",
            "Epoch 47/200\n",
            "244/244 - 12s - loss: 2.2136 - accuracy: 0.5413 - 12s/epoch - 48ms/step\n",
            "Epoch 48/200\n",
            "244/244 - 12s - loss: 2.1642 - accuracy: 0.5502 - 12s/epoch - 50ms/step\n",
            "Epoch 49/200\n",
            "244/244 - 12s - loss: 2.1149 - accuracy: 0.5622 - 12s/epoch - 49ms/step\n",
            "Epoch 50/200\n",
            "244/244 - 10s - loss: 2.0691 - accuracy: 0.5711 - 10s/epoch - 42ms/step\n",
            "Epoch 51/200\n",
            "244/244 - 12s - loss: 2.0228 - accuracy: 0.5798 - 12s/epoch - 48ms/step\n",
            "Epoch 52/200\n",
            "244/244 - 12s - loss: 1.9789 - accuracy: 0.5862 - 12s/epoch - 48ms/step\n",
            "Epoch 53/200\n",
            "244/244 - 12s - loss: 1.9374 - accuracy: 0.5961 - 12s/epoch - 48ms/step\n",
            "Epoch 54/200\n",
            "244/244 - 11s - loss: 1.8936 - accuracy: 0.6090 - 11s/epoch - 46ms/step\n",
            "Epoch 55/200\n",
            "244/244 - 12s - loss: 1.8517 - accuracy: 0.6153 - 12s/epoch - 48ms/step\n",
            "Epoch 56/200\n",
            "244/244 - 12s - loss: 1.8121 - accuracy: 0.6196 - 12s/epoch - 48ms/step\n",
            "Epoch 57/200\n",
            "244/244 - 11s - loss: 1.7712 - accuracy: 0.6316 - 11s/epoch - 47ms/step\n",
            "Epoch 58/200\n",
            "244/244 - 12s - loss: 1.7362 - accuracy: 0.6386 - 12s/epoch - 48ms/step\n",
            "Epoch 59/200\n",
            "244/244 - 11s - loss: 1.6953 - accuracy: 0.6448 - 11s/epoch - 43ms/step\n",
            "Epoch 60/200\n",
            "244/244 - 11s - loss: 1.6602 - accuracy: 0.6571 - 11s/epoch - 46ms/step\n",
            "Epoch 61/200\n",
            "244/244 - 12s - loss: 1.6213 - accuracy: 0.6644 - 12s/epoch - 48ms/step\n",
            "Epoch 62/200\n",
            "244/244 - 13s - loss: 1.5865 - accuracy: 0.6727 - 13s/epoch - 54ms/step\n",
            "Epoch 63/200\n",
            "244/244 - 12s - loss: 1.5534 - accuracy: 0.6800 - 12s/epoch - 48ms/step\n",
            "Epoch 64/200\n",
            "244/244 - 12s - loss: 1.5175 - accuracy: 0.6885 - 12s/epoch - 48ms/step\n",
            "Epoch 65/200\n",
            "244/244 - 12s - loss: 1.4847 - accuracy: 0.6967 - 12s/epoch - 48ms/step\n",
            "Epoch 66/200\n",
            "244/244 - 12s - loss: 1.4535 - accuracy: 0.6992 - 12s/epoch - 48ms/step\n",
            "Epoch 67/200\n",
            "244/244 - 12s - loss: 1.4193 - accuracy: 0.7090 - 12s/epoch - 47ms/step\n",
            "Epoch 68/200\n",
            "244/244 - 12s - loss: 1.3883 - accuracy: 0.7191 - 12s/epoch - 48ms/step\n",
            "Epoch 69/200\n",
            "244/244 - 12s - loss: 1.3581 - accuracy: 0.7255 - 12s/epoch - 49ms/step\n",
            "Epoch 70/200\n",
            "244/244 - 12s - loss: 1.3285 - accuracy: 0.7309 - 12s/epoch - 48ms/step\n",
            "Epoch 71/200\n",
            "244/244 - 19s - loss: 1.2978 - accuracy: 0.7404 - 19s/epoch - 77ms/step\n",
            "Epoch 72/200\n",
            "244/244 - 14s - loss: 1.2693 - accuracy: 0.7457 - 14s/epoch - 56ms/step\n",
            "Epoch 73/200\n",
            "244/244 - 12s - loss: 1.2421 - accuracy: 0.7509 - 12s/epoch - 48ms/step\n",
            "Epoch 74/200\n",
            "244/244 - 12s - loss: 1.2120 - accuracy: 0.7603 - 12s/epoch - 48ms/step\n",
            "Epoch 75/200\n",
            "244/244 - 12s - loss: 1.1847 - accuracy: 0.7694 - 12s/epoch - 48ms/step\n",
            "Epoch 76/200\n",
            "244/244 - 12s - loss: 1.1593 - accuracy: 0.7715 - 12s/epoch - 48ms/step\n",
            "Epoch 77/200\n",
            "244/244 - 11s - loss: 1.1325 - accuracy: 0.7760 - 11s/epoch - 45ms/step\n",
            "Epoch 78/200\n",
            "244/244 - 11s - loss: 1.1067 - accuracy: 0.7785 - 11s/epoch - 45ms/step\n",
            "Epoch 79/200\n",
            "244/244 - 12s - loss: 1.0811 - accuracy: 0.7880 - 12s/epoch - 48ms/step\n",
            "Epoch 80/200\n",
            "244/244 - 12s - loss: 1.0543 - accuracy: 0.7929 - 12s/epoch - 48ms/step\n",
            "Epoch 81/200\n",
            "244/244 - 12s - loss: 1.0332 - accuracy: 0.7937 - 12s/epoch - 48ms/step\n",
            "Epoch 82/200\n",
            "244/244 - 12s - loss: 1.0086 - accuracy: 0.8016 - 12s/epoch - 47ms/step\n",
            "Epoch 83/200\n",
            "244/244 - 13s - loss: 0.9871 - accuracy: 0.8030 - 13s/epoch - 54ms/step\n",
            "Epoch 84/200\n",
            "244/244 - 12s - loss: 0.9622 - accuracy: 0.8098 - 12s/epoch - 48ms/step\n",
            "Epoch 85/200\n",
            "244/244 - 12s - loss: 0.9383 - accuracy: 0.8162 - 12s/epoch - 48ms/step\n",
            "Epoch 86/200\n",
            "244/244 - 11s - loss: 0.9187 - accuracy: 0.8184 - 11s/epoch - 45ms/step\n",
            "Epoch 87/200\n",
            "244/244 - 11s - loss: 0.8964 - accuracy: 0.8270 - 11s/epoch - 46ms/step\n",
            "Epoch 88/200\n",
            "244/244 - 12s - loss: 0.8757 - accuracy: 0.8267 - 12s/epoch - 48ms/step\n",
            "Epoch 89/200\n",
            "244/244 - 12s - loss: 0.8570 - accuracy: 0.8312 - 12s/epoch - 48ms/step\n",
            "Epoch 90/200\n",
            "244/244 - 12s - loss: 0.8362 - accuracy: 0.8343 - 12s/epoch - 48ms/step\n",
            "Epoch 91/200\n",
            "244/244 - 12s - loss: 0.8171 - accuracy: 0.8402 - 12s/epoch - 47ms/step\n",
            "Epoch 92/200\n",
            "244/244 - 12s - loss: 0.7986 - accuracy: 0.8436 - 12s/epoch - 48ms/step\n",
            "Epoch 93/200\n",
            "244/244 - 12s - loss: 0.7861 - accuracy: 0.8428 - 12s/epoch - 48ms/step\n",
            "Epoch 94/200\n",
            "244/244 - 11s - loss: 0.7674 - accuracy: 0.8493 - 11s/epoch - 47ms/step\n",
            "Epoch 95/200\n",
            "244/244 - 11s - loss: 0.7485 - accuracy: 0.8535 - 11s/epoch - 44ms/step\n",
            "Epoch 96/200\n",
            "244/244 - 11s - loss: 0.7279 - accuracy: 0.8552 - 11s/epoch - 44ms/step\n",
            "Epoch 97/200\n",
            "244/244 - 12s - loss: 0.7107 - accuracy: 0.8594 - 12s/epoch - 47ms/step\n",
            "Epoch 98/200\n",
            "244/244 - 12s - loss: 0.6952 - accuracy: 0.8658 - 12s/epoch - 48ms/step\n",
            "Epoch 99/200\n",
            "244/244 - 12s - loss: 0.6800 - accuracy: 0.8658 - 12s/epoch - 48ms/step\n",
            "Epoch 100/200\n",
            "244/244 - 12s - loss: 0.6643 - accuracy: 0.8688 - 12s/epoch - 48ms/step\n",
            "Epoch 101/200\n",
            "244/244 - 12s - loss: 0.6503 - accuracy: 0.8718 - 12s/epoch - 49ms/step\n",
            "Epoch 102/200\n",
            "244/244 - 12s - loss: 0.6366 - accuracy: 0.8740 - 12s/epoch - 47ms/step\n",
            "Epoch 103/200\n",
            "244/244 - 12s - loss: 0.6239 - accuracy: 0.8765 - 12s/epoch - 48ms/step\n",
            "Epoch 104/200\n",
            "244/244 - 11s - loss: 0.6115 - accuracy: 0.8788 - 11s/epoch - 46ms/step\n",
            "Epoch 105/200\n",
            "244/244 - 13s - loss: 0.5984 - accuracy: 0.8803 - 13s/epoch - 52ms/step\n",
            "Epoch 106/200\n",
            "244/244 - 11s - loss: 0.5813 - accuracy: 0.8847 - 11s/epoch - 44ms/step\n",
            "Epoch 107/200\n",
            "244/244 - 12s - loss: 0.5697 - accuracy: 0.8863 - 12s/epoch - 47ms/step\n",
            "Epoch 108/200\n",
            "244/244 - 12s - loss: 0.5596 - accuracy: 0.8895 - 12s/epoch - 47ms/step\n",
            "Epoch 109/200\n",
            "244/244 - 12s - loss: 0.5489 - accuracy: 0.8888 - 12s/epoch - 49ms/step\n",
            "Epoch 110/200\n",
            "244/244 - 12s - loss: 0.5380 - accuracy: 0.8927 - 12s/epoch - 48ms/step\n",
            "Epoch 111/200\n",
            "244/244 - 12s - loss: 0.5236 - accuracy: 0.8930 - 12s/epoch - 48ms/step\n",
            "Epoch 112/200\n",
            "244/244 - 12s - loss: 0.5129 - accuracy: 0.8971 - 12s/epoch - 47ms/step\n",
            "Epoch 113/200\n",
            "244/244 - 12s - loss: 0.5070 - accuracy: 0.8975 - 12s/epoch - 48ms/step\n",
            "Epoch 114/200\n",
            "244/244 - 12s - loss: 0.4961 - accuracy: 0.8968 - 12s/epoch - 48ms/step\n",
            "Epoch 115/200\n",
            "244/244 - 10s - loss: 0.4833 - accuracy: 0.8999 - 10s/epoch - 43ms/step\n",
            "Epoch 116/200\n",
            "244/244 - 11s - loss: 0.4742 - accuracy: 0.9023 - 11s/epoch - 46ms/step\n",
            "Epoch 117/200\n",
            "244/244 - 12s - loss: 0.4648 - accuracy: 0.9045 - 12s/epoch - 48ms/step\n",
            "Epoch 118/200\n",
            "244/244 - 11s - loss: 0.4556 - accuracy: 0.9057 - 11s/epoch - 47ms/step\n",
            "Epoch 119/200\n",
            "244/244 - 12s - loss: 0.4496 - accuracy: 0.9079 - 12s/epoch - 47ms/step\n",
            "Epoch 120/200\n",
            "244/244 - 12s - loss: 0.4417 - accuracy: 0.9073 - 12s/epoch - 47ms/step\n",
            "Epoch 121/200\n",
            "244/244 - 12s - loss: 0.4375 - accuracy: 0.9072 - 12s/epoch - 47ms/step\n",
            "Epoch 122/200\n",
            "244/244 - 12s - loss: 0.4241 - accuracy: 0.9090 - 12s/epoch - 48ms/step\n",
            "Epoch 123/200\n",
            "244/244 - 11s - loss: 0.4166 - accuracy: 0.9112 - 11s/epoch - 46ms/step\n",
            "Epoch 124/200\n",
            "244/244 - 11s - loss: 0.4104 - accuracy: 0.9086 - 11s/epoch - 45ms/step\n",
            "Epoch 125/200\n",
            "244/244 - 12s - loss: 0.4127 - accuracy: 0.9094 - 12s/epoch - 48ms/step\n",
            "Epoch 126/200\n",
            "244/244 - 12s - loss: 0.4326 - accuracy: 0.9049 - 12s/epoch - 48ms/step\n",
            "Epoch 127/200\n",
            "244/244 - 13s - loss: 0.4110 - accuracy: 0.9107 - 13s/epoch - 54ms/step\n",
            "Epoch 128/200\n",
            "244/244 - 12s - loss: 0.3868 - accuracy: 0.9129 - 12s/epoch - 48ms/step\n",
            "Epoch 129/200\n",
            "244/244 - 12s - loss: 0.3788 - accuracy: 0.9130 - 12s/epoch - 48ms/step\n",
            "Epoch 130/200\n",
            "244/244 - 12s - loss: 0.3748 - accuracy: 0.9144 - 12s/epoch - 48ms/step\n",
            "Epoch 131/200\n",
            "244/244 - 12s - loss: 0.3692 - accuracy: 0.9138 - 12s/epoch - 47ms/step\n",
            "Epoch 132/200\n",
            "244/244 - 12s - loss: 0.3642 - accuracy: 0.9152 - 12s/epoch - 47ms/step\n",
            "Epoch 133/200\n",
            "244/244 - 12s - loss: 0.3598 - accuracy: 0.9145 - 12s/epoch - 48ms/step\n",
            "Epoch 134/200\n",
            "244/244 - 11s - loss: 0.3561 - accuracy: 0.9150 - 11s/epoch - 46ms/step\n",
            "Epoch 135/200\n",
            "244/244 - 11s - loss: 0.3533 - accuracy: 0.9141 - 11s/epoch - 46ms/step\n",
            "Epoch 136/200\n",
            "244/244 - 12s - loss: 0.3509 - accuracy: 0.9154 - 12s/epoch - 48ms/step\n",
            "Epoch 137/200\n",
            "244/244 - 12s - loss: 0.3433 - accuracy: 0.9166 - 12s/epoch - 48ms/step\n",
            "Epoch 138/200\n",
            "244/244 - 12s - loss: 0.3387 - accuracy: 0.9149 - 12s/epoch - 49ms/step\n",
            "Epoch 139/200\n",
            "244/244 - 12s - loss: 0.3358 - accuracy: 0.9161 - 12s/epoch - 49ms/step\n",
            "Epoch 140/200\n",
            "244/244 - 12s - loss: 0.3326 - accuracy: 0.9167 - 12s/epoch - 48ms/step\n",
            "Epoch 141/200\n",
            "244/244 - 12s - loss: 0.3342 - accuracy: 0.9158 - 12s/epoch - 48ms/step\n",
            "Epoch 142/200\n",
            "244/244 - 12s - loss: 0.3298 - accuracy: 0.9150 - 12s/epoch - 48ms/step\n",
            "Epoch 143/200\n",
            "244/244 - 12s - loss: 0.3233 - accuracy: 0.9157 - 12s/epoch - 50ms/step\n",
            "Epoch 144/200\n",
            "244/244 - 15s - loss: 0.3191 - accuracy: 0.9163 - 15s/epoch - 63ms/step\n",
            "Epoch 145/200\n",
            "244/244 - 12s - loss: 0.3172 - accuracy: 0.9176 - 12s/epoch - 48ms/step\n",
            "Epoch 146/200\n",
            "244/244 - 15s - loss: 0.3162 - accuracy: 0.9166 - 15s/epoch - 62ms/step\n",
            "Epoch 147/200\n",
            "244/244 - 12s - loss: 0.3128 - accuracy: 0.9158 - 12s/epoch - 48ms/step\n",
            "Epoch 148/200\n",
            "244/244 - 13s - loss: 0.3098 - accuracy: 0.9154 - 13s/epoch - 53ms/step\n",
            "Epoch 149/200\n",
            "244/244 - 11s - loss: 0.3071 - accuracy: 0.9159 - 11s/epoch - 45ms/step\n",
            "Epoch 150/200\n",
            "244/244 - 11s - loss: 0.3056 - accuracy: 0.9171 - 11s/epoch - 45ms/step\n",
            "Epoch 151/200\n",
            "244/244 - 12s - loss: 0.3020 - accuracy: 0.9185 - 12s/epoch - 48ms/step\n",
            "Epoch 152/200\n",
            "244/244 - 12s - loss: 0.3001 - accuracy: 0.9172 - 12s/epoch - 48ms/step\n",
            "Epoch 153/200\n",
            "244/244 - 12s - loss: 0.2987 - accuracy: 0.9164 - 12s/epoch - 48ms/step\n",
            "Epoch 154/200\n",
            "244/244 - 12s - loss: 0.2962 - accuracy: 0.9175 - 12s/epoch - 48ms/step\n",
            "Epoch 155/200\n",
            "244/244 - 13s - loss: 0.2950 - accuracy: 0.9181 - 13s/epoch - 53ms/step\n",
            "Epoch 156/200\n",
            "244/244 - 13s - loss: 0.2925 - accuracy: 0.9157 - 13s/epoch - 53ms/step\n",
            "Epoch 157/200\n",
            "244/244 - 11s - loss: 0.2924 - accuracy: 0.9167 - 11s/epoch - 47ms/step\n",
            "Epoch 158/200\n",
            "244/244 - 11s - loss: 0.3224 - accuracy: 0.9125 - 11s/epoch - 47ms/step\n",
            "Epoch 159/200\n",
            "244/244 - 11s - loss: 0.3056 - accuracy: 0.9152 - 11s/epoch - 46ms/step\n",
            "Epoch 160/200\n",
            "244/244 - 11s - loss: 0.2909 - accuracy: 0.9170 - 11s/epoch - 44ms/step\n",
            "Epoch 161/200\n",
            "244/244 - 11s - loss: 0.2852 - accuracy: 0.9179 - 11s/epoch - 45ms/step\n",
            "Epoch 162/200\n",
            "244/244 - 12s - loss: 0.2832 - accuracy: 0.9171 - 12s/epoch - 48ms/step\n",
            "Epoch 163/200\n",
            "244/244 - 12s - loss: 0.2816 - accuracy: 0.9176 - 12s/epoch - 50ms/step\n",
            "Epoch 164/200\n",
            "244/244 - 14s - loss: 0.2810 - accuracy: 0.9179 - 14s/epoch - 59ms/step\n",
            "Epoch 165/200\n",
            "244/244 - 12s - loss: 0.2796 - accuracy: 0.9184 - 12s/epoch - 48ms/step\n",
            "Epoch 166/200\n",
            "244/244 - 12s - loss: 0.2807 - accuracy: 0.9157 - 12s/epoch - 48ms/step\n",
            "Epoch 167/200\n",
            "244/244 - 12s - loss: 0.2785 - accuracy: 0.9172 - 12s/epoch - 48ms/step\n",
            "Epoch 168/200\n",
            "244/244 - 12s - loss: 0.2768 - accuracy: 0.9172 - 12s/epoch - 48ms/step\n",
            "Epoch 169/200\n",
            "244/244 - 12s - loss: 0.2781 - accuracy: 0.9175 - 12s/epoch - 48ms/step\n",
            "Epoch 170/200\n",
            "244/244 - 13s - loss: 0.2771 - accuracy: 0.9166 - 13s/epoch - 54ms/step\n",
            "Epoch 171/200\n",
            "244/244 - 12s - loss: 0.2746 - accuracy: 0.9172 - 12s/epoch - 47ms/step\n",
            "Epoch 172/200\n",
            "244/244 - 11s - loss: 0.2771 - accuracy: 0.9150 - 11s/epoch - 46ms/step\n",
            "Epoch 173/200\n",
            "244/244 - 11s - loss: 0.2943 - accuracy: 0.9121 - 11s/epoch - 44ms/step\n",
            "Epoch 174/200\n",
            "244/244 - 12s - loss: 0.3082 - accuracy: 0.9105 - 12s/epoch - 48ms/step\n",
            "Epoch 175/200\n",
            "244/244 - 12s - loss: 0.2882 - accuracy: 0.9150 - 12s/epoch - 48ms/step\n",
            "Epoch 176/200\n",
            "244/244 - 12s - loss: 0.2737 - accuracy: 0.9175 - 12s/epoch - 48ms/step\n",
            "Epoch 177/200\n",
            "244/244 - 12s - loss: 0.2704 - accuracy: 0.9168 - 12s/epoch - 48ms/step\n",
            "Epoch 178/200\n",
            "244/244 - 12s - loss: 0.2698 - accuracy: 0.9177 - 12s/epoch - 48ms/step\n",
            "Epoch 179/200\n",
            "244/244 - 12s - loss: 0.2690 - accuracy: 0.9148 - 12s/epoch - 48ms/step\n",
            "Epoch 180/200\n",
            "244/244 - 11s - loss: 0.2697 - accuracy: 0.9161 - 11s/epoch - 47ms/step\n",
            "Epoch 181/200\n",
            "244/244 - 11s - loss: 0.2681 - accuracy: 0.9158 - 11s/epoch - 46ms/step\n",
            "Epoch 182/200\n",
            "244/244 - 11s - loss: 0.2679 - accuracy: 0.9158 - 11s/epoch - 44ms/step\n",
            "Epoch 183/200\n",
            "244/244 - 12s - loss: 0.2672 - accuracy: 0.9171 - 12s/epoch - 48ms/step\n",
            "Epoch 184/200\n",
            "244/244 - 12s - loss: 0.2676 - accuracy: 0.9171 - 12s/epoch - 49ms/step\n",
            "Epoch 185/200\n",
            "244/244 - 12s - loss: 0.2674 - accuracy: 0.9170 - 12s/epoch - 48ms/step\n",
            "Epoch 186/200\n",
            "244/244 - 12s - loss: 0.2665 - accuracy: 0.9166 - 12s/epoch - 48ms/step\n",
            "Epoch 187/200\n",
            "244/244 - 12s - loss: 0.2656 - accuracy: 0.9167 - 12s/epoch - 48ms/step\n",
            "Epoch 188/200\n",
            "244/244 - 12s - loss: 0.2652 - accuracy: 0.9173 - 12s/epoch - 49ms/step\n",
            "Epoch 189/200\n",
            "244/244 - 12s - loss: 0.2641 - accuracy: 0.9163 - 12s/epoch - 47ms/step\n",
            "Epoch 190/200\n",
            "244/244 - 12s - loss: 0.2652 - accuracy: 0.9164 - 12s/epoch - 48ms/step\n",
            "Epoch 191/200\n",
            "244/244 - 11s - loss: 0.2643 - accuracy: 0.9149 - 11s/epoch - 46ms/step\n",
            "Epoch 192/200\n",
            "244/244 - 12s - loss: 0.2653 - accuracy: 0.9154 - 12s/epoch - 51ms/step\n",
            "Epoch 193/200\n",
            "244/244 - 11s - loss: 0.2638 - accuracy: 0.9164 - 11s/epoch - 45ms/step\n",
            "Epoch 194/200\n",
            "244/244 - 12s - loss: 0.2638 - accuracy: 0.9172 - 12s/epoch - 48ms/step\n",
            "Epoch 195/200\n",
            "244/244 - 12s - loss: 0.2635 - accuracy: 0.9170 - 12s/epoch - 49ms/step\n",
            "Epoch 196/200\n",
            "244/244 - 12s - loss: 0.2636 - accuracy: 0.9158 - 12s/epoch - 49ms/step\n",
            "Epoch 197/200\n",
            "244/244 - 12s - loss: 0.2884 - accuracy: 0.9129 - 12s/epoch - 48ms/step\n",
            "Epoch 198/200\n",
            "244/244 - 11s - loss: 0.2989 - accuracy: 0.9088 - 11s/epoch - 47ms/step\n",
            "Epoch 199/200\n",
            "244/244 - 12s - loss: 0.2699 - accuracy: 0.9163 - 12s/epoch - 48ms/step\n",
            "Epoch 200/200\n",
            "244/244 - 12s - loss: 0.2615 - accuracy: 0.9180 - 12s/epoch - 48ms/step\n"
          ]
        },
        {
          "output_type": "execute_result",
          "data": {
            "text/plain": [
              "<keras.callbacks.History at 0x79b984f5a740>"
            ]
          },
          "metadata": {},
          "execution_count": 173
        }
      ]
    },
    {
      "cell_type": "code",
      "source": [
        "#문장생성 함수\n",
        "def sentence_generation(model, tokenizer, current_word, n):\n",
        "  init_word=current_word\n",
        "  sentence=''\n",
        "  for _ in range(n):\n",
        "    encoded=tokenizer.texts_to_sequences([current_word])[0]\n",
        "    encoded=pad_sequences([encoded],maxlen=max_len-1, padding='pre')\n",
        "\n",
        "    result=model.predict(encoded, verbose=0)\n",
        "    result=np.argmax(result, axis=1)\n",
        "\n",
        "    for word, index in tokenizer.word_index.items():\n",
        "      if index==result:\n",
        "        break\n",
        "    current_word+=' ' + word\n",
        "    sentence+=' '+word\n",
        "  sentence=init_word + sentence\n",
        "  return sentence"
      ],
      "metadata": {
        "id": "VpHReyqu8l5P"
      },
      "execution_count": null,
      "outputs": []
    },
    {
      "cell_type": "code",
      "source": [
        "print(sentence_generation(model, tokenizer, 'i', 10))"
      ],
      "metadata": {
        "colab": {
          "base_uri": "https://localhost:8080/"
        },
        "id": "NrkbNIaG-fnC",
        "outputId": "4fad1c62-0bf4-44ae-b1b5-c78409abb0d9"
      },
      "execution_count": null,
      "outputs": [
        {
          "output_type": "stream",
          "name": "stdout",
          "text": [
            "i disapprove of school vouchers can i still apply for them\n"
          ]
        }
      ]
    },
    {
      "cell_type": "code",
      "source": [
        "print(sentence_generation(model, tokenizer, 'how', 10))"
      ],
      "metadata": {
        "colab": {
          "base_uri": "https://localhost:8080/"
        },
        "id": "O-5RMpBPADV4",
        "outputId": "d5ba3afb-db9f-4c47-baed-44385b4c1117"
      },
      "execution_count": null,
      "outputs": [
        {
          "output_type": "stream",
          "name": "stdout",
          "text": [
            "how to make facebook more accountable will trump ok for midterms\n"
          ]
        }
      ]
    },
    {
      "cell_type": "code",
      "source": [
        "import numpy as np\n",
        "import urllib.request\n",
        "from tensorflow.keras.utils import to_categorical\n",
        "\n",
        "#데이터 로드\n",
        "urllib.request.urlretrieve(\"http://www.gutenberg.org/files/11/11-0.txt\", filename=\"11-0.txt\")\n",
        "f=open('11-0.txt', 'rb') #바이트 형식으로 읽는다.\n",
        "sentences=[]\n",
        "for sentence in f:\n",
        "  sentence=sentence.strip() #strip()을 통해 \\r, \\n을 제거한다.\n",
        "  sentence=sentence.lower()\n",
        "  sentence=sentence.decode('ascii','ignore')\n",
        "  if len(sentence)>0:\n",
        "    sentences.append(sentence)\n",
        "f.close()"
      ],
      "metadata": {
        "id": "t4CCZaKHAIvB"
      },
      "execution_count": 1,
      "outputs": []
    },
    {
      "cell_type": "code",
      "source": [
        "sentences[:5]"
      ],
      "metadata": {
        "colab": {
          "base_uri": "https://localhost:8080/"
        },
        "id": "g0M0KxyJGmC7",
        "outputId": "22a2947d-a2f2-41fd-9364-0e320c3e4606"
      },
      "execution_count": 2,
      "outputs": [
        {
          "output_type": "execute_result",
          "data": {
            "text/plain": [
              "['the project gutenberg ebook of alices adventures in wonderland, by lewis carroll',\n",
              " 'this ebook is for the use of anyone anywhere in the united states and',\n",
              " 'most other parts of the world at no cost and with almost no restrictions',\n",
              " 'whatsoever. you may copy it, give it away or re-use it under the terms',\n",
              " 'of the project gutenberg license included with this ebook or online at']"
            ]
          },
          "metadata": {},
          "execution_count": 2
        }
      ]
    },
    {
      "cell_type": "code",
      "source": [
        "total_data=' '.join(sentences) #하나의 문자열로 합치기, 단, 하나의 문장마다 ' '공백 추가\n",
        "print(len(total_data))"
      ],
      "metadata": {
        "colab": {
          "base_uri": "https://localhost:8080/"
        },
        "id": "gfn41Wh1G9PK",
        "outputId": "69236eb3-492d-4807-9bf6-59661b724b14"
      },
      "execution_count": 3,
      "outputs": [
        {
          "output_type": "stream",
          "name": "stdout",
          "text": [
            "159484\n"
          ]
        }
      ]
    },
    {
      "cell_type": "code",
      "source": [
        "print(total_data[:200])"
      ],
      "metadata": {
        "colab": {
          "base_uri": "https://localhost:8080/"
        },
        "id": "IYmCNb-kHulb",
        "outputId": "9ac65972-044e-413e-e03f-e8c8e76312ec"
      },
      "execution_count": 4,
      "outputs": [
        {
          "output_type": "stream",
          "name": "stdout",
          "text": [
            "the project gutenberg ebook of alices adventures in wonderland, by lewis carroll this ebook is for the use of anyone anywhere in the united states and most other parts of the world at no cost and with\n"
          ]
        }
      ]
    },
    {
      "cell_type": "code",
      "source": [
        "char_vocab=sorted(list(set(total_data))) #한 문자열이 되었으므로 중복 제거한 문자들만 정렬하여 리스트 형태로 만든다.\n",
        "vocab_size=len(char_vocab)\n",
        "print(vocab_size)"
      ],
      "metadata": {
        "colab": {
          "base_uri": "https://localhost:8080/"
        },
        "id": "ciA7WcbnH_lz",
        "outputId": "ab4248bc-d3d0-45b8-ade3-bd1b91f22734"
      },
      "execution_count": 5,
      "outputs": [
        {
          "output_type": "stream",
          "name": "stdout",
          "text": [
            "56\n"
          ]
        }
      ]
    },
    {
      "cell_type": "code",
      "source": [
        "char_to_index=dict((char, index) for index, char in enumerate(char_vocab)) #각 문자마다 인덱스의 번호를 매겨준다.\n",
        "print('문자집합 : ', char_to_index)"
      ],
      "metadata": {
        "colab": {
          "base_uri": "https://localhost:8080/"
        },
        "id": "cowRlX12Irq6",
        "outputId": "b13a30d3-bae6-4d3b-df3e-6facec0b205d"
      },
      "execution_count": 6,
      "outputs": [
        {
          "output_type": "stream",
          "name": "stdout",
          "text": [
            "문자집합 :  {' ': 0, '!': 1, '\"': 2, '#': 3, '$': 4, '%': 5, \"'\": 6, '(': 7, ')': 8, '*': 9, ',': 10, '-': 11, '.': 12, '/': 13, '0': 14, '1': 15, '2': 16, '3': 17, '4': 18, '5': 19, '6': 20, '7': 21, '8': 22, '9': 23, ':': 24, ';': 25, '?': 26, '[': 27, ']': 28, '_': 29, 'a': 30, 'b': 31, 'c': 32, 'd': 33, 'e': 34, 'f': 35, 'g': 36, 'h': 37, 'i': 38, 'j': 39, 'k': 40, 'l': 41, 'm': 42, 'n': 43, 'o': 44, 'p': 45, 'q': 46, 'r': 47, 's': 48, 't': 49, 'u': 50, 'v': 51, 'w': 52, 'x': 53, 'y': 54, 'z': 55}\n"
          ]
        }
      ]
    },
    {
      "cell_type": "code",
      "source": [
        "index_to_char=dict((value, key) for key, value in char_to_index.items() )\n",
        "print(index_to_char)"
      ],
      "metadata": {
        "colab": {
          "base_uri": "https://localhost:8080/"
        },
        "id": "lwdxiGG0JSd8",
        "outputId": "940da55d-22d3-445a-f455-a73d38636e6a"
      },
      "execution_count": 7,
      "outputs": [
        {
          "output_type": "stream",
          "name": "stdout",
          "text": [
            "{0: ' ', 1: '!', 2: '\"', 3: '#', 4: '$', 5: '%', 6: \"'\", 7: '(', 8: ')', 9: '*', 10: ',', 11: '-', 12: '.', 13: '/', 14: '0', 15: '1', 16: '2', 17: '3', 18: '4', 19: '5', 20: '6', 21: '7', 22: '8', 23: '9', 24: ':', 25: ';', 26: '?', 27: '[', 28: ']', 29: '_', 30: 'a', 31: 'b', 32: 'c', 33: 'd', 34: 'e', 35: 'f', 36: 'g', 37: 'h', 38: 'i', 39: 'j', 40: 'k', 41: 'l', 42: 'm', 43: 'n', 44: 'o', 45: 'p', 46: 'q', 47: 'r', 48: 's', 49: 't', 50: 'u', 51: 'v', 52: 'w', 53: 'x', 54: 'y', 55: 'z'}\n"
          ]
        }
      ]
    },
    {
      "cell_type": "code",
      "source": [
        "#문장 샘플의 길이를 정하고 해당 길이만큼 문자열 전체를 등분한다.\n",
        "seq_length=60\n",
        "\n",
        "n_samples=int(((len(total_data)-1)//seq_length)) #np.floor로 내림 후 반환해도 됨,\n",
        "print(n_samples)"
      ],
      "metadata": {
        "id": "SHJr6UUYJ6ak",
        "outputId": "d3c8c052-6027-4118-acf2-257bffdcf216",
        "colab": {
          "base_uri": "https://localhost:8080/"
        }
      },
      "execution_count": 10,
      "outputs": [
        {
          "output_type": "stream",
          "name": "stdout",
          "text": [
            "2658\n"
          ]
        }
      ]
    },
    {
      "cell_type": "code",
      "source": [
        "#X_train은 60단위로 글자들을 자르고 y_train은 X_train에서 1씩 오른쪽으로 시프트 된 글자들을 넣는다.\n",
        "X_train=[]\n",
        "y_train=[]\n",
        "\n",
        "for i in range(n_samples): #sample 수 만큼 반복\n",
        "  #total_data를 슬라이싱하여 할당\n",
        "  X_sample=total_data[i*(seq_length):(i+1)*seq_length]\n",
        "  #정수 encoding\n",
        "  X_encoded=[char_to_index[c] for c in X_sample]\n",
        "  X_train.append(X_encoded)\n",
        "  y_sample=total_data[(i*seq_length)+1:((i+1)*seq_length)+1]\n",
        "  y_encoded=[char_to_index[c] for c in y_sample]\n",
        "  y_train.append(y_encoded)"
      ],
      "metadata": {
        "id": "wSa2cgYZlT6Y"
      },
      "execution_count": 11,
      "outputs": []
    },
    {
      "cell_type": "code",
      "source": [
        "print('X 데이터의 첫번째 샘플 :',X_train[0])\n",
        "print('y 데이터의 첫번째 샘플 :',y_train[0])\n",
        "print('-'*50)\n",
        "print('X 데이터의 첫번째 샘플 디코딩 :',[index_to_char[i] for i in X_train[0]])\n",
        "print('y 데이터의 첫번째 샘플 디코딩 :',[index_to_char[i] for i in y_train[0]])"
      ],
      "metadata": {
        "id": "06O-Ra0AoTrp",
        "outputId": "899641b6-6f84-4a2e-d7c0-eac8952a68dc",
        "colab": {
          "base_uri": "https://localhost:8080/"
        }
      },
      "execution_count": 13,
      "outputs": [
        {
          "output_type": "stream",
          "name": "stdout",
          "text": [
            "X 데이터의 첫번째 샘플 : [49, 37, 34, 0, 45, 47, 44, 39, 34, 32, 49, 0, 36, 50, 49, 34, 43, 31, 34, 47, 36, 0, 34, 31, 44, 44, 40, 0, 44, 35, 0, 30, 41, 38, 32, 34, 48, 0, 30, 33, 51, 34, 43, 49, 50, 47, 34, 48, 0, 38, 43, 0, 52, 44, 43, 33, 34, 47, 41, 30]\n",
            "y 데이터의 첫번째 샘플 : [37, 34, 0, 45, 47, 44, 39, 34, 32, 49, 0, 36, 50, 49, 34, 43, 31, 34, 47, 36, 0, 34, 31, 44, 44, 40, 0, 44, 35, 0, 30, 41, 38, 32, 34, 48, 0, 30, 33, 51, 34, 43, 49, 50, 47, 34, 48, 0, 38, 43, 0, 52, 44, 43, 33, 34, 47, 41, 30, 43]\n",
            "--------------------------------------------------\n",
            "X 데이터의 첫번째 샘플 디코딩 : ['t', 'h', 'e', ' ', 'p', 'r', 'o', 'j', 'e', 'c', 't', ' ', 'g', 'u', 't', 'e', 'n', 'b', 'e', 'r', 'g', ' ', 'e', 'b', 'o', 'o', 'k', ' ', 'o', 'f', ' ', 'a', 'l', 'i', 'c', 'e', 's', ' ', 'a', 'd', 'v', 'e', 'n', 't', 'u', 'r', 'e', 's', ' ', 'i', 'n', ' ', 'w', 'o', 'n', 'd', 'e', 'r', 'l', 'a']\n",
            "y 데이터의 첫번째 샘플 디코딩 : ['h', 'e', ' ', 'p', 'r', 'o', 'j', 'e', 'c', 't', ' ', 'g', 'u', 't', 'e', 'n', 'b', 'e', 'r', 'g', ' ', 'e', 'b', 'o', 'o', 'k', ' ', 'o', 'f', ' ', 'a', 'l', 'i', 'c', 'e', 's', ' ', 'a', 'd', 'v', 'e', 'n', 't', 'u', 'r', 'e', 's', ' ', 'i', 'n', ' ', 'w', 'o', 'n', 'd', 'e', 'r', 'l', 'a', 'n']\n"
          ]
        }
      ]
    },
    {
      "cell_type": "code",
      "source": [
        "#문자 단위 RNN은 단어 임베딩을 하지 않기 때문에 바로 원-핫 인코딩을 한다.(임베딩 층을 사용하지 않음)\n",
        "X_train=to_categorical(X_train)\n",
        "y_train=to_categorical(y_train)\n",
        "\n",
        "print(X_train.shape)\n",
        "#맨 앞은 샘플의 개수로 batch_size에 해당된다. 두번째는 문장으로 만든 각 샘플의 길이로 input_length(timesteps)에 해당된다. 세번째는 각 문자의 원핫인코딩으로 인한 길이로 input_dim 벡터의 차원에 해당된다.\n",
        "print(y_train.shape)"
      ],
      "metadata": {
        "id": "ikj7mhlboYLB",
        "outputId": "6a93e645-4ae2-4052-c726-20c6444e27b2",
        "colab": {
          "base_uri": "https://localhost:8080/"
        }
      },
      "execution_count": 14,
      "outputs": [
        {
          "output_type": "stream",
          "name": "stdout",
          "text": [
            "(2658, 60, 56)\n",
            "(2658, 60, 56)\n"
          ]
        }
      ]
    },
    {
      "cell_type": "code",
      "source": [
        "#모델 설계(many to many 구조) LSTM\n",
        "from tensorflow.keras.models import Sequential\n",
        "from tensorflow.keras.layers import Dense, LSTM, TimeDistributed\n",
        "\n",
        "hidden_units=256\n",
        "\n",
        "model=Sequential()\n",
        "model.add(LSTM(hidden_units, input_shape=(None, X_train.shape[2]), return_sequences=True)) #X_train.shape[2]=vocab_size, hidden_units=output_dim, input_shape=(timestep, input_dim)\n",
        "model.add(LSTM(hidden_units, return_sequences=True))\n",
        "model.add(TimeDistributed(Dense(vocab_size, activation='softmax'))) #TimeDistributed는 모든 timestep의 출력을 출력층에 적용하는 역할이다.\n",
        "\n",
        "model.compile(optimizer='adam', loss='categorical_crossentropy', metrics=['accuracy'])\n",
        "model.fit(X_train, y_train, epochs=80, verbose=2)"
      ],
      "metadata": {
        "id": "DvtkFIpEp2C4",
        "outputId": "e956f3f4-4b9d-4dad-c636-e2a374ba11b0",
        "colab": {
          "base_uri": "https://localhost:8080/"
        }
      },
      "execution_count": 16,
      "outputs": [
        {
          "output_type": "stream",
          "name": "stdout",
          "text": [
            "Epoch 1/80\n",
            "84/84 - 49s - loss: 3.0603 - accuracy: 0.1827 - 49s/epoch - 584ms/step\n",
            "Epoch 2/80\n",
            "84/84 - 42s - loss: 2.8552 - accuracy: 0.2132 - 42s/epoch - 495ms/step\n",
            "Epoch 3/80\n",
            "84/84 - 40s - loss: 2.5067 - accuracy: 0.3067 - 40s/epoch - 481ms/step\n",
            "Epoch 4/80\n",
            "84/84 - 52s - loss: 2.3656 - accuracy: 0.3324 - 52s/epoch - 614ms/step\n",
            "Epoch 5/80\n",
            "84/84 - 51s - loss: 2.2845 - accuracy: 0.3521 - 51s/epoch - 613ms/step\n",
            "Epoch 6/80\n",
            "84/84 - 40s - loss: 2.2160 - accuracy: 0.3676 - 40s/epoch - 482ms/step\n",
            "Epoch 7/80\n",
            "84/84 - 54s - loss: 2.1578 - accuracy: 0.3834 - 54s/epoch - 639ms/step\n",
            "Epoch 8/80\n",
            "84/84 - 48s - loss: 2.1079 - accuracy: 0.3972 - 48s/epoch - 568ms/step\n",
            "Epoch 9/80\n",
            "84/84 - 52s - loss: 2.0667 - accuracy: 0.4077 - 52s/epoch - 620ms/step\n",
            "Epoch 10/80\n",
            "84/84 - 46s - loss: 2.0311 - accuracy: 0.4157 - 46s/epoch - 544ms/step\n",
            "Epoch 11/80\n",
            "84/84 - 51s - loss: 1.9966 - accuracy: 0.4244 - 51s/epoch - 611ms/step\n",
            "Epoch 12/80\n",
            "84/84 - 50s - loss: 1.9630 - accuracy: 0.4326 - 50s/epoch - 590ms/step\n",
            "Epoch 13/80\n",
            "84/84 - 40s - loss: 1.9335 - accuracy: 0.4406 - 40s/epoch - 481ms/step\n",
            "Epoch 14/80\n",
            "84/84 - 40s - loss: 1.9032 - accuracy: 0.4469 - 40s/epoch - 481ms/step\n",
            "Epoch 15/80\n",
            "84/84 - 43s - loss: 1.8790 - accuracy: 0.4539 - 43s/epoch - 510ms/step\n",
            "Epoch 16/80\n",
            "84/84 - 41s - loss: 1.8565 - accuracy: 0.4594 - 41s/epoch - 492ms/step\n",
            "Epoch 17/80\n",
            "84/84 - 41s - loss: 1.8314 - accuracy: 0.4664 - 41s/epoch - 493ms/step\n",
            "Epoch 18/80\n",
            "84/84 - 42s - loss: 1.8088 - accuracy: 0.4725 - 42s/epoch - 494ms/step\n",
            "Epoch 19/80\n",
            "84/84 - 41s - loss: 1.7875 - accuracy: 0.4786 - 41s/epoch - 483ms/step\n",
            "Epoch 20/80\n",
            "84/84 - 40s - loss: 1.7691 - accuracy: 0.4827 - 40s/epoch - 479ms/step\n",
            "Epoch 21/80\n",
            "84/84 - 41s - loss: 1.7469 - accuracy: 0.4886 - 41s/epoch - 488ms/step\n",
            "Epoch 22/80\n",
            "84/84 - 42s - loss: 1.7280 - accuracy: 0.4931 - 42s/epoch - 499ms/step\n",
            "Epoch 23/80\n",
            "84/84 - 41s - loss: 1.7080 - accuracy: 0.4986 - 41s/epoch - 489ms/step\n",
            "Epoch 24/80\n",
            "84/84 - 52s - loss: 1.6893 - accuracy: 0.5046 - 52s/epoch - 621ms/step\n",
            "Epoch 25/80\n",
            "84/84 - 42s - loss: 1.6734 - accuracy: 0.5085 - 42s/epoch - 501ms/step\n",
            "Epoch 26/80\n",
            "84/84 - 40s - loss: 1.6534 - accuracy: 0.5136 - 40s/epoch - 482ms/step\n",
            "Epoch 27/80\n",
            "84/84 - 49s - loss: 1.6377 - accuracy: 0.5185 - 49s/epoch - 578ms/step\n",
            "Epoch 28/80\n",
            "84/84 - 53s - loss: 1.6229 - accuracy: 0.5214 - 53s/epoch - 627ms/step\n",
            "Epoch 29/80\n",
            "84/84 - 40s - loss: 1.6066 - accuracy: 0.5261 - 40s/epoch - 479ms/step\n",
            "Epoch 30/80\n",
            "84/84 - 40s - loss: 1.5884 - accuracy: 0.5311 - 40s/epoch - 480ms/step\n",
            "Epoch 31/80\n",
            "84/84 - 40s - loss: 1.5737 - accuracy: 0.5352 - 40s/epoch - 479ms/step\n",
            "Epoch 32/80\n",
            "84/84 - 42s - loss: 1.5569 - accuracy: 0.5392 - 42s/epoch - 497ms/step\n",
            "Epoch 33/80\n",
            "84/84 - 41s - loss: 1.5433 - accuracy: 0.5426 - 41s/epoch - 491ms/step\n",
            "Epoch 34/80\n",
            "84/84 - 40s - loss: 1.5281 - accuracy: 0.5472 - 40s/epoch - 480ms/step\n",
            "Epoch 35/80\n",
            "84/84 - 40s - loss: 1.5104 - accuracy: 0.5522 - 40s/epoch - 479ms/step\n",
            "Epoch 36/80\n",
            "84/84 - 42s - loss: 1.4969 - accuracy: 0.5559 - 42s/epoch - 496ms/step\n",
            "Epoch 37/80\n",
            "84/84 - 40s - loss: 1.4839 - accuracy: 0.5587 - 40s/epoch - 481ms/step\n",
            "Epoch 38/80\n",
            "84/84 - 41s - loss: 1.4694 - accuracy: 0.5632 - 41s/epoch - 484ms/step\n",
            "Epoch 39/80\n",
            "84/84 - 42s - loss: 1.4584 - accuracy: 0.5662 - 42s/epoch - 494ms/step\n",
            "Epoch 40/80\n",
            "84/84 - 42s - loss: 1.4402 - accuracy: 0.5718 - 42s/epoch - 500ms/step\n",
            "Epoch 41/80\n",
            "84/84 - 41s - loss: 1.4285 - accuracy: 0.5750 - 41s/epoch - 487ms/step\n",
            "Epoch 42/80\n",
            "84/84 - 41s - loss: 1.4132 - accuracy: 0.5790 - 41s/epoch - 488ms/step\n",
            "Epoch 43/80\n",
            "84/84 - 43s - loss: 1.4034 - accuracy: 0.5816 - 43s/epoch - 515ms/step\n",
            "Epoch 44/80\n",
            "84/84 - 41s - loss: 1.3925 - accuracy: 0.5844 - 41s/epoch - 485ms/step\n",
            "Epoch 45/80\n",
            "84/84 - 41s - loss: 1.3774 - accuracy: 0.5892 - 41s/epoch - 483ms/step\n",
            "Epoch 46/80\n",
            "84/84 - 40s - loss: 1.3637 - accuracy: 0.5914 - 40s/epoch - 481ms/step\n",
            "Epoch 47/80\n",
            "84/84 - 42s - loss: 1.3506 - accuracy: 0.5968 - 42s/epoch - 495ms/step\n",
            "Epoch 48/80\n",
            "84/84 - 41s - loss: 1.3355 - accuracy: 0.6022 - 41s/epoch - 492ms/step\n",
            "Epoch 49/80\n",
            "84/84 - 41s - loss: 1.3266 - accuracy: 0.6029 - 41s/epoch - 486ms/step\n",
            "Epoch 50/80\n",
            "84/84 - 40s - loss: 1.3121 - accuracy: 0.6077 - 40s/epoch - 480ms/step\n",
            "Epoch 51/80\n",
            "84/84 - 42s - loss: 1.2984 - accuracy: 0.6114 - 42s/epoch - 499ms/step\n",
            "Epoch 52/80\n",
            "84/84 - 40s - loss: 1.2875 - accuracy: 0.6148 - 40s/epoch - 481ms/step\n",
            "Epoch 53/80\n",
            "84/84 - 40s - loss: 1.2750 - accuracy: 0.6188 - 40s/epoch - 482ms/step\n",
            "Epoch 54/80\n",
            "84/84 - 42s - loss: 1.2606 - accuracy: 0.6224 - 42s/epoch - 494ms/step\n",
            "Epoch 55/80\n",
            "84/84 - 42s - loss: 1.2501 - accuracy: 0.6257 - 42s/epoch - 497ms/step\n",
            "Epoch 56/80\n",
            "84/84 - 40s - loss: 1.2402 - accuracy: 0.6270 - 40s/epoch - 481ms/step\n",
            "Epoch 57/80\n",
            "84/84 - 40s - loss: 1.2265 - accuracy: 0.6319 - 40s/epoch - 482ms/step\n",
            "Epoch 58/80\n",
            "84/84 - 42s - loss: 1.2138 - accuracy: 0.6358 - 42s/epoch - 500ms/step\n",
            "Epoch 59/80\n",
            "84/84 - 43s - loss: 1.1980 - accuracy: 0.6404 - 43s/epoch - 512ms/step\n",
            "Epoch 60/80\n",
            "84/84 - 47s - loss: 1.1890 - accuracy: 0.6425 - 47s/epoch - 563ms/step\n",
            "Epoch 61/80\n",
            "84/84 - 41s - loss: 1.1799 - accuracy: 0.6443 - 41s/epoch - 488ms/step\n",
            "Epoch 62/80\n",
            "84/84 - 42s - loss: 1.1630 - accuracy: 0.6489 - 42s/epoch - 499ms/step\n",
            "Epoch 63/80\n",
            "84/84 - 40s - loss: 1.1495 - accuracy: 0.6529 - 40s/epoch - 481ms/step\n",
            "Epoch 64/80\n",
            "84/84 - 40s - loss: 1.1417 - accuracy: 0.6549 - 40s/epoch - 479ms/step\n",
            "Epoch 65/80\n",
            "84/84 - 40s - loss: 1.1253 - accuracy: 0.6609 - 40s/epoch - 478ms/step\n",
            "Epoch 66/80\n",
            "84/84 - 51s - loss: 1.1129 - accuracy: 0.6640 - 51s/epoch - 608ms/step\n",
            "Epoch 67/80\n",
            "84/84 - 40s - loss: 1.1057 - accuracy: 0.6651 - 40s/epoch - 480ms/step\n",
            "Epoch 68/80\n",
            "84/84 - 41s - loss: 1.0883 - accuracy: 0.6710 - 41s/epoch - 483ms/step\n",
            "Epoch 69/80\n",
            "84/84 - 42s - loss: 1.0742 - accuracy: 0.6758 - 42s/epoch - 505ms/step\n",
            "Epoch 70/80\n",
            "84/84 - 40s - loss: 1.0602 - accuracy: 0.6798 - 40s/epoch - 479ms/step\n",
            "Epoch 71/80\n",
            "84/84 - 41s - loss: 1.0473 - accuracy: 0.6833 - 41s/epoch - 483ms/step\n",
            "Epoch 72/80\n",
            "84/84 - 41s - loss: 1.0353 - accuracy: 0.6873 - 41s/epoch - 487ms/step\n",
            "Epoch 73/80\n",
            "84/84 - 42s - loss: 1.0200 - accuracy: 0.6920 - 42s/epoch - 500ms/step\n",
            "Epoch 74/80\n",
            "84/84 - 41s - loss: 1.0072 - accuracy: 0.6958 - 41s/epoch - 491ms/step\n",
            "Epoch 75/80\n",
            "84/84 - 41s - loss: 0.9937 - accuracy: 0.6997 - 41s/epoch - 487ms/step\n",
            "Epoch 76/80\n",
            "84/84 - 40s - loss: 0.9816 - accuracy: 0.7028 - 40s/epoch - 482ms/step\n",
            "Epoch 77/80\n",
            "84/84 - 42s - loss: 0.9659 - accuracy: 0.7076 - 42s/epoch - 497ms/step\n",
            "Epoch 78/80\n",
            "84/84 - 40s - loss: 0.9532 - accuracy: 0.7117 - 40s/epoch - 482ms/step\n",
            "Epoch 79/80\n",
            "84/84 - 40s - loss: 0.9364 - accuracy: 0.7174 - 40s/epoch - 482ms/step\n",
            "Epoch 80/80\n",
            "84/84 - 42s - loss: 0.9236 - accuracy: 0.7213 - 42s/epoch - 498ms/step\n"
          ]
        },
        {
          "output_type": "execute_result",
          "data": {
            "text/plain": [
              "<keras.callbacks.History at 0x78018110f370>"
            ]
          },
          "metadata": {},
          "execution_count": 16
        }
      ]
    },
    {
      "cell_type": "code",
      "source": [
        "def sentence_generation(model, length):\n",
        "  #문자에 대한 랜덤한 정수 생성\n",
        "  ix=[np.random.randint(vocab_size)] #문자의 종류 개수 안에서의 랜덤한 정수\n",
        "\n",
        "  #랜덤한 정수로부터 맵핑되는 문자\n",
        "  y_char=[index_to_char[ix[-1]]]\n",
        "  print(ix[-1],'번 문자',y_char[-1], '로 예측 시작')\n",
        "\n",
        "  #(1, length, 56)크기의 X생성(LSTM의 입력 시퀀스)\n",
        "  X=np.zeros((1,length, vocab_size))\n",
        "\n",
        "  for i in range(length):\n",
        "    # X[0][i][예측한 문자의 인덱스]=1, 즉, 예측 문자를 다음 입력 시퀀스에 추가\n",
        "    X[0][i][ix[-1]]=1\n",
        "    print(index_to_char[ix[-1]], end='')\n",
        "    ix=np.argmax(model.predict(X[:,:i+1,:])[0], 1) #0은 1개의 피쳐 중에서 가장 큰 값의 인덱스, 1은 변수 중 가장 큰 값의 인덱스, 2는 행렬 중 가장 큰 값의 인덱스들을 반환한다.\n",
        "    y_char.append(index_to_char[ix[-1]])\n",
        "  return (''.join(y_char))"
      ],
      "metadata": {
        "id": "EdjV3rldvCMb"
      },
      "execution_count": 17,
      "outputs": []
    },
    {
      "cell_type": "code",
      "source": [
        "result=sentence_generation(model, 100)\n",
        "print(result)"
      ],
      "metadata": {
        "id": "BiTYzpId0ee1",
        "outputId": "e8a45148-121d-4b20-969e-d26ddac5290d",
        "colab": {
          "base_uri": "https://localhost:8080/"
        }
      },
      "execution_count": 19,
      "outputs": [
        {
          "output_type": "stream",
          "name": "stdout",
          "text": [
            "39 번 문자 j 로 예측 시작\n",
            "1/1 [==============================] - 0s 21ms/step\n",
            "1/1 [==============================] - 0s 23ms/step\n",
            "1/1 [==============================] - 0s 24ms/step\n",
            "1/1 [==============================] - 0s 27ms/step\n",
            "1/1 [==============================] - 0s 27ms/step\n",
            "1/1 [==============================] - 0s 27ms/step\n",
            "1/1 [==============================] - 0s 31ms/step\n",
            "1/1 [==============================] - 0s 31ms/step\n",
            "1/1 [==============================] - 0s 26ms/step\n",
            "1/1 [==============================] - 0s 27ms/step\n",
            "1/1 [==============================] - 0s 29ms/step\n",
            "1/1 [==============================] - 0s 26ms/step\n",
            "1/1 [==============================] - 0s 25ms/step\n",
            "1/1 [==============================] - 0s 29ms/step\n",
            "1/1 [==============================] - 0s 28ms/step\n",
            "1/1 [==============================] - 0s 28ms/step\n",
            "1/1 [==============================] - 0s 34ms/step\n",
            "1/1 [==============================] - 0s 30ms/step\n",
            "1/1 [==============================] - 0s 31ms/step\n",
            "1/1 [==============================] - 0s 31ms/step\n",
            "1/1 [==============================] - 0s 32ms/step\n",
            "1/1 [==============================] - 0s 30ms/step\n",
            "1/1 [==============================] - 0s 30ms/step\n",
            "1/1 [==============================] - 0s 33ms/step\n",
            "1/1 [==============================] - 0s 43ms/step\n",
            "1/1 [==============================] - 0s 29ms/step\n",
            "1/1 [==============================] - 0s 43ms/step\n",
            "1/1 [==============================] - 0s 31ms/step\n",
            "1/1 [==============================] - 0s 33ms/step\n",
            "1/1 [==============================] - 0s 35ms/step\n",
            "1/1 [==============================] - 0s 36ms/step\n",
            "1/1 [==============================] - 0s 36ms/step\n",
            "1/1 [==============================] - 0s 33ms/step\n",
            "1/1 [==============================] - 0s 37ms/step\n",
            "1/1 [==============================] - 0s 33ms/step\n",
            "1/1 [==============================] - 0s 39ms/step\n",
            "1/1 [==============================] - 0s 35ms/step\n",
            "1/1 [==============================] - 0s 35ms/step\n",
            "1/1 [==============================] - 0s 32ms/step\n",
            "1/1 [==============================] - 0s 36ms/step\n",
            "1/1 [==============================] - 0s 37ms/step\n",
            "1/1 [==============================] - 0s 38ms/step\n",
            "1/1 [==============================] - 0s 46ms/step\n",
            "1/1 [==============================] - 0s 52ms/step\n",
            "1/1 [==============================] - 0s 61ms/step\n",
            "1/1 [==============================] - 0s 55ms/step\n",
            "1/1 [==============================] - 0s 66ms/step\n",
            "1/1 [==============================] - 0s 54ms/step\n",
            "1/1 [==============================] - 0s 60ms/step\n",
            "1/1 [==============================] - 0s 62ms/step\n",
            "1/1 [==============================] - 0s 57ms/step\n",
            "1/1 [==============================] - 0s 58ms/step\n",
            "1/1 [==============================] - 0s 62ms/step\n",
            "1/1 [==============================] - 0s 55ms/step\n",
            "1/1 [==============================] - 0s 58ms/step\n",
            "1/1 [==============================] - 0s 57ms/step\n",
            "1/1 [==============================] - 0s 59ms/step\n",
            "1/1 [==============================] - 0s 66ms/step\n",
            "1/1 [==============================] - 0s 58ms/step\n",
            "1/1 [==============================] - 0s 64ms/step\n",
            "1/1 [==============================] - 0s 70ms/step\n",
            "1/1 [==============================] - 0s 75ms/step\n",
            "1/1 [==============================] - 0s 63ms/step\n",
            "1/1 [==============================] - 0s 77ms/step\n",
            "1/1 [==============================] - 0s 47ms/step\n",
            "1/1 [==============================] - 0s 57ms/step\n",
            "1/1 [==============================] - 0s 47ms/step\n",
            "1/1 [==============================] - 0s 44ms/step\n",
            "1/1 [==============================] - 0s 46ms/step\n",
            "1/1 [==============================] - 0s 44ms/step\n",
            "1/1 [==============================] - 0s 45ms/step\n",
            "1/1 [==============================] - 0s 50ms/step\n",
            "1/1 [==============================] - 0s 50ms/step\n",
            "1/1 [==============================] - 0s 47ms/step\n",
            "1/1 [==============================] - 0s 56ms/step\n",
            "1/1 [==============================] - 0s 42ms/step\n",
            "1/1 [==============================] - 0s 43ms/step\n",
            "1/1 [==============================] - 0s 47ms/step\n",
            "1/1 [==============================] - 0s 50ms/step\n",
            "1/1 [==============================] - 0s 45ms/step\n",
            "1/1 [==============================] - 0s 44ms/step\n",
            "1/1 [==============================] - 0s 54ms/step\n",
            "1/1 [==============================] - 0s 53ms/step\n",
            "1/1 [==============================] - 0s 45ms/step\n",
            "1/1 [==============================] - 0s 62ms/step\n",
            "1/1 [==============================] - 0s 52ms/step\n",
            "1/1 [==============================] - 0s 62ms/step\n",
            "1/1 [==============================] - 0s 56ms/step\n",
            "1/1 [==============================] - 0s 51ms/step\n",
            "1/1 [==============================] - 0s 56ms/step\n",
            "1/1 [==============================] - 0s 58ms/step\n",
            "1/1 [==============================] - 0s 54ms/step\n",
            "1/1 [==============================] - 0s 50ms/step\n",
            "1/1 [==============================] - 0s 58ms/step\n",
            "1/1 [==============================] - 0s 62ms/step\n",
            "1/1 [==============================] - 0s 51ms/step\n",
            "1/1 [==============================] - 0s 67ms/step\n",
            "1/1 [==============================] - 0s 51ms/step\n",
            "1/1 [==============================] - 0s 49ms/step\n",
            "1/1 [==============================] - 0s 60ms/step\n",
            "jesty, well into the sentence to see it was a little began again, and the mouse of the works of the g\n"
          ]
        }
      ]
    },
    {
      "cell_type": "code",
      "source": [
        "#문자단위 (many to one 구조)\n",
        "import numpy as np\n",
        "from tensorflow.keras.utils import to_categorical\n",
        "\n",
        "raw_text='I get on with life as a programmer, I like to contemplate beer. But when I start to daydream, My mind turns straight to wine. Do I love wine more than beer? I like to use words about beer. But when I stop my talking, My mind turns straight to wine. I hate bugs and errors. But I just think back to wine, And I\\'m happy once again. I like to hang out with programming and deep learning. But when left alone, My mind turns straight to wine.'"
      ],
      "metadata": {
        "id": "DKnJXS1S0h8c"
      },
      "execution_count": 21,
      "outputs": []
    },
    {
      "cell_type": "code",
      "source": [
        "#중복을 제거한 문자집합 생성\n",
        "char_vocab=sorted(list(set(raw_text)))\n",
        "vocab_size=len(char_vocab)\n",
        "print('문자 집합 : {}'.format(char_vocab))\n",
        "print('문자 집합의 크기 : {}'.format(vocab_size))"
      ],
      "metadata": {
        "id": "85YbHw-xA_OE",
        "outputId": "5898f8a3-2514-4078-df9e-4fe09bf6af62",
        "colab": {
          "base_uri": "https://localhost:8080/"
        }
      },
      "execution_count": 22,
      "outputs": [
        {
          "output_type": "stream",
          "name": "stdout",
          "text": [
            "문자 집합 : [' ', \"'\", ',', '.', '?', 'A', 'B', 'D', 'I', 'M', 'a', 'b', 'c', 'd', 'e', 'f', 'g', 'h', 'i', 'j', 'k', 'l', 'm', 'n', 'o', 'p', 'r', 's', 't', 'u', 'v', 'w', 'y']\n",
            "문자 집합의 크기 : 33\n"
          ]
        }
      ]
    },
    {
      "cell_type": "code",
      "source": [
        "#char_to_index 생성\n",
        "char_to_index=dict((char, index) for index, char in enumerate(char_vocab))\n",
        "print(char_to_index)"
      ],
      "metadata": {
        "id": "Vq8C7CE4Bwtp",
        "outputId": "72b9f137-2c59-4257-fed7-151f74cf0d1a",
        "colab": {
          "base_uri": "https://localhost:8080/"
        }
      },
      "execution_count": 23,
      "outputs": [
        {
          "output_type": "stream",
          "name": "stdout",
          "text": [
            "{' ': 0, \"'\": 1, ',': 2, '.': 3, '?': 4, 'A': 5, 'B': 6, 'D': 7, 'I': 8, 'M': 9, 'a': 10, 'b': 11, 'c': 12, 'd': 13, 'e': 14, 'f': 15, 'g': 16, 'h': 17, 'i': 18, 'j': 19, 'k': 20, 'l': 21, 'm': 22, 'n': 23, 'o': 24, 'p': 25, 'r': 26, 's': 27, 't': 28, 'u': 29, 'v': 30, 'w': 31, 'y': 32}\n"
          ]
        }
      ]
    },
    {
      "cell_type": "code",
      "source": [
        "seq_length=11 #입력 시퀀스가 10, 예측 문자까지 11\n",
        "sequences=[]\n",
        "for i in range(seq_length,len(raw_text)):\n",
        "  #if(i==len(raw_text)-seq_length):\n",
        "  #  break\n",
        "  sequence=raw_text[i-seq_length:i]\n",
        "  sequences.append(sequence)\n",
        "print('총 훈련의 샘플의 수 : %d' %(len(sequences)))\n"
      ],
      "metadata": {
        "id": "aYYd14eVCHrw",
        "outputId": "11c14347-c382-46cd-c3a5-70889ad38ed9",
        "colab": {
          "base_uri": "https://localhost:8080/"
        }
      },
      "execution_count": 29,
      "outputs": [
        {
          "output_type": "stream",
          "name": "stdout",
          "text": [
            "총 훈련의 샘플의 수 : 426\n"
          ]
        }
      ]
    },
    {
      "cell_type": "code",
      "source": [
        "sequences[:10]"
      ],
      "metadata": {
        "id": "zdBzmO9-DAOJ",
        "outputId": "d9d7a0f8-4907-497e-9379-2d6946c0195d",
        "colab": {
          "base_uri": "https://localhost:8080/"
        }
      },
      "execution_count": 30,
      "outputs": [
        {
          "output_type": "execute_result",
          "data": {
            "text/plain": [
              "['I get on wi',\n",
              " ' get on wit',\n",
              " 'get on with',\n",
              " 'et on with ',\n",
              " 't on with l',\n",
              " ' on with li',\n",
              " 'on with lif',\n",
              " 'n with life',\n",
              " ' with life ',\n",
              " 'with life a']"
            ]
          },
          "metadata": {},
          "execution_count": 30
        }
      ]
    },
    {
      "cell_type": "code",
      "source": [
        "#char_to_index를 이용한 정수 인코딩\n",
        "encoded_sequences=[]\n",
        "for sequence in sequences:\n",
        "  encoded=[char_to_index[char] for char in sequence]\n",
        "  encoded_sequences.append(encoded)"
      ],
      "metadata": {
        "id": "xzj7sMfPDZuw"
      },
      "execution_count": 31,
      "outputs": []
    },
    {
      "cell_type": "code",
      "source": [
        "encoded_sequences[:5]"
      ],
      "metadata": {
        "id": "1RPVHQZbEiHS",
        "outputId": "1c68008f-660b-492d-9dc8-9aa0f529fd4d",
        "colab": {
          "base_uri": "https://localhost:8080/"
        }
      },
      "execution_count": 32,
      "outputs": [
        {
          "output_type": "execute_result",
          "data": {
            "text/plain": [
              "[[8, 0, 16, 14, 28, 0, 24, 23, 0, 31, 18],\n",
              " [0, 16, 14, 28, 0, 24, 23, 0, 31, 18, 28],\n",
              " [16, 14, 28, 0, 24, 23, 0, 31, 18, 28, 17],\n",
              " [14, 28, 0, 24, 23, 0, 31, 18, 28, 17, 0],\n",
              " [28, 0, 24, 23, 0, 31, 18, 28, 17, 0, 21]]"
            ]
          },
          "metadata": {},
          "execution_count": 32
        }
      ]
    },
    {
      "cell_type": "code",
      "source": [
        "#X와 y로 나누어준다.\n",
        "encoded_sequences=np.array(encoded_sequences)\n",
        "X_data=encoded_sequences[:,:-1]\n",
        "y_data=encoded_sequences[:,-1]"
      ],
      "metadata": {
        "id": "Z-Xcju5PEkpp"
      },
      "execution_count": 35,
      "outputs": []
    },
    {
      "cell_type": "code",
      "source": [
        "#X와 y를 원핫인코딩을 해준다.\n",
        "X_onehot=np.array([to_categorical(encoded, num_classes=vocab_size) for encoded in X_data])\n",
        "y_onehot=to_categorical(y_data, num_classes=vocab_size)"
      ],
      "metadata": {
        "id": "hb4wTOR3E1D5"
      },
      "execution_count": 36,
      "outputs": []
    },
    {
      "cell_type": "code",
      "source": [
        "print(X_onehot.shape)\n",
        "#샘플의 수(batch_size), timesteps(seq_length), input_size(벡터의 크기)"
      ],
      "metadata": {
        "id": "9MSFFbzZFsPR",
        "outputId": "288e2ad7-5104-4cec-c0a3-7054d8c3f85a",
        "colab": {
          "base_uri": "https://localhost:8080/"
        }
      },
      "execution_count": 37,
      "outputs": [
        {
          "output_type": "stream",
          "name": "stdout",
          "text": [
            "(426, 10, 33)\n"
          ]
        }
      ]
    },
    {
      "cell_type": "code",
      "source": [
        "# many to one 모델 설계하기\n",
        "from tensorflow.keras.models import Sequential\n",
        "from tensorflow.keras.layers import LSTM, Dense\n",
        "from tensorflow.keras.preprocessing.sequence import pad_sequences\n",
        "\n",
        "hidden_units=64\n",
        "\n",
        "model=Sequential()\n",
        "model.add(LSTM(hidden_units, input_shape=(X_onehot.shape[1], X_onehot.shape[2])))\n",
        "model.add(Dense(vocab_size, activation='softmax'))\n",
        "\n",
        "model.compile(optimizer='adam', loss='categorical_crossentropy', metrics=['accuracy'])\n",
        "model.fit(X_onehot, y_onehot, epochs=100, verbose=2)"
      ],
      "metadata": {
        "id": "tMJX2LZxFx5C",
        "outputId": "52445a5d-6a8f-46ce-f537-f63f7e243f01",
        "colab": {
          "base_uri": "https://localhost:8080/"
        }
      },
      "execution_count": 42,
      "outputs": [
        {
          "output_type": "stream",
          "name": "stdout",
          "text": [
            "Epoch 1/100\n",
            "14/14 - 2s - loss: 3.4733 - accuracy: 0.0962 - 2s/epoch - 159ms/step\n",
            "Epoch 2/100\n",
            "14/14 - 0s - loss: 3.3721 - accuracy: 0.1854 - 91ms/epoch - 7ms/step\n",
            "Epoch 3/100\n",
            "14/14 - 0s - loss: 3.1375 - accuracy: 0.1972 - 90ms/epoch - 6ms/step\n",
            "Epoch 4/100\n",
            "14/14 - 0s - loss: 3.0027 - accuracy: 0.1972 - 90ms/epoch - 6ms/step\n",
            "Epoch 5/100\n",
            "14/14 - 0s - loss: 2.9602 - accuracy: 0.1972 - 94ms/epoch - 7ms/step\n",
            "Epoch 6/100\n",
            "14/14 - 0s - loss: 2.9434 - accuracy: 0.1972 - 95ms/epoch - 7ms/step\n",
            "Epoch 7/100\n",
            "14/14 - 0s - loss: 2.9257 - accuracy: 0.1972 - 92ms/epoch - 7ms/step\n",
            "Epoch 8/100\n",
            "14/14 - 0s - loss: 2.9201 - accuracy: 0.1972 - 99ms/epoch - 7ms/step\n",
            "Epoch 9/100\n",
            "14/14 - 0s - loss: 2.9087 - accuracy: 0.1972 - 91ms/epoch - 6ms/step\n",
            "Epoch 10/100\n",
            "14/14 - 0s - loss: 2.8779 - accuracy: 0.1972 - 94ms/epoch - 7ms/step\n",
            "Epoch 11/100\n",
            "14/14 - 0s - loss: 2.8666 - accuracy: 0.1972 - 103ms/epoch - 7ms/step\n",
            "Epoch 12/100\n",
            "14/14 - 0s - loss: 2.8417 - accuracy: 0.1995 - 101ms/epoch - 7ms/step\n",
            "Epoch 13/100\n",
            "14/14 - 0s - loss: 2.8011 - accuracy: 0.1972 - 88ms/epoch - 6ms/step\n",
            "Epoch 14/100\n",
            "14/14 - 0s - loss: 2.7752 - accuracy: 0.1972 - 89ms/epoch - 6ms/step\n",
            "Epoch 15/100\n",
            "14/14 - 0s - loss: 2.7340 - accuracy: 0.2160 - 101ms/epoch - 7ms/step\n",
            "Epoch 16/100\n",
            "14/14 - 0s - loss: 2.6961 - accuracy: 0.2277 - 95ms/epoch - 7ms/step\n",
            "Epoch 17/100\n",
            "14/14 - 0s - loss: 2.6611 - accuracy: 0.2160 - 93ms/epoch - 7ms/step\n",
            "Epoch 18/100\n",
            "14/14 - 0s - loss: 2.6087 - accuracy: 0.2535 - 98ms/epoch - 7ms/step\n",
            "Epoch 19/100\n",
            "14/14 - 0s - loss: 2.5624 - accuracy: 0.2418 - 93ms/epoch - 7ms/step\n",
            "Epoch 20/100\n",
            "14/14 - 0s - loss: 2.5181 - accuracy: 0.2676 - 99ms/epoch - 7ms/step\n",
            "Epoch 21/100\n",
            "14/14 - 0s - loss: 2.4740 - accuracy: 0.3075 - 119ms/epoch - 9ms/step\n",
            "Epoch 22/100\n",
            "14/14 - 0s - loss: 2.4357 - accuracy: 0.2770 - 93ms/epoch - 7ms/step\n",
            "Epoch 23/100\n",
            "14/14 - 0s - loss: 2.3937 - accuracy: 0.2817 - 88ms/epoch - 6ms/step\n",
            "Epoch 24/100\n",
            "14/14 - 0s - loss: 2.3410 - accuracy: 0.3028 - 98ms/epoch - 7ms/step\n",
            "Epoch 25/100\n",
            "14/14 - 0s - loss: 2.2928 - accuracy: 0.3286 - 94ms/epoch - 7ms/step\n",
            "Epoch 26/100\n",
            "14/14 - 0s - loss: 2.2438 - accuracy: 0.3498 - 94ms/epoch - 7ms/step\n",
            "Epoch 27/100\n",
            "14/14 - 0s - loss: 2.1863 - accuracy: 0.3732 - 105ms/epoch - 7ms/step\n",
            "Epoch 28/100\n",
            "14/14 - 0s - loss: 2.1405 - accuracy: 0.3897 - 90ms/epoch - 6ms/step\n",
            "Epoch 29/100\n",
            "14/14 - 0s - loss: 2.0887 - accuracy: 0.3991 - 96ms/epoch - 7ms/step\n",
            "Epoch 30/100\n",
            "14/14 - 0s - loss: 2.0496 - accuracy: 0.4319 - 103ms/epoch - 7ms/step\n",
            "Epoch 31/100\n",
            "14/14 - 0s - loss: 1.9897 - accuracy: 0.4366 - 91ms/epoch - 7ms/step\n",
            "Epoch 32/100\n",
            "14/14 - 0s - loss: 1.9610 - accuracy: 0.4484 - 98ms/epoch - 7ms/step\n",
            "Epoch 33/100\n",
            "14/14 - 0s - loss: 1.9043 - accuracy: 0.4648 - 105ms/epoch - 7ms/step\n",
            "Epoch 34/100\n",
            "14/14 - 0s - loss: 1.8764 - accuracy: 0.4577 - 89ms/epoch - 6ms/step\n",
            "Epoch 35/100\n",
            "14/14 - 0s - loss: 1.8360 - accuracy: 0.4648 - 92ms/epoch - 7ms/step\n",
            "Epoch 36/100\n",
            "14/14 - 0s - loss: 1.7674 - accuracy: 0.5070 - 103ms/epoch - 7ms/step\n",
            "Epoch 37/100\n",
            "14/14 - 0s - loss: 1.7153 - accuracy: 0.5235 - 95ms/epoch - 7ms/step\n",
            "Epoch 38/100\n",
            "14/14 - 0s - loss: 1.6843 - accuracy: 0.5446 - 96ms/epoch - 7ms/step\n",
            "Epoch 39/100\n",
            "14/14 - 0s - loss: 1.6449 - accuracy: 0.5352 - 102ms/epoch - 7ms/step\n",
            "Epoch 40/100\n",
            "14/14 - 0s - loss: 1.6072 - accuracy: 0.5704 - 97ms/epoch - 7ms/step\n",
            "Epoch 41/100\n",
            "14/14 - 0s - loss: 1.5566 - accuracy: 0.5751 - 90ms/epoch - 6ms/step\n",
            "Epoch 42/100\n",
            "14/14 - 0s - loss: 1.5417 - accuracy: 0.5751 - 134ms/epoch - 10ms/step\n",
            "Epoch 43/100\n",
            "14/14 - 0s - loss: 1.4878 - accuracy: 0.5962 - 90ms/epoch - 6ms/step\n",
            "Epoch 44/100\n",
            "14/14 - 0s - loss: 1.4300 - accuracy: 0.6221 - 90ms/epoch - 6ms/step\n",
            "Epoch 45/100\n",
            "14/14 - 0s - loss: 1.3857 - accuracy: 0.6479 - 102ms/epoch - 7ms/step\n",
            "Epoch 46/100\n",
            "14/14 - 0s - loss: 1.3564 - accuracy: 0.6620 - 95ms/epoch - 7ms/step\n",
            "Epoch 47/100\n",
            "14/14 - 0s - loss: 1.3273 - accuracy: 0.6690 - 91ms/epoch - 7ms/step\n",
            "Epoch 48/100\n",
            "14/14 - 0s - loss: 1.3147 - accuracy: 0.6808 - 97ms/epoch - 7ms/step\n",
            "Epoch 49/100\n",
            "14/14 - 0s - loss: 1.2707 - accuracy: 0.6948 - 93ms/epoch - 7ms/step\n",
            "Epoch 50/100\n",
            "14/14 - 0s - loss: 1.2199 - accuracy: 0.6737 - 96ms/epoch - 7ms/step\n",
            "Epoch 51/100\n",
            "14/14 - 0s - loss: 1.1786 - accuracy: 0.7136 - 107ms/epoch - 8ms/step\n",
            "Epoch 52/100\n",
            "14/14 - 0s - loss: 1.1405 - accuracy: 0.7629 - 100ms/epoch - 7ms/step\n",
            "Epoch 53/100\n",
            "14/14 - 0s - loss: 1.1244 - accuracy: 0.7300 - 96ms/epoch - 7ms/step\n",
            "Epoch 54/100\n",
            "14/14 - 0s - loss: 1.0802 - accuracy: 0.7535 - 95ms/epoch - 7ms/step\n",
            "Epoch 55/100\n",
            "14/14 - 0s - loss: 1.0327 - accuracy: 0.7864 - 95ms/epoch - 7ms/step\n",
            "Epoch 56/100\n",
            "14/14 - 0s - loss: 1.0070 - accuracy: 0.7840 - 90ms/epoch - 6ms/step\n",
            "Epoch 57/100\n",
            "14/14 - 0s - loss: 0.9856 - accuracy: 0.7981 - 97ms/epoch - 7ms/step\n",
            "Epoch 58/100\n",
            "14/14 - 0s - loss: 0.9574 - accuracy: 0.8099 - 91ms/epoch - 7ms/step\n",
            "Epoch 59/100\n",
            "14/14 - 0s - loss: 0.9278 - accuracy: 0.8028 - 90ms/epoch - 6ms/step\n",
            "Epoch 60/100\n",
            "14/14 - 0s - loss: 0.9011 - accuracy: 0.8239 - 112ms/epoch - 8ms/step\n",
            "Epoch 61/100\n",
            "14/14 - 0s - loss: 0.8737 - accuracy: 0.8286 - 90ms/epoch - 6ms/step\n",
            "Epoch 62/100\n",
            "14/14 - 0s - loss: 0.8555 - accuracy: 0.8310 - 103ms/epoch - 7ms/step\n",
            "Epoch 63/100\n",
            "14/14 - 0s - loss: 0.8196 - accuracy: 0.8498 - 93ms/epoch - 7ms/step\n",
            "Epoch 64/100\n",
            "14/14 - 0s - loss: 0.8024 - accuracy: 0.8474 - 91ms/epoch - 6ms/step\n",
            "Epoch 65/100\n",
            "14/14 - 0s - loss: 0.7777 - accuracy: 0.8662 - 92ms/epoch - 7ms/step\n",
            "Epoch 66/100\n",
            "14/14 - 0s - loss: 0.7565 - accuracy: 0.8545 - 99ms/epoch - 7ms/step\n",
            "Epoch 67/100\n",
            "14/14 - 0s - loss: 0.7230 - accuracy: 0.8638 - 92ms/epoch - 7ms/step\n",
            "Epoch 68/100\n",
            "14/14 - 0s - loss: 0.7026 - accuracy: 0.8756 - 89ms/epoch - 6ms/step\n",
            "Epoch 69/100\n",
            "14/14 - 0s - loss: 0.6983 - accuracy: 0.8756 - 103ms/epoch - 7ms/step\n",
            "Epoch 70/100\n",
            "14/14 - 0s - loss: 0.6718 - accuracy: 0.8803 - 96ms/epoch - 7ms/step\n",
            "Epoch 71/100\n",
            "14/14 - 0s - loss: 0.6348 - accuracy: 0.8920 - 103ms/epoch - 7ms/step\n",
            "Epoch 72/100\n",
            "14/14 - 0s - loss: 0.6191 - accuracy: 0.9038 - 126ms/epoch - 9ms/step\n",
            "Epoch 73/100\n",
            "14/14 - 0s - loss: 0.5934 - accuracy: 0.9108 - 90ms/epoch - 6ms/step\n",
            "Epoch 74/100\n",
            "14/14 - 0s - loss: 0.5908 - accuracy: 0.8991 - 99ms/epoch - 7ms/step\n",
            "Epoch 75/100\n",
            "14/14 - 0s - loss: 0.5628 - accuracy: 0.9202 - 116ms/epoch - 8ms/step\n",
            "Epoch 76/100\n",
            "14/14 - 0s - loss: 0.5429 - accuracy: 0.9272 - 111ms/epoch - 8ms/step\n",
            "Epoch 77/100\n",
            "14/14 - 0s - loss: 0.5327 - accuracy: 0.9319 - 142ms/epoch - 10ms/step\n",
            "Epoch 78/100\n",
            "14/14 - 0s - loss: 0.5123 - accuracy: 0.9343 - 175ms/epoch - 12ms/step\n",
            "Epoch 79/100\n",
            "14/14 - 0s - loss: 0.5016 - accuracy: 0.9390 - 145ms/epoch - 10ms/step\n",
            "Epoch 80/100\n",
            "14/14 - 0s - loss: 0.5113 - accuracy: 0.9296 - 147ms/epoch - 10ms/step\n",
            "Epoch 81/100\n",
            "14/14 - 0s - loss: 0.4755 - accuracy: 0.9343 - 144ms/epoch - 10ms/step\n",
            "Epoch 82/100\n",
            "14/14 - 0s - loss: 0.4611 - accuracy: 0.9390 - 148ms/epoch - 11ms/step\n",
            "Epoch 83/100\n",
            "14/14 - 0s - loss: 0.4420 - accuracy: 0.9413 - 145ms/epoch - 10ms/step\n",
            "Epoch 84/100\n",
            "14/14 - 0s - loss: 0.4259 - accuracy: 0.9484 - 157ms/epoch - 11ms/step\n",
            "Epoch 85/100\n",
            "14/14 - 0s - loss: 0.4213 - accuracy: 0.9531 - 153ms/epoch - 11ms/step\n",
            "Epoch 86/100\n",
            "14/14 - 0s - loss: 0.4277 - accuracy: 0.9413 - 149ms/epoch - 11ms/step\n",
            "Epoch 87/100\n",
            "14/14 - 0s - loss: 0.3975 - accuracy: 0.9460 - 158ms/epoch - 11ms/step\n",
            "Epoch 88/100\n",
            "14/14 - 0s - loss: 0.3802 - accuracy: 0.9577 - 150ms/epoch - 11ms/step\n",
            "Epoch 89/100\n",
            "14/14 - 0s - loss: 0.3601 - accuracy: 0.9601 - 150ms/epoch - 11ms/step\n",
            "Epoch 90/100\n",
            "14/14 - 0s - loss: 0.3535 - accuracy: 0.9554 - 150ms/epoch - 11ms/step\n",
            "Epoch 91/100\n",
            "14/14 - 0s - loss: 0.3363 - accuracy: 0.9648 - 172ms/epoch - 12ms/step\n",
            "Epoch 92/100\n",
            "14/14 - 0s - loss: 0.3280 - accuracy: 0.9624 - 190ms/epoch - 14ms/step\n",
            "Epoch 93/100\n",
            "14/14 - 0s - loss: 0.3165 - accuracy: 0.9718 - 164ms/epoch - 12ms/step\n",
            "Epoch 94/100\n",
            "14/14 - 0s - loss: 0.3058 - accuracy: 0.9671 - 168ms/epoch - 12ms/step\n",
            "Epoch 95/100\n",
            "14/14 - 0s - loss: 0.3042 - accuracy: 0.9671 - 150ms/epoch - 11ms/step\n",
            "Epoch 96/100\n",
            "14/14 - 0s - loss: 0.2898 - accuracy: 0.9765 - 132ms/epoch - 9ms/step\n",
            "Epoch 97/100\n",
            "14/14 - 0s - loss: 0.2815 - accuracy: 0.9671 - 97ms/epoch - 7ms/step\n",
            "Epoch 98/100\n",
            "14/14 - 0s - loss: 0.2716 - accuracy: 0.9789 - 92ms/epoch - 7ms/step\n",
            "Epoch 99/100\n",
            "14/14 - 0s - loss: 0.2637 - accuracy: 0.9812 - 115ms/epoch - 8ms/step\n",
            "Epoch 100/100\n",
            "14/14 - 0s - loss: 0.2596 - accuracy: 0.9765 - 104ms/epoch - 7ms/step\n"
          ]
        },
        {
          "output_type": "execute_result",
          "data": {
            "text/plain": [
              "<keras.callbacks.History at 0x7801887a3760>"
            ]
          },
          "metadata": {},
          "execution_count": 42
        }
      ]
    },
    {
      "cell_type": "code",
      "source": [
        "def sentence_generation(model, char_to_index, seq_length, seed_text, n):\n",
        "\n",
        "  #초기 시퀀스\n",
        "  init_text=seed_text\n",
        "  sentence=''\n",
        "\n",
        "  #다음 문자 예측을 n개의 문자만큼 반복\n",
        "  for _ in range(n):\n",
        "    #현재 시퀀스에 대한 정수 인코딩과 패딩을 하고 원핫인코딩을 한다.\n",
        "    encoded=[char_to_index[char] for char in seed_text]\n",
        "    encoded=pad_sequences([encoded],maxlen=seq_length, padding='pre')\n",
        "    encoded=to_categorical(encoded, num_classes=len(char_to_index))\n",
        "\n",
        "    #입력한 X(현재 시퀀스)에 대해서 y(예측한 문자)를 예측하고 result에 저장\n",
        "    result=model.predict(encoded, verbose=0)\n",
        "    result=np.argmax(result, axis=1)\n",
        "\n",
        "    for char, index in char_to_index.items():\n",
        "      if index==result:\n",
        "        break\n",
        "\n",
        "    #현재 시퀀스 + 예측 문자를 현재 시퀀스로 변경\n",
        "    seed_text+=char\n",
        "\n",
        "    #예측 문자를 문장에 저장\n",
        "    sentence+=char\n",
        "\n",
        "  #n번 다음 문자의 예측이 끝나면 완성된 문장을 리턴\n",
        "  sentence=init_text+sentence\n",
        "  return sentence"
      ],
      "metadata": {
        "id": "uORpFJIMINuM"
      },
      "execution_count": 43,
      "outputs": []
    },
    {
      "cell_type": "code",
      "source": [
        "print(sentence_generation(model, char_to_index,10, 'I get on w', 80))"
      ],
      "metadata": {
        "id": "rfT2JYK6Z9Yo",
        "outputId": "1071b7fd-b294-42cc-a453-37d56e5018c1",
        "colab": {
          "base_uri": "https://localhost:8080/"
        }
      },
      "execution_count": 44,
      "outputs": [
        {
          "output_type": "stream",
          "name": "stdout",
          "text": [
            "I get on with life as a programmer, I like to hang out with programming and deep learning.\n"
          ]
        }
      ]
    },
    {
      "cell_type": "code",
      "source": [],
      "metadata": {
        "id": "4P-WicU8aDgA"
      },
      "execution_count": null,
      "outputs": []
    }
  ]
}