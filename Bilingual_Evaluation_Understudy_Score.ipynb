{
  "nbformat": 4,
  "nbformat_minor": 0,
  "metadata": {
    "colab": {
      "provenance": [],
      "authorship_tag": "ABX9TyOHiVmHINz3JpKSelSvcBSU",
      "include_colab_link": true
    },
    "kernelspec": {
      "name": "python3",
      "display_name": "Python 3"
    },
    "language_info": {
      "name": "python"
    }
  },
  "cells": [
    {
      "cell_type": "markdown",
      "metadata": {
        "id": "view-in-github",
        "colab_type": "text"
      },
      "source": [
        "<a href=\"https://colab.research.google.com/github/UiinKim/UiinKim/blob/main/Bilingual_Evaluation_Understudy_Score.ipynb\" target=\"_parent\"><img src=\"https://colab.research.google.com/assets/colab-badge.svg\" alt=\"Open In Colab\"/></a>"
      ]
    },
    {
      "cell_type": "code",
      "execution_count": 1,
      "metadata": {
        "colab": {
          "base_uri": "https://localhost:8080/"
        },
        "id": "d-YvjENX5dpR",
        "outputId": "473213b7-2994-4177-974c-4bfba31f5e9e"
      },
      "outputs": [
        {
          "output_type": "stream",
          "name": "stdout",
          "text": [
            "Requirement already satisfied: nltk in /usr/local/lib/python3.10/dist-packages (3.8.1)\n",
            "Requirement already satisfied: click in /usr/local/lib/python3.10/dist-packages (from nltk) (8.1.6)\n",
            "Requirement already satisfied: joblib in /usr/local/lib/python3.10/dist-packages (from nltk) (1.3.1)\n",
            "Requirement already satisfied: regex>=2021.8.3 in /usr/local/lib/python3.10/dist-packages (from nltk) (2022.10.31)\n",
            "Requirement already satisfied: tqdm in /usr/local/lib/python3.10/dist-packages (from nltk) (4.65.0)\n"
          ]
        }
      ],
      "source": [
        "!pip install nltk"
      ]
    },
    {
      "cell_type": "code",
      "source": [
        "import numpy as np\n",
        "from collections import Counter\n",
        "from nltk import ngrams"
      ],
      "metadata": {
        "id": "WNz6GbMS5rZB"
      },
      "execution_count": 3,
      "outputs": []
    },
    {
      "cell_type": "code",
      "source": [
        "#토큰화 된 문장에서n-gram카운트\n",
        "def simple_count(tokens, n):\n",
        "  return Counter(ngrams(tokens, n))"
      ],
      "metadata": {
        "id": "4Ta4RDTI5wW_"
      },
      "execution_count": 4,
      "outputs": []
    },
    {
      "cell_type": "code",
      "source": [
        "candidate=\"It is a guide to action which ensures that the military always obeys the commands of the party.\"\n",
        "tokens=candidate.split()\n",
        "result=simple_count(tokens, 1) #n-gram을 1로 설정하면 유니그램\n",
        "print(\"유니그램 카운트 : \", result)"
      ],
      "metadata": {
        "colab": {
          "base_uri": "https://localhost:8080/"
        },
        "id": "TsWbaqhWJSVq",
        "outputId": "5a64701c-124b-42a5-9c74-1891b452bfd9"
      },
      "execution_count": 5,
      "outputs": [
        {
          "output_type": "stream",
          "name": "stdout",
          "text": [
            "유니그램 카운트 :  Counter({('the',): 3, ('It',): 1, ('is',): 1, ('a',): 1, ('guide',): 1, ('to',): 1, ('action',): 1, ('which',): 1, ('ensures',): 1, ('that',): 1, ('military',): 1, ('always',): 1, ('obeys',): 1, ('commands',): 1, ('of',): 1, ('party.',): 1})\n"
          ]
        }
      ]
    },
    {
      "cell_type": "code",
      "source": [
        "candidate=\"the the the the the the the\"\n",
        "tokens=candidate.split()\n",
        "result=simple_count(tokens, 1)\n",
        "print(\"유니그램 카운트 : \", result)"
      ],
      "metadata": {
        "colab": {
          "base_uri": "https://localhost:8080/"
        },
        "id": "Boy82bugN87i",
        "outputId": "7af410d5-4b69-46c7-f539-211fdeb76052"
      },
      "execution_count": 6,
      "outputs": [
        {
          "output_type": "stream",
          "name": "stdout",
          "text": [
            "유니그램 카운트 :  Counter({('the',): 7})\n"
          ]
        }
      ]
    },
    {
      "cell_type": "code",
      "source": [
        "#단순 count가 아닌 candidate와 reference중에서 더 적게 출현한 횟수를 카운트\n",
        "def count_clip(candidate, reference_list, n):\n",
        "  #Ca 문장에서 n-gram 카운트\n",
        "  ca_cnt=simple_count(candidate, n)\n",
        "  max_ref_cnt_dict=dict()\n",
        "\n",
        "  for ref in reference_list:\n",
        "    #Ref 문장에서 n-gram카운트\n",
        "    ref_cnt=simple_count(ref, n)\n",
        "\n",
        "    #각 Ref 문장들을 비교하여 n-gram의 최대 등장 횟수를 계산\n",
        "    for n_gram in ref_cnt: #현재 ref문장에 들어있는 사전의 단어를 차례대로\n",
        "      if n_gram in max_ref_cnt_dict: #이미 모든 ref문장의 사전에 있는 단어라면\n",
        "        max_ref_cnt_dict[n_gram]=max(ref_cnt[n_gram], max_ref_cnt_dict[n_gram]) #횟수가 더 큰 것으로 대체\n",
        "      else:\n",
        "        max_ref_cnt_dict[n_gram]=ref_cnt[n_gram] #없으면 사전에 추가\n",
        "  return{\n",
        "        #count_clip=min(coutn, max_ref_count)\n",
        "        n_gram:min(ca_cnt.get(n_gram,0), max_ref_cnt_dict.get(n_gram,0)) for n_gram in ca_cnt #Ca문장에서 나온 단어 중 횟수가 더 적은 쪽으로 저장하고 반환\n",
        "    }\n"
      ],
      "metadata": {
        "id": "se9IsmD8OLLY"
      },
      "execution_count": 12,
      "outputs": []
    },
    {
      "cell_type": "code",
      "source": [
        "candidate = 'the the the the the the the'\n",
        "references = [\n",
        "    'the cat is on the mat',\n",
        "    'there is a cat on the mat'\n",
        "]\n",
        "result = count_clip(candidate.split(),list(map(lambda ref: ref.split(), references)),1)\n",
        "print('보정된 유니그램 카운트 :',result)"
      ],
      "metadata": {
        "colab": {
          "base_uri": "https://localhost:8080/"
        },
        "id": "MYpqQfEtRayh",
        "outputId": "a0760cc1-eafd-45a5-85fb-0aff23fff668"
      },
      "execution_count": 13,
      "outputs": [
        {
          "output_type": "stream",
          "name": "stdout",
          "text": [
            "보정된 유니그램 카운트 : {('the',): 2}\n"
          ]
        }
      ]
    },
    {
      "cell_type": "code",
      "source": [
        "def modified_precision(candidate, reference_list, n):\n",
        "  clip_cnt=count_clip(candidate, reference_list, n)\n",
        "  total_clip_cnt=sum(clip_cnt.values()) #분자를 구한다.\n",
        "\n",
        "  cnt=simple_count(candidate, n)\n",
        "  total_cnt=sum(cnt.values()) #분모\n",
        "\n",
        "  #분모가 0이 되는 것을 방지\n",
        "  if total_cnt==0:\n",
        "    total_cnt=1\n",
        "\n",
        "  #분자 : count_clip의 합, 분모 : 단순 count의 합 ==> 보정된 정밀도\n",
        "\n",
        "  return (total_clip_cnt/total_cnt)"
      ],
      "metadata": {
        "id": "Z2yV7XPmRudg"
      },
      "execution_count": 15,
      "outputs": []
    },
    {
      "cell_type": "code",
      "source": [
        "result=modified_precision(candidate.split(), list(map(lambda ref:ref.split(), references)), 1)\n",
        "print(\"보정된 유니그램 정밀도 : \", result)"
      ],
      "metadata": {
        "colab": {
          "base_uri": "https://localhost:8080/"
        },
        "id": "xsuV9UZyVubJ",
        "outputId": "d4395eff-feb8-49a4-993b-ddce20258fb4"
      },
      "execution_count": 16,
      "outputs": [
        {
          "output_type": "stream",
          "name": "stdout",
          "text": [
            "보정된 유니그램 정밀도 :  0.2857142857142857\n"
          ]
        }
      ]
    },
    {
      "cell_type": "code",
      "source": [
        "#Ca 길이와 가장 근접한 Ref의 길이를 리턴하는 함수\n",
        "def closest_ref_length(candidate, reference_list):\n",
        "  ca_len=len(candidate)\n",
        "  ref_lens=(len(ref) for ref in reference_list)\n",
        "  #길이 차이를 최소화하는 Ref를 찾아서 Ref으 ㅣ길이를 리턴\n",
        "  closest_ref_len=min(ref_lens, key=lambda ref_len:(abs(ref_len-ca_len), ref_len)) #ref_len-ca_len의 절댓값\n",
        "  return closest_ref_len"
      ],
      "metadata": {
        "id": "eqWWmYhuV5lY"
      },
      "execution_count": 17,
      "outputs": []
    },
    {
      "cell_type": "code",
      "source": [
        "#BP(brevity penalty) 함수 -> Ca의 길이가 ref보다 짧아서 높은 효율이 나오는 것을 방지하기 위해 곱하는 수\n",
        "def brevity_penalty(candidate, reference_list):\n",
        "  ca_len=len(candidate)\n",
        "  ref_len=closest_ref_length(candidate, reference_list)\n",
        "\n",
        "  if ca_len>ref_len: #ca의 길이가 더 길면 BP곱할필요가 없음\n",
        "    return 1\n",
        "  elif ca_len==0:#Ca의 길이가 0이면 확률은 0\n",
        "    return 0\n",
        "  else: #나머지의 경우 BP를 구하여 반환\n",
        "    return np.exp(1-ref_len/ca_len)\n"
      ],
      "metadata": {
        "id": "ManurX0vZ47q"
      },
      "execution_count": 18,
      "outputs": []
    },
    {
      "cell_type": "code",
      "source": [
        "#BLEU(Bilingual Evaluation Understudy Score) 계산 함수\n",
        "def bleu_score(candidate, reference_list, weights=[0.25, 0.25,0.25,0.25]):\n",
        "  bp=brevity_penalty(candidate, reference_list)\n",
        "\n",
        "  p_n=[modified_precision(candidate, reference_list, n=n) for n, _ in enumerate(weights, start=1)]\n",
        "  #p1, p2, p3, p4\n",
        "  score=np.sum([w_i*np.log(p_i) if p_i!=0 else 0 for w_i, p_i in zip(weights, p_n)])\n",
        "  return bp*np.exp(score)"
      ],
      "metadata": {
        "id": "CoAwIZ0obVJ4"
      },
      "execution_count": 21,
      "outputs": []
    },
    {
      "cell_type": "code",
      "source": [
        "#nltk의 bleu측정\n",
        "import nltk.translate.bleu_score as bleu\n",
        "candidate = 'It is a guide to action which ensures that the military always obeys the commands of the party'\n",
        "references = [\n",
        "    'It is a guide to action that ensures that the military will forever heed Party commands',\n",
        "    'It is the guiding principle which guarantees the military forces always being under the command of the Party',\n",
        "    'It is the practical guide for the army always to heed the directions of the party'\n",
        "]\n",
        "\n",
        "print(\"실습 코드의 BLEU : \", bleu_score(candidate.split(), list(map(lambda ref:ref.split(), references))))\n",
        "print(\"패키지 NLTK의 BLEU : \", bleu.sentence_bleu(list(map(lambda ref:ref.split(), references)), candidate.split()))"
      ],
      "metadata": {
        "colab": {
          "base_uri": "https://localhost:8080/"
        },
        "id": "rRpw9qZhcDGS",
        "outputId": "9c36f50f-4c3d-4462-ac39-d237eb52e92f"
      },
      "execution_count": 22,
      "outputs": [
        {
          "output_type": "stream",
          "name": "stdout",
          "text": [
            "실습 코드의 BLEU :  0.5045666840058485\n",
            "패키지 NLTK의 BLEU :  0.5045666840058485\n"
          ]
        }
      ]
    },
    {
      "cell_type": "code",
      "source": [],
      "metadata": {
        "id": "8H7-3iSlc1_Q"
      },
      "execution_count": null,
      "outputs": []
    }
  ]
}