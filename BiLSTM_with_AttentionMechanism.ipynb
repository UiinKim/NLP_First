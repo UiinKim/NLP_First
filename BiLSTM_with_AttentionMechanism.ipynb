{
  "nbformat": 4,
  "nbformat_minor": 0,
  "metadata": {
    "colab": {
      "provenance": [],
      "authorship_tag": "ABX9TyM7nJVEiYmTqRZ5swsFARjg",
      "include_colab_link": true
    },
    "kernelspec": {
      "name": "python3",
      "display_name": "Python 3"
    },
    "language_info": {
      "name": "python"
    }
  },
  "cells": [
    {
      "cell_type": "markdown",
      "metadata": {
        "id": "view-in-github",
        "colab_type": "text"
      },
      "source": [
        "<a href=\"https://colab.research.google.com/github/UiinKim/UiinKim/blob/main/BiLSTM_with_AttentionMechanism.ipynb\" target=\"_parent\"><img src=\"https://colab.research.google.com/assets/colab-badge.svg\" alt=\"Open In Colab\"/></a>"
      ]
    },
    {
      "cell_type": "code",
      "execution_count": 1,
      "metadata": {
        "id": "lNKpP18gwvdk"
      },
      "outputs": [],
      "source": [
        "from tensorflow.keras.datasets import imdb\n",
        "from tensorflow.keras.utils import to_categorical\n",
        "from tensorflow.keras.preprocessing.sequence import pad_sequences"
      ]
    },
    {
      "cell_type": "code",
      "source": [
        "vocab_size=10000\n",
        "(X_train, y_train), (X_test, y_test)=imdb.load_data(num_words=vocab_size)"
      ],
      "metadata": {
        "colab": {
          "base_uri": "https://localhost:8080/"
        },
        "id": "VNHndL-1CIjR",
        "outputId": "eaa2363a-7d72-47f7-efe2-9371a3d060c0"
      },
      "execution_count": 2,
      "outputs": [
        {
          "output_type": "stream",
          "name": "stdout",
          "text": [
            "Downloading data from https://storage.googleapis.com/tensorflow/tf-keras-datasets/imdb.npz\n",
            "17464789/17464789 [==============================] - 0s 0us/step\n"
          ]
        }
      ]
    },
    {
      "cell_type": "code",
      "source": [
        "print(\"리뷰 최대 길이 : \", max(len(l) for l in X_train))\n",
        "print(\"리뷰 평균 길이 : \", sum(map(len, X_train))/len(X_train))"
      ],
      "metadata": {
        "colab": {
          "base_uri": "https://localhost:8080/"
        },
        "id": "qLW7__dgCQOX",
        "outputId": "31f9e1d6-d543-4090-d4c0-df870f5d30c8"
      },
      "execution_count": 4,
      "outputs": [
        {
          "output_type": "stream",
          "name": "stdout",
          "text": [
            "리뷰 최대 길이 :  2494\n",
            "리뷰 평균 길이 :  238.71364\n"
          ]
        }
      ]
    },
    {
      "cell_type": "code",
      "source": [
        "max_len=500\n",
        "X_train=pad_sequences(X_train, maxlen=max_len)\n",
        "X_test=pad_sequences(X_test, maxlen=max_len)"
      ],
      "metadata": {
        "id": "OUAJW7L_CTNf"
      },
      "execution_count": 5,
      "outputs": []
    },
    {
      "cell_type": "code",
      "source": [
        "import tensorflow as tf"
      ],
      "metadata": {
        "id": "vjhSW86FCnT3"
      },
      "execution_count": 6,
      "outputs": []
    },
    {
      "cell_type": "code",
      "source": [
        "#바다나우 어텐션\n",
        "class BahdanauAttention(tf.keras.Model):\n",
        "  def __init__(self, units):\n",
        "    super(BahdanauAttention, self).__init__()\n",
        "    self.W1=Dense(units)\n",
        "    self.W2=Dense(units)\n",
        "    self.V=Dense(1)\n",
        "\n",
        "  def call(self, values, query):#key와 value 같음\n",
        "    #query shape == (batch_size, hidden_size)\n",
        "    #hidden_with_time_axis shape==(batch_size, 1, hidden size)\n",
        "    #score 계산을 위해 뒤에서 할 덧셈을 위해서 차원을 변경해줍니다.\n",
        "    hidden_with_time_axis=tf.expand_dims(query,1)\n",
        "\n",
        "    #score shape==(batch_size, max_length, 1)\n",
        "    #we get 1 at th last axis because we are applying score to self.V\n",
        "    #the shape of th tensor before applying self.V is (batch_size, max_length, units)\n",
        "    score=self.V(tf.nn.tanh(self.W1(values)+self.W2(hidden_with_time_axis)))\n",
        "\n",
        "    #attnetion_weights shape == (batch_size, max_length, 1)\n",
        "    attention_weights=tf.nn.softmax(score, axis=1)\n",
        "\n",
        "    #context_vector shape after sum == (batch_size, hidden_size)\n",
        "    context_vector=attention_weights*values\n",
        "    context_vector=tf.reduce_sum(context_vector, axis=1)\n",
        "\n",
        "    return context_vector, attention_weights"
      ],
      "metadata": {
        "id": "84D9eLXTDwZg"
      },
      "execution_count": 7,
      "outputs": []
    },
    {
      "cell_type": "code",
      "source": [
        "#양방향 LSTM\n",
        "from tensorflow.keras.layers import Dense, Embedding, Bidirectional, LSTM, Concatenate, Dropout\n",
        "from tensorflow.keras import Input, Model\n",
        "from tensorflow.keras import optimizers\n",
        "import os"
      ],
      "metadata": {
        "id": "dug7Z0RfFVNY"
      },
      "execution_count": 9,
      "outputs": []
    },
    {
      "cell_type": "code",
      "source": [
        "sequence_input=Input(shape=(max_len,), dtype='int32')\n",
        "embeded_sequences=Embedding(vocab_size, 128, input_length=max_len, mask_zero=True)(sequence_input)"
      ],
      "metadata": {
        "id": "mhVU9SDfGieg"
      },
      "execution_count": 10,
      "outputs": []
    },
    {
      "cell_type": "code",
      "source": [
        "#LSTM의 첫번째 층\n",
        "lstm=Bidirectional(LSTM(64, dropout=0.5,return_sequences=True))(embeded_sequences)"
      ],
      "metadata": {
        "id": "KvuSNVttG7kx"
      },
      "execution_count": 11,
      "outputs": []
    },
    {
      "cell_type": "code",
      "source": [
        "#LSTM의 두번째 층, 상태를 리턴 받는다.\n",
        "lstm, forward_h, forward_c, backward_h, backward_c=Bidirectional(LSTM(64, dropout=0.5, return_sequences=True, return_state=True))(lstm)"
      ],
      "metadata": {
        "id": "Shtcy7hwHDuX"
      },
      "execution_count": 12,
      "outputs": []
    },
    {
      "cell_type": "code",
      "source": [
        "print(lstm.shape, forward_h.shape, forward_c.shape, backward_h.shape, backward_c.shape)\n",
        "#순방향 셀+은닉=128, 역방향 셀+은닉=128 -> 모든 시점에 대해서 존재"
      ],
      "metadata": {
        "colab": {
          "base_uri": "https://localhost:8080/"
        },
        "id": "l_c0eAS-Hcnv",
        "outputId": "a9d99bb6-be50-4e0c-ed65-d6cdf2e7925f"
      },
      "execution_count": 13,
      "outputs": [
        {
          "output_type": "stream",
          "name": "stdout",
          "text": [
            "(None, 500, 128) (None, 64) (None, 64) (None, 64) (None, 64)\n"
          ]
        }
      ]
    },
    {
      "cell_type": "code",
      "source": [
        "#두 방향의 LSTM의 상태들을 연결한다.\n",
        "state_h=Concatenate()([forward_h, backward_h]) #은닉 상태\n",
        "state_c=Concatenate()([forward_c, backward_c]) #셀 상태"
      ],
      "metadata": {
        "id": "cY8HsqDDHqAo"
      },
      "execution_count": 14,
      "outputs": []
    },
    {
      "cell_type": "code",
      "source": [
        "attention=BahdanauAttention(64) #가중치의 크기 정의\n",
        "context_vector, attention_weights=attention(lstm, state_h) #어텐션 메커니즘에서는 은닉상태(h)를 사용한다."
      ],
      "metadata": {
        "id": "aWShOqw6Jfmh"
      },
      "execution_count": 16,
      "outputs": []
    },
    {
      "cell_type": "code",
      "source": [
        "dense1=Dense(20, activation='relu')(context_vector)\n",
        "dropout=Dropout(0.5)(dense1)\n",
        "output=Dense(1, activation='sigmoid')(dropout)\n",
        "model=Model(inputs=sequence_input, outputs=output)"
      ],
      "metadata": {
        "id": "_8DJz1wTJkH_"
      },
      "execution_count": 17,
      "outputs": []
    },
    {
      "cell_type": "code",
      "source": [
        "model.compile(loss='binary_crossentropy', optimizer='adam', metrics=['accuracy'])"
      ],
      "metadata": {
        "id": "_b0mT2tUK8To"
      },
      "execution_count": 18,
      "outputs": []
    },
    {
      "cell_type": "code",
      "source": [
        "history=model.fit(X_train, y_train, epochs=3, batch_size=256,validation_data=(X_test, y_test), verbose=1)"
      ],
      "metadata": {
        "colab": {
          "base_uri": "https://localhost:8080/"
        },
        "id": "f7-8U8i1LD-f",
        "outputId": "bd291280-6abb-4d2f-8542-02eca84ed612"
      },
      "execution_count": null,
      "outputs": [
        {
          "output_type": "stream",
          "name": "stdout",
          "text": [
            "Epoch 1/3\n",
            "48/98 [=============>................] - ETA: 8:42 - loss: 0.6419 - accuracy: 0.6266"
          ]
        }
      ]
    },
    {
      "cell_type": "code",
      "source": [
        "print(\"\\n 테스트 정확도 : %.4f\"%(model.evaluate(X_test, y_test)[1]))"
      ],
      "metadata": {
        "id": "UkoCmr6xLML_"
      },
      "execution_count": null,
      "outputs": []
    },
    {
      "cell_type": "code",
      "source": [],
      "metadata": {
        "id": "xSn_MVsrLYt-"
      },
      "execution_count": null,
      "outputs": []
    }
  ]
}