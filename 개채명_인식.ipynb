{
  "nbformat": 4,
  "nbformat_minor": 0,
  "metadata": {
    "colab": {
      "provenance": [],
      "authorship_tag": "ABX9TyOtely15z1xEaSW4/TIznjF",
      "include_colab_link": true
    },
    "kernelspec": {
      "name": "python3",
      "display_name": "Python 3"
    },
    "language_info": {
      "name": "python"
    }
  },
  "cells": [
    {
      "cell_type": "markdown",
      "metadata": {
        "id": "view-in-github",
        "colab_type": "text"
      },
      "source": [
        "<a href=\"https://colab.research.google.com/github/UiinKim/UiinKim/blob/main/%EA%B0%9C%EC%B1%84%EB%AA%85_%EC%9D%B8%EC%8B%9D.ipynb\" target=\"_parent\"><img src=\"https://colab.research.google.com/assets/colab-badge.svg\" alt=\"Open In Colab\"/></a>"
      ]
    },
    {
      "cell_type": "code",
      "execution_count": 17,
      "metadata": {
        "colab": {
          "base_uri": "https://localhost:8080/"
        },
        "id": "6rx2mi47ca2L",
        "outputId": "88697e5b-6e5d-4a32-80a5-12a2c4f85999"
      },
      "outputs": [
        {
          "output_type": "stream",
          "name": "stderr",
          "text": [
            "[nltk_data] Downloading package maxent_ne_chunker to\n",
            "[nltk_data]     /root/nltk_data...\n",
            "[nltk_data]   Package maxent_ne_chunker is already up-to-date!\n"
          ]
        },
        {
          "output_type": "execute_result",
          "data": {
            "text/plain": [
              "True"
            ]
          },
          "metadata": {},
          "execution_count": 17
        }
      ],
      "source": [
        "import nltk\n",
        "nltk.download('maxent_ne_chunker')"
      ]
    },
    {
      "cell_type": "code",
      "source": [
        "import nltk\n",
        "nltk.download('punkt')"
      ],
      "metadata": {
        "colab": {
          "base_uri": "https://localhost:8080/"
        },
        "id": "iFvtzrfldkFq",
        "outputId": "ba439aeb-ca4e-4f88-fd12-267c0e696927"
      },
      "execution_count": 18,
      "outputs": [
        {
          "output_type": "stream",
          "name": "stderr",
          "text": [
            "[nltk_data] Downloading package punkt to /root/nltk_data...\n",
            "[nltk_data]   Package punkt is already up-to-date!\n"
          ]
        },
        {
          "output_type": "execute_result",
          "data": {
            "text/plain": [
              "True"
            ]
          },
          "metadata": {},
          "execution_count": 18
        }
      ]
    },
    {
      "cell_type": "code",
      "source": [
        "import nltk\n",
        "nltk.download('averaged_perceptron_tagger')"
      ],
      "metadata": {
        "colab": {
          "base_uri": "https://localhost:8080/"
        },
        "id": "wP6mNhmQdphX",
        "outputId": "cebca56a-f8da-479a-976a-2edbc4dcf96b"
      },
      "execution_count": 19,
      "outputs": [
        {
          "output_type": "stream",
          "name": "stderr",
          "text": [
            "[nltk_data] Downloading package averaged_perceptron_tagger to\n",
            "[nltk_data]     /root/nltk_data...\n",
            "[nltk_data]   Package averaged_perceptron_tagger is already up-to-\n",
            "[nltk_data]       date!\n"
          ]
        },
        {
          "output_type": "execute_result",
          "data": {
            "text/plain": [
              "True"
            ]
          },
          "metadata": {},
          "execution_count": 19
        }
      ]
    },
    {
      "cell_type": "code",
      "source": [
        "import nltk\n",
        "nltk.download('words')"
      ],
      "metadata": {
        "colab": {
          "base_uri": "https://localhost:8080/"
        },
        "id": "4q2iP8nvejui",
        "outputId": "5b590d7e-66df-4660-e212-2d140813821e"
      },
      "execution_count": 20,
      "outputs": [
        {
          "output_type": "stream",
          "name": "stderr",
          "text": [
            "[nltk_data] Downloading package words to /root/nltk_data...\n",
            "[nltk_data]   Package words is already up-to-date!\n"
          ]
        },
        {
          "output_type": "execute_result",
          "data": {
            "text/plain": [
              "True"
            ]
          },
          "metadata": {},
          "execution_count": 20
        }
      ]
    },
    {
      "cell_type": "code",
      "source": [
        "from nltk import word_tokenize, pos_tag, ne_chunk\n",
        "\n",
        "sentence=\"James is working at Disney in London\"\n",
        "#토큰화 후 품사태깅\n",
        "tokenized_sentence=pos_tag(word_tokenize(sentence))\n",
        "print(tokenized_sentence)"
      ],
      "metadata": {
        "colab": {
          "base_uri": "https://localhost:8080/"
        },
        "id": "IK6hEpODdI1S",
        "outputId": "d0b1ce86-028d-4efa-90cc-5d5781ce482d"
      },
      "execution_count": 21,
      "outputs": [
        {
          "output_type": "stream",
          "name": "stdout",
          "text": [
            "[('James', 'NNP'), ('is', 'VBZ'), ('working', 'VBG'), ('at', 'IN'), ('Disney', 'NNP'), ('in', 'IN'), ('London', 'NNP')]\n"
          ]
        }
      ]
    },
    {
      "cell_type": "code",
      "source": [
        "ner_sentence=ne_chunk(tokenized_sentence) #Named Entity Recognition 개체명 인식\n",
        "print(ner_sentence) #GPE 는 장소"
      ],
      "metadata": {
        "colab": {
          "base_uri": "https://localhost:8080/"
        },
        "id": "4KNDlxjvdh0A",
        "outputId": "bd158166-6bce-4e12-b421-aeba5d672d42"
      },
      "execution_count": 22,
      "outputs": [
        {
          "output_type": "stream",
          "name": "stdout",
          "text": [
            "(S\n",
            "  (PERSON James/NNP)\n",
            "  is/VBZ\n",
            "  working/VBG\n",
            "  at/IN\n",
            "  (ORGANIZATION Disney/NNP)\n",
            "  in/IN\n",
            "  (GPE London/NNP))\n"
          ]
        }
      ]
    },
    {
      "cell_type": "code",
      "source": [
        "#BIO 표현 Begin Inside Outside\n",
        "import re\n",
        "import numpy as np\n",
        "import matplotlib.pyplot as plt\n",
        "import urllib.request\n",
        "from tensorflow.keras.preprocessing.text import Tokenizer\n",
        "from tensorflow.keras.preprocessing.sequence import pad_sequences\n",
        "from tensorflow.keras.utils import to_categorical\n",
        "from sklearn.model_selection import train_test_split"
      ],
      "metadata": {
        "id": "8GfXi9vTeg7H"
      },
      "execution_count": 23,
      "outputs": []
    },
    {
      "cell_type": "code",
      "source": [
        "urllib.request.urlretrieve(\"https://raw.githubusercontent.com/ukairia777/tensorflow-nlp-tutorial/main/12.%20RNN%20Sequence%20Labeling/dataset/train.txt\", filename=\"train.txt\")\n",
        "f=open('train.txt', 'r')\n",
        "tagged_sentences=[]\n",
        "sentence=[]\n",
        "\n",
        "for line in f:\n",
        "  if len(line)==0 or line.startswith('-DOCSTART-') or line[0]=='\\n':\n",
        "    if len(sentence)>0:\n",
        "      tagged_sentences.append(sentence)\n",
        "      sentence=[]\n",
        "    continue\n",
        "  splits=line.split(' ') # 띄어쓰기를 기준으로 나눈다.\n",
        "  splits[-1]=re.sub(r'\\n', '', splits[-1]) #나눠진 문장에서 마지막에 줄바꿈 표시를 삭제한다.\n",
        "  word=splits[0].lower() #소문자로 모두 바꾼다.\n",
        "  sentence.append([word, splits[-1]]) #단어와 태깅명만 추가한다."
      ],
      "metadata": {
        "id": "hekPTOZwlS-n"
      },
      "execution_count": 27,
      "outputs": []
    },
    {
      "cell_type": "code",
      "source": [
        "print(\"전체 샘플 개수 : \", len(tagged_sentences))"
      ],
      "metadata": {
        "colab": {
          "base_uri": "https://localhost:8080/"
        },
        "id": "6OCbZZ3wmCSY",
        "outputId": "e692805a-5e82-4d94-f43f-b9a21a4dce8d"
      },
      "execution_count": 28,
      "outputs": [
        {
          "output_type": "stream",
          "name": "stdout",
          "text": [
            "전체 샘플 개수 :  14041\n"
          ]
        }
      ]
    },
    {
      "cell_type": "code",
      "source": [
        "print(\"첫번째 샘플 : \", tagged_sentences[0])"
      ],
      "metadata": {
        "colab": {
          "base_uri": "https://localhost:8080/"
        },
        "id": "BDDEJLzcocPA",
        "outputId": "ccd421ae-5133-4fa7-a45e-ff962969243a"
      },
      "execution_count": 29,
      "outputs": [
        {
          "output_type": "stream",
          "name": "stdout",
          "text": [
            "첫번째 샘플 :  [['eu', 'B-ORG'], ['rejects', 'O'], ['german', 'B-MISC'], ['call', 'O'], ['to', 'O'], ['boycott', 'O'], ['british', 'B-MISC'], ['lamb', 'O'], ['.', 'O']]\n"
          ]
        }
      ]
    },
    {
      "cell_type": "code",
      "source": [
        "sentences, ner_tags=[], []\n",
        "for tagged_sentence in tagged_sentences:\n",
        "  sentence, ner_tag=zip(*tagged_sentence)\n",
        "  sentences.append(list(sentence))\n",
        "  ner_tags.append(list(ner_tag))"
      ],
      "metadata": {
        "id": "Zv0oOEbUoiV3"
      },
      "execution_count": 33,
      "outputs": []
    },
    {
      "cell_type": "code",
      "source": [
        "print(\"첫번째 샘플의 문장 : \", sentences[0])\n",
        "print(\"첫번째 샘플의 레이블 : \", ner_tags[0])"
      ],
      "metadata": {
        "colab": {
          "base_uri": "https://localhost:8080/"
        },
        "id": "n-LsjSKTpDdv",
        "outputId": "bd573e36-0373-4d9d-f408-16676d7934db"
      },
      "execution_count": 34,
      "outputs": [
        {
          "output_type": "stream",
          "name": "stdout",
          "text": [
            "첫번째 샘플의 문장 :  ['eu', 'rejects', 'german', 'call', 'to', 'boycott', 'british', 'lamb', '.']\n",
            "첫번째 샘플의 레이블 :  ['B-ORG', 'O', 'B-MISC', 'O', 'O', 'O', 'B-MISC', 'O', 'O']\n"
          ]
        }
      ]
    },
    {
      "cell_type": "code",
      "source": [
        "print(sentences[12])\n",
        "print(ner_tags[12])"
      ],
      "metadata": {
        "colab": {
          "base_uri": "https://localhost:8080/"
        },
        "id": "yZH49EMPpOYO",
        "outputId": "b8a23ef5-6ab4-44cd-eb78-368777e1135f"
      },
      "execution_count": 35,
      "outputs": [
        {
          "output_type": "stream",
          "name": "stdout",
          "text": [
            "['only', 'france', 'and', 'britain', 'backed', 'fischler', \"'s\", 'proposal', '.']\n",
            "['O', 'B-LOC', 'O', 'B-LOC', 'O', 'B-PER', 'O', 'O', 'O']\n"
          ]
        }
      ]
    },
    {
      "cell_type": "code",
      "source": [
        "print(\"샘플의 최대 길이 : \", max(len(l)for l in sentences))\n",
        "print(\"샘플의 평균 길이 : \", sum(map(len, sentences))/len(sentences))\n",
        "plt.hist([len(l)for l in sentences], bins=50)\n",
        "plt.xlabel('length of samples')\n",
        "plt.ylabel('number of samples')\n",
        "plt.show()"
      ],
      "metadata": {
        "colab": {
          "base_uri": "https://localhost:8080/",
          "height": 486
        },
        "id": "uU8JimV2pbgW",
        "outputId": "85e0442a-4122-4e9d-848f-5a68dab5c877"
      },
      "execution_count": 37,
      "outputs": [
        {
          "output_type": "stream",
          "name": "stdout",
          "text": [
            "샘플의 최대 길이 :  113\n",
            "샘플의 평균 길이 :  14.501887329962253\n"
          ]
        },
        {
          "output_type": "display_data",
          "data": {
            "text/plain": [
              "<Figure size 640x480 with 1 Axes>"
            ],
            "image/png": "[encoded data removed]"
          },
          "metadata": {}
        }
      ]
    },
    {
      "cell_type": "code",
      "source": [
        "vocab_size=4000\n",
        "src_tokenizer=Tokenizer(num_words=vocab_size, oov_token='OOV')\n",
        "src_tokenizer.fit_on_texts(sentences)\n",
        "\n",
        "tar_tokenizer=Tokenizer()\n",
        "tar_tokenizer.fit_on_texts(ner_tags)"
      ],
      "metadata": {
        "id": "xMwscfHJpnoo"
      },
      "execution_count": 52,
      "outputs": []
    },
    {
      "cell_type": "code",
      "source": [
        "tag_size=len(tar_tokenizer.word_index)+1\n",
        "print(\"단어 집합의 크기 : \", vocab_size)\n",
        "print(\"개체명 태깅 정보 집합의 크기 : \", tag_size)"
      ],
      "metadata": {
        "colab": {
          "base_uri": "https://localhost:8080/"
        },
        "id": "oQNrOGDxtuWH",
        "outputId": "c55af649-a11e-4b44-e200-1c17ab5e06c7"
      },
      "execution_count": 53,
      "outputs": [
        {
          "output_type": "stream",
          "name": "stdout",
          "text": [
            "단어 집합의 크기 :  4000\n",
            "개체명 태깅 정보 집합의 크기 :  10\n"
          ]
        }
      ]
    },
    {
      "cell_type": "code",
      "source": [
        "#정수 인코딩\n",
        "X_train=src_tokenizer.texts_to_sequences(sentences)\n",
        "y_train=tar_tokenizer.texts_to_sequences(ner_tags)"
      ],
      "metadata": {
        "id": "aRO97SQcuDA3"
      },
      "execution_count": 54,
      "outputs": []
    },
    {
      "cell_type": "code",
      "source": [
        "print(\"첫번째 샘플의 문장 : \", X_train[0])\n",
        "print(\"첫번째 샘플의 레이블 : \", y_train[0])"
      ],
      "metadata": {
        "colab": {
          "base_uri": "https://localhost:8080/"
        },
        "id": "aFwqJyYvuSo_",
        "outputId": "057c1eeb-db87-4114-cde3-556d772ad355"
      },
      "execution_count": 55,
      "outputs": [
        {
          "output_type": "stream",
          "name": "stdout",
          "text": [
            "첫번째 샘플의 문장 :  [989, 1, 205, 629, 7, 3939, 216, 1, 3]\n",
            "첫번째 샘플의 레이블 :  [4, 1, 7, 1, 1, 1, 7, 1, 1]\n"
          ]
        }
      ]
    },
    {
      "cell_type": "code",
      "source": [
        "index_to_word=src_tokenizer.index_word\n",
        "index_to_tag=tar_tokenizer.index_word"
      ],
      "metadata": {
        "id": "QjJaJpcVudo3"
      },
      "execution_count": 56,
      "outputs": []
    },
    {
      "cell_type": "code",
      "source": [
        "decoded=[]\n",
        "for index in X_train[0]: #정수 인코딩된 첫번째 문장만 디코딩해본다.\n",
        "  decoded.append(index_to_word[index])\n",
        "\n",
        "print(\"기존 문장 : {}\".format(sentences[0]))\n",
        "print(\"빈도수가 낮은 단어가 OOV 처리된 문장 : {}\".format(decoded))"
      ],
      "metadata": {
        "colab": {
          "base_uri": "https://localhost:8080/"
        },
        "id": "HhseIHTUuo26",
        "outputId": "94417f9c-6157-4756-b68b-82ae345a1487"
      },
      "execution_count": 57,
      "outputs": [
        {
          "output_type": "stream",
          "name": "stdout",
          "text": [
            "기존 문장 : ['eu', 'rejects', 'german', 'call', 'to', 'boycott', 'british', 'lamb', '.']\n",
            "빈도수가 낮은 단어가 OOV 처리된 문장 : ['eu', 'OOV', 'german', 'call', 'to', 'boycott', 'british', 'OOV', '.']\n"
          ]
        }
      ]
    },
    {
      "cell_type": "code",
      "source": [
        "max_len=70\n",
        "X_train=pad_sequences(X_train, padding='post', maxlen=max_len)\n",
        "y_train=pad_sequences(y_train, padding='post', maxlen=max_len)"
      ],
      "metadata": {
        "id": "GXN5BcfTvAMQ"
      },
      "execution_count": 58,
      "outputs": []
    },
    {
      "cell_type": "code",
      "source": [
        "X_train, X_test, y_train, y_test=train_test_split(X_train, y_train, test_size=0.2, random_state=777)"
      ],
      "metadata": {
        "id": "QjUj0WTkvVbg"
      },
      "execution_count": 59,
      "outputs": []
    },
    {
      "cell_type": "code",
      "source": [
        "#레이블의 원-핫 인코딩\n",
        "y_train=to_categorical(y_train, num_classes=tag_size)\n",
        "y_test=to_categorical(y_test, num_classes=tag_size)"
      ],
      "metadata": {
        "id": "uJaqGjCivbZv"
      },
      "execution_count": 60,
      "outputs": []
    },
    {
      "cell_type": "code",
      "source": [
        "print('훈련 샘플 문장의 크기 : {}'.format(X_train.shape))\n",
        "print('훈련 샘플 레이블의 크기 : {}'.format(y_train.shape))\n",
        "print('테스트 샘플 문장의 크기 : {}'.format(X_test.shape))\n",
        "print('테스트 샘플 레이블의 크기 : {}'.format(y_test.shape))"
      ],
      "metadata": {
        "colab": {
          "base_uri": "https://localhost:8080/"
        },
        "id": "3xU7D6pKvjMn",
        "outputId": "033ef3af-9874-4fe9-9300-0a447468a55f"
      },
      "execution_count": 61,
      "outputs": [
        {
          "output_type": "stream",
          "name": "stdout",
          "text": [
            "훈련 샘플 문장의 크기 : (11232, 70)\n",
            "훈련 샘플 레이블의 크기 : (11232, 70, 10)\n",
            "테스트 샘플 문장의 크기 : (2809, 70)\n",
            "테스트 샘플 레이블의 크기 : (2809, 70, 10)\n"
          ]
        }
      ]
    },
    {
      "cell_type": "code",
      "source": [
        "from tensorflow.keras.models import Sequential\n",
        "from tensorflow.keras.layers import Embedding, LSTM, Bidirectional, TimeDistributed, Dense\n",
        "from tensorflow.keras.optimizers import Adam\n",
        "\n",
        "embedding_dim=128\n",
        "hidden_units=128\n",
        "\n",
        "model=Sequential()\n",
        "model.add(Embedding(vocab_size, embedding_dim,input_length=max_len, mask_zero=True)) #패딩 때문에 값이 0인 것들은 연산에서 제외한다.\n",
        "model.add(Bidirectional(LSTM(hidden_units, return_sequences=True)))#다대다 모델이므로 모든 sequences들의 출력이 필요하다.\n",
        "model.add(TimeDistributed(Dense(tag_size, activation='softmax'))) #다대다 모델일 때 TimeDistributed를 사용하여 모든 시점에 대해 출력층을 사용한다.\n",
        "\n",
        "model.compile(optimizer=Adam(lr=0.001), loss='categorical_crossentropy', metrics=['accuracy'])\n",
        "model.fit(X_train, y_train, validation_data=(X_test, y_test), batch_size=128, epochs=8)"
      ],
      "metadata": {
        "colab": {
          "base_uri": "https://localhost:8080/"
        },
        "id": "l-R1GOeGvp-v",
        "outputId": "ada47b3b-8ca8-4e62-8572-88b789059b6d"
      },
      "execution_count": 63,
      "outputs": [
        {
          "output_type": "stream",
          "name": "stderr",
          "text": [
            "WARNING:absl:`lr` is deprecated in Keras optimizer, please use `learning_rate` or use the legacy optimizer, e.g.,tf.keras.optimizers.legacy.Adam.\n"
          ]
        },
        {
          "output_type": "stream",
          "name": "stdout",
          "text": [
            "Epoch 1/8\n",
            "88/88 [==============================] - 96s 975ms/step - loss: 0.9538 - accuracy: 0.8246 - val_loss: 0.6402 - val_accuracy: 0.8333\n",
            "Epoch 2/8\n",
            "88/88 [==============================] - 94s 1s/step - loss: 0.5069 - accuracy: 0.8473 - val_loss: 0.4110 - val_accuracy: 0.8750\n",
            "Epoch 3/8\n",
            "88/88 [==============================] - 105s 1s/step - loss: 0.3556 - accuracy: 0.8941 - val_loss: 0.2984 - val_accuracy: 0.9136\n",
            "Epoch 4/8\n",
            "88/88 [==============================] - 67s 763ms/step - loss: 0.2515 - accuracy: 0.9276 - val_loss: 0.2202 - val_accuracy: 0.9374\n",
            "Epoch 5/8\n",
            "88/88 [==============================] - 66s 755ms/step - loss: 0.1860 - accuracy: 0.9461 - val_loss: 0.1901 - val_accuracy: 0.9468\n",
            "Epoch 6/8\n",
            "88/88 [==============================] - 64s 728ms/step - loss: 0.1530 - accuracy: 0.9550 - val_loss: 0.1687 - val_accuracy: 0.9528\n",
            "Epoch 7/8\n",
            "88/88 [==============================] - 64s 728ms/step - loss: 0.1302 - accuracy: 0.9611 - val_loss: 0.1616 - val_accuracy: 0.9542\n",
            "Epoch 8/8\n",
            "88/88 [==============================] - 65s 736ms/step - loss: 0.1132 - accuracy: 0.9660 - val_loss: 0.1584 - val_accuracy: 0.9563\n"
          ]
        },
        {
          "output_type": "execute_result",
          "data": {
            "text/plain": [
              "<keras.callbacks.History at 0x7c1ab94df6a0>"
            ]
          },
          "metadata": {},
          "execution_count": 63
        }
      ]
    },
    {
      "cell_type": "code",
      "source": [
        "print(\"\\n 테스트 정확도 : %.4f\"%(model.evaluate(X_test, y_test)[1]))"
      ],
      "metadata": {
        "colab": {
          "base_uri": "https://localhost:8080/"
        },
        "id": "wW-QQTvoxsWH",
        "outputId": "2dd82600-5055-42f6-b0d8-77305ea5f443"
      },
      "execution_count": 65,
      "outputs": [
        {
          "output_type": "stream",
          "name": "stdout",
          "text": [
            "88/88 [==============================] - 9s 103ms/step - loss: 0.1594 - accuracy: 0.9563\n",
            "\n",
            " 테스트 정확도 : 0.9563\n"
          ]
        }
      ]
    },
    {
      "cell_type": "code",
      "source": [
        "index=10\n",
        "y_predicted=model.predict(np.array([X_test[index]]))\n",
        "#예측 y리턴, argmax 사용을 위해 배열로 변경\n",
        "y_predicted=np.argmax(y_predicted, axis=-1)\n",
        "#확률 벡터를 정수 레이블로 변경\n",
        "labels=np.argmax(y_test[index], -1)\n",
        "#원-핫 벡터를 정수 인코딩으로 변경\n",
        "\n",
        "print(\"{:15}|{:5}|{}\".format(\"단어\", \"실제값\", \"예측값\"))\n",
        "print(35 * \"-\")\n",
        "\n",
        "for word, tag, pred in zip(X_test[index], labels, y_predicted[0]):\n",
        "  if word!=0:\n",
        "    print(\"{:17}: {:7} {}\".format(index_to_word[word], index_to_tag[tag].upper(), index_to_tag[pred].upper()))"
      ],
      "metadata": {
        "colab": {
          "base_uri": "https://localhost:8080/"
        },
        "id": "LDpxLqU2x8OH",
        "outputId": "1975b60c-91c9-4752-9c0c-9481e636950e"
      },
      "execution_count": 67,
      "outputs": [
        {
          "output_type": "stream",
          "name": "stdout",
          "text": [
            "1/1 [==============================] - 0s 81ms/step\n",
            "단어             |실제값  |예측값\n",
            "-----------------------------------\n",
            "sarah            : B-PER   B-PER\n",
            "brady            : I-PER   I-PER\n",
            ",                : O       O\n",
            "whose            : O       O\n",
            "republican       : B-MISC  B-MISC\n",
            "husband          : O       O\n",
            "was              : O       O\n",
            "OOV              : O       O\n",
            "OOV              : O       O\n",
            "in               : O       O\n",
            "an               : O       O\n",
            "OOV              : O       O\n",
            "attempt          : O       O\n",
            "on               : O       O\n",
            "president        : O       O\n",
            "ronald           : B-PER   B-PER\n",
            "reagan           : I-PER   I-PER\n",
            ",                : O       O\n",
            "took             : O       O\n",
            "centre           : O       O\n",
            "stage            : O       O\n",
            "at               : O       O\n",
            "the              : O       O\n",
            "democratic       : B-MISC  B-MISC\n",
            "national         : I-MISC  I-MISC\n",
            "convention       : I-MISC  I-MISC\n",
            "on               : O       O\n",
            "monday           : O       O\n",
            "night            : O       O\n",
            "to               : O       O\n",
            "OOV              : O       O\n",
            "president        : O       O\n",
            "bill             : B-PER   B-PER\n",
            "clinton          : I-PER   I-PER\n",
            "'s               : O       O\n",
            "gun              : O       O\n",
            "control          : O       O\n",
            "efforts          : O       O\n",
            ".                : O       O\n"
          ]
        }
      ]
    },
    {
      "cell_type": "code",
      "source": [],
      "metadata": {
        "id": "9ak5MSjYyzjY"
      },
      "execution_count": null,
      "outputs": []
    }
  ]
}