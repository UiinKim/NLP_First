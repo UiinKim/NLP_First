{
  "nbformat": 4,
  "nbformat_minor": 0,
  "metadata": {
    "colab": {
      "provenance": [],
      "authorship_tag": "ABX9TyO+RH5xEF3UykoAy0VeFKDW",
      "include_colab_link": true
    },
    "kernelspec": {
      "name": "python3",
      "display_name": "Python 3"
    },
    "language_info": {
      "name": "python"
    }
  },
  "cells": [
    {
      "cell_type": "markdown",
      "metadata": {
        "id": "view-in-github",
        "colab_type": "text"
      },
      "source": [
        "<a href=\"https://colab.research.google.com/github/UiinKim/UiinKim/blob/main/1D_CNN_IMDB_%EB%A6%AC%EB%B7%B0_%EB%B6%84%EB%A5%98.ipynb\" target=\"_parent\"><img src=\"https://colab.research.google.com/assets/colab-badge.svg\" alt=\"Open In Colab\"/></a>"
      ]
    },
    {
      "cell_type": "code",
      "execution_count": 3,
      "metadata": {
        "id": "MFd2OVJw36xL"
      },
      "outputs": [],
      "source": [
        "from tensorflow.keras import datasets\n",
        "from tensorflow.keras.preprocessing.sequence import pad_sequences"
      ]
    },
    {
      "cell_type": "code",
      "source": [
        "vocab_size=10000\n",
        "(X_train, y_train), (X_test, y_test)=datasets.imdb.load_data(num_words=vocab_size)"
      ],
      "metadata": {
        "colab": {
          "base_uri": "https://localhost:8080/"
        },
        "id": "jhaMUHCr4HGa",
        "outputId": "393f8ceb-bae2-4e17-f045-48a67edb9cf0"
      },
      "execution_count": 4,
      "outputs": [
        {
          "output_type": "stream",
          "name": "stdout",
          "text": [
            "Downloading data from https://storage.googleapis.com/tensorflow/tf-keras-datasets/imdb.npz\n",
            "17464789/17464789 [==============================] - 0s 0us/step\n"
          ]
        }
      ]
    },
    {
      "cell_type": "code",
      "source": [
        "max_len=200\n",
        "X_train=pad_sequences(X_train, maxlen=max_len)\n",
        "X_test=pad_sequences(X_test, maxlen=max_len)"
      ],
      "metadata": {
        "id": "l8xPqGKd4ZYR"
      },
      "execution_count": 6,
      "outputs": []
    },
    {
      "cell_type": "code",
      "source": [
        "print(X_train.shape)\n",
        "print(X_test.shape)"
      ],
      "metadata": {
        "colab": {
          "base_uri": "https://localhost:8080/"
        },
        "id": "rq10SstF4b0w",
        "outputId": "b4e436af-99e7-4870-b491-1581b16a127d"
      },
      "execution_count": 9,
      "outputs": [
        {
          "output_type": "stream",
          "name": "stdout",
          "text": [
            "(25000, 200)\n",
            "(25000, 200)\n"
          ]
        }
      ]
    },
    {
      "cell_type": "code",
      "source": [
        "y_train[:5]"
      ],
      "metadata": {
        "colab": {
          "base_uri": "https://localhost:8080/"
        },
        "id": "LHcMw1rL4qIp",
        "outputId": "fef74081-f3c0-4de3-bb93-c3fd5438d464"
      },
      "execution_count": 11,
      "outputs": [
        {
          "output_type": "execute_result",
          "data": {
            "text/plain": [
              "array([1, 0, 0, 1, 0])"
            ]
          },
          "metadata": {},
          "execution_count": 11
        }
      ]
    },
    {
      "cell_type": "code",
      "source": [
        "from tensorflow.keras.layers import Embedding, Dense, Dropout, Conv1D, GlobalMaxPooling1D\n",
        "from tensorflow.keras.models import Sequential, load_model\n",
        "from tensorflow.keras.callbacks import EarlyStopping, ModelCheckpoint\n",
        "\n",
        "embedding_dim=256\n",
        "dropout_ratio=0.3\n",
        "kernel_size=3\n",
        "num_filters=256\n",
        "hidden_units=128\n",
        "\n",
        "model=Sequential()\n",
        "model.add(Embedding(vocab_size, embedding_dim))\n",
        "model.add(Dropout(dropout_ratio))\n",
        "model.add(Conv1D(num_filters, kernel_size, padding='valid', activation='relu'))#num_filters는 커널(가중치)의 개수, kerner_size는 커널의 높이(크기)\n",
        "model.add(GlobalMaxPooling1D())\n",
        "model.add(Dense(hidden_units, activation='relu'))\n",
        "model.add(Dropout(dropout_ratio))\n",
        "model.add(Dense(1, activation='sigmoid'))\n",
        "\n",
        "es=EarlyStopping(monitor='val_loss', mode='min', patience=3, verbose=1)\n",
        "mc=ModelCheckpoint('best_model.h5', monitor='val_acc', mode='max', verbose=1, save_best_only=True)\n",
        "\n",
        "model.compile(optimizer='adam', loss='binary_crossentropy', metrics=['acc'])\n",
        "model.fit(X_train, y_train, epochs=20, callbacks=[es, mc], validation_data=(X_test, y_test))"
      ],
      "metadata": {
        "colab": {
          "base_uri": "https://localhost:8080/"
        },
        "id": "9dPfD34O4xzR",
        "outputId": "b2173ee2-02b6-48c9-e2c2-6a020f3a5fd9"
      },
      "execution_count": 12,
      "outputs": [
        {
          "output_type": "stream",
          "name": "stdout",
          "text": [
            "Epoch 1/20\n",
            "782/782 [==============================] - ETA: 0s - loss: 0.4018 - acc: 0.8046\n",
            "Epoch 1: val_acc improved from -inf to 0.88676, saving model to best_model.h5\n",
            "782/782 [==============================] - 168s 213ms/step - loss: 0.4018 - acc: 0.8046 - val_loss: 0.2695 - val_acc: 0.8868\n",
            "Epoch 2/20\n",
            "782/782 [==============================] - ETA: 0s - loss: 0.2027 - acc: 0.9216\n",
            "Epoch 2: val_acc improved from 0.88676 to 0.89180, saving model to best_model.h5\n",
            "782/782 [==============================] - 144s 184ms/step - loss: 0.2027 - acc: 0.9216 - val_loss: 0.2628 - val_acc: 0.8918\n",
            "Epoch 3/20\n",
            "782/782 [==============================] - ETA: 0s - loss: 0.0973 - acc: 0.9665\n",
            "Epoch 3: val_acc did not improve from 0.89180\n",
            "782/782 [==============================] - 143s 183ms/step - loss: 0.0973 - acc: 0.9665 - val_loss: 0.3094 - val_acc: 0.8849\n",
            "Epoch 4/20\n",
            "782/782 [==============================] - ETA: 0s - loss: 0.0421 - acc: 0.9854\n",
            "Epoch 4: val_acc did not improve from 0.89180\n",
            "782/782 [==============================] - 144s 184ms/step - loss: 0.0421 - acc: 0.9854 - val_loss: 0.4747 - val_acc: 0.8739\n",
            "Epoch 5/20\n",
            "782/782 [==============================] - ETA: 0s - loss: 0.0237 - acc: 0.9916\n",
            "Epoch 5: val_acc did not improve from 0.89180\n",
            "782/782 [==============================] - 162s 207ms/step - loss: 0.0237 - acc: 0.9916 - val_loss: 0.5272 - val_acc: 0.8768\n",
            "Epoch 5: early stopping\n"
          ]
        },
        {
          "output_type": "execute_result",
          "data": {
            "text/plain": [
              "<keras.callbacks.History at 0x7c76387177c0>"
            ]
          },
          "metadata": {},
          "execution_count": 12
        }
      ]
    },
    {
      "cell_type": "code",
      "source": [
        "loaded_model=load_model('best_model.h5')\n",
        "print(\"\\n 테스트 정확도 : %.4f\"%(loaded_model.evaluate(X_test, y_test)[1]))"
      ],
      "metadata": {
        "colab": {
          "base_uri": "https://localhost:8080/"
        },
        "id": "pi0nH9Xc8mHx",
        "outputId": "eb809619-53b2-49ab-e574-d2e08c860066"
      },
      "execution_count": 14,
      "outputs": [
        {
          "output_type": "stream",
          "name": "stdout",
          "text": [
            "782/782 [==============================] - 27s 34ms/step - loss: 0.2628 - acc: 0.8918\n",
            "\n",
            " 테스트 정확도 : 0.8918\n"
          ]
        }
      ]
    },
    {
      "cell_type": "code",
      "source": [],
      "metadata": {
        "id": "NxIxX0Rc8xXA"
      },
      "execution_count": null,
      "outputs": []
    }
  ]
}