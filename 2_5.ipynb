{
  "nbformat": 4,
  "nbformat_minor": 0,
  "metadata": {
    "colab": {
      "provenance": [],
      "authorship_tag": "ABX9TyMO8i8sSqYL1yUyteIgCkxy",
      "include_colab_link": true
    },
    "kernelspec": {
      "name": "python3",
      "display_name": "Python 3"
    },
    "language_info": {
      "name": "python"
    }
  },
  "cells": [
    {
      "cell_type": "markdown",
      "metadata": {
        "id": "view-in-github",
        "colab_type": "text"
      },
      "source": [
        "<a href=\"https://colab.research.google.com/github/UiinKim/NLP_First/blob/main/2_5.ipynb\" target=\"_parent\"><img src=\"https://colab.research.google.com/assets/colab-badge.svg\" alt=\"Open In Colab\"/></a>"
      ]
    },
    {
      "cell_type": "code",
      "source": [
        "import numpy as np"
      ],
      "metadata": {
        "id": "ajbPCLNyLvQE"
      },
      "execution_count": 2,
      "outputs": []
    },
    {
      "cell_type": "code",
      "execution_count": 4,
      "metadata": {
        "id": "Fn85h_LCNYhI"
      },
      "outputs": [],
      "source": [
        "class RNN:\n",
        "  def __init(self, Wx, Wh, b):\n",
        "    self.params=[Wx, Wh, b] #파라미터는 x의 가중치, h의 가중치, 편향\n",
        "    self.grads=[np.zeros_like(Wx), np.zeros_like(Wh), np.zeros_like(b)] #기울기는 0으로 초기화\n",
        "    self.cache=None\n",
        "\n",
        "  def forward(self, x, h_prev): #input인 x와 이전 단어의 h(은닉상태)\n",
        "    Wx, Wh, b=self.params\n",
        "    t=np.matmul(h_prev, Wh)+np.matmul(x, Wx)+b #이전 은닉상태와 가중치 + 현재 input과 가중치 + 편향 -> ht\n",
        "    h_next=np.tanh(t) #하이퍼볼릭 탄젠트로 은닉 상태 완료\n",
        "\n",
        "    self.cache=(x, h_prev, h_next) # t시점의 input, t-1시점의 h, t 시점의 h 저장\n",
        "    return h_next #t시점의 h 출력\n",
        "\n",
        "  def backward(self, dh_next):\n",
        "    Wx, Wh, b = self.params\n",
        "    x, h_prev, h_next = self.cache\n",
        "\n",
        "    dt=dh_next*(1-h_next**2) #하이퍼볼릭 탄젠트에 대한 복구\n",
        "    db=np.sum(dt, axis=0) #편향 기울기\n",
        "    dWh=np.matmul(h_prev.T, dt) #이전 h의 가중치에 대한 기울기\n",
        "    dh_prev=np.matmul(dt, Wh.T) #이전 h에 대한 기울기\n",
        "    dWx=np.matmul(x.T, dt) #input의 가중치에 대한 기울기\n",
        "    dx=np.matmul(dt, Wx.T) #input에 대한 기울기\n",
        "\n",
        "    self.grads[0][...] =dWx #기울기에 각 정보 저장\n",
        "    self.grads[1][...]= dWh\n",
        "    self.grads[2][...] = db\n",
        "\n",
        "    return dx, dh_prev\n"
      ]
    },
    {
      "cell_type": "code",
      "source": [
        "class TimeRNN:\n",
        "  def __init__(self, Wx, Wh, b, stateful=False): #stateful은 앞의 은닉상태가 있나 없나 확인\n",
        "    self.params=[Wx, Wh, b]\n",
        "    self.grads=[np.zeros_like(Wx), np.zeros_like(Wh), np.zeros_like(b)]\n",
        "    self.layers=None\n",
        "\n",
        "    self.h, self.dh=None, None\n",
        "    self.stateful=stateful\n",
        "\n",
        "  def set_state(self, h):\n",
        "    self.h=h\n",
        "\n",
        "  def reset_state(self):\n",
        "    self.h=None\n",
        "\n",
        "  def forward(self, xs): #xs의 shape는 (N, T, D)\n",
        "    Wx, Wh, b = self.params #가중치와 편향 그대로 받아오기\n",
        "    N, T, D = xs.shape #N은 미니배치 크기, T는 개수, D는 input vector의 차원 수\n",
        "    D, H = Wx.shape\n",
        "\n",
        "    self.layers=[]\n",
        "    hs=np.empty((N, T, H), dtype='f') #hs는 output으로 나올 h\n",
        "\n",
        "    if not self.stateful or self.h is None:\n",
        "      self.h = np.zeros((N, H), dtype='f') #stateful=False이거나 저장된 h가 없으면 0으로 초기화\n",
        "\n",
        "    for t in range(T): #0~T까지 모든 벡터 동안\n",
        "      layer=RNN(*self.params) #*는 리스트의 원소(Wx, Wh, b)들을 추출하여 RNN의 인수로 전달\n",
        "      self.h=layer.forward(xs[:,t,:], self.h) #xs의 미니배치 별로 , 해당 t시점부분, 벡터 전부를 RNN 클래스의 순전파 시켜 현 시점의 은닉상태로\n",
        "      hs[:,t,:]=self.h #hs에 그대로 전달\n",
        "      self.layers.append(layer) #새로운 층으로 추가\n",
        "\n",
        "    return hs #hs 반환\n",
        "\n",
        "  def backward(self, dhs):\n",
        "    Wx, Wh, b=self.params\n",
        "    N, T, H = dhs.shape #역전파되는 dhs의 미니배치, 벡터 개수, 은닉 차원\n",
        "    D, H = Wx.shape\n",
        "\n",
        "    dxs=np.empty((N, T, D), dtype='f') #원래의 xs의 shape으로 만들기\n",
        "    dh=0\n",
        "    grads=[0,0,0]\n",
        "    for t in reversed(range(T)): #T-1시점부터 역전파 시작\n",
        "      layer=self.layers[t] #t시점의 층으로 설정\n",
        "      dx, dh=layer.backward(dhs[:,t,:]+dh) #역전파를 통해 x의 기울기와 h의 기울기 얻기\n",
        "      dxs[:,t,:]=dx #dxs에 구한 x의 기울기 넣기\n",
        "\n",
        "      for i, grad in enumerate(layer.grads): #해당 층의 기울기 업데이트\n",
        "        grads[i]+=grad\n",
        "\n",
        "    for i, grad in enumerate(grads): #해당 층의 기울기 업데이트\n",
        "      self.grads[i][...]=grad\n",
        "    self.dh=dh #h의 기울기 저장\n",
        "\n",
        "    return dxs #x의 기울기 반환\n",
        "\n",
        "\n"
      ],
      "metadata": {
        "id": "fNY9Tpq1LuFk"
      },
      "execution_count": 5,
      "outputs": []
    },
    {
      "cell_type": "code",
      "source": [],
      "metadata": {
        "id": "pNiyrqDeRLwC"
      },
      "execution_count": null,
      "outputs": []
    }
  ]
}