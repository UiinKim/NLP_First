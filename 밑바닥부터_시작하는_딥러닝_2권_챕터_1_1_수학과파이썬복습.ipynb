{
  "nbformat": 4,
  "nbformat_minor": 0,
  "metadata": {
    "colab": {
      "provenance": [],
      "authorship_tag": "ABX9TyMJTUV74w6JoL5NvTA4AknT",
      "include_colab_link": true
    },
    "kernelspec": {
      "name": "python3",
      "display_name": "Python 3"
    },
    "language_info": {
      "name": "python"
    }
  },
  "cells": [
    {
      "cell_type": "markdown",
      "metadata": {
        "id": "view-in-github",
        "colab_type": "text"
      },
      "source": [
        "<a href=\"https://colab.research.google.com/github/UiinKim/UiinKim/blob/main/%EB%B0%91%EB%B0%94%EB%8B%A5%EB%B6%80%ED%84%B0_%EC%8B%9C%EC%9E%91%ED%95%98%EB%8A%94_%EB%94%A5%EB%9F%AC%EB%8B%9D_2%EA%B6%8C_%EC%B1%95%ED%84%B0_1_1_%EC%88%98%ED%95%99%EA%B3%BC%ED%8C%8C%EC%9D%B4%EC%8D%AC%EB%B3%B5%EC%8A%B5.ipynb\" target=\"_parent\"><img src=\"https://colab.research.google.com/assets/colab-badge.svg\" alt=\"Open In Colab\"/></a>"
      ]
    },
    {
      "cell_type": "markdown",
      "source": [
        "\n",
        "\n",
        "*   벡터 : 1차원 배열\n",
        "*   행렬 : 2차원 배열\n",
        "*   3차원 배열이상 = n차원 텐서\n",
        "\n",
        "\n",
        "\n"
      ],
      "metadata": {
        "id": "y5Da17ebMtFd"
      }
    },
    {
      "cell_type": "code",
      "execution_count": 1,
      "metadata": {
        "id": "Y8VJdOmPMkPk"
      },
      "outputs": [],
      "source": [
        "import numpy as np\n"
      ]
    },
    {
      "cell_type": "code",
      "source": [
        "x=np.array([1,2,3])\n",
        "x.__class__"
      ],
      "metadata": {
        "colab": {
          "base_uri": "https://localhost:8080/"
        },
        "id": "QKwwYPJkNDwE",
        "outputId": "e34a80b0-3946-4cc8-b0f2-525229d0c0d4"
      },
      "execution_count": 2,
      "outputs": [
        {
          "output_type": "execute_result",
          "data": {
            "text/plain": [
              "numpy.ndarray"
            ]
          },
          "metadata": {},
          "execution_count": 2
        }
      ]
    },
    {
      "cell_type": "code",
      "source": [
        "x.shape #차원의 모양"
      ],
      "metadata": {
        "colab": {
          "base_uri": "https://localhost:8080/"
        },
        "id": "RDPvVk7vNEaC",
        "outputId": "f0541417-a544-4cfb-fc35-2fa33f912374"
      },
      "execution_count": 3,
      "outputs": [
        {
          "output_type": "execute_result",
          "data": {
            "text/plain": [
              "(3,)"
            ]
          },
          "metadata": {},
          "execution_count": 3
        }
      ]
    },
    {
      "cell_type": "code",
      "source": [
        "x.ndim #차원"
      ],
      "metadata": {
        "colab": {
          "base_uri": "https://localhost:8080/"
        },
        "id": "fPEa9jRjNGWi",
        "outputId": "9145a746-6f66-4bf1-e37d-e5b837e69d3c"
      },
      "execution_count": 4,
      "outputs": [
        {
          "output_type": "execute_result",
          "data": {
            "text/plain": [
              "1"
            ]
          },
          "metadata": {},
          "execution_count": 4
        }
      ]
    },
    {
      "cell_type": "code",
      "source": [
        "W=np.array([[1,2,3],[4,5,6]])\n",
        "W.shape"
      ],
      "metadata": {
        "colab": {
          "base_uri": "https://localhost:8080/"
        },
        "id": "WBqNLWinNIsk",
        "outputId": "1629d1a5-d26a-4188-f5dc-e62fcbb2b3b1"
      },
      "execution_count": 5,
      "outputs": [
        {
          "output_type": "execute_result",
          "data": {
            "text/plain": [
              "(2, 3)"
            ]
          },
          "metadata": {},
          "execution_count": 5
        }
      ]
    },
    {
      "cell_type": "code",
      "source": [
        "W.ndim"
      ],
      "metadata": {
        "colab": {
          "base_uri": "https://localhost:8080/"
        },
        "id": "8l2XzFYnNQSy",
        "outputId": "94914800-9a11-4507-e76a-fd65008f810b"
      },
      "execution_count": 6,
      "outputs": [
        {
          "output_type": "execute_result",
          "data": {
            "text/plain": [
              "2"
            ]
          },
          "metadata": {},
          "execution_count": 6
        }
      ]
    },
    {
      "cell_type": "code",
      "source": [
        "W=np.array([[1,2,3],[4,5,6]])\n",
        "X=np.array([[0,1,2],[3,4,5]])"
      ],
      "metadata": {
        "id": "r21_PgxWNTMp"
      },
      "execution_count": 7,
      "outputs": []
    },
    {
      "cell_type": "code",
      "source": [
        "#원소별 연산이 이루어짐\n",
        "print(W+X)\n",
        "print(W*X)"
      ],
      "metadata": {
        "colab": {
          "base_uri": "https://localhost:8080/"
        },
        "id": "NsO2v3P7Nhzw",
        "outputId": "d6bd6ee4-5a18-4f8f-b055-34f4d05aea98"
      },
      "execution_count": 9,
      "outputs": [
        {
          "output_type": "stream",
          "name": "stdout",
          "text": [
            "[[ 1  3  5]\n",
            " [ 7  9 11]]\n",
            "[[ 0  2  6]\n",
            " [12 20 30]]\n"
          ]
        }
      ]
    },
    {
      "cell_type": "code",
      "source": [
        "#브로드캐스트\n",
        "A=np.array([[1,2],[3,4]])\n",
        "A*10"
      ],
      "metadata": {
        "colab": {
          "base_uri": "https://localhost:8080/"
        },
        "id": "jTgYHIvtNovu",
        "outputId": "855a3e53-79ce-4281-ab24-af6d1b657ec4"
      },
      "execution_count": 10,
      "outputs": [
        {
          "output_type": "execute_result",
          "data": {
            "text/plain": [
              "array([[10, 20],\n",
              "       [30, 40]])"
            ]
          },
          "metadata": {},
          "execution_count": 10
        }
      ]
    },
    {
      "cell_type": "code",
      "source": [
        "#브로드캐스트 -> 형상이 다른 배열끼리의 연산 가능\n",
        "A=np.array([[1,2],[3,4]])\n",
        "b=np.array([10,20])\n",
        "A*b"
      ],
      "metadata": {
        "colab": {
          "base_uri": "https://localhost:8080/"
        },
        "id": "UkFNleUaOARu",
        "outputId": "7cf12985-ccbc-487e-e6ac-64b5ae94ff52"
      },
      "execution_count": 12,
      "outputs": [
        {
          "output_type": "execute_result",
          "data": {
            "text/plain": [
              "array([[10, 40],\n",
              "       [30, 80]])"
            ]
          },
          "metadata": {},
          "execution_count": 12
        }
      ]
    },
    {
      "cell_type": "markdown",
      "source": [
        "\n",
        "\n",
        "*   벡터의 내적 : 두 벡터의 곱한 각 원소를 모두 더한다.\n",
        "*   두 벡터의 내적 = 1 -> 완전히 같은 방향\n",
        "*   두 벡터의 내적 = 0 -> 반대방향\n",
        "\n",
        "\n",
        "\n"
      ],
      "metadata": {
        "id": "fJ3HTwSCOxdh"
      }
    },
    {
      "cell_type": "code",
      "source": [
        "#벡터의 내적\n",
        "a=np.array([1,2,3])\n",
        "b=np.array([4,5,6])\n",
        "np.dot(a,b)"
      ],
      "metadata": {
        "colab": {
          "base_uri": "https://localhost:8080/"
        },
        "id": "e73l-4P6ONPF",
        "outputId": "a32d12da-b4e3-4105-8fed-c3c6ca4169f9"
      },
      "execution_count": 13,
      "outputs": [
        {
          "output_type": "execute_result",
          "data": {
            "text/plain": [
              "32"
            ]
          },
          "metadata": {},
          "execution_count": 13
        }
      ]
    },
    {
      "cell_type": "code",
      "source": [
        "#행렬곱->np.dot과 같음\n",
        "A=np.array([[1,2],[3,4]])\n",
        "B=np.array([[5,6],[7,8]])\n",
        "np.matmul(A,B)"
      ],
      "metadata": {
        "colab": {
          "base_uri": "https://localhost:8080/"
        },
        "id": "-XB4xwU5PZbo",
        "outputId": "546652f6-eb1a-4ba0-92b7-748917b90f96"
      },
      "execution_count": 14,
      "outputs": [
        {
          "output_type": "execute_result",
          "data": {
            "text/plain": [
              "array([[19, 22],\n",
              "       [43, 50]])"
            ]
          },
          "metadata": {},
          "execution_count": 14
        }
      ]
    },
    {
      "cell_type": "markdown",
      "source": [
        "\n",
        "\n",
        "*   입력층(뉴런 여러개) -> 은닉층(뉴런 여러개) -> 출력층(뉴런 여러개)\n",
        "*   화살표마다 가중치가 존재\n",
        "*   각 층에는 이전 뉴런에 영향을 받지 않고 더하는 정수인 편향이 존재\n",
        "*   대응하는 차원의 원소 수가 일치해야함\n",
        "*   x(1x2)->입력    W(2x4)->가중치  =   h(1x4)->은닉층\n",
        "\n",
        "\n",
        "\n",
        "\n",
        "\n"
      ],
      "metadata": {
        "id": "ecVWM5RbQ7j5"
      }
    },
    {
      "cell_type": "code",
      "source": [
        "#완전연결계층에 의한 변환의 미니배치(전체 데이터를 작은 그룹으로 나눠 그룹 단위로 반복 학습하는 방식) 버전\n",
        "x=np.random.randn(10,2) #입력\n",
        "W1=np.random.randn(2,4) #가중치\n",
        "b1=np.random.randn(4) #편향\n",
        "W2=np.random.randn(4,3) #은닉층->출력층의 가중치\n",
        "b2=np.random.randn(3) #은닉층 -> 출력층의 편향\n",
        "h=np.dot(x,W1)+b1 #생성되는 은닉층 뉴런"
      ],
      "metadata": {
        "id": "BV-6sVZ9PnOz"
      },
      "execution_count": 19,
      "outputs": []
    },
    {
      "cell_type": "markdown",
      "source": [
        "활성화 함수 : 선형 변환에 비선형 효과를 부여하는 것"
      ],
      "metadata": {
        "id": "Cyk0r85wW76e"
      }
    },
    {
      "cell_type": "code",
      "source": [
        "#sigmoid 함수 : 0과 1 사이의 함수를 출력\n",
        "def sigmoid(x):\n",
        "  return 1/(1+np.exp(-x))"
      ],
      "metadata": {
        "id": "a0zTARSbWjM-"
      },
      "execution_count": 20,
      "outputs": []
    },
    {
      "cell_type": "code",
      "source": [
        "#sigmoid함수를 사용하여 은닉층 뉴런 변환\n",
        "a=sigmoid(h) #활성화 함수의 출력 : 활성화\n",
        "s=np.dot(a,W2)+b2 #은닉층->출력층, a는 입력->은닉층의 결과의 활성화"
      ],
      "metadata": {
        "id": "U2YvSS6wXPDZ"
      },
      "execution_count": 21,
      "outputs": []
    },
    {
      "cell_type": "markdown",
      "source": [
        "출력된 첫번째 뉴런이 첫번째 클래스이다. 3차원 데이터가 출력되면 클래스를 3개로 분류가 된다."
      ],
      "metadata": {
        "id": "D5jP1PGZYerA"
      }
    },
    {
      "cell_type": "markdown",
      "source": [
        "\n",
        "\n",
        "*   순전파 : 입력층->출력층으로 향하는 전파\n",
        "\n"
      ],
      "metadata": {
        "id": "jTZj9Y61ZTee"
      }
    },
    {
      "cell_type": "code",
      "source": [
        "#각 계층 별로 구현\n",
        "#매서드는 forwrad()만 가진다. params에는 매개변수를 보관한다.\n",
        "\n",
        "#Sigmoid 계층\n",
        "class Sigmoid:\n",
        "  def __init__(self):\n",
        "    self.params=[]\n",
        "\n",
        "  def forward(self, x):\n",
        "    return 1/(1+np.exp(-x))\n",
        "\n",
        "#Affine 계층\n",
        "class Affine:\n",
        "  def __init__(self, W, b):\n",
        "    self.params=[W,b]\n",
        "\n",
        "  def forward(self, x):\n",
        "    W, b=self.params\n",
        "    out=np.matmul(x, W)+b\n",
        "    return out"
      ],
      "metadata": {
        "id": "_WxncZtbXVsF"
      },
      "execution_count": 27,
      "outputs": []
    },
    {
      "cell_type": "code",
      "source": [
        "#신경망\n",
        "class TwoLayerNet:\n",
        "  def __init__(self, input_size, hidden_size, output_size):\n",
        "    I, H, O=input_size, hidden_size, output_size\n",
        "\n",
        "    #가중치와 편향 초기화\n",
        "    W1=np.random.randn(I, H)\n",
        "    b1=np.random.randn(H)\n",
        "    W2=np.random.randn(H,O)\n",
        "    b2=np.random.randn(O)\n",
        "\n",
        "    #계층 생성\n",
        "    self.layers=[\n",
        "        Affine(W1, b1),\n",
        "        Sigmoid(),\n",
        "        Affine(W2,b2)\n",
        "    ]\n",
        "\n",
        "    #모든 가중치를 리스트에 모은다.\n",
        "    self.params=[]\n",
        "    for layer in self.layers:\n",
        "      self.params+=layer.params #리스트 결합\n",
        "\n",
        "  def predict(self, x):\n",
        "    for layer in self.layers:\n",
        "      x=layer.forward(x)\n",
        "    return x\n"
      ],
      "metadata": {
        "id": "Eq2P6Z5Eaibx"
      },
      "execution_count": 28,
      "outputs": []
    },
    {
      "cell_type": "code",
      "source": [
        "#신경망 추론\n",
        "x=np.random.randn(10,2) #shape=(10,2)인 입력\n",
        "model=TwoLayerNet(2,4,3) #2개의 뉴런 입력층, 4개 뉴런 은닉층, 3개 뉴런 출력층\n",
        "s=model.predict(x)"
      ],
      "metadata": {
        "id": "ykWe72efeFHY"
      },
      "execution_count": 31,
      "outputs": []
    },
    {
      "cell_type": "code",
      "source": [],
      "metadata": {
        "id": "f_0yhaFKeW_m"
      },
      "execution_count": null,
      "outputs": []
    }
  ]
}